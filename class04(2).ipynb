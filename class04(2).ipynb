{
  "nbformat": 4,
  "nbformat_minor": 0,
  "metadata": {
    "colab": {
      "name": "Untitled2.ipynb",
      "provenance": [],
      "authorship_tag": "ABX9TyOMslsaWKkjr0+l5Ce55JKB",
      "include_colab_link": true
    },
    "kernelspec": {
      "name": "python3",
      "display_name": "Python 3"
    },
    "language_info": {
      "name": "python"
    }
  },
  "cells": [
    {
      "cell_type": "markdown",
      "metadata": {
        "id": "view-in-github",
        "colab_type": "text"
      },
      "source": [
        "<a href=\"https://colab.research.google.com/github/psparkeb/class04/blob/main/class04(2).ipynb\" target=\"_parent\"><img src=\"https://colab.research.google.com/assets/colab-badge.svg\" alt=\"Open In Colab\"/></a>"
      ]
    },
    {
      "cell_type": "code",
      "execution_count": 498,
      "metadata": {
        "id": "dm_WExVhNgxL"
      },
      "outputs": [],
      "source": [
        "#텐서 플로와 딥러닝의 입문\n",
        "#인공 지능 안에 머신 러닝 안에 딥 러닝\n",
        "#텐서 플로 TensorFlow:2015 구글 브레인 팀에서 공개한 라이브러리(코랩도 구글 거라 연결이 잘 됨.)\n",
        "#                      파이썬 뿐만 아니라 JS Swift 등등을 지원함. 텐서 플로는 딥러닝 연산 처리 라이브러리\n",
        "#                      이름에서 볼 수 있듯이 텐서 Tensor 라고 부르는 데이터를 사용함. \n",
        "#                      노드와 노드를 연결하는 간선 edge로 이루어진 그래프 구조를 통해 데이터를 이동시키면서 연산이 이루어 짐.\n",
        "\n",
        "#텐서플로1과 2가 있는데 차이가 큼.\n",
        "#텐서플로2의 특징: 1) 모델 구조를 만들고 학습을 진행하는 과정이 직관적임. 2) 실행 결과를 즉시 확인할 수 있어 편리함.(인터프리터 형식)\n",
        "#                  3) 파이썬 도구를 사용해서 학습 과정을 설계함.          4) 텐서플로 1은 일종의 컴파일러 방식, 텐서플로 2는 인종의 인터프리터 형식이라고 볼 수 있음.\n"
      ]
    },
    {
      "cell_type": "code",
      "source": [
        "import tensorflow as tf"
      ],
      "metadata": {
        "id": "mcpKYtJ0QbXG"
      },
      "execution_count": 499,
      "outputs": []
    },
    {
      "cell_type": "code",
      "source": [
        "a=1\n",
        "b=2\n",
        "c=tf.math.add(a,b)\n",
        "print(c)"
      ],
      "metadata": {
        "colab": {
          "base_uri": "https://localhost:8080/"
        },
        "id": "tELv2r-kRP4R",
        "outputId": "358f921e-0172-4c43-f909-1f9f969eeb86"
      },
      "execution_count": 500,
      "outputs": [
        {
          "output_type": "stream",
          "name": "stdout",
          "text": [
            "tf.Tensor(3, shape=(), dtype=int32)\n"
          ]
        }
      ]
    },
    {
      "cell_type": "code",
      "source": [
        "#텐서플로 자료구조\n",
        "#텐서플로에서 자료를 표현하는 기본 구조는 텐서\n",
        "#0차원 텐서-스칼라 Scalar \n",
        "#1차원 텐서-벡터 Vector\n",
        "#2차원 텐서-행렬 Matrix\n",
        "#고차원 텐서...(행렬이 여러개..)\n",
        "#점>선>면>입체로 변하는 공간 개념으로 생각해야 함.\n",
        "#텐서에서의 각 차원은 각각 고유 정보를 나타내는 축이라고 이해해야 함.\n",
        "#tensor의 사전적 의미: 어떤 방향으로 뻗다, 어떤 방향으로 잡아당기다\n",
        "#즉, 방향성을 갖는 어떤 물리량 -> 벡터\n",
        "#스칼라 Scalar: 스칼라는 정수, 실수와 같은 상수를 나타냄. 양은 나타내지만 방향성은 없음. 따라서 차수가 0 이 됨. 또다른 표현으로 rank-0 텐서(랭크는 텐서의 차수를 나타냄.)"
      ],
      "metadata": {
        "id": "7Sq5bRg_RZdE"
      },
      "execution_count": 501,
      "outputs": []
    },
    {
      "cell_type": "code",
      "source": [
        "a=tf.constant(1)\n",
        "b=tf.constant(2)\n",
        "print(a)\n",
        "print(b)\n",
        "#shape=() 차수가 0인 스칼라를 의미함. 정수 1과 2는 0차원 텐서인 스칼라로 저장이 되었다고 말함. \n",
        "#dtype=int32 32비트 정수형"
      ],
      "metadata": {
        "colab": {
          "base_uri": "https://localhost:8080/"
        },
        "id": "sWyBvvqTTfGl",
        "outputId": "3cff0949-1b4f-4419-83a0-357e7c7c9739"
      },
      "execution_count": 502,
      "outputs": [
        {
          "output_type": "stream",
          "name": "stdout",
          "text": [
            "tf.Tensor(1, shape=(), dtype=int32)\n",
            "tf.Tensor(2, shape=(), dtype=int32)\n"
          ]
        }
      ]
    },
    {
      "cell_type": "code",
      "source": [
        "print(tf.rank(a))\n",
        "#변수 a에 저장된 텐서의 랭크값은 0인 스칼라 텐서."
      ],
      "metadata": {
        "colab": {
          "base_uri": "https://localhost:8080/"
        },
        "id": "TLqAbx9iTr42",
        "outputId": "655aa2e0-1526-4046-8955-7b9855ad4998"
      },
      "execution_count": 503,
      "outputs": [
        {
          "output_type": "stream",
          "name": "stdout",
          "text": [
            "tf.Tensor(0, shape=(), dtype=int32)\n"
          ]
        }
      ]
    },
    {
      "cell_type": "code",
      "source": [
        "#텐서 자료형 변환                                                   \n",
        "a=tf.cast(a,tf.float32)"
      ],
      "metadata": {
        "id": "pdS8rxTEUXsr"
      },
      "execution_count": 504,
      "outputs": []
    },
    {
      "cell_type": "code",
      "source": [
        "print(a.dtype)"
      ],
      "metadata": {
        "colab": {
          "base_uri": "https://localhost:8080/"
        },
        "id": "KEOhVIgVU5aD",
        "outputId": "b8e3d199-504f-4325-931a-c32e3df4462b"
      },
      "execution_count": 505,
      "outputs": [
        {
          "output_type": "stream",
          "name": "stdout",
          "text": [
            "<dtype: 'float32'>\n"
          ]
        }
      ]
    },
    {
      "cell_type": "code",
      "source": [
        "b=tf.cast(b, tf.float32)"
      ],
      "metadata": {
        "id": "0W5QkYbMVFz9"
      },
      "execution_count": 506,
      "outputs": []
    },
    {
      "cell_type": "code",
      "source": [
        "print(b.dtype)"
      ],
      "metadata": {
        "colab": {
          "base_uri": "https://localhost:8080/"
        },
        "id": "uSrgIhpAVQ-U",
        "outputId": "4eea72d8-a398-41ce-8eb2-87a24b307fcf"
      },
      "execution_count": 507,
      "outputs": [
        {
          "output_type": "stream",
          "name": "stdout",
          "text": [
            "<dtype: 'float32'>\n"
          ]
        }
      ]
    },
    {
      "cell_type": "code",
      "source": [
        "#텐서플로에서는 float32를 숫자의 기본 자료형으로 사용함. 실수가 기본형. 그래서 형변환하는 것."
      ],
      "metadata": {
        "id": "bUkhikLSVWVG"
      },
      "execution_count": 508,
      "outputs": []
    },
    {
      "cell_type": "code",
      "source": [
        "c=tf.math.add(a,b)\n",
        "print(c)"
      ],
      "metadata": {
        "colab": {
          "base_uri": "https://localhost:8080/"
        },
        "id": "W0pOBDwYVDqr",
        "outputId": "b9a8ec7d-3d07-4e0c-8794-1e39aefaea1f"
      },
      "execution_count": 509,
      "outputs": [
        {
          "output_type": "stream",
          "name": "stdout",
          "text": [
            "tf.Tensor(3.0, shape=(), dtype=float32)\n"
          ]
        }
      ]
    },
    {
      "cell_type": "code",
      "source": [
        "tf.rank(c) # 0차원의 데이터 타입이므로 int32가 나옴. 0은 정수이므로, 위에는 c에 들어있는 값의 차원이 float32라는 것."
      ],
      "metadata": {
        "colab": {
          "base_uri": "https://localhost:8080/"
        },
        "id": "PkzmHBMpVweO",
        "outputId": "0669dc3b-c409-4254-cec9-a68cfbfe5b01"
      },
      "execution_count": 510,
      "outputs": [
        {
          "output_type": "execute_result",
          "data": {
            "text/plain": [
              "<tf.Tensor: shape=(), dtype=int32, numpy=0>"
            ]
          },
          "metadata": {},
          "execution_count": 510
        }
      ]
    },
    {
      "cell_type": "code",
      "source": [
        "print(tf.math.subtract(a,b))"
      ],
      "metadata": {
        "colab": {
          "base_uri": "https://localhost:8080/"
        },
        "id": "0H3ZTLB1V5-4",
        "outputId": "99616af3-60b6-435c-d3e4-97a425033f00"
      },
      "execution_count": 511,
      "outputs": [
        {
          "output_type": "stream",
          "name": "stdout",
          "text": [
            "tf.Tensor(-1.0, shape=(), dtype=float32)\n"
          ]
        }
      ]
    },
    {
      "cell_type": "code",
      "source": [
        "print(tf.math.multiply(a,b))"
      ],
      "metadata": {
        "colab": {
          "base_uri": "https://localhost:8080/"
        },
        "id": "Yw1oYvgJZWok",
        "outputId": "1e51425d-3449-4a6c-945a-e7103abee973"
      },
      "execution_count": 512,
      "outputs": [
        {
          "output_type": "stream",
          "name": "stdout",
          "text": [
            "tf.Tensor(2.0, shape=(), dtype=float32)\n"
          ]
        }
      ]
    },
    {
      "cell_type": "code",
      "source": [
        "print(tf.math.divide(a,b))"
      ],
      "metadata": {
        "colab": {
          "base_uri": "https://localhost:8080/"
        },
        "id": "8Kvz8p4BZf1N",
        "outputId": "c27624bc-14a0-4e4f-896c-155f9a7ab6c3"
      },
      "execution_count": 513,
      "outputs": [
        {
          "output_type": "stream",
          "name": "stdout",
          "text": [
            "tf.Tensor(0.5, shape=(), dtype=float32)\n"
          ]
        }
      ]
    },
    {
      "cell_type": "code",
      "source": [
        "print(tf.math.mod(a,b)) #나머지"
      ],
      "metadata": {
        "colab": {
          "base_uri": "https://localhost:8080/"
        },
        "id": "D1xIDa3eZtjn",
        "outputId": "685274b0-d49b-4cee-e61a-2d0aeb7f1b14"
      },
      "execution_count": 514,
      "outputs": [
        {
          "output_type": "stream",
          "name": "stdout",
          "text": [
            "tf.Tensor(1.0, shape=(), dtype=float32)\n"
          ]
        }
      ]
    },
    {
      "cell_type": "code",
      "source": [
        "print(tf.math.floordiv(a,b)) #몫 잘 안 씀."
      ],
      "metadata": {
        "colab": {
          "base_uri": "https://localhost:8080/"
        },
        "id": "PN2-NVl3Z2CD",
        "outputId": "5384b426-c6a4-47f5-c14e-cf678967848c"
      },
      "execution_count": 515,
      "outputs": [
        {
          "output_type": "stream",
          "name": "stdout",
          "text": [
            "tf.Tensor(0.0, shape=(), dtype=float32)\n"
          ]
        }
      ]
    },
    {
      "cell_type": "code",
      "source": [
        "#벡터 Vector: 여러 개의 스칼라를 원소로 갖는 1차원의 배열\n",
        "#             스칼라 여러 개가 동일한 축 방향으로 나열되는 개념\n",
        "#             벡터는 원소들로 구성되는 여러 개의 값들이 모여서 하나의 대표성을 갖는 값이 됨. 크기와 방향을 가짐.\n",
        "#             각 원소들의 크기 뿐 아니라 원소들이 나열되는 순서도 의미가 있음.\n",
        "#             형태만 보면 파이썬의 리스트와 유사함.\n",
        "#             벡터는 하나의 축을 갖고 차수가 1인 rank-1 텐서라고 부름."
      ],
      "metadata": {
        "id": "TQYCZlaMZ9Ro"
      },
      "execution_count": 516,
      "outputs": []
    },
    {
      "cell_type": "code",
      "source": [
        "py_list=[10,20,30]\n",
        "vec1=tf.constant(py_list,dtype=tf.float32)\n",
        "print(vec1) #shape=(가로,세로)이므로 현재 가로만 있는 1차원임."
      ],
      "metadata": {
        "colab": {
          "base_uri": "https://localhost:8080/"
        },
        "id": "TRHYlCKJZyk4",
        "outputId": "afb8bf36-ab80-4d68-ab92-e4a283c9563a"
      },
      "execution_count": 517,
      "outputs": [
        {
          "output_type": "stream",
          "name": "stdout",
          "text": [
            "tf.Tensor([10. 20. 30.], shape=(3,), dtype=float32)\n"
          ]
        }
      ]
    },
    {
      "cell_type": "code",
      "source": [
        "import numpy as np\n",
        "num_arr=np.array([10.,10.,10.])\n",
        "vec2=tf.constant(num_arr,dtype=tf.float32)\n",
        "print(vec2) #shape=3 원소의 개수 3개, 가로만 있는 1개의 축"
      ],
      "metadata": {
        "colab": {
          "base_uri": "https://localhost:8080/"
        },
        "id": "7b2z2n3NbjJK",
        "outputId": "bde011de-f2e4-4393-cc20-ddf93ed81263"
      },
      "execution_count": 518,
      "outputs": [
        {
          "output_type": "stream",
          "name": "stdout",
          "text": [
            "tf.Tensor([10. 10. 10.], shape=(3,), dtype=float32)\n"
          ]
        }
      ]
    },
    {
      "cell_type": "code",
      "source": [
        "print(tf.rank(vec1)) # 1차원이며 1은 0차원이고 1의 데이터 타입은 정수32타입.\n",
        "print(tf.rank(vec2))"
      ],
      "metadata": {
        "colab": {
          "base_uri": "https://localhost:8080/"
        },
        "id": "NynoYFpOcJFd",
        "outputId": "9806e0cf-876e-48cb-811b-e7b031f3ae92"
      },
      "execution_count": 519,
      "outputs": [
        {
          "output_type": "stream",
          "name": "stdout",
          "text": [
            "tf.Tensor(1, shape=(), dtype=int32)\n",
            "tf.Tensor(1, shape=(), dtype=int32)\n"
          ]
        }
      ]
    },
    {
      "cell_type": "code",
      "source": [
        "add1= tf.math.add(vec1,vec2)\n",
        "print(add1)\n",
        "print(tf.rank(add1)) #계산을 할 때는 같은 위치에 있는 원소들끼리 짝을 이루어 계산함. 따라서, 원소 3개를 갖는 벡터 형태가 그대로 유지됨."
      ],
      "metadata": {
        "colab": {
          "base_uri": "https://localhost:8080/"
        },
        "id": "9DnmsgbxclBF",
        "outputId": "d38092e4-8462-4cfa-ebd0-aef1376b9b92"
      },
      "execution_count": 520,
      "outputs": [
        {
          "output_type": "stream",
          "name": "stdout",
          "text": [
            "tf.Tensor([20. 30. 40.], shape=(3,), dtype=float32)\n",
            "tf.Tensor(1, shape=(), dtype=int32)\n"
          ]
        }
      ]
    },
    {
      "cell_type": "code",
      "source": [
        "add2=vec1+vec2\n",
        "print(add2)\n",
        "print(tf.rank(add2))"
      ],
      "metadata": {
        "colab": {
          "base_uri": "https://localhost:8080/"
        },
        "id": "_Sc-stu4dCVZ",
        "outputId": "b2c41aa7-f2cf-4436-e26f-054cc01d7aae"
      },
      "execution_count": 521,
      "outputs": [
        {
          "output_type": "stream",
          "name": "stdout",
          "text": [
            "tf.Tensor([20. 30. 40.], shape=(3,), dtype=float32)\n",
            "tf.Tensor(1, shape=(), dtype=int32)\n"
          ]
        }
      ]
    },
    {
      "cell_type": "code",
      "source": [
        "#스칼라와 마찬가지로 벡터도 tf.math 모듈을 통해 다양한 함수를 산술 연산할 수 있음. 이때, 같은 위치에 있는 원소들끼리 연산함."
      ],
      "metadata": {
        "id": "yebCaeLMda2L"
      },
      "execution_count": 522,
      "outputs": []
    },
    {
      "cell_type": "code",
      "source": [
        "print(tf.math.subtract(vec1,vec2))\n",
        "print(tf.math.multiply(vec1,vec2))\n",
        "print(tf.math.divide(vec1,vec2))\n",
        "print(tf.math.mod(vec1,vec2))"
      ],
      "metadata": {
        "colab": {
          "base_uri": "https://localhost:8080/"
        },
        "id": "MYTcvvKxcjeE",
        "outputId": "ad7ad172-3708-4661-bb9d-687f4927d3eb"
      },
      "execution_count": 523,
      "outputs": [
        {
          "output_type": "stream",
          "name": "stdout",
          "text": [
            "tf.Tensor([ 0. 10. 20.], shape=(3,), dtype=float32)\n",
            "tf.Tensor([100. 200. 300.], shape=(3,), dtype=float32)\n",
            "tf.Tensor([1. 2. 3.], shape=(3,), dtype=float32)\n",
            "tf.Tensor([0. 0. 0.], shape=(3,), dtype=float32)\n"
          ]
        }
      ]
    },
    {
      "cell_type": "code",
      "source": [
        "print(vec1-vec2)\n",
        "print(vec1*vec2)\n",
        "print(vec1/vec2)\n",
        "print(vec1%vec2)\n"
      ],
      "metadata": {
        "colab": {
          "base_uri": "https://localhost:8080/"
        },
        "id": "WLYRDXXreLVy",
        "outputId": "42220438-4a2a-4d44-b2dd-3b161a876046"
      },
      "execution_count": 524,
      "outputs": [
        {
          "output_type": "stream",
          "name": "stdout",
          "text": [
            "tf.Tensor([ 0. 10. 20.], shape=(3,), dtype=float32)\n",
            "tf.Tensor([100. 200. 300.], shape=(3,), dtype=float32)\n",
            "tf.Tensor([1. 2. 3.], shape=(3,), dtype=float32)\n",
            "tf.Tensor([0. 0. 0.], shape=(3,), dtype=float32)\n"
          ]
        }
      ]
    },
    {
      "cell_type": "code",
      "source": [
        "#여러 원소들의 합\n",
        "print(tf.reduce_sum(vec1))\n",
        "print(tf.reduce_sum(vec2))"
      ],
      "metadata": {
        "colab": {
          "base_uri": "https://localhost:8080/"
        },
        "id": "ZlWziejJeVJF",
        "outputId": "bce298ae-625c-4f32-8e96-0230d01c1ca4"
      },
      "execution_count": 525,
      "outputs": [
        {
          "output_type": "stream",
          "name": "stdout",
          "text": [
            "tf.Tensor(60.0, shape=(), dtype=float32)\n",
            "tf.Tensor(30.0, shape=(), dtype=float32)\n"
          ]
        }
      ]
    },
    {
      "cell_type": "code",
      "source": [
        "# 브로드캐스팅\n",
        "print(vec1)\n",
        "print(vec1+1)"
      ],
      "metadata": {
        "colab": {
          "base_uri": "https://localhost:8080/"
        },
        "id": "FaXrTnLmerE6",
        "outputId": "2b28bb7b-7703-46c6-f033-aa934325e4b3"
      },
      "execution_count": 526,
      "outputs": [
        {
          "output_type": "stream",
          "name": "stdout",
          "text": [
            "tf.Tensor([10. 20. 30.], shape=(3,), dtype=float32)\n",
            "tf.Tensor([11. 21. 31.], shape=(3,), dtype=float32)\n"
          ]
        }
      ]
    },
    {
      "cell_type": "code",
      "source": [
        "# 행렬 Matrix: 행렬은 차수가 1인 즉, 벡터를 같은 축 방향으로 여러 개를 나열한 것.\n",
        "#              1차원 벡터 여러 개를 원소로 갖는 배열.\n",
        "#              텐서플로에서는 rank-2 \n",
        "#              pandas에서의 데이터 프레임과 유사함."
      ],
      "metadata": {
        "id": "AFRsxvFNfATg"
      },
      "execution_count": 527,
      "outputs": []
    },
    {
      "cell_type": "code",
      "source": [
        "list=[[10,20],[30,40]] #2차원 리스트 생성\n",
        "mat=tf.constant(list) #텐서 변환\n",
        "print(mat)\n",
        "print(tf.rank(mat))"
      ],
      "metadata": {
        "colab": {
          "base_uri": "https://localhost:8080/"
        },
        "id": "fCxHOlmce8V4",
        "outputId": "3bcde808-7d00-444a-a5c2-eb800f992b07"
      },
      "execution_count": 528,
      "outputs": [
        {
          "output_type": "stream",
          "name": "stdout",
          "text": [
            "tf.Tensor(\n",
            "[[10 20]\n",
            " [30 40]], shape=(2, 2), dtype=int32)\n",
            "tf.Tensor(2, shape=(), dtype=int32)\n"
          ]
        }
      ]
    },
    {
      "cell_type": "code",
      "source": [
        "vec1=tf.constant([1,0])\n",
        "vec2=tf.constant([-1,2])\n",
        "mat2=tf.stack([vec1,vec2])\n",
        "print(mat2)\n",
        "print(tf.rank(mat2))"
      ],
      "metadata": {
        "colab": {
          "base_uri": "https://localhost:8080/"
        },
        "id": "a5p2xEIVgSHI",
        "outputId": "5db75bf9-0c41-419a-f1db-cff65a2ed852"
      },
      "execution_count": 529,
      "outputs": [
        {
          "output_type": "stream",
          "name": "stdout",
          "text": [
            "tf.Tensor(\n",
            "[[ 1  0]\n",
            " [-1  2]], shape=(2, 2), dtype=int32)\n",
            "tf.Tensor(2, shape=(), dtype=int32)\n"
          ]
        }
      ]
    },
    {
      "cell_type": "code",
      "source": [
        "from numpy.core.defchararray import multiply\n",
        "# 산술 연산\n",
        "mul=tf.math.multiply(mat,mat2)\n",
        "print(mul)\n",
        "print(tf.rank(mul))"
      ],
      "metadata": {
        "colab": {
          "base_uri": "https://localhost:8080/"
        },
        "id": "qKtaichgg7EF",
        "outputId": "2c05a16a-2eed-4fe3-ff29-ed788f959a8a"
      },
      "execution_count": 530,
      "outputs": [
        {
          "output_type": "stream",
          "name": "stdout",
          "text": [
            "tf.Tensor(\n",
            "[[ 10   0]\n",
            " [-30  80]], shape=(2, 2), dtype=int32)\n",
            "tf.Tensor(2, shape=(), dtype=int32)\n"
          ]
        }
      ]
    },
    {
      "cell_type": "code",
      "source": [
        "print(tf.math.subtract(mat,mat2))\n",
        "print(tf.math.multiply(mat,mat2))\n",
        "print(tf.math.divide(mat,mat2))\n"
      ],
      "metadata": {
        "colab": {
          "base_uri": "https://localhost:8080/"
        },
        "id": "rjH6nkuChxN5",
        "outputId": "3bb286b7-a143-49b3-fa7f-435226e57ca7"
      },
      "execution_count": 531,
      "outputs": [
        {
          "output_type": "stream",
          "name": "stdout",
          "text": [
            "tf.Tensor(\n",
            "[[ 9 20]\n",
            " [31 38]], shape=(2, 2), dtype=int32)\n",
            "tf.Tensor(\n",
            "[[ 10   0]\n",
            " [-30  80]], shape=(2, 2), dtype=int32)\n",
            "tf.Tensor(\n",
            "[[ 10.  inf]\n",
            " [-30.  20.]], shape=(2, 2), dtype=float64)\n"
          ]
        }
      ]
    },
    {
      "cell_type": "code",
      "source": [
        "print(mat)\n",
        "bc=tf.math.multiply(mat,3)\n",
        "bc"
      ],
      "metadata": {
        "colab": {
          "base_uri": "https://localhost:8080/"
        },
        "id": "d23wefDHiEsx",
        "outputId": "fb6bbf46-f839-43c4-cb73-e89fea551c06"
      },
      "execution_count": 532,
      "outputs": [
        {
          "output_type": "stream",
          "name": "stdout",
          "text": [
            "tf.Tensor(\n",
            "[[10 20]\n",
            " [30 40]], shape=(2, 2), dtype=int32)\n"
          ]
        },
        {
          "output_type": "execute_result",
          "data": {
            "text/plain": [
              "<tf.Tensor: shape=(2, 2), dtype=int32, numpy=\n",
              "array([[ 30,  60],\n",
              "       [ 90, 120]], dtype=int32)>"
            ]
          },
          "metadata": {},
          "execution_count": 532
        }
      ]
    },
    {
      "cell_type": "code",
      "source": [
        "add2=mat+mat2\n",
        "add2"
      ],
      "metadata": {
        "colab": {
          "base_uri": "https://localhost:8080/"
        },
        "id": "X0KwpUg4iXfj",
        "outputId": "8e8bee55-5af0-4423-e5c2-1668dbe81c2b"
      },
      "execution_count": 533,
      "outputs": [
        {
          "output_type": "execute_result",
          "data": {
            "text/plain": [
              "<tf.Tensor: shape=(2, 2), dtype=int32, numpy=\n",
              "array([[11, 20],\n",
              "       [29, 42]], dtype=int32)>"
            ]
          },
          "metadata": {},
          "execution_count": 533
        }
      ]
    },
    {
      "cell_type": "code",
      "source": [
        "#텐서를 넘파이로 변환\n",
        "np_arr=mat.numpy()\n",
        "np_arr"
      ],
      "metadata": {
        "colab": {
          "base_uri": "https://localhost:8080/"
        },
        "id": "DwJT_31uiszl",
        "outputId": "093ad8cb-57b8-4087-97f6-ce2ed04d177f"
      },
      "execution_count": 534,
      "outputs": [
        {
          "output_type": "execute_result",
          "data": {
            "text/plain": [
              "array([[10, 20],\n",
              "       [30, 40]], dtype=int32)"
            ]
          },
          "metadata": {},
          "execution_count": 534
        }
      ]
    },
    {
      "cell_type": "code",
      "source": [
        "type(np_arr)"
      ],
      "metadata": {
        "colab": {
          "base_uri": "https://localhost:8080/"
        },
        "id": "SkZyE5y0i69p",
        "outputId": "d9dc829d-6568-4b64-f18a-0a14a25a159e"
      },
      "execution_count": 535,
      "outputs": [
        {
          "output_type": "execute_result",
          "data": {
            "text/plain": [
              "numpy.ndarray"
            ]
          },
          "metadata": {},
          "execution_count": 535
        }
      ]
    },
    {
      "cell_type": "code",
      "source": [
        "#indexing 인덱싱: 위치를 기준으로 원소를 추출하는 방법, 파이썬 리스트 또는 넘파일 배열의 인덱싱과 유사함.\n",
        "#                 0부터 시작하고 마지막은 -1로 나타냄. 하나만 추출할 뿐만 아니라 여러 원소를 추출하는 슬라이싱 가능."
      ],
      "metadata": {
        "id": "5d4ov7vVi_Cu"
      },
      "execution_count": 536,
      "outputs": []
    },
    {
      "cell_type": "code",
      "source": [
        "vec=tf.constant([10,20,30,40,50])\n",
        "print(vec)  #shape 5개 원소의 1차원 텐서인 벡터"
      ],
      "metadata": {
        "colab": {
          "base_uri": "https://localhost:8080/"
        },
        "id": "rhof_RNniUBn",
        "outputId": "2a5fbb4d-9eca-4212-bd60-3bbabc944f76"
      },
      "execution_count": 537,
      "outputs": [
        {
          "output_type": "stream",
          "name": "stdout",
          "text": [
            "tf.Tensor([10 20 30 40 50], shape=(5,), dtype=int32)\n"
          ]
        }
      ]
    },
    {
      "cell_type": "code",
      "source": [
        "print(vec[0])"
      ],
      "metadata": {
        "colab": {
          "base_uri": "https://localhost:8080/"
        },
        "id": "ZY_--c6in3Fv",
        "outputId": "52ec625f-e43f-4ae5-9128-cd7028e45369"
      },
      "execution_count": 538,
      "outputs": [
        {
          "output_type": "stream",
          "name": "stdout",
          "text": [
            "tf.Tensor(10, shape=(), dtype=int32)\n"
          ]
        }
      ]
    },
    {
      "cell_type": "code",
      "source": [
        "print(vec[-1])"
      ],
      "metadata": {
        "colab": {
          "base_uri": "https://localhost:8080/"
        },
        "id": "QK9_dD9soHH0",
        "outputId": "88be5f9b-2bcf-41d3-c63b-47f2a625cb9f"
      },
      "execution_count": 539,
      "outputs": [
        {
          "output_type": "stream",
          "name": "stdout",
          "text": [
            "tf.Tensor(50, shape=(), dtype=int32)\n"
          ]
        }
      ]
    },
    {
      "cell_type": "code",
      "source": [
        "print(vec[:3]) #1차원의 3개 원소 벡터로 나옴."
      ],
      "metadata": {
        "colab": {
          "base_uri": "https://localhost:8080/"
        },
        "id": "sJ24pvbBoVhW",
        "outputId": "72ff7cfa-6d5a-41a2-b18d-d59a99dd1494"
      },
      "execution_count": 540,
      "outputs": [
        {
          "output_type": "stream",
          "name": "stdout",
          "text": [
            "tf.Tensor([10 20 30], shape=(3,), dtype=int32)\n"
          ]
        }
      ]
    },
    {
      "cell_type": "code",
      "source": [
        "mat=tf.constant([[10,20,30],[40,50,60]])\n",
        "print(mat)"
      ],
      "metadata": {
        "colab": {
          "base_uri": "https://localhost:8080/"
        },
        "id": "lfvjVUvAoeIy",
        "outputId": "b75900e7-a20f-42b6-d834-70efb14a790a"
      },
      "execution_count": 541,
      "outputs": [
        {
          "output_type": "stream",
          "name": "stdout",
          "text": [
            "tf.Tensor(\n",
            "[[10 20 30]\n",
            " [40 50 60]], shape=(2, 3), dtype=int32)\n"
          ]
        }
      ]
    },
    {
      "cell_type": "code",
      "source": [
        "print(mat[0,:]) #0번째 행의 모든 열"
      ],
      "metadata": {
        "colab": {
          "base_uri": "https://localhost:8080/"
        },
        "id": "TwwMOio0o4uF",
        "outputId": "f26ff1f9-2462-4812-8b28-c4cc33a96e67"
      },
      "execution_count": 542,
      "outputs": [
        {
          "output_type": "stream",
          "name": "stdout",
          "text": [
            "tf.Tensor([10 20 30], shape=(3,), dtype=int32)\n"
          ]
        }
      ]
    },
    {
      "cell_type": "code",
      "source": [
        "print(mat[:,1]) #모든 행의 1열만 출력"
      ],
      "metadata": {
        "colab": {
          "base_uri": "https://localhost:8080/"
        },
        "id": "4nvHPeNBo-5I",
        "outputId": "ff43ccb8-bd1c-4aff-b9f9-0034f065bdd6"
      },
      "execution_count": 543,
      "outputs": [
        {
          "output_type": "stream",
          "name": "stdout",
          "text": [
            "tf.Tensor([20 50], shape=(2,), dtype=int32)\n"
          ]
        }
      ]
    },
    {
      "cell_type": "code",
      "source": [
        "#형태 변환 reshape : 앞으로 머신 러닝, 딥러닝에서 텐서 형태를 변환하는 것은 매우 중요함!!"
      ],
      "metadata": {
        "id": "3HiEf4-ipMth"
      },
      "execution_count": 544,
      "outputs": []
    },
    {
      "cell_type": "code",
      "source": [
        "tensor=tf.constant(range(0,24))\n",
        "tensor"
      ],
      "metadata": {
        "colab": {
          "base_uri": "https://localhost:8080/"
        },
        "id": "dSnzDst0ozRu",
        "outputId": "75cd777c-77d6-4db5-aa92-9f226f76fedf"
      },
      "execution_count": 545,
      "outputs": [
        {
          "output_type": "execute_result",
          "data": {
            "text/plain": [
              "<tf.Tensor: shape=(24,), dtype=int32, numpy=\n",
              "array([ 0,  1,  2,  3,  4,  5,  6,  7,  8,  9, 10, 11, 12, 13, 14, 15, 16,\n",
              "       17, 18, 19, 20, 21, 22, 23], dtype=int32)>"
            ]
          },
          "metadata": {},
          "execution_count": 545
        }
      ]
    },
    {
      "cell_type": "code",
      "source": [
        "# (24, ) -> (3,8) 24개의 1차원 자료를 3행,8열의 2차원 자료로 변환\n",
        "tensor1=tf.reshape(tensor,[3,8])\n",
        "print(tensor1)\n"
      ],
      "metadata": {
        "colab": {
          "base_uri": "https://localhost:8080/"
        },
        "id": "r55QtE3OqR6s",
        "outputId": "0489fbfc-d6fb-4eb0-b624-d6defc020e31"
      },
      "execution_count": 546,
      "outputs": [
        {
          "output_type": "stream",
          "name": "stdout",
          "text": [
            "tf.Tensor(\n",
            "[[ 0  1  2  3  4  5  6  7]\n",
            " [ 8  9 10 11 12 13 14 15]\n",
            " [16 17 18 19 20 21 22 23]], shape=(3, 8), dtype=int32)\n"
          ]
        }
      ]
    },
    {
      "cell_type": "code",
      "source": [
        "#-1을 지정하면 '어떤 값이 와도 상관 없음' 이라는 의미.\n",
        "tensor2=tf.reshape(tensor1,[-1,4]) #행은 상관없고 열만 4개로 해 줘~\n",
        "print(tensor2)"
      ],
      "metadata": {
        "colab": {
          "base_uri": "https://localhost:8080/"
        },
        "id": "IdtBdcdQqpmD",
        "outputId": "1c4bb015-5e3e-4c25-82cb-933596c276ec"
      },
      "execution_count": 547,
      "outputs": [
        {
          "output_type": "stream",
          "name": "stdout",
          "text": [
            "tf.Tensor(\n",
            "[[ 0  1  2  3]\n",
            " [ 4  5  6  7]\n",
            " [ 8  9 10 11]\n",
            " [12 13 14 15]\n",
            " [16 17 18 19]\n",
            " [20 21 22 23]], shape=(6, 4), dtype=int32)\n"
          ]
        }
      ]
    },
    {
      "cell_type": "code",
      "source": [
        "tensor3=tf.reshape(tensor2,[-1]) #그냥 1차원이 됨. 배열을 구성하는 원소가 매우 많고 배열 구조를 알지 못할 때 -1을 사용하면 편리함.\n",
        "print(tensor3)"
      ],
      "metadata": {
        "colab": {
          "base_uri": "https://localhost:8080/"
        },
        "id": "FPNhTRqQrLLH",
        "outputId": "abc8860a-3905-4121-8349-5d7d7a61e234"
      },
      "execution_count": 548,
      "outputs": [
        {
          "output_type": "stream",
          "name": "stdout",
          "text": [
            "tf.Tensor([ 0  1  2  3  4  5  6  7  8  9 10 11 12 13 14 15 16 17 18 19 20 21 22 23], shape=(24,), dtype=int32)\n"
          ]
        }
      ]
    },
    {
      "cell_type": "code",
      "source": [
        "tensor4=tf.reshape(tensor3,[-1,3,4]) #다차원 텐서 : 전체 개수는 2개, 3행 4열\n",
        "print(tensor4)"
      ],
      "metadata": {
        "colab": {
          "base_uri": "https://localhost:8080/"
        },
        "id": "PVpmK3zErdv5",
        "outputId": "e6dfd2a0-5ed6-40fd-fd53-ce9b6385d31b"
      },
      "execution_count": 549,
      "outputs": [
        {
          "output_type": "stream",
          "name": "stdout",
          "text": [
            "tf.Tensor(\n",
            "[[[ 0  1  2  3]\n",
            "  [ 4  5  6  7]\n",
            "  [ 8  9 10 11]]\n",
            "\n",
            " [[12 13 14 15]\n",
            "  [16 17 18 19]\n",
            "  [20 21 22 23]]], shape=(2, 3, 4), dtype=int32)\n"
          ]
        }
      ]
    },
    {
      "cell_type": "code",
      "source": [
        "tensor5=tf.reshape(tensor4,[3,2,4]) # 2행 4열\n",
        "print(tensor5)"
      ],
      "metadata": {
        "colab": {
          "base_uri": "https://localhost:8080/"
        },
        "id": "TtwpH0Fmr7Zb",
        "outputId": "3a4cbc38-bfbf-4db5-a0c6-7d9141de65c5"
      },
      "execution_count": 550,
      "outputs": [
        {
          "output_type": "stream",
          "name": "stdout",
          "text": [
            "tf.Tensor(\n",
            "[[[ 0  1  2  3]\n",
            "  [ 4  5  6  7]]\n",
            "\n",
            " [[ 8  9 10 11]\n",
            "  [12 13 14 15]]\n",
            "\n",
            " [[16 17 18 19]\n",
            "  [20 21 22 23]]], shape=(3, 2, 4), dtype=int32)\n"
          ]
        }
      ]
    },
    {
      "cell_type": "code",
      "source": [
        "tensor6=tf.reshape(tensor5,[3,2,2,2])\n",
        "print(tensor6)"
      ],
      "metadata": {
        "colab": {
          "base_uri": "https://localhost:8080/"
        },
        "id": "JQOcIPsEsRp-",
        "outputId": "213ea69c-6e0c-4f7f-8d05-76cb05b20a76"
      },
      "execution_count": 551,
      "outputs": [
        {
          "output_type": "stream",
          "name": "stdout",
          "text": [
            "tf.Tensor(\n",
            "[[[[ 0  1]\n",
            "   [ 2  3]]\n",
            "\n",
            "  [[ 4  5]\n",
            "   [ 6  7]]]\n",
            "\n",
            "\n",
            " [[[ 8  9]\n",
            "   [10 11]]\n",
            "\n",
            "  [[12 13]\n",
            "   [14 15]]]\n",
            "\n",
            "\n",
            " [[[16 17]\n",
            "   [18 19]]\n",
            "\n",
            "  [[20 21]\n",
            "   [22 23]]]], shape=(3, 2, 2, 2), dtype=int32)\n"
          ]
        }
      ]
    },
    {
      "cell_type": "code",
      "source": [
        "# tf.Variable 변수: 텐서플로의 변수의 특징\n",
        "#                   텐서 플로는 그래프 구조를 이용하여 복잡한 미분 연산을 함. 이때 수많은 미분 연산을 반복하게 됨. 각각의 중간 연산 결과를 저장하는 용도로도 변수를 이용하게 됨.\n",
        "#                   모델을 학습하는 중간 단계마다 모델의 가중치를 변수에 저장하고 계속 반복하면서 변수 값을 업데이트 함.\n",
        "tensor1=tf.constant([[0,2,3],[3,4,5]])\n",
        "print(tensor1)"
      ],
      "metadata": {
        "colab": {
          "base_uri": "https://localhost:8080/"
        },
        "id": "Nrje3WQSsgUm",
        "outputId": "fc3dd26f-8216-4ae4-f7e4-054986107f73"
      },
      "execution_count": 552,
      "outputs": [
        {
          "output_type": "stream",
          "name": "stdout",
          "text": [
            "tf.Tensor(\n",
            "[[0 2 3]\n",
            " [3 4 5]], shape=(2, 3), dtype=int32)\n"
          ]
        }
      ]
    },
    {
      "cell_type": "code",
      "source": [
        "tensor_var1=tf.Variable(tensor1)\n",
        "print(tensor_var1)\n",
        "#변수는 텐서 구조에 저장되어 있는 값이 달라질 수 있다는 점에서 값을 변경할 수 없는 상수 형태의 텐서를 만드는 constant 함수와 구별됨."
      ],
      "metadata": {
        "colab": {
          "base_uri": "https://localhost:8080/"
        },
        "id": "7iXsLG5GtSB1",
        "outputId": "18f92a40-9929-4f1e-a959-e2159fa9e67f"
      },
      "execution_count": 553,
      "outputs": [
        {
          "output_type": "stream",
          "name": "stdout",
          "text": [
            "<tf.Variable 'Variable:0' shape=(2, 3) dtype=int32, numpy=\n",
            "array([[0, 2, 3],\n",
            "       [3, 4, 5]], dtype=int32)>\n"
          ]
        }
      ]
    },
    {
      "cell_type": "code",
      "source": [
        "tensor_var1.name"
      ],
      "metadata": {
        "colab": {
          "base_uri": "https://localhost:8080/",
          "height": 35
        },
        "id": "1_lKMLsstkWC",
        "outputId": "fbbbbf4a-bd64-460c-f71a-09833629c6ab"
      },
      "execution_count": 554,
      "outputs": [
        {
          "output_type": "execute_result",
          "data": {
            "application/vnd.google.colaboratory.intrinsic+json": {
              "type": "string"
            },
            "text/plain": [
              "'Variable:0'"
            ]
          },
          "metadata": {},
          "execution_count": 554
        }
      ]
    },
    {
      "cell_type": "code",
      "source": [
        "tensor_var1.shape"
      ],
      "metadata": {
        "colab": {
          "base_uri": "https://localhost:8080/"
        },
        "id": "CiwhjT66t-Lr",
        "outputId": "e4cb7a6a-2b23-4f5d-b222-35b86b3854ae"
      },
      "execution_count": 555,
      "outputs": [
        {
          "output_type": "execute_result",
          "data": {
            "text/plain": [
              "TensorShape([2, 3])"
            ]
          },
          "metadata": {},
          "execution_count": 555
        }
      ]
    },
    {
      "cell_type": "code",
      "source": [
        "tensor_var1.dtype"
      ],
      "metadata": {
        "colab": {
          "base_uri": "https://localhost:8080/"
        },
        "id": "qPro7WtXuAKf",
        "outputId": "7f3ac7d7-6df0-4fdb-c0b3-ffc4810aace5"
      },
      "execution_count": 556,
      "outputs": [
        {
          "output_type": "execute_result",
          "data": {
            "text/plain": [
              "tf.int32"
            ]
          },
          "metadata": {},
          "execution_count": 556
        }
      ]
    },
    {
      "cell_type": "code",
      "source": [
        "tensor_var1.numpy #변수로 설정하면 변수의 이름 크기 자료형 배열을 확인할 수 있음."
      ],
      "metadata": {
        "colab": {
          "base_uri": "https://localhost:8080/"
        },
        "id": "JzL3eldguEtU",
        "outputId": "69a5fa4f-0df2-4312-b552-853bc0ecc907"
      },
      "execution_count": 557,
      "outputs": [
        {
          "output_type": "execute_result",
          "data": {
            "text/plain": [
              "<bound method BaseResourceVariable.numpy of <tf.Variable 'Variable:0' shape=(2, 3) dtype=int32, numpy=\n",
              "array([[0, 2, 3],\n",
              "       [3, 4, 5]], dtype=int32)>>"
            ]
          },
          "metadata": {},
          "execution_count": 557
        }
      ]
    },
    {
      "cell_type": "code",
      "source": [
        "#assig() 메소드를 이용하여 변수에 새로운 데이터를 할당할 수도 있음.\n",
        "tensor_var1.assign([[1,1,1],[2,2,2]])"
      ],
      "metadata": {
        "colab": {
          "base_uri": "https://localhost:8080/"
        },
        "id": "ndNJxiYAuI8O",
        "outputId": "8d7dfaae-e439-47b4-88a3-b06289d47066"
      },
      "execution_count": 558,
      "outputs": [
        {
          "output_type": "execute_result",
          "data": {
            "text/plain": [
              "<tf.Variable 'UnreadVariable' shape=(2, 3) dtype=int32, numpy=\n",
              "array([[1, 1, 1],\n",
              "       [2, 2, 2]], dtype=int32)>"
            ]
          },
          "metadata": {},
          "execution_count": 558
        }
      ]
    },
    {
      "cell_type": "code",
      "source": [
        "#변수를 텐서로 convert_to_tensor() 함수 사용, 텐서로 변환하고 나면 그 텐서의 크기와 값을 변경할 수 없음.(변수는 가능했으나 텐서는 불가)\n",
        "tensor2=tf.convert_to_tensor(tensor_var1)\n",
        "print(tensor2)"
      ],
      "metadata": {
        "colab": {
          "base_uri": "https://localhost:8080/"
        },
        "id": "BjRSuM1yu7qZ",
        "outputId": "225bfcde-a68d-4cdb-bcd3-c48e053ac585"
      },
      "execution_count": 559,
      "outputs": [
        {
          "output_type": "stream",
          "name": "stdout",
          "text": [
            "tf.Tensor(\n",
            "[[1 1 1]\n",
            " [2 2 2]], shape=(2, 3), dtype=int32)\n"
          ]
        }
      ]
    },
    {
      "cell_type": "code",
      "source": [
        "#특히 텐서 변수는 name 속성을 가질 수 있음. \n",
        "tensor_var2=tf.Variable(tensor2,name=\"New Name\")\n",
        "print(tensor_var2)"
      ],
      "metadata": {
        "colab": {
          "base_uri": "https://localhost:8080/"
        },
        "id": "yGx4lL2Yvlzd",
        "outputId": "97a5fb03-33f0-45d3-bf83-8cb5243ce594"
      },
      "execution_count": 560,
      "outputs": [
        {
          "output_type": "stream",
          "name": "stdout",
          "text": [
            "<tf.Variable 'New Name:0' shape=(2, 3) dtype=int32, numpy=\n",
            "array([[1, 1, 1],\n",
            "       [2, 2, 2]], dtype=int32)>\n"
          ]
        }
      ]
    },
    {
      "cell_type": "code",
      "source": [
        "#텐서 변수도 텐서 연산과 동일하게 사칙 연산 등의 계산을 처리할 수 있음.\n",
        "tensor_var1+tensor_var2"
      ],
      "metadata": {
        "colab": {
          "base_uri": "https://localhost:8080/"
        },
        "id": "mhYaKppJwEuu",
        "outputId": "c755e3a7-e484-4ca1-f926-616adfe56213"
      },
      "execution_count": 561,
      "outputs": [
        {
          "output_type": "execute_result",
          "data": {
            "text/plain": [
              "<tf.Tensor: shape=(2, 3), dtype=int32, numpy=\n",
              "array([[2, 2, 2],\n",
              "       [4, 4, 4]], dtype=int32)>"
            ]
          },
          "metadata": {},
          "execution_count": 561
        }
      ]
    },
    {
      "cell_type": "code",
      "source": [
        "#자동 미분 automatic differentiation 아주 어려움~그냥 보기만 \n",
        "#텐서플로는 딥러닝 모델을 구성하는 복잡한 인공 신경망의 각 노드에서 계산되는 미분을 자동으로 계산해 줌. \n",
        "#특히 각 변수의 기울기에 해당하는 그래디언트(접선의 기울기)를 계산하는 데 특화되어 있음.\n",
        "# y=3x-2에서 기울기와 y절편 값을 텐서 자동 미분을 통해 계산"
      ],
      "metadata": {
        "id": "XDsc7g-CwX0N"
      },
      "execution_count": 562,
      "outputs": []
    },
    {
      "cell_type": "code",
      "source": [
        "#y=3x-2\n",
        "g=tf.random.Generator.from_seed(2020) #난수로 발생\n",
        "X=g.normal(shape=(10,))\n",
        "Y=3*X-2\n",
        "print(X.numpy())\n",
        "print(Y.numpy())"
      ],
      "metadata": {
        "colab": {
          "base_uri": "https://localhost:8080/"
        },
        "id": "-eEwThJ9wCAO",
        "outputId": "d09b2b20-708e-4786-cdf6-922c78238c98"
      },
      "execution_count": 563,
      "outputs": [
        {
          "output_type": "stream",
          "name": "stdout",
          "text": [
            "[-0.20943771  1.2746525   1.213214   -0.17576952  1.876984    0.16379918\n",
            "  1.082245    0.6199966  -0.44402212  1.3048344 ]\n",
            "[-2.628313    1.8239574   1.6396422  -2.5273085   3.630952   -1.5086024\n",
            "  1.2467351  -0.14001012 -3.3320663   1.9145031 ]\n"
          ]
        }
      ]
    },
    {
      "cell_type": "code",
      "source": [
        "#시간 부족으로 자동 미분은 생략ㅎㅎ\n",
        "#Keras 케라스 : 텐서플로와 붙어다니는 아이ㅋㅋ 예전에는 따로였는데 지금은 아예 통합됨. 케라스 만든 사람이 구글에 입사해서 합쳐짐ㅎㅎ\n",
        "#               딥러닝 라이브러리들을 쉽고 간결하게 사용할 수 있도록 하는 것이 목적임. \n",
        "#               케라스 2.3까지는 다른 딥러닝 라이브러리들도 지원했지만 2.4부터는 더이상 다른 라이브러리를 지원하지 않고 오직 텐서플로만 지원함. 구글에 취직을 해서ㅎㅎ\n",
        "# 하이퍼파라미터 hyper parameter : 파이썬의 하이퍼파라미터와는 다른 의미를 가짐.\n",
        "#                                  하이퍼파라미터는 딥러닝뿐 아니라 머신러닝 모델을 훈련할 때 사용자가 직접 설정해주는 설정값을 의미함.\n",
        "#                                  가중치(weights),편향(bias)는 자동으로 업데이트 되지만 학습 속도나 반복 훈련 횟수 등 사용자가 직접 설정해야하는 값들이 많기 때문.\n",
        "#                                  사용자가 어떤 값을 설정하느냐에 따라 모델의 성능과 결과가 많이 달라지기 때문. 따라서 매우 중요함!"
      ],
      "metadata": {
        "id": "RJImQWmWxrJR"
      },
      "execution_count": 564,
      "outputs": []
    },
    {
      "cell_type": "code",
      "source": [
        "# 과소 적합 vs 과대 적합"
      ],
      "metadata": {
        "id": "IvadoYEBxpaJ"
      },
      "execution_count": 565,
      "outputs": []
    },
    {
      "cell_type": "code",
      "source": [
        "# 에포크 epoch : 딥러닝은 데이터 셋을 학습하는 과정을 매우 많이 반복함. 반복하면서 최적의 모델 가중치를 찾는 과정임. \n",
        "#                반복 훈련을 할 때 학습에 사용하는 1회의 전체 데이터 셋 훈련 루프를 1 epoch 라고 함.(ex: 축구공 사진을 1회에 100장 보여주는 것)\n",
        "#                특히 에폭은 중요한 파라미터임. 과소 적합이라 판단되면 에폭을 늘려서 다시 학습시킬 필요가 있음.\n",
        "#                과대 적합이라 판단되면 에폭을 줄여서 학습을 조기 종료시키는 것이 과대 적합을 방지하는 방법 중 하나임.\n",
        "# 손실 함수 loss function : 예측 값과 정답 간의 차이 또는 오차(출력값과 실제값의 차이)"
      ],
      "metadata": {
        "id": "--j_W2Z9xnY6"
      },
      "execution_count": 566,
      "outputs": []
    },
    {
      "cell_type": "code",
      "source": [
        "import numpy as np\n",
        "import matplotlib.pyplot as plt\n",
        "def make_linear(w=0.5,b=0.8,size=50,noise=1.0):\n",
        "  x=np.random.rand(size)\n",
        "  y=w*x+b\n",
        "  noise=np.random.uniform(-abs(noise),abs(noise), size=y.shape)\n",
        "  yy=y+noise\n",
        "  plt.figure(figsize=(10,7))\n",
        "  plt.plot(x,y,color='r',label=f'y={w}*x+{b}')\n",
        "  plt.scatter(x,yy,label='data')\n",
        "  plt.legend(fontsize=20)\n",
        "  plt.show()\n",
        "  print(f'w:{w}, b:{b}')\n",
        "  return x,yy\n",
        "x,y=make_linear(w=0.3,b=0.5, size=100, noise=0.01)\n",
        "#생성된 y데이터는 y=0.3x+0.5 식과 완전히 일치하지 않고 약간의 노이즈가 추가되었음."
      ],
      "metadata": {
        "colab": {
          "base_uri": "https://localhost:8080/",
          "height": 446
        },
        "id": "A-fudQtcvj-j",
        "outputId": "2bd9fe80-4049-4533-e83c-51d82bb927a9"
      },
      "execution_count": 567,
      "outputs": [
        {
          "output_type": "display_data",
          "data": {
            "image/png": "[encoded data removed]",
            "text/plain": [
              "<Figure size 720x504 with 1 Axes>"
            ]
          },
          "metadata": {
            "needs_background": "light"
          }
        },
        {
          "output_type": "stream",
          "name": "stdout",
          "text": [
            "w:0.3, b:0.5\n"
          ]
        }
      ]
    },
    {
      "cell_type": "code",
      "source": [
        "#딥러닝 프로세스(머신 러닝과 거의 비슷)\n",
        "#데이터 로드 -> 데이터 전처리(결측치,이상치) -> 데이터 분할(훈련용,검증용) -> 모델 생성 -> 훈련 -> 검증 -> 예측  "
      ],
      "metadata": {
        "id": "WCNWwfbD5sYW"
      },
      "execution_count": 568,
      "outputs": []
    },
    {
      "cell_type": "code",
      "source": [
        "import numpy as np\n",
        "x = np.arange(1,6)\n",
        "y = 3*x+2\n",
        "print(x)\n",
        "print(y)"
      ],
      "metadata": {
        "colab": {
          "base_uri": "https://localhost:8080/"
        },
        "id": "rSD-jnmW5p6i",
        "outputId": "fed06743-bba8-4f4b-f57c-e4e193748406"
      },
      "execution_count": 569,
      "outputs": [
        {
          "output_type": "stream",
          "name": "stdout",
          "text": [
            "[1 2 3 4 5]\n",
            "[ 5  8 11 14 17]\n"
          ]
        }
      ]
    },
    {
      "cell_type": "code",
      "source": [
        "plt.plot(x,y)"
      ],
      "metadata": {
        "colab": {
          "base_uri": "https://localhost:8080/",
          "height": 283
        },
        "id": "Te7lMayH7rob",
        "outputId": "91160341-9ed1-4a38-eaf7-51b9670dee5c"
      },
      "execution_count": 570,
      "outputs": [
        {
          "output_type": "execute_result",
          "data": {
            "text/plain": [
              "[<matplotlib.lines.Line2D at 0x7fd40f3fec50>]"
            ]
          },
          "metadata": {},
          "execution_count": 570
        },
        {
          "output_type": "display_data",
          "data": {
            "image/png": "[encoded data removed]",
            "text/plain": [
              "<Figure size 432x288 with 1 Axes>"
            ]
          },
          "metadata": {
            "needs_background": "light"
          }
        }
      ]
    },
    {
      "cell_type": "code",
      "source": [
        "# 텐서플로 케라스는 일반적으로 세 가지 방식으로 모델을 생성함.\n",
        "# 그 중 가장 간결한 Sequential API 방식을 사용하면 쉽게 만들 수 있음.\n",
        "# 층을 이어 붙이듯 일렬로 연결하는 방식임. 따라서 입력 레이어부터 출력 레이어까지 순서를 가짐.\n",
        "# 입력 데이터는 시퀀스에 가장 앞에 위치하고, 순서대로 각 층을 하나씩 통과하면서 딥러닝 연산을 수행하게 됨.\n",
        "# 직관적으로 구조를 이해할 수 있기 때문에 케라스 중 가장 간단한 방법임.\n",
        "# 2개 이상의 다중 입력이나 다중 출력을 갖는 복잡한 구조를 만들 수는 없음."
      ],
      "metadata": {
        "id": "25cP0uSC7xiP"
      },
      "execution_count": 571,
      "outputs": []
    },
    {
      "cell_type": "code",
      "source": [
        "model=tf.keras.Sequential([tf.keras.layers.Dense(10),tf.keras.layers.Dense(5),tf.keras.layers.Dense(1)])"
      ],
      "metadata": {
        "id": "oySsgela7o5V"
      },
      "execution_count": 572,
      "outputs": []
    },
    {
      "cell_type": "code",
      "source": [
        "#add함수를 통해서 추가로 층을 추가할 수도 있음.\n",
        "model = tf.keras.Sequential()\n",
        "model.add(tf.keras.layers.Dense(10))\n",
        "model.add(tf.keras.layers.Dense(5))\n",
        "model.add(tf.keras.layers.Dense(1))"
      ],
      "metadata": {
        "id": "EH5J2FbP9Oou"
      },
      "execution_count": 573,
      "outputs": []
    },
    {
      "cell_type": "code",
      "source": [
        "#시퀀스 API를 사용하여 모델을 구성할 때는 반드시 첫 번째 층은 input_shape 매개 변수를 지정해야 함.\n",
        "#input_shape 매개 변수는 주입할 데이터 셋의 shape를 튜플 혹은 리스트로 지정할 수 있음.\n",
        "#예를 들면 데이터 셋의 shape이 (150,4)로 구성되었다고 가정하면 input_shape는 (4,) 혹은 [4]로 지정함.\n",
        "model=tf.keras.Sequential([tf.keras.layers.Dense(10,input_shape=[4]),tf.keras.layers.Dense(5),tf.keras.layers.Dense(1)])"
      ],
      "metadata": {
        "id": "oLg_PMb893k2"
      },
      "execution_count": 574,
      "outputs": []
    },
    {
      "cell_type": "code",
      "source": [
        "#단순 선형 회귀 모델\n",
        "model=tf.keras.Sequential([tf.keras.layers.Dense(1,input_shape=[1])])"
      ],
      "metadata": {
        "id": "x_O1Bloz-kNc"
      },
      "execution_count": 575,
      "outputs": []
    },
    {
      "cell_type": "code",
      "source": [
        "# 처음 레이어는 입력층, 마지막 레이어는 출력층, 사이는 은닉층, Dense는 층을 쌓는다는 의미."
      ],
      "metadata": {
        "id": "-gKrOxVe-dZY"
      },
      "execution_count": 576,
      "outputs": []
    },
    {
      "cell_type": "code",
      "source": [
        "model.summary() #모델의 요약: 구조를 확인할 수 있고, 층별 노드의 개수가 표기됨. 하단에는 훈련 시 업데이트 할 파라미터의 개수가 표시됨.\n",
        "#                              Total params 모델 내부에 존재하는 모든 파라미터의 합계\n",
        "#                              Trainable params 모델 훈련 시 업데이트 할 파라미터의 총 개수\n",
        "#                              Non-trainable params 훈련 시 업데이트 하지 않을 파라미터의 총 개수\n",
        "#                              단순 선형 회귀 모델에서는 업데이트 파라미터가 가중치 w 편향 b 두 개이다. 따라서 총 params의 개수가 2개로 표기되는 것을 확인할 수 있음."
      ],
      "metadata": {
        "colab": {
          "base_uri": "https://localhost:8080/"
        },
        "id": "CCPprBQ8-ZTY",
        "outputId": "d453b865-bbba-48dd-f767-1e11871c6832"
      },
      "execution_count": 577,
      "outputs": [
        {
          "output_type": "stream",
          "name": "stdout",
          "text": [
            "Model: \"sequential_25\"\n",
            "_________________________________________________________________\n",
            " Layer (type)                Output Shape              Param #   \n",
            "=================================================================\n",
            " dense_67 (Dense)            (None, 1)                 2         \n",
            "                                                                 \n",
            "=================================================================\n",
            "Total params: 2\n",
            "Trainable params: 2\n",
            "Non-trainable params: 0\n",
            "_________________________________________________________________\n"
          ]
        }
      ]
    },
    {
      "cell_type": "code",
      "source": [
        "model.compile(optimizer='sgd', loss='mse', metrics=['mse','mae'])\n",
        "# sgd 경사하강법-최적화방법\n",
        "# 평가 지표와 손실 함수: mse 평균 제곱 오차, mae 평균 절대 오차"
      ],
      "metadata": {
        "id": "xEC0rNbrDrj1"
      },
      "execution_count": 578,
      "outputs": []
    },
    {
      "cell_type": "code",
      "source": [
        "history= model.fit(x,y,epochs=1000)"
      ],
      "metadata": {
        "colab": {
          "base_uri": "https://localhost:8080/"
        },
        "id": "-xI2N6vkDdi7",
        "outputId": "cf6f7fe9-ca70-453e-c9b7-5643e6d53bf6"
      },
      "execution_count": 588,
      "outputs": [
        {
          "output_type": "stream",
          "name": "stdout",
          "text": [
            "Epoch 1/1000\n",
            "1/1 [==============================] - 0s 6ms/step - loss: 1.4410e-04 - mse: 1.4410e-04 - mae: 0.0103\n",
            "Epoch 2/1000\n",
            "1/1 [==============================] - 0s 4ms/step - loss: 1.4313e-04 - mse: 1.4313e-04 - mae: 0.0103\n",
            "Epoch 3/1000\n",
            "1/1 [==============================] - 0s 4ms/step - loss: 1.4217e-04 - mse: 1.4217e-04 - mae: 0.0102\n",
            "Epoch 4/1000\n",
            "1/1 [==============================] - 0s 5ms/step - loss: 1.4121e-04 - mse: 1.4121e-04 - mae: 0.0102\n",
            "Epoch 5/1000\n",
            "1/1 [==============================] - 0s 6ms/step - loss: 1.4025e-04 - mse: 1.4025e-04 - mae: 0.0102\n",
            "Epoch 6/1000\n",
            "1/1 [==============================] - 0s 6ms/step - loss: 1.3930e-04 - mse: 1.3930e-04 - mae: 0.0101\n",
            "Epoch 7/1000\n",
            "1/1 [==============================] - 0s 6ms/step - loss: 1.3837e-04 - mse: 1.3837e-04 - mae: 0.0101\n",
            "Epoch 8/1000\n",
            "1/1 [==============================] - 0s 10ms/step - loss: 1.3743e-04 - mse: 1.3743e-04 - mae: 0.0101\n",
            "Epoch 9/1000\n",
            "1/1 [==============================] - 0s 7ms/step - loss: 1.3651e-04 - mse: 1.3651e-04 - mae: 0.0100\n",
            "Epoch 10/1000\n",
            "1/1 [==============================] - 0s 5ms/step - loss: 1.3558e-04 - mse: 1.3558e-04 - mae: 0.0100\n",
            "Epoch 11/1000\n",
            "1/1 [==============================] - 0s 4ms/step - loss: 1.3466e-04 - mse: 1.3466e-04 - mae: 0.0100\n",
            "Epoch 12/1000\n",
            "1/1 [==============================] - 0s 5ms/step - loss: 1.3375e-04 - mse: 1.3375e-04 - mae: 0.0099\n",
            "Epoch 13/1000\n",
            "1/1 [==============================] - 0s 4ms/step - loss: 1.3285e-04 - mse: 1.3285e-04 - mae: 0.0099\n",
            "Epoch 14/1000\n",
            "1/1 [==============================] - 0s 5ms/step - loss: 1.3196e-04 - mse: 1.3196e-04 - mae: 0.0099\n",
            "Epoch 15/1000\n",
            "1/1 [==============================] - 0s 4ms/step - loss: 1.3107e-04 - mse: 1.3107e-04 - mae: 0.0098\n",
            "Epoch 16/1000\n",
            "1/1 [==============================] - 0s 5ms/step - loss: 1.3019e-04 - mse: 1.3019e-04 - mae: 0.0098\n",
            "Epoch 17/1000\n",
            "1/1 [==============================] - 0s 6ms/step - loss: 1.2930e-04 - mse: 1.2930e-04 - mae: 0.0098\n",
            "Epoch 18/1000\n",
            "1/1 [==============================] - 0s 13ms/step - loss: 1.2843e-04 - mse: 1.2843e-04 - mae: 0.0097\n",
            "Epoch 19/1000\n",
            "1/1 [==============================] - 0s 7ms/step - loss: 1.2756e-04 - mse: 1.2756e-04 - mae: 0.0097\n",
            "Epoch 20/1000\n",
            "1/1 [==============================] - 0s 6ms/step - loss: 1.2671e-04 - mse: 1.2671e-04 - mae: 0.0097\n",
            "Epoch 21/1000\n",
            "1/1 [==============================] - 0s 13ms/step - loss: 1.2585e-04 - mse: 1.2585e-04 - mae: 0.0096\n",
            "Epoch 22/1000\n",
            "1/1 [==============================] - 0s 4ms/step - loss: 1.2500e-04 - mse: 1.2500e-04 - mae: 0.0096\n",
            "Epoch 23/1000\n",
            "1/1 [==============================] - 0s 4ms/step - loss: 1.2416e-04 - mse: 1.2416e-04 - mae: 0.0096\n",
            "Epoch 24/1000\n",
            "1/1 [==============================] - 0s 5ms/step - loss: 1.2332e-04 - mse: 1.2332e-04 - mae: 0.0095\n",
            "Epoch 25/1000\n",
            "1/1 [==============================] - 0s 5ms/step - loss: 1.2248e-04 - mse: 1.2248e-04 - mae: 0.0095\n",
            "Epoch 26/1000\n",
            "1/1 [==============================] - 0s 5ms/step - loss: 1.2166e-04 - mse: 1.2166e-04 - mae: 0.0095\n",
            "Epoch 27/1000\n",
            "1/1 [==============================] - 0s 7ms/step - loss: 1.2083e-04 - mse: 1.2083e-04 - mae: 0.0094\n",
            "Epoch 28/1000\n",
            "1/1 [==============================] - 0s 4ms/step - loss: 1.2002e-04 - mse: 1.2002e-04 - mae: 0.0094\n",
            "Epoch 29/1000\n",
            "1/1 [==============================] - 0s 7ms/step - loss: 1.1921e-04 - mse: 1.1921e-04 - mae: 0.0094\n",
            "Epoch 30/1000\n",
            "1/1 [==============================] - 0s 4ms/step - loss: 1.1841e-04 - mse: 1.1841e-04 - mae: 0.0093\n",
            "Epoch 31/1000\n",
            "1/1 [==============================] - 0s 6ms/step - loss: 1.1760e-04 - mse: 1.1760e-04 - mae: 0.0093\n",
            "Epoch 32/1000\n",
            "1/1 [==============================] - 0s 4ms/step - loss: 1.1681e-04 - mse: 1.1681e-04 - mae: 0.0093\n",
            "Epoch 33/1000\n",
            "1/1 [==============================] - 0s 4ms/step - loss: 1.1602e-04 - mse: 1.1602e-04 - mae: 0.0092\n",
            "Epoch 34/1000\n",
            "1/1 [==============================] - 0s 6ms/step - loss: 1.1524e-04 - mse: 1.1524e-04 - mae: 0.0092\n",
            "Epoch 35/1000\n",
            "1/1 [==============================] - 0s 7ms/step - loss: 1.1446e-04 - mse: 1.1446e-04 - mae: 0.0092\n",
            "Epoch 36/1000\n",
            "1/1 [==============================] - 0s 4ms/step - loss: 1.1369e-04 - mse: 1.1369e-04 - mae: 0.0092\n",
            "Epoch 37/1000\n",
            "1/1 [==============================] - 0s 5ms/step - loss: 1.1292e-04 - mse: 1.1292e-04 - mae: 0.0091\n",
            "Epoch 38/1000\n",
            "1/1 [==============================] - 0s 6ms/step - loss: 1.1216e-04 - mse: 1.1216e-04 - mae: 0.0091\n",
            "Epoch 39/1000\n",
            "1/1 [==============================] - 0s 6ms/step - loss: 1.1140e-04 - mse: 1.1140e-04 - mae: 0.0091\n",
            "Epoch 40/1000\n",
            "1/1 [==============================] - 0s 3ms/step - loss: 1.1065e-04 - mse: 1.1065e-04 - mae: 0.0090\n",
            "Epoch 41/1000\n",
            "1/1 [==============================] - 0s 4ms/step - loss: 1.0991e-04 - mse: 1.0991e-04 - mae: 0.0090\n",
            "Epoch 42/1000\n",
            "1/1 [==============================] - 0s 4ms/step - loss: 1.0916e-04 - mse: 1.0916e-04 - mae: 0.0090\n",
            "Epoch 43/1000\n",
            "1/1 [==============================] - 0s 6ms/step - loss: 1.0842e-04 - mse: 1.0842e-04 - mae: 0.0089\n",
            "Epoch 44/1000\n",
            "1/1 [==============================] - 0s 5ms/step - loss: 1.0769e-04 - mse: 1.0769e-04 - mae: 0.0089\n",
            "Epoch 45/1000\n",
            "1/1 [==============================] - 0s 5ms/step - loss: 1.0696e-04 - mse: 1.0696e-04 - mae: 0.0089\n",
            "Epoch 46/1000\n",
            "1/1 [==============================] - 0s 6ms/step - loss: 1.0625e-04 - mse: 1.0625e-04 - mae: 0.0088\n",
            "Epoch 47/1000\n",
            "1/1 [==============================] - 0s 6ms/step - loss: 1.0552e-04 - mse: 1.0552e-04 - mae: 0.0088\n",
            "Epoch 48/1000\n",
            "1/1 [==============================] - 0s 3ms/step - loss: 1.0482e-04 - mse: 1.0482e-04 - mae: 0.0088\n",
            "Epoch 49/1000\n",
            "1/1 [==============================] - 0s 5ms/step - loss: 1.0410e-04 - mse: 1.0410e-04 - mae: 0.0088\n",
            "Epoch 50/1000\n",
            "1/1 [==============================] - 0s 5ms/step - loss: 1.0340e-04 - mse: 1.0340e-04 - mae: 0.0087\n",
            "Epoch 51/1000\n",
            "1/1 [==============================] - 0s 3ms/step - loss: 1.0271e-04 - mse: 1.0271e-04 - mae: 0.0087\n",
            "Epoch 52/1000\n",
            "1/1 [==============================] - 0s 5ms/step - loss: 1.0201e-04 - mse: 1.0201e-04 - mae: 0.0087\n",
            "Epoch 53/1000\n",
            "1/1 [==============================] - 0s 4ms/step - loss: 1.0132e-04 - mse: 1.0132e-04 - mae: 0.0086\n",
            "Epoch 54/1000\n",
            "1/1 [==============================] - 0s 5ms/step - loss: 1.0064e-04 - mse: 1.0064e-04 - mae: 0.0086\n",
            "Epoch 55/1000\n",
            "1/1 [==============================] - 0s 6ms/step - loss: 9.9958e-05 - mse: 9.9958e-05 - mae: 0.0086\n",
            "Epoch 56/1000\n",
            "1/1 [==============================] - 0s 3ms/step - loss: 9.9282e-05 - mse: 9.9282e-05 - mae: 0.0086\n",
            "Epoch 57/1000\n",
            "1/1 [==============================] - 0s 5ms/step - loss: 9.8615e-05 - mse: 9.8615e-05 - mae: 0.0085\n",
            "Epoch 58/1000\n",
            "1/1 [==============================] - 0s 6ms/step - loss: 9.7953e-05 - mse: 9.7953e-05 - mae: 0.0085\n",
            "Epoch 59/1000\n",
            "1/1 [==============================] - 0s 5ms/step - loss: 9.7291e-05 - mse: 9.7291e-05 - mae: 0.0085\n",
            "Epoch 60/1000\n",
            "1/1 [==============================] - 0s 4ms/step - loss: 9.6629e-05 - mse: 9.6629e-05 - mae: 0.0084\n",
            "Epoch 61/1000\n",
            "1/1 [==============================] - 0s 5ms/step - loss: 9.5980e-05 - mse: 9.5980e-05 - mae: 0.0084\n",
            "Epoch 62/1000\n",
            "1/1 [==============================] - 0s 10ms/step - loss: 9.5331e-05 - mse: 9.5331e-05 - mae: 0.0084\n",
            "Epoch 63/1000\n",
            "1/1 [==============================] - 0s 6ms/step - loss: 9.4684e-05 - mse: 9.4684e-05 - mae: 0.0084\n",
            "Epoch 64/1000\n",
            "1/1 [==============================] - 0s 8ms/step - loss: 9.4044e-05 - mse: 9.4044e-05 - mae: 0.0083\n",
            "Epoch 65/1000\n",
            "1/1 [==============================] - 0s 8ms/step - loss: 9.3414e-05 - mse: 9.3414e-05 - mae: 0.0083\n",
            "Epoch 66/1000\n",
            "1/1 [==============================] - 0s 6ms/step - loss: 9.2788e-05 - mse: 9.2788e-05 - mae: 0.0083\n",
            "Epoch 67/1000\n",
            "1/1 [==============================] - 0s 6ms/step - loss: 9.2157e-05 - mse: 9.2157e-05 - mae: 0.0082\n",
            "Epoch 68/1000\n",
            "1/1 [==============================] - 0s 7ms/step - loss: 9.1537e-05 - mse: 9.1537e-05 - mae: 0.0082\n",
            "Epoch 69/1000\n",
            "1/1 [==============================] - 0s 9ms/step - loss: 9.0914e-05 - mse: 9.0914e-05 - mae: 0.0082\n",
            "Epoch 70/1000\n",
            "1/1 [==============================] - 0s 7ms/step - loss: 9.0302e-05 - mse: 9.0302e-05 - mae: 0.0082\n",
            "Epoch 71/1000\n",
            "1/1 [==============================] - 0s 4ms/step - loss: 8.9701e-05 - mse: 8.9701e-05 - mae: 0.0081\n",
            "Epoch 72/1000\n",
            "1/1 [==============================] - 0s 7ms/step - loss: 8.9089e-05 - mse: 8.9089e-05 - mae: 0.0081\n",
            "Epoch 73/1000\n",
            "1/1 [==============================] - 0s 4ms/step - loss: 8.8489e-05 - mse: 8.8489e-05 - mae: 0.0081\n",
            "Epoch 74/1000\n",
            "1/1 [==============================] - 0s 4ms/step - loss: 8.7892e-05 - mse: 8.7892e-05 - mae: 0.0080\n",
            "Epoch 75/1000\n",
            "1/1 [==============================] - 0s 5ms/step - loss: 8.7299e-05 - mse: 8.7299e-05 - mae: 0.0080\n",
            "Epoch 76/1000\n",
            "1/1 [==============================] - 0s 8ms/step - loss: 8.6709e-05 - mse: 8.6709e-05 - mae: 0.0080\n",
            "Epoch 77/1000\n",
            "1/1 [==============================] - 0s 4ms/step - loss: 8.6124e-05 - mse: 8.6124e-05 - mae: 0.0080\n",
            "Epoch 78/1000\n",
            "1/1 [==============================] - 0s 5ms/step - loss: 8.5539e-05 - mse: 8.5539e-05 - mae: 0.0079\n",
            "Epoch 79/1000\n",
            "1/1 [==============================] - 0s 5ms/step - loss: 8.4966e-05 - mse: 8.4966e-05 - mae: 0.0079\n",
            "Epoch 80/1000\n",
            "1/1 [==============================] - 0s 9ms/step - loss: 8.4389e-05 - mse: 8.4389e-05 - mae: 0.0079\n",
            "Epoch 81/1000\n",
            "1/1 [==============================] - 0s 5ms/step - loss: 8.3821e-05 - mse: 8.3821e-05 - mae: 0.0079\n",
            "Epoch 82/1000\n",
            "1/1 [==============================] - 0s 7ms/step - loss: 8.3257e-05 - mse: 8.3257e-05 - mae: 0.0078\n",
            "Epoch 83/1000\n",
            "1/1 [==============================] - 0s 5ms/step - loss: 8.2693e-05 - mse: 8.2693e-05 - mae: 0.0078\n",
            "Epoch 84/1000\n",
            "1/1 [==============================] - 0s 7ms/step - loss: 8.2137e-05 - mse: 8.2137e-05 - mae: 0.0078\n",
            "Epoch 85/1000\n",
            "1/1 [==============================] - 0s 4ms/step - loss: 8.1580e-05 - mse: 8.1580e-05 - mae: 0.0078\n",
            "Epoch 86/1000\n",
            "1/1 [==============================] - 0s 8ms/step - loss: 8.1029e-05 - mse: 8.1029e-05 - mae: 0.0077\n",
            "Epoch 87/1000\n",
            "1/1 [==============================] - 0s 6ms/step - loss: 8.0485e-05 - mse: 8.0485e-05 - mae: 0.0077\n",
            "Epoch 88/1000\n",
            "1/1 [==============================] - 0s 9ms/step - loss: 7.9944e-05 - mse: 7.9944e-05 - mae: 0.0077\n",
            "Epoch 89/1000\n",
            "1/1 [==============================] - 0s 5ms/step - loss: 7.9400e-05 - mse: 7.9400e-05 - mae: 0.0076\n",
            "Epoch 90/1000\n",
            "1/1 [==============================] - 0s 10ms/step - loss: 7.8866e-05 - mse: 7.8866e-05 - mae: 0.0076\n",
            "Epoch 91/1000\n",
            "1/1 [==============================] - 0s 4ms/step - loss: 7.8332e-05 - mse: 7.8332e-05 - mae: 0.0076\n",
            "Epoch 92/1000\n",
            "1/1 [==============================] - 0s 4ms/step - loss: 7.7806e-05 - mse: 7.7806e-05 - mae: 0.0076\n",
            "Epoch 93/1000\n",
            "1/1 [==============================] - 0s 6ms/step - loss: 7.7284e-05 - mse: 7.7284e-05 - mae: 0.0075\n",
            "Epoch 94/1000\n",
            "1/1 [==============================] - 0s 5ms/step - loss: 7.6756e-05 - mse: 7.6756e-05 - mae: 0.0075\n",
            "Epoch 95/1000\n",
            "1/1 [==============================] - 0s 7ms/step - loss: 7.6238e-05 - mse: 7.6238e-05 - mae: 0.0075\n",
            "Epoch 96/1000\n",
            "1/1 [==============================] - 0s 4ms/step - loss: 7.5725e-05 - mse: 7.5725e-05 - mae: 0.0075\n",
            "Epoch 97/1000\n",
            "1/1 [==============================] - 0s 6ms/step - loss: 7.5217e-05 - mse: 7.5217e-05 - mae: 0.0074\n",
            "Epoch 98/1000\n",
            "1/1 [==============================] - 0s 4ms/step - loss: 7.4710e-05 - mse: 7.4710e-05 - mae: 0.0074\n",
            "Epoch 99/1000\n",
            "1/1 [==============================] - 0s 6ms/step - loss: 7.4206e-05 - mse: 7.4206e-05 - mae: 0.0074\n",
            "Epoch 100/1000\n",
            "1/1 [==============================] - 0s 7ms/step - loss: 7.3703e-05 - mse: 7.3703e-05 - mae: 0.0074\n",
            "Epoch 101/1000\n",
            "1/1 [==============================] - 0s 6ms/step - loss: 7.3209e-05 - mse: 7.3209e-05 - mae: 0.0073\n",
            "Epoch 102/1000\n",
            "1/1 [==============================] - 0s 7ms/step - loss: 7.2716e-05 - mse: 7.2716e-05 - mae: 0.0073\n",
            "Epoch 103/1000\n",
            "1/1 [==============================] - 0s 6ms/step - loss: 7.2222e-05 - mse: 7.2222e-05 - mae: 0.0073\n",
            "Epoch 104/1000\n",
            "1/1 [==============================] - 0s 13ms/step - loss: 7.1732e-05 - mse: 7.1732e-05 - mae: 0.0073\n",
            "Epoch 105/1000\n",
            "1/1 [==============================] - 0s 5ms/step - loss: 7.1250e-05 - mse: 7.1250e-05 - mae: 0.0072\n",
            "Epoch 106/1000\n",
            "1/1 [==============================] - 0s 9ms/step - loss: 7.0767e-05 - mse: 7.0767e-05 - mae: 0.0072\n",
            "Epoch 107/1000\n",
            "1/1 [==============================] - 0s 4ms/step - loss: 7.0293e-05 - mse: 7.0293e-05 - mae: 0.0072\n",
            "Epoch 108/1000\n",
            "1/1 [==============================] - 0s 8ms/step - loss: 6.9814e-05 - mse: 6.9814e-05 - mae: 0.0072\n",
            "Epoch 109/1000\n",
            "1/1 [==============================] - 0s 5ms/step - loss: 6.9346e-05 - mse: 6.9346e-05 - mae: 0.0071\n",
            "Epoch 110/1000\n",
            "1/1 [==============================] - 0s 7ms/step - loss: 6.8880e-05 - mse: 6.8880e-05 - mae: 0.0071\n",
            "Epoch 111/1000\n",
            "1/1 [==============================] - 0s 11ms/step - loss: 6.8415e-05 - mse: 6.8415e-05 - mae: 0.0071\n",
            "Epoch 112/1000\n",
            "1/1 [==============================] - 0s 5ms/step - loss: 6.7953e-05 - mse: 6.7953e-05 - mae: 0.0071\n",
            "Epoch 113/1000\n",
            "1/1 [==============================] - 0s 9ms/step - loss: 6.7490e-05 - mse: 6.7490e-05 - mae: 0.0071\n",
            "Epoch 114/1000\n",
            "1/1 [==============================] - 0s 7ms/step - loss: 6.7037e-05 - mse: 6.7037e-05 - mae: 0.0070\n",
            "Epoch 115/1000\n",
            "1/1 [==============================] - 0s 6ms/step - loss: 6.6582e-05 - mse: 6.6582e-05 - mae: 0.0070\n",
            "Epoch 116/1000\n",
            "1/1 [==============================] - 0s 5ms/step - loss: 6.6134e-05 - mse: 6.6134e-05 - mae: 0.0070\n",
            "Epoch 117/1000\n",
            "1/1 [==============================] - 0s 5ms/step - loss: 6.5688e-05 - mse: 6.5688e-05 - mae: 0.0070\n",
            "Epoch 118/1000\n",
            "1/1 [==============================] - 0s 9ms/step - loss: 6.5245e-05 - mse: 6.5245e-05 - mae: 0.0069\n",
            "Epoch 119/1000\n",
            "1/1 [==============================] - 0s 6ms/step - loss: 6.4804e-05 - mse: 6.4804e-05 - mae: 0.0069\n",
            "Epoch 120/1000\n",
            "1/1 [==============================] - 0s 9ms/step - loss: 6.4365e-05 - mse: 6.4365e-05 - mae: 0.0069\n",
            "Epoch 121/1000\n",
            "1/1 [==============================] - 0s 5ms/step - loss: 6.3929e-05 - mse: 6.3929e-05 - mae: 0.0069\n",
            "Epoch 122/1000\n",
            "1/1 [==============================] - 0s 7ms/step - loss: 6.3499e-05 - mse: 6.3499e-05 - mae: 0.0068\n",
            "Epoch 123/1000\n",
            "1/1 [==============================] - 0s 11ms/step - loss: 6.3066e-05 - mse: 6.3066e-05 - mae: 0.0068\n",
            "Epoch 124/1000\n",
            "1/1 [==============================] - 0s 4ms/step - loss: 6.2645e-05 - mse: 6.2645e-05 - mae: 0.0068\n",
            "Epoch 125/1000\n",
            "1/1 [==============================] - 0s 7ms/step - loss: 6.2218e-05 - mse: 6.2218e-05 - mae: 0.0068\n",
            "Epoch 126/1000\n",
            "1/1 [==============================] - 0s 11ms/step - loss: 6.1805e-05 - mse: 6.1805e-05 - mae: 0.0067\n",
            "Epoch 127/1000\n",
            "1/1 [==============================] - 0s 12ms/step - loss: 6.1384e-05 - mse: 6.1384e-05 - mae: 0.0067\n",
            "Epoch 128/1000\n",
            "1/1 [==============================] - 0s 10ms/step - loss: 6.0973e-05 - mse: 6.0973e-05 - mae: 0.0067\n",
            "Epoch 129/1000\n",
            "1/1 [==============================] - 0s 8ms/step - loss: 6.0558e-05 - mse: 6.0558e-05 - mae: 0.0067\n",
            "Epoch 130/1000\n",
            "1/1 [==============================] - 0s 10ms/step - loss: 6.0153e-05 - mse: 6.0153e-05 - mae: 0.0067\n",
            "Epoch 131/1000\n",
            "1/1 [==============================] - 0s 10ms/step - loss: 5.9740e-05 - mse: 5.9740e-05 - mae: 0.0066\n",
            "Epoch 132/1000\n",
            "1/1 [==============================] - 0s 9ms/step - loss: 5.9341e-05 - mse: 5.9341e-05 - mae: 0.0066\n",
            "Epoch 133/1000\n",
            "1/1 [==============================] - 0s 12ms/step - loss: 5.8941e-05 - mse: 5.8941e-05 - mae: 0.0066\n",
            "Epoch 134/1000\n",
            "1/1 [==============================] - 0s 12ms/step - loss: 5.8542e-05 - mse: 5.8542e-05 - mae: 0.0066\n",
            "Epoch 135/1000\n",
            "1/1 [==============================] - 0s 9ms/step - loss: 5.8146e-05 - mse: 5.8146e-05 - mae: 0.0065\n",
            "Epoch 136/1000\n",
            "1/1 [==============================] - 0s 10ms/step - loss: 5.7754e-05 - mse: 5.7754e-05 - mae: 0.0065\n",
            "Epoch 137/1000\n",
            "1/1 [==============================] - 0s 10ms/step - loss: 5.7365e-05 - mse: 5.7365e-05 - mae: 0.0065\n",
            "Epoch 138/1000\n",
            "1/1 [==============================] - 0s 9ms/step - loss: 5.6980e-05 - mse: 5.6980e-05 - mae: 0.0065\n",
            "Epoch 139/1000\n",
            "1/1 [==============================] - 0s 14ms/step - loss: 5.6591e-05 - mse: 5.6591e-05 - mae: 0.0065\n",
            "Epoch 140/1000\n",
            "1/1 [==============================] - 0s 8ms/step - loss: 5.6209e-05 - mse: 5.6209e-05 - mae: 0.0064\n",
            "Epoch 141/1000\n",
            "1/1 [==============================] - 0s 8ms/step - loss: 5.5834e-05 - mse: 5.5834e-05 - mae: 0.0064\n",
            "Epoch 142/1000\n",
            "1/1 [==============================] - 0s 9ms/step - loss: 5.5457e-05 - mse: 5.5457e-05 - mae: 0.0064\n",
            "Epoch 143/1000\n",
            "1/1 [==============================] - 0s 11ms/step - loss: 5.5078e-05 - mse: 5.5078e-05 - mae: 0.0064\n",
            "Epoch 144/1000\n",
            "1/1 [==============================] - 0s 8ms/step - loss: 5.4706e-05 - mse: 5.4706e-05 - mae: 0.0063\n",
            "Epoch 145/1000\n",
            "1/1 [==============================] - 0s 8ms/step - loss: 5.4341e-05 - mse: 5.4341e-05 - mae: 0.0063\n",
            "Epoch 146/1000\n",
            "1/1 [==============================] - 0s 7ms/step - loss: 5.3972e-05 - mse: 5.3972e-05 - mae: 0.0063\n",
            "Epoch 147/1000\n",
            "1/1 [==============================] - 0s 8ms/step - loss: 5.3608e-05 - mse: 5.3608e-05 - mae: 0.0063\n",
            "Epoch 148/1000\n",
            "1/1 [==============================] - 0s 8ms/step - loss: 5.3249e-05 - mse: 5.3249e-05 - mae: 0.0063\n",
            "Epoch 149/1000\n",
            "1/1 [==============================] - 0s 8ms/step - loss: 5.2888e-05 - mse: 5.2888e-05 - mae: 0.0062\n",
            "Epoch 150/1000\n",
            "1/1 [==============================] - 0s 7ms/step - loss: 5.2529e-05 - mse: 5.2529e-05 - mae: 0.0062\n",
            "Epoch 151/1000\n",
            "1/1 [==============================] - 0s 8ms/step - loss: 5.2173e-05 - mse: 5.2173e-05 - mae: 0.0062\n",
            "Epoch 152/1000\n",
            "1/1 [==============================] - 0s 6ms/step - loss: 5.1823e-05 - mse: 5.1823e-05 - mae: 0.0062\n",
            "Epoch 153/1000\n",
            "1/1 [==============================] - 0s 8ms/step - loss: 5.1473e-05 - mse: 5.1473e-05 - mae: 0.0062\n",
            "Epoch 154/1000\n",
            "1/1 [==============================] - 0s 7ms/step - loss: 5.1128e-05 - mse: 5.1128e-05 - mae: 0.0061\n",
            "Epoch 155/1000\n",
            "1/1 [==============================] - 0s 6ms/step - loss: 5.0781e-05 - mse: 5.0781e-05 - mae: 0.0061\n",
            "Epoch 156/1000\n",
            "1/1 [==============================] - 0s 7ms/step - loss: 5.0437e-05 - mse: 5.0437e-05 - mae: 0.0061\n",
            "Epoch 157/1000\n",
            "1/1 [==============================] - 0s 6ms/step - loss: 5.0095e-05 - mse: 5.0095e-05 - mae: 0.0061\n",
            "Epoch 158/1000\n",
            "1/1 [==============================] - 0s 13ms/step - loss: 4.9760e-05 - mse: 4.9760e-05 - mae: 0.0061\n",
            "Epoch 159/1000\n",
            "1/1 [==============================] - 0s 5ms/step - loss: 4.9428e-05 - mse: 4.9428e-05 - mae: 0.0060\n",
            "Epoch 160/1000\n",
            "1/1 [==============================] - 0s 10ms/step - loss: 4.9090e-05 - mse: 4.9090e-05 - mae: 0.0060\n",
            "Epoch 161/1000\n",
            "1/1 [==============================] - 0s 8ms/step - loss: 4.8758e-05 - mse: 4.8758e-05 - mae: 0.0060\n",
            "Epoch 162/1000\n",
            "1/1 [==============================] - 0s 8ms/step - loss: 4.8429e-05 - mse: 4.8429e-05 - mae: 0.0060\n",
            "Epoch 163/1000\n",
            "1/1 [==============================] - 0s 8ms/step - loss: 4.8103e-05 - mse: 4.8103e-05 - mae: 0.0060\n",
            "Epoch 164/1000\n",
            "1/1 [==============================] - 0s 7ms/step - loss: 4.7779e-05 - mse: 4.7779e-05 - mae: 0.0059\n",
            "Epoch 165/1000\n",
            "1/1 [==============================] - 0s 6ms/step - loss: 4.7458e-05 - mse: 4.7458e-05 - mae: 0.0059\n",
            "Epoch 166/1000\n",
            "1/1 [==============================] - 0s 8ms/step - loss: 4.7138e-05 - mse: 4.7138e-05 - mae: 0.0059\n",
            "Epoch 167/1000\n",
            "1/1 [==============================] - 0s 7ms/step - loss: 4.6815e-05 - mse: 4.6815e-05 - mae: 0.0059\n",
            "Epoch 168/1000\n",
            "1/1 [==============================] - 0s 8ms/step - loss: 4.6499e-05 - mse: 4.6499e-05 - mae: 0.0059\n",
            "Epoch 169/1000\n",
            "1/1 [==============================] - 0s 6ms/step - loss: 4.6185e-05 - mse: 4.6185e-05 - mae: 0.0058\n",
            "Epoch 170/1000\n",
            "1/1 [==============================] - 0s 9ms/step - loss: 4.5876e-05 - mse: 4.5876e-05 - mae: 0.0058\n",
            "Epoch 171/1000\n",
            "1/1 [==============================] - 0s 7ms/step - loss: 4.5570e-05 - mse: 4.5570e-05 - mae: 0.0058\n",
            "Epoch 172/1000\n",
            "1/1 [==============================] - 0s 7ms/step - loss: 4.5260e-05 - mse: 4.5260e-05 - mae: 0.0058\n",
            "Epoch 173/1000\n",
            "1/1 [==============================] - 0s 10ms/step - loss: 4.4953e-05 - mse: 4.4953e-05 - mae: 0.0058\n",
            "Epoch 174/1000\n",
            "1/1 [==============================] - 0s 8ms/step - loss: 4.4650e-05 - mse: 4.4650e-05 - mae: 0.0057\n",
            "Epoch 175/1000\n",
            "1/1 [==============================] - 0s 6ms/step - loss: 4.4349e-05 - mse: 4.4349e-05 - mae: 0.0057\n",
            "Epoch 176/1000\n",
            "1/1 [==============================] - 0s 8ms/step - loss: 4.4046e-05 - mse: 4.4046e-05 - mae: 0.0057\n",
            "Epoch 177/1000\n",
            "1/1 [==============================] - 0s 9ms/step - loss: 4.3752e-05 - mse: 4.3752e-05 - mae: 0.0057\n",
            "Epoch 178/1000\n",
            "1/1 [==============================] - 0s 7ms/step - loss: 4.3454e-05 - mse: 4.3454e-05 - mae: 0.0057\n",
            "Epoch 179/1000\n",
            "1/1 [==============================] - 0s 7ms/step - loss: 4.3160e-05 - mse: 4.3160e-05 - mae: 0.0056\n",
            "Epoch 180/1000\n",
            "1/1 [==============================] - 0s 8ms/step - loss: 4.2874e-05 - mse: 4.2874e-05 - mae: 0.0056\n",
            "Epoch 181/1000\n",
            "1/1 [==============================] - 0s 6ms/step - loss: 4.2582e-05 - mse: 4.2582e-05 - mae: 0.0056\n",
            "Epoch 182/1000\n",
            "1/1 [==============================] - 0s 8ms/step - loss: 4.2296e-05 - mse: 4.2296e-05 - mae: 0.0056\n",
            "Epoch 183/1000\n",
            "1/1 [==============================] - 0s 8ms/step - loss: 4.2008e-05 - mse: 4.2008e-05 - mae: 0.0056\n",
            "Epoch 184/1000\n",
            "1/1 [==============================] - 0s 8ms/step - loss: 4.1727e-05 - mse: 4.1727e-05 - mae: 0.0055\n",
            "Epoch 185/1000\n",
            "1/1 [==============================] - 0s 7ms/step - loss: 4.1443e-05 - mse: 4.1443e-05 - mae: 0.0055\n",
            "Epoch 186/1000\n",
            "1/1 [==============================] - 0s 8ms/step - loss: 4.1164e-05 - mse: 4.1164e-05 - mae: 0.0055\n",
            "Epoch 187/1000\n",
            "1/1 [==============================] - 0s 8ms/step - loss: 4.0887e-05 - mse: 4.0887e-05 - mae: 0.0055\n",
            "Epoch 188/1000\n",
            "1/1 [==============================] - 0s 8ms/step - loss: 4.0607e-05 - mse: 4.0607e-05 - mae: 0.0055\n",
            "Epoch 189/1000\n",
            "1/1 [==============================] - 0s 8ms/step - loss: 4.0336e-05 - mse: 4.0336e-05 - mae: 0.0055\n",
            "Epoch 190/1000\n",
            "1/1 [==============================] - 0s 10ms/step - loss: 4.0065e-05 - mse: 4.0065e-05 - mae: 0.0054\n",
            "Epoch 191/1000\n",
            "1/1 [==============================] - 0s 8ms/step - loss: 3.9791e-05 - mse: 3.9791e-05 - mae: 0.0054\n",
            "Epoch 192/1000\n",
            "1/1 [==============================] - 0s 7ms/step - loss: 3.9526e-05 - mse: 3.9526e-05 - mae: 0.0054\n",
            "Epoch 193/1000\n",
            "1/1 [==============================] - 0s 9ms/step - loss: 3.9259e-05 - mse: 3.9259e-05 - mae: 0.0054\n",
            "Epoch 194/1000\n",
            "1/1 [==============================] - 0s 7ms/step - loss: 3.8994e-05 - mse: 3.8994e-05 - mae: 0.0054\n",
            "Epoch 195/1000\n",
            "1/1 [==============================] - 0s 8ms/step - loss: 3.8727e-05 - mse: 3.8727e-05 - mae: 0.0053\n",
            "Epoch 196/1000\n",
            "1/1 [==============================] - 0s 8ms/step - loss: 3.8468e-05 - mse: 3.8468e-05 - mae: 0.0053\n",
            "Epoch 197/1000\n",
            "1/1 [==============================] - 0s 7ms/step - loss: 3.8207e-05 - mse: 3.8207e-05 - mae: 0.0053\n",
            "Epoch 198/1000\n",
            "1/1 [==============================] - 0s 5ms/step - loss: 3.7951e-05 - mse: 3.7951e-05 - mae: 0.0053\n",
            "Epoch 199/1000\n",
            "1/1 [==============================] - 0s 12ms/step - loss: 3.7694e-05 - mse: 3.7694e-05 - mae: 0.0053\n",
            "Epoch 200/1000\n",
            "1/1 [==============================] - 0s 10ms/step - loss: 3.7442e-05 - mse: 3.7442e-05 - mae: 0.0053\n",
            "Epoch 201/1000\n",
            "1/1 [==============================] - 0s 13ms/step - loss: 3.7187e-05 - mse: 3.7187e-05 - mae: 0.0052\n",
            "Epoch 202/1000\n",
            "1/1 [==============================] - 0s 10ms/step - loss: 3.6935e-05 - mse: 3.6935e-05 - mae: 0.0052\n",
            "Epoch 203/1000\n",
            "1/1 [==============================] - 0s 10ms/step - loss: 3.6689e-05 - mse: 3.6689e-05 - mae: 0.0052\n",
            "Epoch 204/1000\n",
            "1/1 [==============================] - 0s 15ms/step - loss: 3.6441e-05 - mse: 3.6441e-05 - mae: 0.0052\n",
            "Epoch 205/1000\n",
            "1/1 [==============================] - 0s 8ms/step - loss: 3.6194e-05 - mse: 3.6194e-05 - mae: 0.0052\n",
            "Epoch 206/1000\n",
            "1/1 [==============================] - 0s 6ms/step - loss: 3.5948e-05 - mse: 3.5948e-05 - mae: 0.0051\n",
            "Epoch 207/1000\n",
            "1/1 [==============================] - 0s 10ms/step - loss: 3.5705e-05 - mse: 3.5705e-05 - mae: 0.0051\n",
            "Epoch 208/1000\n",
            "1/1 [==============================] - 0s 14ms/step - loss: 3.5464e-05 - mse: 3.5464e-05 - mae: 0.0051\n",
            "Epoch 209/1000\n",
            "1/1 [==============================] - 0s 5ms/step - loss: 3.5221e-05 - mse: 3.5221e-05 - mae: 0.0051\n",
            "Epoch 210/1000\n",
            "1/1 [==============================] - 0s 6ms/step - loss: 3.4987e-05 - mse: 3.4987e-05 - mae: 0.0051\n",
            "Epoch 211/1000\n",
            "1/1 [==============================] - 0s 6ms/step - loss: 3.4752e-05 - mse: 3.4752e-05 - mae: 0.0051\n",
            "Epoch 212/1000\n",
            "1/1 [==============================] - 0s 6ms/step - loss: 3.4519e-05 - mse: 3.4519e-05 - mae: 0.0050\n",
            "Epoch 213/1000\n",
            "1/1 [==============================] - 0s 8ms/step - loss: 3.4283e-05 - mse: 3.4283e-05 - mae: 0.0050\n",
            "Epoch 214/1000\n",
            "1/1 [==============================] - 0s 7ms/step - loss: 3.4054e-05 - mse: 3.4054e-05 - mae: 0.0050\n",
            "Epoch 215/1000\n",
            "1/1 [==============================] - 0s 8ms/step - loss: 3.3821e-05 - mse: 3.3821e-05 - mae: 0.0050\n",
            "Epoch 216/1000\n",
            "1/1 [==============================] - 0s 8ms/step - loss: 3.3595e-05 - mse: 3.3595e-05 - mae: 0.0050\n",
            "Epoch 217/1000\n",
            "1/1 [==============================] - 0s 7ms/step - loss: 3.3365e-05 - mse: 3.3365e-05 - mae: 0.0050\n",
            "Epoch 218/1000\n",
            "1/1 [==============================] - 0s 8ms/step - loss: 3.3141e-05 - mse: 3.3141e-05 - mae: 0.0049\n",
            "Epoch 219/1000\n",
            "1/1 [==============================] - 0s 7ms/step - loss: 3.2918e-05 - mse: 3.2918e-05 - mae: 0.0049\n",
            "Epoch 220/1000\n",
            "1/1 [==============================] - 0s 9ms/step - loss: 3.2696e-05 - mse: 3.2696e-05 - mae: 0.0049\n",
            "Epoch 221/1000\n",
            "1/1 [==============================] - 0s 9ms/step - loss: 3.2478e-05 - mse: 3.2478e-05 - mae: 0.0049\n",
            "Epoch 222/1000\n",
            "1/1 [==============================] - 0s 8ms/step - loss: 3.2255e-05 - mse: 3.2255e-05 - mae: 0.0049\n",
            "Epoch 223/1000\n",
            "1/1 [==============================] - 0s 22ms/step - loss: 3.2037e-05 - mse: 3.2037e-05 - mae: 0.0049\n",
            "Epoch 224/1000\n",
            "1/1 [==============================] - 0s 8ms/step - loss: 3.1821e-05 - mse: 3.1821e-05 - mae: 0.0048\n",
            "Epoch 225/1000\n",
            "1/1 [==============================] - 0s 8ms/step - loss: 3.1606e-05 - mse: 3.1606e-05 - mae: 0.0048\n",
            "Epoch 226/1000\n",
            "1/1 [==============================] - 0s 7ms/step - loss: 3.1394e-05 - mse: 3.1394e-05 - mae: 0.0048\n",
            "Epoch 227/1000\n",
            "1/1 [==============================] - 0s 10ms/step - loss: 3.1184e-05 - mse: 3.1184e-05 - mae: 0.0048\n",
            "Epoch 228/1000\n",
            "1/1 [==============================] - 0s 7ms/step - loss: 3.0970e-05 - mse: 3.0970e-05 - mae: 0.0048\n",
            "Epoch 229/1000\n",
            "1/1 [==============================] - 0s 8ms/step - loss: 3.0764e-05 - mse: 3.0764e-05 - mae: 0.0048\n",
            "Epoch 230/1000\n",
            "1/1 [==============================] - 0s 9ms/step - loss: 3.0555e-05 - mse: 3.0555e-05 - mae: 0.0047\n",
            "Epoch 231/1000\n",
            "1/1 [==============================] - 0s 9ms/step - loss: 3.0349e-05 - mse: 3.0349e-05 - mae: 0.0047\n",
            "Epoch 232/1000\n",
            "1/1 [==============================] - 0s 8ms/step - loss: 3.0145e-05 - mse: 3.0145e-05 - mae: 0.0047\n",
            "Epoch 233/1000\n",
            "1/1 [==============================] - 0s 8ms/step - loss: 2.9940e-05 - mse: 2.9940e-05 - mae: 0.0047\n",
            "Epoch 234/1000\n",
            "1/1 [==============================] - 0s 8ms/step - loss: 2.9739e-05 - mse: 2.9739e-05 - mae: 0.0047\n",
            "Epoch 235/1000\n",
            "1/1 [==============================] - 0s 9ms/step - loss: 2.9536e-05 - mse: 2.9536e-05 - mae: 0.0047\n",
            "Epoch 236/1000\n",
            "1/1 [==============================] - 0s 8ms/step - loss: 2.9340e-05 - mse: 2.9340e-05 - mae: 0.0046\n",
            "Epoch 237/1000\n",
            "1/1 [==============================] - 0s 8ms/step - loss: 2.9141e-05 - mse: 2.9141e-05 - mae: 0.0046\n",
            "Epoch 238/1000\n",
            "1/1 [==============================] - 0s 12ms/step - loss: 2.8943e-05 - mse: 2.8943e-05 - mae: 0.0046\n",
            "Epoch 239/1000\n",
            "1/1 [==============================] - 0s 13ms/step - loss: 2.8748e-05 - mse: 2.8748e-05 - mae: 0.0046\n",
            "Epoch 240/1000\n",
            "1/1 [==============================] - 0s 10ms/step - loss: 2.8555e-05 - mse: 2.8555e-05 - mae: 0.0046\n",
            "Epoch 241/1000\n",
            "1/1 [==============================] - 0s 10ms/step - loss: 2.8365e-05 - mse: 2.8365e-05 - mae: 0.0046\n",
            "Epoch 242/1000\n",
            "1/1 [==============================] - 0s 9ms/step - loss: 2.8170e-05 - mse: 2.8170e-05 - mae: 0.0046\n",
            "Epoch 243/1000\n",
            "1/1 [==============================] - 0s 11ms/step - loss: 2.7978e-05 - mse: 2.7978e-05 - mae: 0.0045\n",
            "Epoch 244/1000\n",
            "1/1 [==============================] - 0s 13ms/step - loss: 2.7793e-05 - mse: 2.7793e-05 - mae: 0.0045\n",
            "Epoch 245/1000\n",
            "1/1 [==============================] - 0s 9ms/step - loss: 2.7604e-05 - mse: 2.7604e-05 - mae: 0.0045\n",
            "Epoch 246/1000\n",
            "1/1 [==============================] - 0s 9ms/step - loss: 2.7415e-05 - mse: 2.7415e-05 - mae: 0.0045\n",
            "Epoch 247/1000\n",
            "1/1 [==============================] - 0s 11ms/step - loss: 2.7230e-05 - mse: 2.7230e-05 - mae: 0.0045\n",
            "Epoch 248/1000\n",
            "1/1 [==============================] - 0s 8ms/step - loss: 2.7048e-05 - mse: 2.7048e-05 - mae: 0.0045\n",
            "Epoch 249/1000\n",
            "1/1 [==============================] - 0s 8ms/step - loss: 2.6862e-05 - mse: 2.6862e-05 - mae: 0.0044\n",
            "Epoch 250/1000\n",
            "1/1 [==============================] - 0s 9ms/step - loss: 2.6682e-05 - mse: 2.6682e-05 - mae: 0.0044\n",
            "Epoch 251/1000\n",
            "1/1 [==============================] - 0s 10ms/step - loss: 2.6503e-05 - mse: 2.6503e-05 - mae: 0.0044\n",
            "Epoch 252/1000\n",
            "1/1 [==============================] - 0s 6ms/step - loss: 2.6325e-05 - mse: 2.6325e-05 - mae: 0.0044\n",
            "Epoch 253/1000\n",
            "1/1 [==============================] - 0s 12ms/step - loss: 2.6146e-05 - mse: 2.6146e-05 - mae: 0.0044\n",
            "Epoch 254/1000\n",
            "1/1 [==============================] - 0s 8ms/step - loss: 2.5971e-05 - mse: 2.5971e-05 - mae: 0.0044\n",
            "Epoch 255/1000\n",
            "1/1 [==============================] - 0s 8ms/step - loss: 2.5796e-05 - mse: 2.5796e-05 - mae: 0.0044\n",
            "Epoch 256/1000\n",
            "1/1 [==============================] - 0s 11ms/step - loss: 2.5622e-05 - mse: 2.5622e-05 - mae: 0.0043\n",
            "Epoch 257/1000\n",
            "1/1 [==============================] - 0s 12ms/step - loss: 2.5447e-05 - mse: 2.5447e-05 - mae: 0.0043\n",
            "Epoch 258/1000\n",
            "1/1 [==============================] - 0s 20ms/step - loss: 2.5278e-05 - mse: 2.5278e-05 - mae: 0.0043\n",
            "Epoch 259/1000\n",
            "1/1 [==============================] - 0s 16ms/step - loss: 2.5105e-05 - mse: 2.5105e-05 - mae: 0.0043\n",
            "Epoch 260/1000\n",
            "1/1 [==============================] - 0s 8ms/step - loss: 2.4938e-05 - mse: 2.4938e-05 - mae: 0.0043\n",
            "Epoch 261/1000\n",
            "1/1 [==============================] - 0s 7ms/step - loss: 2.4769e-05 - mse: 2.4769e-05 - mae: 0.0043\n",
            "Epoch 262/1000\n",
            "1/1 [==============================] - 0s 11ms/step - loss: 2.4603e-05 - mse: 2.4603e-05 - mae: 0.0043\n",
            "Epoch 263/1000\n",
            "1/1 [==============================] - 0s 14ms/step - loss: 2.4434e-05 - mse: 2.4434e-05 - mae: 0.0042\n",
            "Epoch 264/1000\n",
            "1/1 [==============================] - 0s 14ms/step - loss: 2.4269e-05 - mse: 2.4269e-05 - mae: 0.0042\n",
            "Epoch 265/1000\n",
            "1/1 [==============================] - 0s 11ms/step - loss: 2.4103e-05 - mse: 2.4103e-05 - mae: 0.0042\n",
            "Epoch 266/1000\n",
            "1/1 [==============================] - 0s 21ms/step - loss: 2.3943e-05 - mse: 2.3943e-05 - mae: 0.0042\n",
            "Epoch 267/1000\n",
            "1/1 [==============================] - 0s 18ms/step - loss: 2.3783e-05 - mse: 2.3783e-05 - mae: 0.0042\n",
            "Epoch 268/1000\n",
            "1/1 [==============================] - 0s 13ms/step - loss: 2.3621e-05 - mse: 2.3621e-05 - mae: 0.0042\n",
            "Epoch 269/1000\n",
            "1/1 [==============================] - 0s 10ms/step - loss: 2.3465e-05 - mse: 2.3465e-05 - mae: 0.0042\n",
            "Epoch 270/1000\n",
            "1/1 [==============================] - 0s 7ms/step - loss: 2.3302e-05 - mse: 2.3302e-05 - mae: 0.0041\n",
            "Epoch 271/1000\n",
            "1/1 [==============================] - 0s 7ms/step - loss: 2.3145e-05 - mse: 2.3145e-05 - mae: 0.0041\n",
            "Epoch 272/1000\n",
            "1/1 [==============================] - 0s 9ms/step - loss: 2.2988e-05 - mse: 2.2988e-05 - mae: 0.0041\n",
            "Epoch 273/1000\n",
            "1/1 [==============================] - 0s 9ms/step - loss: 2.2835e-05 - mse: 2.2835e-05 - mae: 0.0041\n",
            "Epoch 274/1000\n",
            "1/1 [==============================] - 0s 8ms/step - loss: 2.2679e-05 - mse: 2.2679e-05 - mae: 0.0041\n",
            "Epoch 275/1000\n",
            "1/1 [==============================] - 0s 6ms/step - loss: 2.2526e-05 - mse: 2.2526e-05 - mae: 0.0041\n",
            "Epoch 276/1000\n",
            "1/1 [==============================] - 0s 6ms/step - loss: 2.2376e-05 - mse: 2.2376e-05 - mae: 0.0041\n",
            "Epoch 277/1000\n",
            "1/1 [==============================] - 0s 7ms/step - loss: 2.2225e-05 - mse: 2.2225e-05 - mae: 0.0040\n",
            "Epoch 278/1000\n",
            "1/1 [==============================] - 0s 7ms/step - loss: 2.2073e-05 - mse: 2.2073e-05 - mae: 0.0040\n",
            "Epoch 279/1000\n",
            "1/1 [==============================] - 0s 7ms/step - loss: 2.1926e-05 - mse: 2.1926e-05 - mae: 0.0040\n",
            "Epoch 280/1000\n",
            "1/1 [==============================] - 0s 12ms/step - loss: 2.1778e-05 - mse: 2.1778e-05 - mae: 0.0040\n",
            "Epoch 281/1000\n",
            "1/1 [==============================] - 0s 8ms/step - loss: 2.1630e-05 - mse: 2.1630e-05 - mae: 0.0040\n",
            "Epoch 282/1000\n",
            "1/1 [==============================] - 0s 9ms/step - loss: 2.1487e-05 - mse: 2.1487e-05 - mae: 0.0040\n",
            "Epoch 283/1000\n",
            "1/1 [==============================] - 0s 13ms/step - loss: 2.1340e-05 - mse: 2.1340e-05 - mae: 0.0040\n",
            "Epoch 284/1000\n",
            "1/1 [==============================] - 0s 6ms/step - loss: 2.1196e-05 - mse: 2.1196e-05 - mae: 0.0040\n",
            "Epoch 285/1000\n",
            "1/1 [==============================] - 0s 7ms/step - loss: 2.1052e-05 - mse: 2.1052e-05 - mae: 0.0039\n",
            "Epoch 286/1000\n",
            "1/1 [==============================] - 0s 8ms/step - loss: 2.0911e-05 - mse: 2.0911e-05 - mae: 0.0039\n",
            "Epoch 287/1000\n",
            "1/1 [==============================] - 0s 8ms/step - loss: 2.0770e-05 - mse: 2.0770e-05 - mae: 0.0039\n",
            "Epoch 288/1000\n",
            "1/1 [==============================] - 0s 8ms/step - loss: 2.0627e-05 - mse: 2.0627e-05 - mae: 0.0039\n",
            "Epoch 289/1000\n",
            "1/1 [==============================] - 0s 15ms/step - loss: 2.0491e-05 - mse: 2.0491e-05 - mae: 0.0039\n",
            "Epoch 290/1000\n",
            "1/1 [==============================] - 0s 8ms/step - loss: 2.0354e-05 - mse: 2.0354e-05 - mae: 0.0039\n",
            "Epoch 291/1000\n",
            "1/1 [==============================] - 0s 9ms/step - loss: 2.0216e-05 - mse: 2.0216e-05 - mae: 0.0039\n",
            "Epoch 292/1000\n",
            "1/1 [==============================] - 0s 12ms/step - loss: 2.0079e-05 - mse: 2.0079e-05 - mae: 0.0038\n",
            "Epoch 293/1000\n",
            "1/1 [==============================] - 0s 7ms/step - loss: 1.9943e-05 - mse: 1.9943e-05 - mae: 0.0038\n",
            "Epoch 294/1000\n",
            "1/1 [==============================] - 0s 10ms/step - loss: 1.9808e-05 - mse: 1.9808e-05 - mae: 0.0038\n",
            "Epoch 295/1000\n",
            "1/1 [==============================] - 0s 9ms/step - loss: 1.9676e-05 - mse: 1.9676e-05 - mae: 0.0038\n",
            "Epoch 296/1000\n",
            "1/1 [==============================] - 0s 9ms/step - loss: 1.9543e-05 - mse: 1.9543e-05 - mae: 0.0038\n",
            "Epoch 297/1000\n",
            "1/1 [==============================] - 0s 7ms/step - loss: 1.9408e-05 - mse: 1.9408e-05 - mae: 0.0038\n",
            "Epoch 298/1000\n",
            "1/1 [==============================] - 0s 14ms/step - loss: 1.9277e-05 - mse: 1.9277e-05 - mae: 0.0038\n",
            "Epoch 299/1000\n",
            "1/1 [==============================] - 0s 6ms/step - loss: 1.9149e-05 - mse: 1.9149e-05 - mae: 0.0038\n",
            "Epoch 300/1000\n",
            "1/1 [==============================] - 0s 9ms/step - loss: 1.9018e-05 - mse: 1.9018e-05 - mae: 0.0037\n",
            "Epoch 301/1000\n",
            "1/1 [==============================] - 0s 7ms/step - loss: 1.8888e-05 - mse: 1.8888e-05 - mae: 0.0037\n",
            "Epoch 302/1000\n",
            "1/1 [==============================] - 0s 9ms/step - loss: 1.8764e-05 - mse: 1.8764e-05 - mae: 0.0037\n",
            "Epoch 303/1000\n",
            "1/1 [==============================] - 0s 9ms/step - loss: 1.8634e-05 - mse: 1.8634e-05 - mae: 0.0037\n",
            "Epoch 304/1000\n",
            "1/1 [==============================] - 0s 9ms/step - loss: 1.8508e-05 - mse: 1.8508e-05 - mae: 0.0037\n",
            "Epoch 305/1000\n",
            "1/1 [==============================] - 0s 5ms/step - loss: 1.8384e-05 - mse: 1.8384e-05 - mae: 0.0037\n",
            "Epoch 306/1000\n",
            "1/1 [==============================] - 0s 7ms/step - loss: 1.8261e-05 - mse: 1.8261e-05 - mae: 0.0037\n",
            "Epoch 307/1000\n",
            "1/1 [==============================] - 0s 17ms/step - loss: 1.8136e-05 - mse: 1.8136e-05 - mae: 0.0037\n",
            "Epoch 308/1000\n",
            "1/1 [==============================] - 0s 6ms/step - loss: 1.8017e-05 - mse: 1.8017e-05 - mae: 0.0036\n",
            "Epoch 309/1000\n",
            "1/1 [==============================] - 0s 5ms/step - loss: 1.7894e-05 - mse: 1.7894e-05 - mae: 0.0036\n",
            "Epoch 310/1000\n",
            "1/1 [==============================] - 0s 19ms/step - loss: 1.7772e-05 - mse: 1.7772e-05 - mae: 0.0036\n",
            "Epoch 311/1000\n",
            "1/1 [==============================] - 0s 5ms/step - loss: 1.7651e-05 - mse: 1.7651e-05 - mae: 0.0036\n",
            "Epoch 312/1000\n",
            "1/1 [==============================] - 0s 9ms/step - loss: 1.7532e-05 - mse: 1.7532e-05 - mae: 0.0036\n",
            "Epoch 313/1000\n",
            "1/1 [==============================] - 0s 4ms/step - loss: 1.7416e-05 - mse: 1.7416e-05 - mae: 0.0036\n",
            "Epoch 314/1000\n",
            "1/1 [==============================] - 0s 6ms/step - loss: 1.7300e-05 - mse: 1.7300e-05 - mae: 0.0036\n",
            "Epoch 315/1000\n",
            "1/1 [==============================] - 0s 7ms/step - loss: 1.7183e-05 - mse: 1.7183e-05 - mae: 0.0036\n",
            "Epoch 316/1000\n",
            "1/1 [==============================] - 0s 15ms/step - loss: 1.7064e-05 - mse: 1.7064e-05 - mae: 0.0035\n",
            "Epoch 317/1000\n",
            "1/1 [==============================] - 0s 10ms/step - loss: 1.6951e-05 - mse: 1.6951e-05 - mae: 0.0035\n",
            "Epoch 318/1000\n",
            "1/1 [==============================] - 0s 10ms/step - loss: 1.6837e-05 - mse: 1.6837e-05 - mae: 0.0035\n",
            "Epoch 319/1000\n",
            "1/1 [==============================] - 0s 7ms/step - loss: 1.6723e-05 - mse: 1.6723e-05 - mae: 0.0035\n",
            "Epoch 320/1000\n",
            "1/1 [==============================] - 0s 12ms/step - loss: 1.6609e-05 - mse: 1.6609e-05 - mae: 0.0035\n",
            "Epoch 321/1000\n",
            "1/1 [==============================] - 0s 15ms/step - loss: 1.6496e-05 - mse: 1.6496e-05 - mae: 0.0035\n",
            "Epoch 322/1000\n",
            "1/1 [==============================] - 0s 17ms/step - loss: 1.6386e-05 - mse: 1.6386e-05 - mae: 0.0035\n",
            "Epoch 323/1000\n",
            "1/1 [==============================] - 0s 14ms/step - loss: 1.6273e-05 - mse: 1.6273e-05 - mae: 0.0035\n",
            "Epoch 324/1000\n",
            "1/1 [==============================] - 0s 16ms/step - loss: 1.6164e-05 - mse: 1.6164e-05 - mae: 0.0035\n",
            "Epoch 325/1000\n",
            "1/1 [==============================] - 0s 11ms/step - loss: 1.6057e-05 - mse: 1.6057e-05 - mae: 0.0034\n",
            "Epoch 326/1000\n",
            "1/1 [==============================] - 0s 7ms/step - loss: 1.5947e-05 - mse: 1.5947e-05 - mae: 0.0034\n",
            "Epoch 327/1000\n",
            "1/1 [==============================] - 0s 11ms/step - loss: 1.5842e-05 - mse: 1.5842e-05 - mae: 0.0034\n",
            "Epoch 328/1000\n",
            "1/1 [==============================] - 0s 7ms/step - loss: 1.5733e-05 - mse: 1.5733e-05 - mae: 0.0034\n",
            "Epoch 329/1000\n",
            "1/1 [==============================] - 0s 8ms/step - loss: 1.5626e-05 - mse: 1.5626e-05 - mae: 0.0034\n",
            "Epoch 330/1000\n",
            "1/1 [==============================] - 0s 7ms/step - loss: 1.5522e-05 - mse: 1.5522e-05 - mae: 0.0034\n",
            "Epoch 331/1000\n",
            "1/1 [==============================] - 0s 12ms/step - loss: 1.5417e-05 - mse: 1.5417e-05 - mae: 0.0034\n",
            "Epoch 332/1000\n",
            "1/1 [==============================] - 0s 8ms/step - loss: 1.5313e-05 - mse: 1.5313e-05 - mae: 0.0034\n",
            "Epoch 333/1000\n",
            "1/1 [==============================] - 0s 11ms/step - loss: 1.5208e-05 - mse: 1.5208e-05 - mae: 0.0033\n",
            "Epoch 334/1000\n",
            "1/1 [==============================] - 0s 10ms/step - loss: 1.5106e-05 - mse: 1.5106e-05 - mae: 0.0033\n",
            "Epoch 335/1000\n",
            "1/1 [==============================] - 0s 8ms/step - loss: 1.5004e-05 - mse: 1.5004e-05 - mae: 0.0033\n",
            "Epoch 336/1000\n",
            "1/1 [==============================] - 0s 7ms/step - loss: 1.4902e-05 - mse: 1.4902e-05 - mae: 0.0033\n",
            "Epoch 337/1000\n",
            "1/1 [==============================] - 0s 8ms/step - loss: 1.4803e-05 - mse: 1.4803e-05 - mae: 0.0033\n",
            "Epoch 338/1000\n",
            "1/1 [==============================] - 0s 9ms/step - loss: 1.4703e-05 - mse: 1.4703e-05 - mae: 0.0033\n",
            "Epoch 339/1000\n",
            "1/1 [==============================] - 0s 6ms/step - loss: 1.4603e-05 - mse: 1.4603e-05 - mae: 0.0033\n",
            "Epoch 340/1000\n",
            "1/1 [==============================] - 0s 7ms/step - loss: 1.4504e-05 - mse: 1.4504e-05 - mae: 0.0033\n",
            "Epoch 341/1000\n",
            "1/1 [==============================] - 0s 8ms/step - loss: 1.4408e-05 - mse: 1.4408e-05 - mae: 0.0033\n",
            "Epoch 342/1000\n",
            "1/1 [==============================] - 0s 7ms/step - loss: 1.4311e-05 - mse: 1.4311e-05 - mae: 0.0032\n",
            "Epoch 343/1000\n",
            "1/1 [==============================] - 0s 8ms/step - loss: 1.4215e-05 - mse: 1.4215e-05 - mae: 0.0032\n",
            "Epoch 344/1000\n",
            "1/1 [==============================] - 0s 7ms/step - loss: 1.4120e-05 - mse: 1.4120e-05 - mae: 0.0032\n",
            "Epoch 345/1000\n",
            "1/1 [==============================] - 0s 8ms/step - loss: 1.4021e-05 - mse: 1.4021e-05 - mae: 0.0032\n",
            "Epoch 346/1000\n",
            "1/1 [==============================] - 0s 11ms/step - loss: 1.3928e-05 - mse: 1.3928e-05 - mae: 0.0032\n",
            "Epoch 347/1000\n",
            "1/1 [==============================] - 0s 9ms/step - loss: 1.3833e-05 - mse: 1.3833e-05 - mae: 0.0032\n",
            "Epoch 348/1000\n",
            "1/1 [==============================] - 0s 11ms/step - loss: 1.3742e-05 - mse: 1.3742e-05 - mae: 0.0032\n",
            "Epoch 349/1000\n",
            "1/1 [==============================] - 0s 6ms/step - loss: 1.3650e-05 - mse: 1.3650e-05 - mae: 0.0032\n",
            "Epoch 350/1000\n",
            "1/1 [==============================] - 0s 10ms/step - loss: 1.3556e-05 - mse: 1.3556e-05 - mae: 0.0032\n",
            "Epoch 351/1000\n",
            "1/1 [==============================] - 0s 9ms/step - loss: 1.3465e-05 - mse: 1.3465e-05 - mae: 0.0031\n",
            "Epoch 352/1000\n",
            "1/1 [==============================] - 0s 10ms/step - loss: 1.3374e-05 - mse: 1.3374e-05 - mae: 0.0031\n",
            "Epoch 353/1000\n",
            "1/1 [==============================] - 0s 9ms/step - loss: 1.3283e-05 - mse: 1.3283e-05 - mae: 0.0031\n",
            "Epoch 354/1000\n",
            "1/1 [==============================] - 0s 10ms/step - loss: 1.3191e-05 - mse: 1.3191e-05 - mae: 0.0031\n",
            "Epoch 355/1000\n",
            "1/1 [==============================] - 0s 9ms/step - loss: 1.3104e-05 - mse: 1.3104e-05 - mae: 0.0031\n",
            "Epoch 356/1000\n",
            "1/1 [==============================] - 0s 11ms/step - loss: 1.3017e-05 - mse: 1.3017e-05 - mae: 0.0031\n",
            "Epoch 357/1000\n",
            "1/1 [==============================] - 0s 9ms/step - loss: 1.2928e-05 - mse: 1.2928e-05 - mae: 0.0031\n",
            "Epoch 358/1000\n",
            "1/1 [==============================] - 0s 11ms/step - loss: 1.2842e-05 - mse: 1.2842e-05 - mae: 0.0031\n",
            "Epoch 359/1000\n",
            "1/1 [==============================] - 0s 12ms/step - loss: 1.2753e-05 - mse: 1.2753e-05 - mae: 0.0031\n",
            "Epoch 360/1000\n",
            "1/1 [==============================] - 0s 8ms/step - loss: 1.2668e-05 - mse: 1.2668e-05 - mae: 0.0031\n",
            "Epoch 361/1000\n",
            "1/1 [==============================] - 0s 10ms/step - loss: 1.2582e-05 - mse: 1.2582e-05 - mae: 0.0030\n",
            "Epoch 362/1000\n",
            "1/1 [==============================] - 0s 8ms/step - loss: 1.2496e-05 - mse: 1.2496e-05 - mae: 0.0030\n",
            "Epoch 363/1000\n",
            "1/1 [==============================] - 0s 7ms/step - loss: 1.2412e-05 - mse: 1.2412e-05 - mae: 0.0030\n",
            "Epoch 364/1000\n",
            "1/1 [==============================] - 0s 7ms/step - loss: 1.2329e-05 - mse: 1.2329e-05 - mae: 0.0030\n",
            "Epoch 365/1000\n",
            "1/1 [==============================] - 0s 10ms/step - loss: 1.2245e-05 - mse: 1.2245e-05 - mae: 0.0030\n",
            "Epoch 366/1000\n",
            "1/1 [==============================] - 0s 9ms/step - loss: 1.2164e-05 - mse: 1.2164e-05 - mae: 0.0030\n",
            "Epoch 367/1000\n",
            "1/1 [==============================] - 0s 9ms/step - loss: 1.2080e-05 - mse: 1.2080e-05 - mae: 0.0030\n",
            "Epoch 368/1000\n",
            "1/1 [==============================] - 0s 8ms/step - loss: 1.2000e-05 - mse: 1.2000e-05 - mae: 0.0030\n",
            "Epoch 369/1000\n",
            "1/1 [==============================] - 0s 8ms/step - loss: 1.1919e-05 - mse: 1.1919e-05 - mae: 0.0030\n",
            "Epoch 370/1000\n",
            "1/1 [==============================] - 0s 7ms/step - loss: 1.1837e-05 - mse: 1.1837e-05 - mae: 0.0030\n",
            "Epoch 371/1000\n",
            "1/1 [==============================] - 0s 11ms/step - loss: 1.1758e-05 - mse: 1.1758e-05 - mae: 0.0029\n",
            "Epoch 372/1000\n",
            "1/1 [==============================] - 0s 9ms/step - loss: 1.1679e-05 - mse: 1.1679e-05 - mae: 0.0029\n",
            "Epoch 373/1000\n",
            "1/1 [==============================] - 0s 16ms/step - loss: 1.1601e-05 - mse: 1.1601e-05 - mae: 0.0029\n",
            "Epoch 374/1000\n",
            "1/1 [==============================] - 0s 6ms/step - loss: 1.1523e-05 - mse: 1.1523e-05 - mae: 0.0029\n",
            "Epoch 375/1000\n",
            "1/1 [==============================] - 0s 5ms/step - loss: 1.1444e-05 - mse: 1.1444e-05 - mae: 0.0029\n",
            "Epoch 376/1000\n",
            "1/1 [==============================] - 0s 8ms/step - loss: 1.1367e-05 - mse: 1.1367e-05 - mae: 0.0029\n",
            "Epoch 377/1000\n",
            "1/1 [==============================] - 0s 8ms/step - loss: 1.1291e-05 - mse: 1.1291e-05 - mae: 0.0029\n",
            "Epoch 378/1000\n",
            "1/1 [==============================] - 0s 4ms/step - loss: 1.1213e-05 - mse: 1.1213e-05 - mae: 0.0029\n",
            "Epoch 379/1000\n",
            "1/1 [==============================] - 0s 15ms/step - loss: 1.1138e-05 - mse: 1.1138e-05 - mae: 0.0029\n",
            "Epoch 380/1000\n",
            "1/1 [==============================] - 0s 8ms/step - loss: 1.1062e-05 - mse: 1.1062e-05 - mae: 0.0029\n",
            "Epoch 381/1000\n",
            "1/1 [==============================] - 0s 9ms/step - loss: 1.0986e-05 - mse: 1.0986e-05 - mae: 0.0028\n",
            "Epoch 382/1000\n",
            "1/1 [==============================] - 0s 9ms/step - loss: 1.0914e-05 - mse: 1.0914e-05 - mae: 0.0028\n",
            "Epoch 383/1000\n",
            "1/1 [==============================] - 0s 8ms/step - loss: 1.0841e-05 - mse: 1.0841e-05 - mae: 0.0028\n",
            "Epoch 384/1000\n",
            "1/1 [==============================] - 0s 18ms/step - loss: 1.0769e-05 - mse: 1.0769e-05 - mae: 0.0028\n",
            "Epoch 385/1000\n",
            "1/1 [==============================] - 0s 6ms/step - loss: 1.0693e-05 - mse: 1.0693e-05 - mae: 0.0028\n",
            "Epoch 386/1000\n",
            "1/1 [==============================] - 0s 6ms/step - loss: 1.0622e-05 - mse: 1.0622e-05 - mae: 0.0028\n",
            "Epoch 387/1000\n",
            "1/1 [==============================] - 0s 7ms/step - loss: 1.0551e-05 - mse: 1.0551e-05 - mae: 0.0028\n",
            "Epoch 388/1000\n",
            "1/1 [==============================] - 0s 6ms/step - loss: 1.0479e-05 - mse: 1.0479e-05 - mae: 0.0028\n",
            "Epoch 389/1000\n",
            "1/1 [==============================] - 0s 5ms/step - loss: 1.0408e-05 - mse: 1.0408e-05 - mae: 0.0028\n",
            "Epoch 390/1000\n",
            "1/1 [==============================] - 0s 6ms/step - loss: 1.0338e-05 - mse: 1.0338e-05 - mae: 0.0028\n",
            "Epoch 391/1000\n",
            "1/1 [==============================] - 0s 6ms/step - loss: 1.0270e-05 - mse: 1.0270e-05 - mae: 0.0028\n",
            "Epoch 392/1000\n",
            "1/1 [==============================] - 0s 6ms/step - loss: 1.0200e-05 - mse: 1.0200e-05 - mae: 0.0027\n",
            "Epoch 393/1000\n",
            "1/1 [==============================] - 0s 6ms/step - loss: 1.0131e-05 - mse: 1.0131e-05 - mae: 0.0027\n",
            "Epoch 394/1000\n",
            "1/1 [==============================] - 0s 5ms/step - loss: 1.0063e-05 - mse: 1.0063e-05 - mae: 0.0027\n",
            "Epoch 395/1000\n",
            "1/1 [==============================] - 0s 6ms/step - loss: 9.9946e-06 - mse: 9.9946e-06 - mae: 0.0027\n",
            "Epoch 396/1000\n",
            "1/1 [==============================] - 0s 7ms/step - loss: 9.9271e-06 - mse: 9.9271e-06 - mae: 0.0027\n",
            "Epoch 397/1000\n",
            "1/1 [==============================] - 0s 7ms/step - loss: 9.8612e-06 - mse: 9.8612e-06 - mae: 0.0027\n",
            "Epoch 398/1000\n",
            "1/1 [==============================] - 0s 6ms/step - loss: 9.7921e-06 - mse: 9.7921e-06 - mae: 0.0027\n",
            "Epoch 399/1000\n",
            "1/1 [==============================] - 0s 8ms/step - loss: 9.7259e-06 - mse: 9.7259e-06 - mae: 0.0027\n",
            "Epoch 400/1000\n",
            "1/1 [==============================] - 0s 5ms/step - loss: 9.6610e-06 - mse: 9.6610e-06 - mae: 0.0027\n",
            "Epoch 401/1000\n",
            "1/1 [==============================] - 0s 9ms/step - loss: 9.5962e-06 - mse: 9.5962e-06 - mae: 0.0027\n",
            "Epoch 402/1000\n",
            "1/1 [==============================] - 0s 4ms/step - loss: 9.5326e-06 - mse: 9.5326e-06 - mae: 0.0027\n",
            "Epoch 403/1000\n",
            "1/1 [==============================] - 0s 19ms/step - loss: 9.4666e-06 - mse: 9.4666e-06 - mae: 0.0026\n",
            "Epoch 404/1000\n",
            "1/1 [==============================] - 0s 10ms/step - loss: 9.4041e-06 - mse: 9.4041e-06 - mae: 0.0026\n",
            "Epoch 405/1000\n",
            "1/1 [==============================] - 0s 6ms/step - loss: 9.3374e-06 - mse: 9.3374e-06 - mae: 0.0026\n",
            "Epoch 406/1000\n",
            "1/1 [==============================] - 0s 11ms/step - loss: 9.2769e-06 - mse: 9.2769e-06 - mae: 0.0026\n",
            "Epoch 407/1000\n",
            "1/1 [==============================] - 0s 15ms/step - loss: 9.2137e-06 - mse: 9.2137e-06 - mae: 0.0026\n",
            "Epoch 408/1000\n",
            "1/1 [==============================] - 0s 8ms/step - loss: 9.1519e-06 - mse: 9.1519e-06 - mae: 0.0026\n",
            "Epoch 409/1000\n",
            "1/1 [==============================] - 0s 17ms/step - loss: 9.0890e-06 - mse: 9.0890e-06 - mae: 0.0026\n",
            "Epoch 410/1000\n",
            "1/1 [==============================] - 0s 16ms/step - loss: 9.0282e-06 - mse: 9.0282e-06 - mae: 0.0026\n",
            "Epoch 411/1000\n",
            "1/1 [==============================] - 0s 7ms/step - loss: 8.9666e-06 - mse: 8.9666e-06 - mae: 0.0026\n",
            "Epoch 412/1000\n",
            "1/1 [==============================] - 0s 9ms/step - loss: 8.9081e-06 - mse: 8.9081e-06 - mae: 0.0026\n",
            "Epoch 413/1000\n",
            "1/1 [==============================] - 0s 8ms/step - loss: 8.8481e-06 - mse: 8.8481e-06 - mae: 0.0026\n",
            "Epoch 414/1000\n",
            "1/1 [==============================] - 0s 4ms/step - loss: 8.7880e-06 - mse: 8.7880e-06 - mae: 0.0025\n",
            "Epoch 415/1000\n",
            "1/1 [==============================] - 0s 8ms/step - loss: 8.7270e-06 - mse: 8.7270e-06 - mae: 0.0025\n",
            "Epoch 416/1000\n",
            "1/1 [==============================] - 0s 5ms/step - loss: 8.6690e-06 - mse: 8.6690e-06 - mae: 0.0025\n",
            "Epoch 417/1000\n",
            "1/1 [==============================] - 0s 8ms/step - loss: 8.6103e-06 - mse: 8.6103e-06 - mae: 0.0025\n",
            "Epoch 418/1000\n",
            "1/1 [==============================] - 0s 8ms/step - loss: 8.5542e-06 - mse: 8.5542e-06 - mae: 0.0025\n",
            "Epoch 419/1000\n",
            "1/1 [==============================] - 0s 8ms/step - loss: 8.4946e-06 - mse: 8.4946e-06 - mae: 0.0025\n",
            "Epoch 420/1000\n",
            "1/1 [==============================] - 0s 8ms/step - loss: 8.4377e-06 - mse: 8.4377e-06 - mae: 0.0025\n",
            "Epoch 421/1000\n",
            "1/1 [==============================] - 0s 8ms/step - loss: 8.3802e-06 - mse: 8.3802e-06 - mae: 0.0025\n",
            "Epoch 422/1000\n",
            "1/1 [==============================] - 0s 6ms/step - loss: 8.3229e-06 - mse: 8.3229e-06 - mae: 0.0025\n",
            "Epoch 423/1000\n",
            "1/1 [==============================] - 0s 15ms/step - loss: 8.2674e-06 - mse: 8.2674e-06 - mae: 0.0025\n",
            "Epoch 424/1000\n",
            "1/1 [==============================] - 0s 8ms/step - loss: 8.2117e-06 - mse: 8.2117e-06 - mae: 0.0025\n",
            "Epoch 425/1000\n",
            "1/1 [==============================] - 0s 12ms/step - loss: 8.1565e-06 - mse: 8.1565e-06 - mae: 0.0025\n",
            "Epoch 426/1000\n",
            "1/1 [==============================] - 0s 6ms/step - loss: 8.1027e-06 - mse: 8.1027e-06 - mae: 0.0024\n",
            "Epoch 427/1000\n",
            "1/1 [==============================] - 0s 7ms/step - loss: 8.0471e-06 - mse: 8.0471e-06 - mae: 0.0024\n",
            "Epoch 428/1000\n",
            "1/1 [==============================] - 0s 6ms/step - loss: 7.9938e-06 - mse: 7.9938e-06 - mae: 0.0024\n",
            "Epoch 429/1000\n",
            "1/1 [==============================] - 0s 9ms/step - loss: 7.9390e-06 - mse: 7.9390e-06 - mae: 0.0024\n",
            "Epoch 430/1000\n",
            "1/1 [==============================] - 0s 7ms/step - loss: 7.8864e-06 - mse: 7.8864e-06 - mae: 0.0024\n",
            "Epoch 431/1000\n",
            "1/1 [==============================] - 0s 7ms/step - loss: 7.8321e-06 - mse: 7.8321e-06 - mae: 0.0024\n",
            "Epoch 432/1000\n",
            "1/1 [==============================] - 0s 11ms/step - loss: 7.7799e-06 - mse: 7.7799e-06 - mae: 0.0024\n",
            "Epoch 433/1000\n",
            "1/1 [==============================] - 0s 6ms/step - loss: 7.7271e-06 - mse: 7.7271e-06 - mae: 0.0024\n",
            "Epoch 434/1000\n",
            "1/1 [==============================] - 0s 6ms/step - loss: 7.6742e-06 - mse: 7.6742e-06 - mae: 0.0024\n",
            "Epoch 435/1000\n",
            "1/1 [==============================] - 0s 7ms/step - loss: 7.6230e-06 - mse: 7.6230e-06 - mae: 0.0024\n",
            "Epoch 436/1000\n",
            "1/1 [==============================] - 0s 7ms/step - loss: 7.5713e-06 - mse: 7.5713e-06 - mae: 0.0024\n",
            "Epoch 437/1000\n",
            "1/1 [==============================] - 0s 8ms/step - loss: 7.5213e-06 - mse: 7.5213e-06 - mae: 0.0024\n",
            "Epoch 438/1000\n",
            "1/1 [==============================] - 0s 6ms/step - loss: 7.4690e-06 - mse: 7.4690e-06 - mae: 0.0023\n",
            "Epoch 439/1000\n",
            "1/1 [==============================] - 0s 6ms/step - loss: 7.4189e-06 - mse: 7.4189e-06 - mae: 0.0023\n",
            "Epoch 440/1000\n",
            "1/1 [==============================] - 0s 6ms/step - loss: 7.3690e-06 - mse: 7.3690e-06 - mae: 0.0023\n",
            "Epoch 441/1000\n",
            "1/1 [==============================] - 0s 7ms/step - loss: 7.3178e-06 - mse: 7.3178e-06 - mae: 0.0023\n",
            "Epoch 442/1000\n",
            "1/1 [==============================] - 0s 6ms/step - loss: 7.2697e-06 - mse: 7.2697e-06 - mae: 0.0023\n",
            "Epoch 443/1000\n",
            "1/1 [==============================] - 0s 8ms/step - loss: 7.2221e-06 - mse: 7.2221e-06 - mae: 0.0023\n",
            "Epoch 444/1000\n",
            "1/1 [==============================] - 0s 6ms/step - loss: 7.1720e-06 - mse: 7.1720e-06 - mae: 0.0023\n",
            "Epoch 445/1000\n",
            "1/1 [==============================] - 0s 11ms/step - loss: 7.1249e-06 - mse: 7.1249e-06 - mae: 0.0023\n",
            "Epoch 446/1000\n",
            "1/1 [==============================] - 0s 12ms/step - loss: 7.0755e-06 - mse: 7.0755e-06 - mae: 0.0023\n",
            "Epoch 447/1000\n",
            "1/1 [==============================] - 0s 9ms/step - loss: 7.0283e-06 - mse: 7.0283e-06 - mae: 0.0023\n",
            "Epoch 448/1000\n",
            "1/1 [==============================] - 0s 9ms/step - loss: 6.9810e-06 - mse: 6.9810e-06 - mae: 0.0023\n",
            "Epoch 449/1000\n",
            "1/1 [==============================] - 0s 7ms/step - loss: 6.9338e-06 - mse: 6.9338e-06 - mae: 0.0023\n",
            "Epoch 450/1000\n",
            "1/1 [==============================] - 0s 7ms/step - loss: 6.8865e-06 - mse: 6.8865e-06 - mae: 0.0023\n",
            "Epoch 451/1000\n",
            "1/1 [==============================] - 0s 14ms/step - loss: 6.8402e-06 - mse: 6.8402e-06 - mae: 0.0022\n",
            "Epoch 452/1000\n",
            "1/1 [==============================] - 0s 8ms/step - loss: 6.7944e-06 - mse: 6.7944e-06 - mae: 0.0022\n",
            "Epoch 453/1000\n",
            "1/1 [==============================] - 0s 9ms/step - loss: 6.7489e-06 - mse: 6.7489e-06 - mae: 0.0022\n",
            "Epoch 454/1000\n",
            "1/1 [==============================] - 0s 7ms/step - loss: 6.7035e-06 - mse: 6.7035e-06 - mae: 0.0022\n",
            "Epoch 455/1000\n",
            "1/1 [==============================] - 0s 5ms/step - loss: 6.6568e-06 - mse: 6.6568e-06 - mae: 0.0022\n",
            "Epoch 456/1000\n",
            "1/1 [==============================] - 0s 9ms/step - loss: 6.6122e-06 - mse: 6.6122e-06 - mae: 0.0022\n",
            "Epoch 457/1000\n",
            "1/1 [==============================] - 0s 8ms/step - loss: 6.5686e-06 - mse: 6.5686e-06 - mae: 0.0022\n",
            "Epoch 458/1000\n",
            "1/1 [==============================] - 0s 8ms/step - loss: 6.5230e-06 - mse: 6.5230e-06 - mae: 0.0022\n",
            "Epoch 459/1000\n",
            "1/1 [==============================] - 0s 7ms/step - loss: 6.4797e-06 - mse: 6.4797e-06 - mae: 0.0022\n",
            "Epoch 460/1000\n",
            "1/1 [==============================] - 0s 10ms/step - loss: 6.4356e-06 - mse: 6.4356e-06 - mae: 0.0022\n",
            "Epoch 461/1000\n",
            "1/1 [==============================] - 0s 14ms/step - loss: 6.3916e-06 - mse: 6.3916e-06 - mae: 0.0022\n",
            "Epoch 462/1000\n",
            "1/1 [==============================] - 0s 16ms/step - loss: 6.3507e-06 - mse: 6.3507e-06 - mae: 0.0022\n",
            "Epoch 463/1000\n",
            "1/1 [==============================] - 0s 11ms/step - loss: 6.3053e-06 - mse: 6.3053e-06 - mae: 0.0022\n",
            "Epoch 464/1000\n",
            "1/1 [==============================] - 0s 8ms/step - loss: 6.2626e-06 - mse: 6.2626e-06 - mae: 0.0021\n",
            "Epoch 465/1000\n",
            "1/1 [==============================] - 0s 8ms/step - loss: 6.2205e-06 - mse: 6.2205e-06 - mae: 0.0021\n",
            "Epoch 466/1000\n",
            "1/1 [==============================] - 0s 6ms/step - loss: 6.1783e-06 - mse: 6.1783e-06 - mae: 0.0021\n",
            "Epoch 467/1000\n",
            "1/1 [==============================] - 0s 8ms/step - loss: 6.1368e-06 - mse: 6.1368e-06 - mae: 0.0021\n",
            "Epoch 468/1000\n",
            "1/1 [==============================] - 0s 7ms/step - loss: 6.0960e-06 - mse: 6.0960e-06 - mae: 0.0021\n",
            "Epoch 469/1000\n",
            "1/1 [==============================] - 0s 6ms/step - loss: 6.0546e-06 - mse: 6.0546e-06 - mae: 0.0021\n",
            "Epoch 470/1000\n",
            "1/1 [==============================] - 0s 8ms/step - loss: 6.0144e-06 - mse: 6.0144e-06 - mae: 0.0021\n",
            "Epoch 471/1000\n",
            "1/1 [==============================] - 0s 8ms/step - loss: 5.9734e-06 - mse: 5.9734e-06 - mae: 0.0021\n",
            "Epoch 472/1000\n",
            "1/1 [==============================] - 0s 8ms/step - loss: 5.9326e-06 - mse: 5.9326e-06 - mae: 0.0021\n",
            "Epoch 473/1000\n",
            "1/1 [==============================] - 0s 8ms/step - loss: 5.8935e-06 - mse: 5.8935e-06 - mae: 0.0021\n",
            "Epoch 474/1000\n",
            "1/1 [==============================] - 0s 7ms/step - loss: 5.8520e-06 - mse: 5.8520e-06 - mae: 0.0021\n",
            "Epoch 475/1000\n",
            "1/1 [==============================] - 0s 11ms/step - loss: 5.8141e-06 - mse: 5.8141e-06 - mae: 0.0021\n",
            "Epoch 476/1000\n",
            "1/1 [==============================] - 0s 10ms/step - loss: 5.7744e-06 - mse: 5.7744e-06 - mae: 0.0021\n",
            "Epoch 477/1000\n",
            "1/1 [==============================] - 0s 7ms/step - loss: 5.7348e-06 - mse: 5.7348e-06 - mae: 0.0021\n",
            "Epoch 478/1000\n",
            "1/1 [==============================] - 0s 7ms/step - loss: 5.6956e-06 - mse: 5.6956e-06 - mae: 0.0020\n",
            "Epoch 479/1000\n",
            "1/1 [==============================] - 0s 7ms/step - loss: 5.6595e-06 - mse: 5.6595e-06 - mae: 0.0020\n",
            "Epoch 480/1000\n",
            "1/1 [==============================] - 0s 7ms/step - loss: 5.6205e-06 - mse: 5.6205e-06 - mae: 0.0020\n",
            "Epoch 481/1000\n",
            "1/1 [==============================] - 0s 6ms/step - loss: 5.5826e-06 - mse: 5.5826e-06 - mae: 0.0020\n",
            "Epoch 482/1000\n",
            "1/1 [==============================] - 0s 7ms/step - loss: 5.5440e-06 - mse: 5.5440e-06 - mae: 0.0020\n",
            "Epoch 483/1000\n",
            "1/1 [==============================] - 0s 5ms/step - loss: 5.5074e-06 - mse: 5.5074e-06 - mae: 0.0020\n",
            "Epoch 484/1000\n",
            "1/1 [==============================] - 0s 6ms/step - loss: 5.4694e-06 - mse: 5.4694e-06 - mae: 0.0020\n",
            "Epoch 485/1000\n",
            "1/1 [==============================] - 0s 8ms/step - loss: 5.4336e-06 - mse: 5.4336e-06 - mae: 0.0020\n",
            "Epoch 486/1000\n",
            "1/1 [==============================] - 0s 6ms/step - loss: 5.3966e-06 - mse: 5.3966e-06 - mae: 0.0020\n",
            "Epoch 487/1000\n",
            "1/1 [==============================] - 0s 5ms/step - loss: 5.3591e-06 - mse: 5.3591e-06 - mae: 0.0020\n",
            "Epoch 488/1000\n",
            "1/1 [==============================] - 0s 6ms/step - loss: 5.3240e-06 - mse: 5.3240e-06 - mae: 0.0020\n",
            "Epoch 489/1000\n",
            "1/1 [==============================] - 0s 8ms/step - loss: 5.2887e-06 - mse: 5.2887e-06 - mae: 0.0020\n",
            "Epoch 490/1000\n",
            "1/1 [==============================] - 0s 7ms/step - loss: 5.2520e-06 - mse: 5.2520e-06 - mae: 0.0020\n",
            "Epoch 491/1000\n",
            "1/1 [==============================] - 0s 8ms/step - loss: 5.2165e-06 - mse: 5.2165e-06 - mae: 0.0020\n",
            "Epoch 492/1000\n",
            "1/1 [==============================] - 0s 6ms/step - loss: 5.1819e-06 - mse: 5.1819e-06 - mae: 0.0020\n",
            "Epoch 493/1000\n",
            "1/1 [==============================] - 0s 5ms/step - loss: 5.1467e-06 - mse: 5.1467e-06 - mae: 0.0019\n",
            "Epoch 494/1000\n",
            "1/1 [==============================] - 0s 11ms/step - loss: 5.1135e-06 - mse: 5.1135e-06 - mae: 0.0019\n",
            "Epoch 495/1000\n",
            "1/1 [==============================] - 0s 12ms/step - loss: 5.0766e-06 - mse: 5.0766e-06 - mae: 0.0019\n",
            "Epoch 496/1000\n",
            "1/1 [==============================] - 0s 6ms/step - loss: 5.0437e-06 - mse: 5.0437e-06 - mae: 0.0019\n",
            "Epoch 497/1000\n",
            "1/1 [==============================] - 0s 6ms/step - loss: 5.0090e-06 - mse: 5.0090e-06 - mae: 0.0019\n",
            "Epoch 498/1000\n",
            "1/1 [==============================] - 0s 6ms/step - loss: 4.9745e-06 - mse: 4.9745e-06 - mae: 0.0019\n",
            "Epoch 499/1000\n",
            "1/1 [==============================] - 0s 6ms/step - loss: 4.9412e-06 - mse: 4.9412e-06 - mae: 0.0019\n",
            "Epoch 500/1000\n",
            "1/1 [==============================] - 0s 6ms/step - loss: 4.9082e-06 - mse: 4.9082e-06 - mae: 0.0019\n",
            "Epoch 501/1000\n",
            "1/1 [==============================] - 0s 5ms/step - loss: 4.8754e-06 - mse: 4.8754e-06 - mae: 0.0019\n",
            "Epoch 502/1000\n",
            "1/1 [==============================] - 0s 7ms/step - loss: 4.8415e-06 - mse: 4.8415e-06 - mae: 0.0019\n",
            "Epoch 503/1000\n",
            "1/1 [==============================] - 0s 7ms/step - loss: 4.8096e-06 - mse: 4.8096e-06 - mae: 0.0019\n",
            "Epoch 504/1000\n",
            "1/1 [==============================] - 0s 6ms/step - loss: 4.7776e-06 - mse: 4.7776e-06 - mae: 0.0019\n",
            "Epoch 505/1000\n",
            "1/1 [==============================] - 0s 5ms/step - loss: 4.7444e-06 - mse: 4.7444e-06 - mae: 0.0019\n",
            "Epoch 506/1000\n",
            "1/1 [==============================] - 0s 10ms/step - loss: 4.7133e-06 - mse: 4.7133e-06 - mae: 0.0019\n",
            "Epoch 507/1000\n",
            "1/1 [==============================] - 0s 11ms/step - loss: 4.6808e-06 - mse: 4.6808e-06 - mae: 0.0019\n",
            "Epoch 508/1000\n",
            "1/1 [==============================] - 0s 9ms/step - loss: 4.6499e-06 - mse: 4.6499e-06 - mae: 0.0019\n",
            "Epoch 509/1000\n",
            "1/1 [==============================] - 0s 5ms/step - loss: 4.6177e-06 - mse: 4.6177e-06 - mae: 0.0018\n",
            "Epoch 510/1000\n",
            "1/1 [==============================] - 0s 8ms/step - loss: 4.5874e-06 - mse: 4.5874e-06 - mae: 0.0018\n",
            "Epoch 511/1000\n",
            "1/1 [==============================] - 0s 10ms/step - loss: 4.5560e-06 - mse: 4.5560e-06 - mae: 0.0018\n",
            "Epoch 512/1000\n",
            "1/1 [==============================] - 0s 8ms/step - loss: 4.5245e-06 - mse: 4.5245e-06 - mae: 0.0018\n",
            "Epoch 513/1000\n",
            "1/1 [==============================] - 0s 14ms/step - loss: 4.4949e-06 - mse: 4.4949e-06 - mae: 0.0018\n",
            "Epoch 514/1000\n",
            "1/1 [==============================] - 0s 8ms/step - loss: 4.4643e-06 - mse: 4.4643e-06 - mae: 0.0018\n",
            "Epoch 515/1000\n",
            "1/1 [==============================] - 0s 9ms/step - loss: 4.4344e-06 - mse: 4.4344e-06 - mae: 0.0018\n",
            "Epoch 516/1000\n",
            "1/1 [==============================] - 0s 8ms/step - loss: 4.4042e-06 - mse: 4.4042e-06 - mae: 0.0018\n",
            "Epoch 517/1000\n",
            "1/1 [==============================] - 0s 7ms/step - loss: 4.3749e-06 - mse: 4.3749e-06 - mae: 0.0018\n",
            "Epoch 518/1000\n",
            "1/1 [==============================] - 0s 12ms/step - loss: 4.3446e-06 - mse: 4.3446e-06 - mae: 0.0018\n",
            "Epoch 519/1000\n",
            "1/1 [==============================] - 0s 7ms/step - loss: 4.3155e-06 - mse: 4.3155e-06 - mae: 0.0018\n",
            "Epoch 520/1000\n",
            "1/1 [==============================] - 0s 12ms/step - loss: 4.2868e-06 - mse: 4.2868e-06 - mae: 0.0018\n",
            "Epoch 521/1000\n",
            "1/1 [==============================] - 0s 11ms/step - loss: 4.2580e-06 - mse: 4.2580e-06 - mae: 0.0018\n",
            "Epoch 522/1000\n",
            "1/1 [==============================] - 0s 9ms/step - loss: 4.2284e-06 - mse: 4.2284e-06 - mae: 0.0018\n",
            "Epoch 523/1000\n",
            "1/1 [==============================] - 0s 8ms/step - loss: 4.2007e-06 - mse: 4.2007e-06 - mae: 0.0018\n",
            "Epoch 524/1000\n",
            "1/1 [==============================] - 0s 13ms/step - loss: 4.1729e-06 - mse: 4.1729e-06 - mae: 0.0018\n",
            "Epoch 525/1000\n",
            "1/1 [==============================] - 0s 9ms/step - loss: 4.1430e-06 - mse: 4.1430e-06 - mae: 0.0017\n",
            "Epoch 526/1000\n",
            "1/1 [==============================] - 0s 8ms/step - loss: 4.1160e-06 - mse: 4.1160e-06 - mae: 0.0017\n",
            "Epoch 527/1000\n",
            "1/1 [==============================] - 0s 12ms/step - loss: 4.0875e-06 - mse: 4.0875e-06 - mae: 0.0017\n",
            "Epoch 528/1000\n",
            "1/1 [==============================] - 0s 23ms/step - loss: 4.0606e-06 - mse: 4.0606e-06 - mae: 0.0017\n",
            "Epoch 529/1000\n",
            "1/1 [==============================] - 0s 7ms/step - loss: 4.0334e-06 - mse: 4.0334e-06 - mae: 0.0017\n",
            "Epoch 530/1000\n",
            "1/1 [==============================] - 0s 6ms/step - loss: 4.0055e-06 - mse: 4.0055e-06 - mae: 0.0017\n",
            "Epoch 531/1000\n",
            "1/1 [==============================] - 0s 9ms/step - loss: 3.9802e-06 - mse: 3.9802e-06 - mae: 0.0017\n",
            "Epoch 532/1000\n",
            "1/1 [==============================] - 0s 8ms/step - loss: 3.9526e-06 - mse: 3.9526e-06 - mae: 0.0017\n",
            "Epoch 533/1000\n",
            "1/1 [==============================] - 0s 7ms/step - loss: 3.9259e-06 - mse: 3.9259e-06 - mae: 0.0017\n",
            "Epoch 534/1000\n",
            "1/1 [==============================] - 0s 11ms/step - loss: 3.8978e-06 - mse: 3.8978e-06 - mae: 0.0017\n",
            "Epoch 535/1000\n",
            "1/1 [==============================] - 0s 10ms/step - loss: 3.8739e-06 - mse: 3.8739e-06 - mae: 0.0017\n",
            "Epoch 536/1000\n",
            "1/1 [==============================] - 0s 7ms/step - loss: 3.8477e-06 - mse: 3.8477e-06 - mae: 0.0017\n",
            "Epoch 537/1000\n",
            "1/1 [==============================] - 0s 8ms/step - loss: 3.8200e-06 - mse: 3.8200e-06 - mae: 0.0017\n",
            "Epoch 538/1000\n",
            "1/1 [==============================] - 0s 9ms/step - loss: 3.7947e-06 - mse: 3.7947e-06 - mae: 0.0017\n",
            "Epoch 539/1000\n",
            "1/1 [==============================] - 0s 11ms/step - loss: 3.7699e-06 - mse: 3.7699e-06 - mae: 0.0017\n",
            "Epoch 540/1000\n",
            "1/1 [==============================] - 0s 8ms/step - loss: 3.7441e-06 - mse: 3.7441e-06 - mae: 0.0017\n",
            "Epoch 541/1000\n",
            "1/1 [==============================] - 0s 7ms/step - loss: 3.7188e-06 - mse: 3.7188e-06 - mae: 0.0017\n",
            "Epoch 542/1000\n",
            "1/1 [==============================] - 0s 13ms/step - loss: 3.6928e-06 - mse: 3.6928e-06 - mae: 0.0016\n",
            "Epoch 543/1000\n",
            "1/1 [==============================] - 0s 7ms/step - loss: 3.6683e-06 - mse: 3.6683e-06 - mae: 0.0016\n",
            "Epoch 544/1000\n",
            "1/1 [==============================] - 0s 7ms/step - loss: 3.6439e-06 - mse: 3.6439e-06 - mae: 0.0016\n",
            "Epoch 545/1000\n",
            "1/1 [==============================] - 0s 7ms/step - loss: 3.6202e-06 - mse: 3.6202e-06 - mae: 0.0016\n",
            "Epoch 546/1000\n",
            "1/1 [==============================] - 0s 8ms/step - loss: 3.5948e-06 - mse: 3.5948e-06 - mae: 0.0016\n",
            "Epoch 547/1000\n",
            "1/1 [==============================] - 0s 8ms/step - loss: 3.5698e-06 - mse: 3.5698e-06 - mae: 0.0016\n",
            "Epoch 548/1000\n",
            "1/1 [==============================] - 0s 6ms/step - loss: 3.5467e-06 - mse: 3.5467e-06 - mae: 0.0016\n",
            "Epoch 549/1000\n",
            "1/1 [==============================] - 0s 8ms/step - loss: 3.5223e-06 - mse: 3.5223e-06 - mae: 0.0016\n",
            "Epoch 550/1000\n",
            "1/1 [==============================] - 0s 11ms/step - loss: 3.4982e-06 - mse: 3.4982e-06 - mae: 0.0016\n",
            "Epoch 551/1000\n",
            "1/1 [==============================] - 0s 12ms/step - loss: 3.4747e-06 - mse: 3.4747e-06 - mae: 0.0016\n",
            "Epoch 552/1000\n",
            "1/1 [==============================] - 0s 13ms/step - loss: 3.4508e-06 - mse: 3.4508e-06 - mae: 0.0016\n",
            "Epoch 553/1000\n",
            "1/1 [==============================] - 0s 10ms/step - loss: 3.4290e-06 - mse: 3.4290e-06 - mae: 0.0016\n",
            "Epoch 554/1000\n",
            "1/1 [==============================] - 0s 8ms/step - loss: 3.4046e-06 - mse: 3.4046e-06 - mae: 0.0016\n",
            "Epoch 555/1000\n",
            "1/1 [==============================] - 0s 8ms/step - loss: 3.3817e-06 - mse: 3.3817e-06 - mae: 0.0016\n",
            "Epoch 556/1000\n",
            "1/1 [==============================] - 0s 8ms/step - loss: 3.3604e-06 - mse: 3.3604e-06 - mae: 0.0016\n",
            "Epoch 557/1000\n",
            "1/1 [==============================] - 0s 7ms/step - loss: 3.3375e-06 - mse: 3.3375e-06 - mae: 0.0016\n",
            "Epoch 558/1000\n",
            "1/1 [==============================] - 0s 7ms/step - loss: 3.3151e-06 - mse: 3.3151e-06 - mae: 0.0016\n",
            "Epoch 559/1000\n",
            "1/1 [==============================] - 0s 9ms/step - loss: 3.2913e-06 - mse: 3.2913e-06 - mae: 0.0016\n",
            "Epoch 560/1000\n",
            "1/1 [==============================] - 0s 9ms/step - loss: 3.2688e-06 - mse: 3.2688e-06 - mae: 0.0016\n",
            "Epoch 561/1000\n",
            "1/1 [==============================] - 0s 7ms/step - loss: 3.2472e-06 - mse: 3.2472e-06 - mae: 0.0015\n",
            "Epoch 562/1000\n",
            "1/1 [==============================] - 0s 9ms/step - loss: 3.2249e-06 - mse: 3.2249e-06 - mae: 0.0015\n",
            "Epoch 563/1000\n",
            "1/1 [==============================] - 0s 6ms/step - loss: 3.2030e-06 - mse: 3.2030e-06 - mae: 0.0015\n",
            "Epoch 564/1000\n",
            "1/1 [==============================] - 0s 6ms/step - loss: 3.1822e-06 - mse: 3.1822e-06 - mae: 0.0015\n",
            "Epoch 565/1000\n",
            "1/1 [==============================] - 0s 6ms/step - loss: 3.1604e-06 - mse: 3.1604e-06 - mae: 0.0015\n",
            "Epoch 566/1000\n",
            "1/1 [==============================] - 0s 6ms/step - loss: 3.1388e-06 - mse: 3.1388e-06 - mae: 0.0015\n",
            "Epoch 567/1000\n",
            "1/1 [==============================] - 0s 9ms/step - loss: 3.1188e-06 - mse: 3.1188e-06 - mae: 0.0015\n",
            "Epoch 568/1000\n",
            "1/1 [==============================] - 0s 9ms/step - loss: 3.0971e-06 - mse: 3.0971e-06 - mae: 0.0015\n",
            "Epoch 569/1000\n",
            "1/1 [==============================] - 0s 10ms/step - loss: 3.0758e-06 - mse: 3.0758e-06 - mae: 0.0015\n",
            "Epoch 570/1000\n",
            "1/1 [==============================] - 0s 10ms/step - loss: 3.0551e-06 - mse: 3.0551e-06 - mae: 0.0015\n",
            "Epoch 571/1000\n",
            "1/1 [==============================] - 0s 7ms/step - loss: 3.0352e-06 - mse: 3.0352e-06 - mae: 0.0015\n",
            "Epoch 572/1000\n",
            "1/1 [==============================] - 0s 8ms/step - loss: 3.0147e-06 - mse: 3.0147e-06 - mae: 0.0015\n",
            "Epoch 573/1000\n",
            "1/1 [==============================] - 0s 9ms/step - loss: 2.9940e-06 - mse: 2.9940e-06 - mae: 0.0015\n",
            "Epoch 574/1000\n",
            "1/1 [==============================] - 0s 10ms/step - loss: 2.9733e-06 - mse: 2.9733e-06 - mae: 0.0015\n",
            "Epoch 575/1000\n",
            "1/1 [==============================] - 0s 9ms/step - loss: 2.9532e-06 - mse: 2.9532e-06 - mae: 0.0015\n",
            "Epoch 576/1000\n",
            "1/1 [==============================] - 0s 6ms/step - loss: 2.9343e-06 - mse: 2.9343e-06 - mae: 0.0015\n",
            "Epoch 577/1000\n",
            "1/1 [==============================] - 0s 8ms/step - loss: 2.9144e-06 - mse: 2.9144e-06 - mae: 0.0015\n",
            "Epoch 578/1000\n",
            "1/1 [==============================] - 0s 8ms/step - loss: 2.8943e-06 - mse: 2.8943e-06 - mae: 0.0015\n",
            "Epoch 579/1000\n",
            "1/1 [==============================] - 0s 8ms/step - loss: 2.8749e-06 - mse: 2.8749e-06 - mae: 0.0015\n",
            "Epoch 580/1000\n",
            "1/1 [==============================] - 0s 11ms/step - loss: 2.8556e-06 - mse: 2.8556e-06 - mae: 0.0015\n",
            "Epoch 581/1000\n",
            "1/1 [==============================] - 0s 8ms/step - loss: 2.8356e-06 - mse: 2.8356e-06 - mae: 0.0014\n",
            "Epoch 582/1000\n",
            "1/1 [==============================] - 0s 8ms/step - loss: 2.8171e-06 - mse: 2.8171e-06 - mae: 0.0014\n",
            "Epoch 583/1000\n",
            "1/1 [==============================] - 0s 9ms/step - loss: 2.7980e-06 - mse: 2.7980e-06 - mae: 0.0014\n",
            "Epoch 584/1000\n",
            "1/1 [==============================] - 0s 8ms/step - loss: 2.7797e-06 - mse: 2.7797e-06 - mae: 0.0014\n",
            "Epoch 585/1000\n",
            "1/1 [==============================] - 0s 4ms/step - loss: 2.7600e-06 - mse: 2.7600e-06 - mae: 0.0014\n",
            "Epoch 586/1000\n",
            "1/1 [==============================] - 0s 8ms/step - loss: 2.7422e-06 - mse: 2.7422e-06 - mae: 0.0014\n",
            "Epoch 587/1000\n",
            "1/1 [==============================] - 0s 6ms/step - loss: 2.7240e-06 - mse: 2.7240e-06 - mae: 0.0014\n",
            "Epoch 588/1000\n",
            "1/1 [==============================] - 0s 11ms/step - loss: 2.7049e-06 - mse: 2.7049e-06 - mae: 0.0014\n",
            "Epoch 589/1000\n",
            "1/1 [==============================] - 0s 4ms/step - loss: 2.6870e-06 - mse: 2.6870e-06 - mae: 0.0014\n",
            "Epoch 590/1000\n",
            "1/1 [==============================] - 0s 6ms/step - loss: 2.6687e-06 - mse: 2.6687e-06 - mae: 0.0014\n",
            "Epoch 591/1000\n",
            "1/1 [==============================] - 0s 8ms/step - loss: 2.6500e-06 - mse: 2.6500e-06 - mae: 0.0014\n",
            "Epoch 592/1000\n",
            "1/1 [==============================] - 0s 4ms/step - loss: 2.6328e-06 - mse: 2.6328e-06 - mae: 0.0014\n",
            "Epoch 593/1000\n",
            "1/1 [==============================] - 0s 8ms/step - loss: 2.6148e-06 - mse: 2.6148e-06 - mae: 0.0014\n",
            "Epoch 594/1000\n",
            "1/1 [==============================] - 0s 5ms/step - loss: 2.5969e-06 - mse: 2.5969e-06 - mae: 0.0014\n",
            "Epoch 595/1000\n",
            "1/1 [==============================] - 0s 8ms/step - loss: 2.5798e-06 - mse: 2.5798e-06 - mae: 0.0014\n",
            "Epoch 596/1000\n",
            "1/1 [==============================] - 0s 4ms/step - loss: 2.5623e-06 - mse: 2.5623e-06 - mae: 0.0014\n",
            "Epoch 597/1000\n",
            "1/1 [==============================] - 0s 6ms/step - loss: 2.5445e-06 - mse: 2.5445e-06 - mae: 0.0014\n",
            "Epoch 598/1000\n",
            "1/1 [==============================] - 0s 7ms/step - loss: 2.5280e-06 - mse: 2.5280e-06 - mae: 0.0014\n",
            "Epoch 599/1000\n",
            "1/1 [==============================] - 0s 13ms/step - loss: 2.5106e-06 - mse: 2.5106e-06 - mae: 0.0014\n",
            "Epoch 600/1000\n",
            "1/1 [==============================] - 0s 18ms/step - loss: 2.4943e-06 - mse: 2.4943e-06 - mae: 0.0014\n",
            "Epoch 601/1000\n",
            "1/1 [==============================] - 0s 6ms/step - loss: 2.4771e-06 - mse: 2.4771e-06 - mae: 0.0014\n",
            "Epoch 602/1000\n",
            "1/1 [==============================] - 0s 17ms/step - loss: 2.4606e-06 - mse: 2.4606e-06 - mae: 0.0013\n",
            "Epoch 603/1000\n",
            "1/1 [==============================] - 0s 10ms/step - loss: 2.4431e-06 - mse: 2.4431e-06 - mae: 0.0013\n",
            "Epoch 604/1000\n",
            "1/1 [==============================] - 0s 10ms/step - loss: 2.4270e-06 - mse: 2.4270e-06 - mae: 0.0013\n",
            "Epoch 605/1000\n",
            "1/1 [==============================] - 0s 6ms/step - loss: 2.4108e-06 - mse: 2.4108e-06 - mae: 0.0013\n",
            "Epoch 606/1000\n",
            "1/1 [==============================] - 0s 10ms/step - loss: 2.3946e-06 - mse: 2.3946e-06 - mae: 0.0013\n",
            "Epoch 607/1000\n",
            "1/1 [==============================] - 0s 11ms/step - loss: 2.3788e-06 - mse: 2.3788e-06 - mae: 0.0013\n",
            "Epoch 608/1000\n",
            "1/1 [==============================] - 0s 8ms/step - loss: 2.3617e-06 - mse: 2.3617e-06 - mae: 0.0013\n",
            "Epoch 609/1000\n",
            "1/1 [==============================] - 0s 6ms/step - loss: 2.3467e-06 - mse: 2.3467e-06 - mae: 0.0013\n",
            "Epoch 610/1000\n",
            "1/1 [==============================] - 0s 9ms/step - loss: 2.3309e-06 - mse: 2.3309e-06 - mae: 0.0013\n",
            "Epoch 611/1000\n",
            "1/1 [==============================] - 0s 11ms/step - loss: 2.3148e-06 - mse: 2.3148e-06 - mae: 0.0013\n",
            "Epoch 612/1000\n",
            "1/1 [==============================] - 0s 5ms/step - loss: 2.2997e-06 - mse: 2.2997e-06 - mae: 0.0013\n",
            "Epoch 613/1000\n",
            "1/1 [==============================] - 0s 9ms/step - loss: 2.2830e-06 - mse: 2.2830e-06 - mae: 0.0013\n",
            "Epoch 614/1000\n",
            "1/1 [==============================] - 0s 8ms/step - loss: 2.2687e-06 - mse: 2.2687e-06 - mae: 0.0013\n",
            "Epoch 615/1000\n",
            "1/1 [==============================] - 0s 12ms/step - loss: 2.2524e-06 - mse: 2.2524e-06 - mae: 0.0013\n",
            "Epoch 616/1000\n",
            "1/1 [==============================] - 0s 5ms/step - loss: 2.2379e-06 - mse: 2.2379e-06 - mae: 0.0013\n",
            "Epoch 617/1000\n",
            "1/1 [==============================] - 0s 11ms/step - loss: 2.2227e-06 - mse: 2.2227e-06 - mae: 0.0013\n",
            "Epoch 618/1000\n",
            "1/1 [==============================] - 0s 5ms/step - loss: 2.2082e-06 - mse: 2.2082e-06 - mae: 0.0013\n",
            "Epoch 619/1000\n",
            "1/1 [==============================] - 0s 6ms/step - loss: 2.1925e-06 - mse: 2.1925e-06 - mae: 0.0013\n",
            "Epoch 620/1000\n",
            "1/1 [==============================] - 0s 5ms/step - loss: 2.1780e-06 - mse: 2.1780e-06 - mae: 0.0013\n",
            "Epoch 621/1000\n",
            "1/1 [==============================] - 0s 5ms/step - loss: 2.1639e-06 - mse: 2.1639e-06 - mae: 0.0013\n",
            "Epoch 622/1000\n",
            "1/1 [==============================] - 0s 8ms/step - loss: 2.1486e-06 - mse: 2.1486e-06 - mae: 0.0013\n",
            "Epoch 623/1000\n",
            "1/1 [==============================] - 0s 24ms/step - loss: 2.1340e-06 - mse: 2.1340e-06 - mae: 0.0013\n",
            "Epoch 624/1000\n",
            "1/1 [==============================] - 0s 8ms/step - loss: 2.1196e-06 - mse: 2.1196e-06 - mae: 0.0012\n",
            "Epoch 625/1000\n",
            "1/1 [==============================] - 0s 7ms/step - loss: 2.1053e-06 - mse: 2.1053e-06 - mae: 0.0012\n",
            "Epoch 626/1000\n",
            "1/1 [==============================] - 0s 11ms/step - loss: 2.0911e-06 - mse: 2.0911e-06 - mae: 0.0012\n",
            "Epoch 627/1000\n",
            "1/1 [==============================] - 0s 8ms/step - loss: 2.0773e-06 - mse: 2.0773e-06 - mae: 0.0012\n",
            "Epoch 628/1000\n",
            "1/1 [==============================] - 0s 19ms/step - loss: 2.0629e-06 - mse: 2.0629e-06 - mae: 0.0012\n",
            "Epoch 629/1000\n",
            "1/1 [==============================] - 0s 8ms/step - loss: 2.0496e-06 - mse: 2.0496e-06 - mae: 0.0012\n",
            "Epoch 630/1000\n",
            "1/1 [==============================] - 0s 13ms/step - loss: 2.0361e-06 - mse: 2.0361e-06 - mae: 0.0012\n",
            "Epoch 631/1000\n",
            "1/1 [==============================] - 0s 12ms/step - loss: 2.0215e-06 - mse: 2.0215e-06 - mae: 0.0012\n",
            "Epoch 632/1000\n",
            "1/1 [==============================] - 0s 9ms/step - loss: 2.0083e-06 - mse: 2.0083e-06 - mae: 0.0012\n",
            "Epoch 633/1000\n",
            "1/1 [==============================] - 0s 9ms/step - loss: 1.9950e-06 - mse: 1.9950e-06 - mae: 0.0012\n",
            "Epoch 634/1000\n",
            "1/1 [==============================] - 0s 9ms/step - loss: 1.9807e-06 - mse: 1.9807e-06 - mae: 0.0012\n",
            "Epoch 635/1000\n",
            "1/1 [==============================] - 0s 11ms/step - loss: 1.9675e-06 - mse: 1.9675e-06 - mae: 0.0012\n",
            "Epoch 636/1000\n",
            "1/1 [==============================] - 0s 8ms/step - loss: 1.9545e-06 - mse: 1.9545e-06 - mae: 0.0012\n",
            "Epoch 637/1000\n",
            "1/1 [==============================] - 0s 10ms/step - loss: 1.9419e-06 - mse: 1.9419e-06 - mae: 0.0012\n",
            "Epoch 638/1000\n",
            "1/1 [==============================] - 0s 7ms/step - loss: 1.9292e-06 - mse: 1.9292e-06 - mae: 0.0012\n",
            "Epoch 639/1000\n",
            "1/1 [==============================] - 0s 7ms/step - loss: 1.9152e-06 - mse: 1.9152e-06 - mae: 0.0012\n",
            "Epoch 640/1000\n",
            "1/1 [==============================] - 0s 13ms/step - loss: 1.9029e-06 - mse: 1.9029e-06 - mae: 0.0012\n",
            "Epoch 641/1000\n",
            "1/1 [==============================] - 0s 5ms/step - loss: 1.8892e-06 - mse: 1.8892e-06 - mae: 0.0012\n",
            "Epoch 642/1000\n",
            "1/1 [==============================] - 0s 5ms/step - loss: 1.8768e-06 - mse: 1.8768e-06 - mae: 0.0012\n",
            "Epoch 643/1000\n",
            "1/1 [==============================] - 0s 13ms/step - loss: 1.8637e-06 - mse: 1.8637e-06 - mae: 0.0012\n",
            "Epoch 644/1000\n",
            "1/1 [==============================] - 0s 5ms/step - loss: 1.8510e-06 - mse: 1.8510e-06 - mae: 0.0012\n",
            "Epoch 645/1000\n",
            "1/1 [==============================] - 0s 5ms/step - loss: 1.8395e-06 - mse: 1.8395e-06 - mae: 0.0012\n",
            "Epoch 646/1000\n",
            "1/1 [==============================] - 0s 7ms/step - loss: 1.8269e-06 - mse: 1.8269e-06 - mae: 0.0012\n",
            "Epoch 647/1000\n",
            "1/1 [==============================] - 0s 9ms/step - loss: 1.8142e-06 - mse: 1.8142e-06 - mae: 0.0012\n",
            "Epoch 648/1000\n",
            "1/1 [==============================] - 0s 5ms/step - loss: 1.8013e-06 - mse: 1.8013e-06 - mae: 0.0012\n",
            "Epoch 649/1000\n",
            "1/1 [==============================] - 0s 6ms/step - loss: 1.7893e-06 - mse: 1.7893e-06 - mae: 0.0011\n",
            "Epoch 650/1000\n",
            "1/1 [==============================] - 0s 6ms/step - loss: 1.7783e-06 - mse: 1.7783e-06 - mae: 0.0011\n",
            "Epoch 651/1000\n",
            "1/1 [==============================] - 0s 10ms/step - loss: 1.7658e-06 - mse: 1.7658e-06 - mae: 0.0011\n",
            "Epoch 652/1000\n",
            "1/1 [==============================] - 0s 5ms/step - loss: 1.7539e-06 - mse: 1.7539e-06 - mae: 0.0011\n",
            "Epoch 653/1000\n",
            "1/1 [==============================] - 0s 7ms/step - loss: 1.7421e-06 - mse: 1.7421e-06 - mae: 0.0011\n",
            "Epoch 654/1000\n",
            "1/1 [==============================] - 0s 8ms/step - loss: 1.7303e-06 - mse: 1.7303e-06 - mae: 0.0011\n",
            "Epoch 655/1000\n",
            "1/1 [==============================] - 0s 10ms/step - loss: 1.7190e-06 - mse: 1.7190e-06 - mae: 0.0011\n",
            "Epoch 656/1000\n",
            "1/1 [==============================] - 0s 9ms/step - loss: 1.7076e-06 - mse: 1.7076e-06 - mae: 0.0011\n",
            "Epoch 657/1000\n",
            "1/1 [==============================] - 0s 7ms/step - loss: 1.6959e-06 - mse: 1.6959e-06 - mae: 0.0011\n",
            "Epoch 658/1000\n",
            "1/1 [==============================] - 0s 7ms/step - loss: 1.6848e-06 - mse: 1.6848e-06 - mae: 0.0011\n",
            "Epoch 659/1000\n",
            "1/1 [==============================] - 0s 8ms/step - loss: 1.6735e-06 - mse: 1.6735e-06 - mae: 0.0011\n",
            "Epoch 660/1000\n",
            "1/1 [==============================] - 0s 8ms/step - loss: 1.6614e-06 - mse: 1.6614e-06 - mae: 0.0011\n",
            "Epoch 661/1000\n",
            "1/1 [==============================] - 0s 5ms/step - loss: 1.6502e-06 - mse: 1.6502e-06 - mae: 0.0011\n",
            "Epoch 662/1000\n",
            "1/1 [==============================] - 0s 7ms/step - loss: 1.6392e-06 - mse: 1.6392e-06 - mae: 0.0011\n",
            "Epoch 663/1000\n",
            "1/1 [==============================] - 0s 8ms/step - loss: 1.6284e-06 - mse: 1.6284e-06 - mae: 0.0011\n",
            "Epoch 664/1000\n",
            "1/1 [==============================] - 0s 8ms/step - loss: 1.6177e-06 - mse: 1.6177e-06 - mae: 0.0011\n",
            "Epoch 665/1000\n",
            "1/1 [==============================] - 0s 8ms/step - loss: 1.6067e-06 - mse: 1.6067e-06 - mae: 0.0011\n",
            "Epoch 666/1000\n",
            "1/1 [==============================] - 0s 8ms/step - loss: 1.5956e-06 - mse: 1.5956e-06 - mae: 0.0011\n",
            "Epoch 667/1000\n",
            "1/1 [==============================] - 0s 4ms/step - loss: 1.5852e-06 - mse: 1.5852e-06 - mae: 0.0011\n",
            "Epoch 668/1000\n",
            "1/1 [==============================] - 0s 7ms/step - loss: 1.5738e-06 - mse: 1.5738e-06 - mae: 0.0011\n",
            "Epoch 669/1000\n",
            "1/1 [==============================] - 0s 5ms/step - loss: 1.5629e-06 - mse: 1.5629e-06 - mae: 0.0011\n",
            "Epoch 670/1000\n",
            "1/1 [==============================] - 0s 6ms/step - loss: 1.5529e-06 - mse: 1.5529e-06 - mae: 0.0011\n",
            "Epoch 671/1000\n",
            "1/1 [==============================] - 0s 7ms/step - loss: 1.5430e-06 - mse: 1.5430e-06 - mae: 0.0011\n",
            "Epoch 672/1000\n",
            "1/1 [==============================] - 0s 8ms/step - loss: 1.5316e-06 - mse: 1.5316e-06 - mae: 0.0011\n",
            "Epoch 673/1000\n",
            "1/1 [==============================] - 0s 8ms/step - loss: 1.5220e-06 - mse: 1.5220e-06 - mae: 0.0011\n",
            "Epoch 674/1000\n",
            "1/1 [==============================] - 0s 5ms/step - loss: 1.5114e-06 - mse: 1.5114e-06 - mae: 0.0011\n",
            "Epoch 675/1000\n",
            "1/1 [==============================] - 0s 8ms/step - loss: 1.5012e-06 - mse: 1.5012e-06 - mae: 0.0011\n",
            "Epoch 676/1000\n",
            "1/1 [==============================] - 0s 6ms/step - loss: 1.4908e-06 - mse: 1.4908e-06 - mae: 0.0010\n",
            "Epoch 677/1000\n",
            "1/1 [==============================] - 0s 14ms/step - loss: 1.4806e-06 - mse: 1.4806e-06 - mae: 0.0010\n",
            "Epoch 678/1000\n",
            "1/1 [==============================] - 0s 5ms/step - loss: 1.4716e-06 - mse: 1.4716e-06 - mae: 0.0010\n",
            "Epoch 679/1000\n",
            "1/1 [==============================] - 0s 9ms/step - loss: 1.4613e-06 - mse: 1.4613e-06 - mae: 0.0010\n",
            "Epoch 680/1000\n",
            "1/1 [==============================] - 0s 9ms/step - loss: 1.4511e-06 - mse: 1.4511e-06 - mae: 0.0010\n",
            "Epoch 681/1000\n",
            "1/1 [==============================] - 0s 5ms/step - loss: 1.4424e-06 - mse: 1.4424e-06 - mae: 0.0010\n",
            "Epoch 682/1000\n",
            "1/1 [==============================] - 0s 10ms/step - loss: 1.4323e-06 - mse: 1.4323e-06 - mae: 0.0010\n",
            "Epoch 683/1000\n",
            "1/1 [==============================] - 0s 6ms/step - loss: 1.4218e-06 - mse: 1.4218e-06 - mae: 0.0010\n",
            "Epoch 684/1000\n",
            "1/1 [==============================] - 0s 14ms/step - loss: 1.4121e-06 - mse: 1.4121e-06 - mae: 0.0010\n",
            "Epoch 685/1000\n",
            "1/1 [==============================] - 0s 13ms/step - loss: 1.4025e-06 - mse: 1.4025e-06 - mae: 0.0010\n",
            "Epoch 686/1000\n",
            "1/1 [==============================] - 0s 9ms/step - loss: 1.3938e-06 - mse: 1.3938e-06 - mae: 0.0010\n",
            "Epoch 687/1000\n",
            "1/1 [==============================] - 0s 9ms/step - loss: 1.3843e-06 - mse: 1.3843e-06 - mae: 0.0010\n",
            "Epoch 688/1000\n",
            "1/1 [==============================] - 0s 9ms/step - loss: 1.3751e-06 - mse: 1.3751e-06 - mae: 0.0010\n",
            "Epoch 689/1000\n",
            "1/1 [==============================] - 0s 12ms/step - loss: 1.3658e-06 - mse: 1.3658e-06 - mae: 0.0010\n",
            "Epoch 690/1000\n",
            "1/1 [==============================] - 0s 7ms/step - loss: 1.3565e-06 - mse: 1.3565e-06 - mae: 9.9974e-04\n",
            "Epoch 691/1000\n",
            "1/1 [==============================] - 0s 6ms/step - loss: 1.3478e-06 - mse: 1.3478e-06 - mae: 9.9640e-04\n",
            "Epoch 692/1000\n",
            "1/1 [==============================] - 0s 8ms/step - loss: 1.3376e-06 - mse: 1.3376e-06 - mae: 9.9249e-04\n",
            "Epoch 693/1000\n",
            "1/1 [==============================] - 0s 12ms/step - loss: 1.3294e-06 - mse: 1.3294e-06 - mae: 9.8972e-04\n",
            "Epoch 694/1000\n",
            "1/1 [==============================] - 0s 8ms/step - loss: 1.3202e-06 - mse: 1.3202e-06 - mae: 9.8610e-04\n",
            "Epoch 695/1000\n",
            "1/1 [==============================] - 0s 9ms/step - loss: 1.3118e-06 - mse: 1.3118e-06 - mae: 9.8314e-04\n",
            "Epoch 696/1000\n",
            "1/1 [==============================] - 0s 9ms/step - loss: 1.3028e-06 - mse: 1.3028e-06 - mae: 9.7971e-04\n",
            "Epoch 697/1000\n",
            "1/1 [==============================] - 0s 9ms/step - loss: 1.2935e-06 - mse: 1.2935e-06 - mae: 9.7618e-04\n",
            "Epoch 698/1000\n",
            "1/1 [==============================] - 0s 12ms/step - loss: 1.2852e-06 - mse: 1.2852e-06 - mae: 9.7303e-04\n",
            "Epoch 699/1000\n",
            "1/1 [==============================] - 0s 7ms/step - loss: 1.2761e-06 - mse: 1.2761e-06 - mae: 9.6970e-04\n",
            "Epoch 700/1000\n",
            "1/1 [==============================] - 0s 7ms/step - loss: 1.2668e-06 - mse: 1.2668e-06 - mae: 9.6598e-04\n",
            "Epoch 701/1000\n",
            "1/1 [==============================] - 0s 8ms/step - loss: 1.2592e-06 - mse: 1.2592e-06 - mae: 9.6321e-04\n",
            "Epoch 702/1000\n",
            "1/1 [==============================] - 0s 7ms/step - loss: 1.2510e-06 - mse: 1.2510e-06 - mae: 9.6025e-04\n",
            "Epoch 703/1000\n",
            "1/1 [==============================] - 0s 12ms/step - loss: 1.2419e-06 - mse: 1.2419e-06 - mae: 9.5654e-04\n",
            "Epoch 704/1000\n",
            "1/1 [==============================] - 0s 13ms/step - loss: 1.2339e-06 - mse: 1.2339e-06 - mae: 9.5348e-04\n",
            "Epoch 705/1000\n",
            "1/1 [==============================] - 0s 10ms/step - loss: 1.2254e-06 - mse: 1.2254e-06 - mae: 9.5024e-04\n",
            "Epoch 706/1000\n",
            "1/1 [==============================] - 0s 10ms/step - loss: 1.2166e-06 - mse: 1.2166e-06 - mae: 9.4681e-04\n",
            "Epoch 707/1000\n",
            "1/1 [==============================] - 0s 10ms/step - loss: 1.2092e-06 - mse: 1.2092e-06 - mae: 9.4404e-04\n",
            "Epoch 708/1000\n",
            "1/1 [==============================] - 0s 13ms/step - loss: 1.2007e-06 - mse: 1.2007e-06 - mae: 9.4061e-04\n",
            "Epoch 709/1000\n",
            "1/1 [==============================] - 0s 6ms/step - loss: 1.1930e-06 - mse: 1.1930e-06 - mae: 9.3775e-04\n",
            "Epoch 710/1000\n",
            "1/1 [==============================] - 0s 9ms/step - loss: 1.1851e-06 - mse: 1.1851e-06 - mae: 9.3451e-04\n",
            "Epoch 711/1000\n",
            "1/1 [==============================] - 0s 17ms/step - loss: 1.1766e-06 - mse: 1.1766e-06 - mae: 9.3126e-04\n",
            "Epoch 712/1000\n",
            "1/1 [==============================] - 0s 5ms/step - loss: 1.1688e-06 - mse: 1.1688e-06 - mae: 9.2802e-04\n",
            "Epoch 713/1000\n",
            "1/1 [==============================] - 0s 5ms/step - loss: 1.1604e-06 - mse: 1.1604e-06 - mae: 9.2478e-04\n",
            "Epoch 714/1000\n",
            "1/1 [==============================] - 0s 7ms/step - loss: 1.1526e-06 - mse: 1.1526e-06 - mae: 9.2154e-04\n",
            "Epoch 715/1000\n",
            "1/1 [==============================] - 0s 8ms/step - loss: 1.1454e-06 - mse: 1.1454e-06 - mae: 9.1877e-04\n",
            "Epoch 716/1000\n",
            "1/1 [==============================] - 0s 7ms/step - loss: 1.1375e-06 - mse: 1.1375e-06 - mae: 9.1553e-04\n",
            "Epoch 717/1000\n",
            "1/1 [==============================] - 0s 6ms/step - loss: 1.1296e-06 - mse: 1.1296e-06 - mae: 9.1238e-04\n",
            "Epoch 718/1000\n",
            "1/1 [==============================] - 0s 12ms/step - loss: 1.1218e-06 - mse: 1.1218e-06 - mae: 9.0923e-04\n",
            "Epoch 719/1000\n",
            "1/1 [==============================] - 0s 7ms/step - loss: 1.1149e-06 - mse: 1.1149e-06 - mae: 9.0637e-04\n",
            "Epoch 720/1000\n",
            "1/1 [==============================] - 0s 8ms/step - loss: 1.1075e-06 - mse: 1.1075e-06 - mae: 9.0322e-04\n",
            "Epoch 721/1000\n",
            "1/1 [==============================] - 0s 7ms/step - loss: 1.0999e-06 - mse: 1.0999e-06 - mae: 9.0017e-04\n",
            "Epoch 722/1000\n",
            "1/1 [==============================] - 0s 8ms/step - loss: 1.0918e-06 - mse: 1.0918e-06 - mae: 8.9664e-04\n",
            "Epoch 723/1000\n",
            "1/1 [==============================] - 0s 11ms/step - loss: 1.0853e-06 - mse: 1.0853e-06 - mae: 8.9417e-04\n",
            "Epoch 724/1000\n",
            "1/1 [==============================] - 0s 9ms/step - loss: 1.0767e-06 - mse: 1.0767e-06 - mae: 8.9045e-04\n",
            "Epoch 725/1000\n",
            "1/1 [==============================] - 0s 9ms/step - loss: 1.0697e-06 - mse: 1.0697e-06 - mae: 8.8768e-04\n",
            "Epoch 726/1000\n",
            "1/1 [==============================] - 0s 11ms/step - loss: 1.0630e-06 - mse: 1.0630e-06 - mae: 8.8501e-04\n",
            "Epoch 727/1000\n",
            "1/1 [==============================] - 0s 8ms/step - loss: 1.0559e-06 - mse: 1.0559e-06 - mae: 8.8205e-04\n",
            "Epoch 728/1000\n",
            "1/1 [==============================] - 0s 9ms/step - loss: 1.0488e-06 - mse: 1.0488e-06 - mae: 8.7910e-04\n",
            "Epoch 729/1000\n",
            "1/1 [==============================] - 0s 8ms/step - loss: 1.0418e-06 - mse: 1.0418e-06 - mae: 8.7614e-04\n",
            "Epoch 730/1000\n",
            "1/1 [==============================] - 0s 8ms/step - loss: 1.0344e-06 - mse: 1.0344e-06 - mae: 8.7290e-04\n",
            "Epoch 731/1000\n",
            "1/1 [==============================] - 0s 10ms/step - loss: 1.0275e-06 - mse: 1.0275e-06 - mae: 8.7013e-04\n",
            "Epoch 732/1000\n",
            "1/1 [==============================] - 0s 11ms/step - loss: 1.0206e-06 - mse: 1.0206e-06 - mae: 8.6718e-04\n",
            "Epoch 733/1000\n",
            "1/1 [==============================] - 0s 8ms/step - loss: 1.0141e-06 - mse: 1.0141e-06 - mae: 8.6451e-04\n",
            "Epoch 734/1000\n",
            "1/1 [==============================] - 0s 12ms/step - loss: 1.0070e-06 - mse: 1.0070e-06 - mae: 8.6136e-04\n",
            "Epoch 735/1000\n",
            "1/1 [==============================] - 0s 7ms/step - loss: 1.0006e-06 - mse: 1.0006e-06 - mae: 8.5869e-04\n",
            "Epoch 736/1000\n",
            "1/1 [==============================] - 0s 6ms/step - loss: 9.9347e-07 - mse: 9.9347e-07 - mae: 8.5564e-04\n",
            "Epoch 737/1000\n",
            "1/1 [==============================] - 0s 7ms/step - loss: 9.8640e-07 - mse: 9.8640e-07 - mae: 8.5249e-04\n",
            "Epoch 738/1000\n",
            "1/1 [==============================] - 0s 10ms/step - loss: 9.8005e-07 - mse: 9.8005e-07 - mae: 8.4982e-04\n",
            "Epoch 739/1000\n",
            "1/1 [==============================] - 0s 10ms/step - loss: 9.7391e-07 - mse: 9.7391e-07 - mae: 8.4724e-04\n",
            "Epoch 740/1000\n",
            "1/1 [==============================] - 0s 10ms/step - loss: 9.6691e-07 - mse: 9.6691e-07 - mae: 8.4419e-04\n",
            "Epoch 741/1000\n",
            "1/1 [==============================] - 0s 11ms/step - loss: 9.6082e-07 - mse: 9.6082e-07 - mae: 8.4162e-04\n",
            "Epoch 742/1000\n",
            "1/1 [==============================] - 0s 10ms/step - loss: 9.5377e-07 - mse: 9.5377e-07 - mae: 8.3828e-04\n",
            "Epoch 743/1000\n",
            "1/1 [==============================] - 0s 8ms/step - loss: 9.4745e-07 - mse: 9.4745e-07 - mae: 8.3561e-04\n",
            "Epoch 744/1000\n",
            "1/1 [==============================] - 0s 6ms/step - loss: 9.4142e-07 - mse: 9.4142e-07 - mae: 8.3303e-04\n",
            "Epoch 745/1000\n",
            "1/1 [==============================] - 0s 5ms/step - loss: 9.3471e-07 - mse: 9.3471e-07 - mae: 8.2989e-04\n",
            "Epoch 746/1000\n",
            "1/1 [==============================] - 0s 8ms/step - loss: 9.2824e-07 - mse: 9.2824e-07 - mae: 8.2703e-04\n",
            "Epoch 747/1000\n",
            "1/1 [==============================] - 0s 4ms/step - loss: 9.2208e-07 - mse: 9.2208e-07 - mae: 8.2436e-04\n",
            "Epoch 748/1000\n",
            "1/1 [==============================] - 0s 5ms/step - loss: 9.1597e-07 - mse: 9.1597e-07 - mae: 8.2159e-04\n",
            "Epoch 749/1000\n",
            "1/1 [==============================] - 0s 5ms/step - loss: 9.1015e-07 - mse: 9.1015e-07 - mae: 8.1902e-04\n",
            "Epoch 750/1000\n",
            "1/1 [==============================] - 0s 5ms/step - loss: 9.0362e-07 - mse: 9.0362e-07 - mae: 8.1596e-04\n",
            "Epoch 751/1000\n",
            "1/1 [==============================] - 0s 8ms/step - loss: 8.9753e-07 - mse: 8.9753e-07 - mae: 8.1329e-04\n",
            "Epoch 752/1000\n",
            "1/1 [==============================] - 0s 4ms/step - loss: 8.9187e-07 - mse: 8.9187e-07 - mae: 8.1062e-04\n",
            "Epoch 753/1000\n",
            "1/1 [==============================] - 0s 6ms/step - loss: 8.8541e-07 - mse: 8.8541e-07 - mae: 8.0757e-04\n",
            "Epoch 754/1000\n",
            "1/1 [==============================] - 0s 7ms/step - loss: 8.7923e-07 - mse: 8.7923e-07 - mae: 8.0471e-04\n",
            "Epoch 755/1000\n",
            "1/1 [==============================] - 0s 4ms/step - loss: 8.7348e-07 - mse: 8.7348e-07 - mae: 8.0214e-04\n",
            "Epoch 756/1000\n",
            "1/1 [==============================] - 0s 5ms/step - loss: 8.6753e-07 - mse: 8.6753e-07 - mae: 7.9937e-04\n",
            "Epoch 757/1000\n",
            "1/1 [==============================] - 0s 13ms/step - loss: 8.6157e-07 - mse: 8.6157e-07 - mae: 7.9670e-04\n",
            "Epoch 758/1000\n",
            "1/1 [==============================] - 0s 6ms/step - loss: 8.5630e-07 - mse: 8.5630e-07 - mae: 7.9432e-04\n",
            "Epoch 759/1000\n",
            "1/1 [==============================] - 0s 9ms/step - loss: 8.5023e-07 - mse: 8.5023e-07 - mae: 7.9145e-04\n",
            "Epoch 760/1000\n",
            "1/1 [==============================] - 0s 9ms/step - loss: 8.4476e-07 - mse: 8.4476e-07 - mae: 7.8897e-04\n",
            "Epoch 761/1000\n",
            "1/1 [==============================] - 0s 7ms/step - loss: 8.3882e-07 - mse: 8.3882e-07 - mae: 7.8602e-04\n",
            "Epoch 762/1000\n",
            "1/1 [==============================] - 0s 7ms/step - loss: 8.3276e-07 - mse: 8.3276e-07 - mae: 7.8316e-04\n",
            "Epoch 763/1000\n",
            "1/1 [==============================] - 0s 8ms/step - loss: 8.2721e-07 - mse: 8.2721e-07 - mae: 7.8058e-04\n",
            "Epoch 764/1000\n",
            "1/1 [==============================] - 0s 7ms/step - loss: 8.2182e-07 - mse: 8.2182e-07 - mae: 7.7810e-04\n",
            "Epoch 765/1000\n",
            "1/1 [==============================] - 0s 6ms/step - loss: 8.1649e-07 - mse: 8.1649e-07 - mae: 7.7562e-04\n",
            "Epoch 766/1000\n",
            "1/1 [==============================] - 0s 8ms/step - loss: 8.1051e-07 - mse: 8.1051e-07 - mae: 7.7276e-04\n",
            "Epoch 767/1000\n",
            "1/1 [==============================] - 0s 7ms/step - loss: 8.0522e-07 - mse: 8.0522e-07 - mae: 7.7028e-04\n",
            "Epoch 768/1000\n",
            "1/1 [==============================] - 0s 7ms/step - loss: 7.9989e-07 - mse: 7.9989e-07 - mae: 7.6780e-04\n",
            "Epoch 769/1000\n",
            "1/1 [==============================] - 0s 7ms/step - loss: 7.9471e-07 - mse: 7.9471e-07 - mae: 7.6523e-04\n",
            "Epoch 770/1000\n",
            "1/1 [==============================] - 0s 16ms/step - loss: 7.8943e-07 - mse: 7.8943e-07 - mae: 7.6275e-04\n",
            "Epoch 771/1000\n",
            "1/1 [==============================] - 0s 8ms/step - loss: 7.8421e-07 - mse: 7.8421e-07 - mae: 7.6027e-04\n",
            "Epoch 772/1000\n",
            "1/1 [==============================] - 0s 5ms/step - loss: 7.7839e-07 - mse: 7.7839e-07 - mae: 7.5741e-04\n",
            "Epoch 773/1000\n",
            "1/1 [==============================] - 0s 5ms/step - loss: 7.7316e-07 - mse: 7.7316e-07 - mae: 7.5493e-04\n",
            "Epoch 774/1000\n",
            "1/1 [==============================] - 0s 7ms/step - loss: 7.6845e-07 - mse: 7.6845e-07 - mae: 7.5264e-04\n",
            "Epoch 775/1000\n",
            "1/1 [==============================] - 0s 6ms/step - loss: 7.6315e-07 - mse: 7.6315e-07 - mae: 7.4997e-04\n",
            "Epoch 776/1000\n",
            "1/1 [==============================] - 0s 6ms/step - loss: 7.5789e-07 - mse: 7.5789e-07 - mae: 7.4730e-04\n",
            "Epoch 777/1000\n",
            "1/1 [==============================] - 0s 7ms/step - loss: 7.5226e-07 - mse: 7.5226e-07 - mae: 7.4463e-04\n",
            "Epoch 778/1000\n",
            "1/1 [==============================] - 0s 7ms/step - loss: 7.4761e-07 - mse: 7.4761e-07 - mae: 7.4234e-04\n",
            "Epoch 779/1000\n",
            "1/1 [==============================] - 0s 7ms/step - loss: 7.4238e-07 - mse: 7.4238e-07 - mae: 7.3967e-04\n",
            "Epoch 780/1000\n",
            "1/1 [==============================] - 0s 8ms/step - loss: 7.3777e-07 - mse: 7.3777e-07 - mae: 7.3738e-04\n",
            "Epoch 781/1000\n",
            "1/1 [==============================] - 0s 8ms/step - loss: 7.3317e-07 - mse: 7.3317e-07 - mae: 7.3509e-04\n",
            "Epoch 782/1000\n",
            "1/1 [==============================] - 0s 7ms/step - loss: 7.2755e-07 - mse: 7.2755e-07 - mae: 7.3223e-04\n",
            "Epoch 783/1000\n",
            "1/1 [==============================] - 0s 7ms/step - loss: 7.2285e-07 - mse: 7.2285e-07 - mae: 7.2975e-04\n",
            "Epoch 784/1000\n",
            "1/1 [==============================] - 0s 10ms/step - loss: 7.1792e-07 - mse: 7.1792e-07 - mae: 7.2746e-04\n",
            "Epoch 785/1000\n",
            "1/1 [==============================] - 0s 6ms/step - loss: 7.1318e-07 - mse: 7.1318e-07 - mae: 7.2479e-04\n",
            "Epoch 786/1000\n",
            "1/1 [==============================] - 0s 9ms/step - loss: 7.0828e-07 - mse: 7.0828e-07 - mae: 7.2250e-04\n",
            "Epoch 787/1000\n",
            "1/1 [==============================] - 0s 5ms/step - loss: 7.0357e-07 - mse: 7.0357e-07 - mae: 7.1983e-04\n",
            "Epoch 788/1000\n",
            "1/1 [==============================] - 0s 6ms/step - loss: 6.9870e-07 - mse: 6.9870e-07 - mae: 7.1754e-04\n",
            "Epoch 789/1000\n",
            "1/1 [==============================] - 0s 6ms/step - loss: 6.9402e-07 - mse: 6.9402e-07 - mae: 7.1487e-04\n",
            "Epoch 790/1000\n",
            "1/1 [==============================] - 0s 10ms/step - loss: 6.8911e-07 - mse: 6.8911e-07 - mae: 7.1239e-04\n",
            "Epoch 791/1000\n",
            "1/1 [==============================] - 0s 13ms/step - loss: 6.8446e-07 - mse: 6.8446e-07 - mae: 7.1001e-04\n",
            "Epoch 792/1000\n",
            "1/1 [==============================] - 0s 9ms/step - loss: 6.8019e-07 - mse: 6.8019e-07 - mae: 7.0782e-04\n",
            "Epoch 793/1000\n",
            "1/1 [==============================] - 0s 6ms/step - loss: 6.7569e-07 - mse: 6.7569e-07 - mae: 7.0562e-04\n",
            "Epoch 794/1000\n",
            "1/1 [==============================] - 0s 6ms/step - loss: 6.7072e-07 - mse: 6.7072e-07 - mae: 7.0295e-04\n",
            "Epoch 795/1000\n",
            "1/1 [==============================] - 0s 8ms/step - loss: 6.6629e-07 - mse: 6.6629e-07 - mae: 7.0066e-04\n",
            "Epoch 796/1000\n",
            "1/1 [==============================] - 0s 5ms/step - loss: 6.6218e-07 - mse: 6.6218e-07 - mae: 6.9847e-04\n",
            "Epoch 797/1000\n",
            "1/1 [==============================] - 0s 6ms/step - loss: 6.5731e-07 - mse: 6.5731e-07 - mae: 6.9580e-04\n",
            "Epoch 798/1000\n",
            "1/1 [==============================] - 0s 7ms/step - loss: 6.5292e-07 - mse: 6.5292e-07 - mae: 6.9351e-04\n",
            "Epoch 799/1000\n",
            "1/1 [==============================] - 0s 8ms/step - loss: 6.4855e-07 - mse: 6.4855e-07 - mae: 6.9122e-04\n",
            "Epoch 800/1000\n",
            "1/1 [==============================] - 0s 8ms/step - loss: 6.4403e-07 - mse: 6.4403e-07 - mae: 6.8884e-04\n",
            "Epoch 801/1000\n",
            "1/1 [==============================] - 0s 7ms/step - loss: 6.3965e-07 - mse: 6.3965e-07 - mae: 6.8636e-04\n",
            "Epoch 802/1000\n",
            "1/1 [==============================] - 0s 6ms/step - loss: 6.3544e-07 - mse: 6.3544e-07 - mae: 6.8426e-04\n",
            "Epoch 803/1000\n",
            "1/1 [==============================] - 0s 7ms/step - loss: 6.3101e-07 - mse: 6.3101e-07 - mae: 6.8188e-04\n",
            "Epoch 804/1000\n",
            "1/1 [==============================] - 0s 8ms/step - loss: 6.2697e-07 - mse: 6.2697e-07 - mae: 6.7968e-04\n",
            "Epoch 805/1000\n",
            "1/1 [==============================] - 0s 7ms/step - loss: 6.2281e-07 - mse: 6.2281e-07 - mae: 6.7759e-04\n",
            "Epoch 806/1000\n",
            "1/1 [==============================] - 0s 4ms/step - loss: 6.1903e-07 - mse: 6.1903e-07 - mae: 6.7549e-04\n",
            "Epoch 807/1000\n",
            "1/1 [==============================] - 0s 10ms/step - loss: 6.1424e-07 - mse: 6.1424e-07 - mae: 6.7282e-04\n",
            "Epoch 808/1000\n",
            "1/1 [==============================] - 0s 6ms/step - loss: 6.1029e-07 - mse: 6.1029e-07 - mae: 6.7062e-04\n",
            "Epoch 809/1000\n",
            "1/1 [==============================] - 0s 9ms/step - loss: 6.0607e-07 - mse: 6.0607e-07 - mae: 6.6833e-04\n",
            "Epoch 810/1000\n",
            "1/1 [==============================] - 0s 7ms/step - loss: 6.0215e-07 - mse: 6.0215e-07 - mae: 6.6614e-04\n",
            "Epoch 811/1000\n",
            "1/1 [==============================] - 0s 5ms/step - loss: 5.9824e-07 - mse: 5.9824e-07 - mae: 6.6395e-04\n",
            "Epoch 812/1000\n",
            "1/1 [==============================] - 0s 6ms/step - loss: 5.9364e-07 - mse: 5.9364e-07 - mae: 6.6147e-04\n",
            "Epoch 813/1000\n",
            "1/1 [==============================] - 0s 6ms/step - loss: 5.8977e-07 - mse: 5.8977e-07 - mae: 6.5928e-04\n",
            "Epoch 814/1000\n",
            "1/1 [==============================] - 0s 6ms/step - loss: 5.8613e-07 - mse: 5.8613e-07 - mae: 6.5737e-04\n",
            "Epoch 815/1000\n",
            "1/1 [==============================] - 0s 7ms/step - loss: 5.8203e-07 - mse: 5.8203e-07 - mae: 6.5508e-04\n",
            "Epoch 816/1000\n",
            "1/1 [==============================] - 0s 6ms/step - loss: 5.7819e-07 - mse: 5.7819e-07 - mae: 6.5289e-04\n",
            "Epoch 817/1000\n",
            "1/1 [==============================] - 0s 5ms/step - loss: 5.7395e-07 - mse: 5.7395e-07 - mae: 6.5041e-04\n",
            "Epoch 818/1000\n",
            "1/1 [==============================] - 0s 6ms/step - loss: 5.7014e-07 - mse: 5.7014e-07 - mae: 6.4821e-04\n",
            "Epoch 819/1000\n",
            "1/1 [==============================] - 0s 7ms/step - loss: 5.6660e-07 - mse: 5.6660e-07 - mae: 6.4631e-04\n",
            "Epoch 820/1000\n",
            "1/1 [==============================] - 0s 8ms/step - loss: 5.6281e-07 - mse: 5.6281e-07 - mae: 6.4411e-04\n",
            "Epoch 821/1000\n",
            "1/1 [==============================] - 0s 4ms/step - loss: 5.5863e-07 - mse: 5.5863e-07 - mae: 6.4163e-04\n",
            "Epoch 822/1000\n",
            "1/1 [==============================] - 0s 6ms/step - loss: 5.5498e-07 - mse: 5.5498e-07 - mae: 6.3963e-04\n",
            "Epoch 823/1000\n",
            "1/1 [==============================] - 0s 8ms/step - loss: 5.5138e-07 - mse: 5.5138e-07 - mae: 6.3753e-04\n",
            "Epoch 824/1000\n",
            "1/1 [==============================] - 0s 7ms/step - loss: 5.4803e-07 - mse: 5.4803e-07 - mae: 6.3553e-04\n",
            "Epoch 825/1000\n",
            "1/1 [==============================] - 0s 5ms/step - loss: 5.4379e-07 - mse: 5.4379e-07 - mae: 6.3295e-04\n",
            "Epoch 826/1000\n",
            "1/1 [==============================] - 0s 7ms/step - loss: 5.4023e-07 - mse: 5.4023e-07 - mae: 6.3086e-04\n",
            "Epoch 827/1000\n",
            "1/1 [==============================] - 0s 4ms/step - loss: 5.3691e-07 - mse: 5.3691e-07 - mae: 6.2885e-04\n",
            "Epoch 828/1000\n",
            "1/1 [==============================] - 0s 9ms/step - loss: 5.3294e-07 - mse: 5.3294e-07 - mae: 6.2656e-04\n",
            "Epoch 829/1000\n",
            "1/1 [==============================] - 0s 4ms/step - loss: 5.2941e-07 - mse: 5.2941e-07 - mae: 6.2447e-04\n",
            "Epoch 830/1000\n",
            "1/1 [==============================] - 0s 7ms/step - loss: 5.2609e-07 - mse: 5.2609e-07 - mae: 6.2256e-04\n",
            "Epoch 831/1000\n",
            "1/1 [==============================] - 0s 8ms/step - loss: 5.2223e-07 - mse: 5.2223e-07 - mae: 6.2017e-04\n",
            "Epoch 832/1000\n",
            "1/1 [==============================] - 0s 4ms/step - loss: 5.1855e-07 - mse: 5.1855e-07 - mae: 6.1798e-04\n",
            "Epoch 833/1000\n",
            "1/1 [==============================] - 0s 6ms/step - loss: 5.1516e-07 - mse: 5.1516e-07 - mae: 6.1588e-04\n",
            "Epoch 834/1000\n",
            "1/1 [==============================] - 0s 6ms/step - loss: 5.1139e-07 - mse: 5.1139e-07 - mae: 6.1378e-04\n",
            "Epoch 835/1000\n",
            "1/1 [==============================] - 0s 4ms/step - loss: 5.0830e-07 - mse: 5.0830e-07 - mae: 6.1188e-04\n",
            "Epoch 836/1000\n",
            "1/1 [==============================] - 0s 7ms/step - loss: 5.0519e-07 - mse: 5.0519e-07 - mae: 6.1007e-04\n",
            "Epoch 837/1000\n",
            "1/1 [==============================] - 0s 4ms/step - loss: 5.0158e-07 - mse: 5.0158e-07 - mae: 6.0787e-04\n",
            "Epoch 838/1000\n",
            "1/1 [==============================] - 0s 6ms/step - loss: 4.9794e-07 - mse: 4.9794e-07 - mae: 6.0549e-04\n",
            "Epoch 839/1000\n",
            "1/1 [==============================] - 0s 6ms/step - loss: 4.9494e-07 - mse: 4.9494e-07 - mae: 6.0387e-04\n",
            "Epoch 840/1000\n",
            "1/1 [==============================] - 0s 5ms/step - loss: 4.9150e-07 - mse: 4.9150e-07 - mae: 6.0177e-04\n",
            "Epoch 841/1000\n",
            "1/1 [==============================] - 0s 9ms/step - loss: 4.8796e-07 - mse: 4.8796e-07 - mae: 5.9958e-04\n",
            "Epoch 842/1000\n",
            "1/1 [==============================] - 0s 4ms/step - loss: 4.8441e-07 - mse: 4.8441e-07 - mae: 5.9738e-04\n",
            "Epoch 843/1000\n",
            "1/1 [==============================] - 0s 3ms/step - loss: 4.8123e-07 - mse: 4.8123e-07 - mae: 5.9538e-04\n",
            "Epoch 844/1000\n",
            "1/1 [==============================] - 0s 4ms/step - loss: 4.7832e-07 - mse: 4.7832e-07 - mae: 5.9376e-04\n",
            "Epoch 845/1000\n",
            "1/1 [==============================] - 0s 9ms/step - loss: 4.7486e-07 - mse: 4.7486e-07 - mae: 5.9147e-04\n",
            "Epoch 846/1000\n",
            "1/1 [==============================] - 0s 4ms/step - loss: 4.7168e-07 - mse: 4.7168e-07 - mae: 5.8956e-04\n",
            "Epoch 847/1000\n",
            "1/1 [==============================] - 0s 4ms/step - loss: 4.6832e-07 - mse: 4.6832e-07 - mae: 5.8746e-04\n",
            "Epoch 848/1000\n",
            "1/1 [==============================] - 0s 4ms/step - loss: 4.6541e-07 - mse: 4.6541e-07 - mae: 5.8556e-04\n",
            "Epoch 849/1000\n",
            "1/1 [==============================] - 0s 9ms/step - loss: 4.6226e-07 - mse: 4.6226e-07 - mae: 5.8365e-04\n",
            "Epoch 850/1000\n",
            "1/1 [==============================] - 0s 18ms/step - loss: 4.5930e-07 - mse: 4.5930e-07 - mae: 5.8184e-04\n",
            "Epoch 851/1000\n",
            "1/1 [==============================] - 0s 7ms/step - loss: 4.5620e-07 - mse: 4.5620e-07 - mae: 5.7983e-04\n",
            "Epoch 852/1000\n",
            "1/1 [==============================] - 0s 6ms/step - loss: 4.5299e-07 - mse: 4.5299e-07 - mae: 5.7774e-04\n",
            "Epoch 853/1000\n",
            "1/1 [==============================] - 0s 7ms/step - loss: 4.4983e-07 - mse: 4.4983e-07 - mae: 5.7583e-04\n",
            "Epoch 854/1000\n",
            "1/1 [==============================] - 0s 11ms/step - loss: 4.4687e-07 - mse: 4.4687e-07 - mae: 5.7402e-04\n",
            "Epoch 855/1000\n",
            "1/1 [==============================] - 0s 15ms/step - loss: 4.4386e-07 - mse: 4.4386e-07 - mae: 5.7201e-04\n",
            "Epoch 856/1000\n",
            "1/1 [==============================] - 0s 9ms/step - loss: 4.4082e-07 - mse: 4.4082e-07 - mae: 5.7001e-04\n",
            "Epoch 857/1000\n",
            "1/1 [==============================] - 0s 12ms/step - loss: 4.3830e-07 - mse: 4.3830e-07 - mae: 5.6839e-04\n",
            "Epoch 858/1000\n",
            "1/1 [==============================] - 0s 12ms/step - loss: 4.3482e-07 - mse: 4.3482e-07 - mae: 5.6601e-04\n",
            "Epoch 859/1000\n",
            "1/1 [==============================] - 0s 17ms/step - loss: 4.3240e-07 - mse: 4.3240e-07 - mae: 5.6458e-04\n",
            "Epoch 860/1000\n",
            "1/1 [==============================] - 0s 11ms/step - loss: 4.2895e-07 - mse: 4.2895e-07 - mae: 5.6219e-04\n",
            "Epoch 861/1000\n",
            "1/1 [==============================] - 0s 10ms/step - loss: 4.2654e-07 - mse: 4.2654e-07 - mae: 5.6076e-04\n",
            "Epoch 862/1000\n",
            "1/1 [==============================] - 0s 12ms/step - loss: 4.2324e-07 - mse: 4.2324e-07 - mae: 5.5847e-04\n",
            "Epoch 863/1000\n",
            "1/1 [==============================] - 0s 9ms/step - loss: 4.2085e-07 - mse: 4.2085e-07 - mae: 5.5704e-04\n",
            "Epoch 864/1000\n",
            "1/1 [==============================] - 0s 17ms/step - loss: 4.1769e-07 - mse: 4.1769e-07 - mae: 5.5475e-04\n",
            "Epoch 865/1000\n",
            "1/1 [==============================] - 0s 15ms/step - loss: 4.1496e-07 - mse: 4.1496e-07 - mae: 5.5304e-04\n",
            "Epoch 866/1000\n",
            "1/1 [==============================] - 0s 8ms/step - loss: 4.1206e-07 - mse: 4.1206e-07 - mae: 5.5103e-04\n",
            "Epoch 867/1000\n",
            "1/1 [==============================] - 0s 12ms/step - loss: 4.0947e-07 - mse: 4.0947e-07 - mae: 5.4932e-04\n",
            "Epoch 868/1000\n",
            "1/1 [==============================] - 0s 11ms/step - loss: 4.0667e-07 - mse: 4.0667e-07 - mae: 5.4741e-04\n",
            "Epoch 869/1000\n",
            "1/1 [==============================] - 0s 13ms/step - loss: 4.0389e-07 - mse: 4.0389e-07 - mae: 5.4560e-04\n",
            "Epoch 870/1000\n",
            "1/1 [==============================] - 0s 11ms/step - loss: 4.0123e-07 - mse: 4.0123e-07 - mae: 5.4369e-04\n",
            "Epoch 871/1000\n",
            "1/1 [==============================] - 0s 12ms/step - loss: 3.9876e-07 - mse: 3.9876e-07 - mae: 5.4207e-04\n",
            "Epoch 872/1000\n",
            "1/1 [==============================] - 0s 19ms/step - loss: 3.9561e-07 - mse: 3.9561e-07 - mae: 5.3978e-04\n",
            "Epoch 873/1000\n",
            "1/1 [==============================] - 0s 22ms/step - loss: 3.9286e-07 - mse: 3.9286e-07 - mae: 5.3797e-04\n",
            "Epoch 874/1000\n",
            "1/1 [==============================] - 0s 8ms/step - loss: 3.9024e-07 - mse: 3.9024e-07 - mae: 5.3606e-04\n",
            "Epoch 875/1000\n",
            "1/1 [==============================] - 0s 11ms/step - loss: 3.8784e-07 - mse: 3.8784e-07 - mae: 5.3444e-04\n",
            "Epoch 876/1000\n",
            "1/1 [==============================] - 0s 6ms/step - loss: 3.8484e-07 - mse: 3.8484e-07 - mae: 5.3234e-04\n",
            "Epoch 877/1000\n",
            "1/1 [==============================] - 0s 5ms/step - loss: 3.8226e-07 - mse: 3.8226e-07 - mae: 5.3062e-04\n",
            "Epoch 878/1000\n",
            "1/1 [==============================] - 0s 7ms/step - loss: 3.8031e-07 - mse: 3.8031e-07 - mae: 5.2938e-04\n",
            "Epoch 879/1000\n",
            "1/1 [==============================] - 0s 6ms/step - loss: 3.7743e-07 - mse: 3.7743e-07 - mae: 5.2719e-04\n",
            "Epoch 880/1000\n",
            "1/1 [==============================] - 0s 10ms/step - loss: 3.7501e-07 - mse: 3.7501e-07 - mae: 5.2567e-04\n",
            "Epoch 881/1000\n",
            "1/1 [==============================] - 0s 7ms/step - loss: 3.7215e-07 - mse: 3.7215e-07 - mae: 5.2347e-04\n",
            "Epoch 882/1000\n",
            "1/1 [==============================] - 0s 7ms/step - loss: 3.6984e-07 - mse: 3.6984e-07 - mae: 5.2204e-04\n",
            "Epoch 883/1000\n",
            "1/1 [==============================] - 0s 12ms/step - loss: 3.6703e-07 - mse: 3.6703e-07 - mae: 5.1985e-04\n",
            "Epoch 884/1000\n",
            "1/1 [==============================] - 0s 9ms/step - loss: 3.6468e-07 - mse: 3.6468e-07 - mae: 5.1823e-04\n",
            "Epoch 885/1000\n",
            "1/1 [==============================] - 0s 7ms/step - loss: 3.6262e-07 - mse: 3.6262e-07 - mae: 5.1689e-04\n",
            "Epoch 886/1000\n",
            "1/1 [==============================] - 0s 8ms/step - loss: 3.5964e-07 - mse: 3.5964e-07 - mae: 5.1460e-04\n",
            "Epoch 887/1000\n",
            "1/1 [==============================] - 0s 7ms/step - loss: 3.5751e-07 - mse: 3.5751e-07 - mae: 5.1308e-04\n",
            "Epoch 888/1000\n",
            "1/1 [==============================] - 0s 8ms/step - loss: 3.5527e-07 - mse: 3.5527e-07 - mae: 5.1165e-04\n",
            "Epoch 889/1000\n",
            "1/1 [==============================] - 0s 8ms/step - loss: 3.5255e-07 - mse: 3.5255e-07 - mae: 5.0964e-04\n",
            "Epoch 890/1000\n",
            "1/1 [==============================] - 0s 8ms/step - loss: 3.5049e-07 - mse: 3.5049e-07 - mae: 5.0812e-04\n",
            "Epoch 891/1000\n",
            "1/1 [==============================] - 0s 11ms/step - loss: 3.4800e-07 - mse: 3.4800e-07 - mae: 5.0640e-04\n",
            "Epoch 892/1000\n",
            "1/1 [==============================] - 0s 9ms/step - loss: 3.4549e-07 - mse: 3.4549e-07 - mae: 5.0449e-04\n",
            "Epoch 893/1000\n",
            "1/1 [==============================] - 0s 9ms/step - loss: 3.4349e-07 - mse: 3.4349e-07 - mae: 5.0316e-04\n",
            "Epoch 894/1000\n",
            "1/1 [==============================] - 0s 9ms/step - loss: 3.4084e-07 - mse: 3.4084e-07 - mae: 5.0116e-04\n",
            "Epoch 895/1000\n",
            "1/1 [==============================] - 0s 8ms/step - loss: 3.3848e-07 - mse: 3.3848e-07 - mae: 4.9934e-04\n",
            "Epoch 896/1000\n",
            "1/1 [==============================] - 0s 8ms/step - loss: 3.3650e-07 - mse: 3.3650e-07 - mae: 4.9801e-04\n",
            "Epoch 897/1000\n",
            "1/1 [==============================] - 0s 11ms/step - loss: 3.3430e-07 - mse: 3.3430e-07 - mae: 4.9639e-04\n",
            "Epoch 898/1000\n",
            "1/1 [==============================] - 0s 9ms/step - loss: 3.3196e-07 - mse: 3.3196e-07 - mae: 4.9458e-04\n",
            "Epoch 899/1000\n",
            "1/1 [==============================] - 0s 8ms/step - loss: 3.2961e-07 - mse: 3.2961e-07 - mae: 4.9286e-04\n",
            "Epoch 900/1000\n",
            "1/1 [==============================] - 0s 12ms/step - loss: 3.2737e-07 - mse: 3.2737e-07 - mae: 4.9124e-04\n",
            "Epoch 901/1000\n",
            "1/1 [==============================] - 0s 10ms/step - loss: 3.2498e-07 - mse: 3.2498e-07 - mae: 4.8933e-04\n",
            "Epoch 902/1000\n",
            "1/1 [==============================] - 0s 11ms/step - loss: 3.2315e-07 - mse: 3.2315e-07 - mae: 4.8809e-04\n",
            "Epoch 903/1000\n",
            "1/1 [==============================] - 0s 9ms/step - loss: 3.2076e-07 - mse: 3.2076e-07 - mae: 4.8618e-04\n",
            "Epoch 904/1000\n",
            "1/1 [==============================] - 0s 9ms/step - loss: 3.1847e-07 - mse: 3.1847e-07 - mae: 4.8437e-04\n",
            "Epoch 905/1000\n",
            "1/1 [==============================] - 0s 10ms/step - loss: 3.1658e-07 - mse: 3.1658e-07 - mae: 4.8304e-04\n",
            "Epoch 906/1000\n",
            "1/1 [==============================] - 0s 6ms/step - loss: 3.1439e-07 - mse: 3.1439e-07 - mae: 4.8141e-04\n",
            "Epoch 907/1000\n",
            "1/1 [==============================] - 0s 8ms/step - loss: 3.1247e-07 - mse: 3.1247e-07 - mae: 4.8008e-04\n",
            "Epoch 908/1000\n",
            "1/1 [==============================] - 0s 8ms/step - loss: 3.1062e-07 - mse: 3.1062e-07 - mae: 4.7865e-04\n",
            "Epoch 909/1000\n",
            "1/1 [==============================] - 0s 9ms/step - loss: 3.0799e-07 - mse: 3.0799e-07 - mae: 4.7646e-04\n",
            "Epoch 910/1000\n",
            "1/1 [==============================] - 0s 10ms/step - loss: 3.0613e-07 - mse: 3.0613e-07 - mae: 4.7512e-04\n",
            "Epoch 911/1000\n",
            "1/1 [==============================] - 0s 8ms/step - loss: 3.0397e-07 - mse: 3.0397e-07 - mae: 4.7350e-04\n",
            "Epoch 912/1000\n",
            "1/1 [==============================] - 0s 11ms/step - loss: 3.0192e-07 - mse: 3.0192e-07 - mae: 4.7178e-04\n",
            "Epoch 913/1000\n",
            "1/1 [==============================] - 0s 13ms/step - loss: 3.0013e-07 - mse: 3.0013e-07 - mae: 4.7035e-04\n",
            "Epoch 914/1000\n",
            "1/1 [==============================] - 0s 10ms/step - loss: 2.9817e-07 - mse: 2.9817e-07 - mae: 4.6883e-04\n",
            "Epoch 915/1000\n",
            "1/1 [==============================] - 0s 11ms/step - loss: 2.9599e-07 - mse: 2.9599e-07 - mae: 4.6701e-04\n",
            "Epoch 916/1000\n",
            "1/1 [==============================] - 0s 8ms/step - loss: 2.9382e-07 - mse: 2.9382e-07 - mae: 4.6520e-04\n",
            "Epoch 917/1000\n",
            "1/1 [==============================] - 0s 9ms/step - loss: 2.9197e-07 - mse: 2.9197e-07 - mae: 4.6387e-04\n",
            "Epoch 918/1000\n",
            "1/1 [==============================] - 0s 6ms/step - loss: 2.9012e-07 - mse: 2.9012e-07 - mae: 4.6253e-04\n",
            "Epoch 919/1000\n",
            "1/1 [==============================] - 0s 7ms/step - loss: 2.8797e-07 - mse: 2.8797e-07 - mae: 4.6072e-04\n",
            "Epoch 920/1000\n",
            "1/1 [==============================] - 0s 7ms/step - loss: 2.8583e-07 - mse: 2.8583e-07 - mae: 4.5891e-04\n",
            "Epoch 921/1000\n",
            "1/1 [==============================] - 0s 6ms/step - loss: 2.8392e-07 - mse: 2.8392e-07 - mae: 4.5738e-04\n",
            "Epoch 922/1000\n",
            "1/1 [==============================] - 0s 9ms/step - loss: 2.8242e-07 - mse: 2.8242e-07 - mae: 4.5624e-04\n",
            "Epoch 923/1000\n",
            "1/1 [==============================] - 0s 6ms/step - loss: 2.8007e-07 - mse: 2.8007e-07 - mae: 4.5414e-04\n",
            "Epoch 924/1000\n",
            "1/1 [==============================] - 0s 7ms/step - loss: 2.7851e-07 - mse: 2.7851e-07 - mae: 4.5300e-04\n",
            "Epoch 925/1000\n",
            "1/1 [==============================] - 0s 6ms/step - loss: 2.7663e-07 - mse: 2.7663e-07 - mae: 4.5147e-04\n",
            "Epoch 926/1000\n",
            "1/1 [==============================] - 0s 7ms/step - loss: 2.7478e-07 - mse: 2.7478e-07 - mae: 4.4994e-04\n",
            "Epoch 927/1000\n",
            "1/1 [==============================] - 0s 7ms/step - loss: 2.7287e-07 - mse: 2.7287e-07 - mae: 4.4842e-04\n",
            "Epoch 928/1000\n",
            "1/1 [==============================] - 0s 7ms/step - loss: 2.7093e-07 - mse: 2.7093e-07 - mae: 4.4670e-04\n",
            "Epoch 929/1000\n",
            "1/1 [==============================] - 0s 7ms/step - loss: 2.6910e-07 - mse: 2.6910e-07 - mae: 4.4518e-04\n",
            "Epoch 930/1000\n",
            "1/1 [==============================] - 0s 8ms/step - loss: 2.6727e-07 - mse: 2.6727e-07 - mae: 4.4365e-04\n",
            "Epoch 931/1000\n",
            "1/1 [==============================] - 0s 9ms/step - loss: 2.6545e-07 - mse: 2.6545e-07 - mae: 4.4203e-04\n",
            "Epoch 932/1000\n",
            "1/1 [==============================] - 0s 6ms/step - loss: 2.6364e-07 - mse: 2.6364e-07 - mae: 4.4050e-04\n",
            "Epoch 933/1000\n",
            "1/1 [==============================] - 0s 7ms/step - loss: 2.6199e-07 - mse: 2.6199e-07 - mae: 4.3926e-04\n",
            "Epoch 934/1000\n",
            "1/1 [==============================] - 0s 9ms/step - loss: 2.6019e-07 - mse: 2.6019e-07 - mae: 4.3774e-04\n",
            "Epoch 935/1000\n",
            "1/1 [==============================] - 0s 11ms/step - loss: 2.5847e-07 - mse: 2.5847e-07 - mae: 4.3631e-04\n",
            "Epoch 936/1000\n",
            "1/1 [==============================] - 0s 11ms/step - loss: 2.5656e-07 - mse: 2.5656e-07 - mae: 4.3468e-04\n",
            "Epoch 937/1000\n",
            "1/1 [==============================] - 0s 7ms/step - loss: 2.5523e-07 - mse: 2.5523e-07 - mae: 4.3364e-04\n",
            "Epoch 938/1000\n",
            "1/1 [==============================] - 0s 9ms/step - loss: 2.5303e-07 - mse: 2.5303e-07 - mae: 4.3154e-04\n",
            "Epoch 939/1000\n",
            "1/1 [==============================] - 0s 8ms/step - loss: 2.5139e-07 - mse: 2.5139e-07 - mae: 4.3030e-04\n",
            "Epoch 940/1000\n",
            "1/1 [==============================] - 0s 6ms/step - loss: 2.4962e-07 - mse: 2.4962e-07 - mae: 4.2877e-04\n",
            "Epoch 941/1000\n",
            "1/1 [==============================] - 0s 6ms/step - loss: 2.4784e-07 - mse: 2.4784e-07 - mae: 4.2725e-04\n",
            "Epoch 942/1000\n",
            "1/1 [==============================] - 0s 6ms/step - loss: 2.4640e-07 - mse: 2.4640e-07 - mae: 4.2610e-04\n",
            "Epoch 943/1000\n",
            "1/1 [==============================] - 0s 8ms/step - loss: 2.4476e-07 - mse: 2.4476e-07 - mae: 4.2467e-04\n",
            "Epoch 944/1000\n",
            "1/1 [==============================] - 0s 11ms/step - loss: 2.4312e-07 - mse: 2.4312e-07 - mae: 4.2324e-04\n",
            "Epoch 945/1000\n",
            "1/1 [==============================] - 0s 7ms/step - loss: 2.4118e-07 - mse: 2.4118e-07 - mae: 4.2143e-04\n",
            "Epoch 946/1000\n",
            "1/1 [==============================] - 0s 7ms/step - loss: 2.3984e-07 - mse: 2.3984e-07 - mae: 4.2048e-04\n",
            "Epoch 947/1000\n",
            "1/1 [==============================] - 0s 8ms/step - loss: 2.3812e-07 - mse: 2.3812e-07 - mae: 4.1885e-04\n",
            "Epoch 948/1000\n",
            "1/1 [==============================] - 0s 6ms/step - loss: 2.3666e-07 - mse: 2.3666e-07 - mae: 4.1752e-04\n",
            "Epoch 949/1000\n",
            "1/1 [==============================] - 0s 8ms/step - loss: 2.3492e-07 - mse: 2.3492e-07 - mae: 4.1599e-04\n",
            "Epoch 950/1000\n",
            "1/1 [==============================] - 0s 7ms/step - loss: 2.3352e-07 - mse: 2.3352e-07 - mae: 4.1485e-04\n",
            "Epoch 951/1000\n",
            "1/1 [==============================] - 0s 6ms/step - loss: 2.3192e-07 - mse: 2.3192e-07 - mae: 4.1342e-04\n",
            "Epoch 952/1000\n",
            "1/1 [==============================] - 0s 7ms/step - loss: 2.3020e-07 - mse: 2.3020e-07 - mae: 4.1189e-04\n",
            "Epoch 953/1000\n",
            "1/1 [==============================] - 0s 9ms/step - loss: 2.2882e-07 - mse: 2.2882e-07 - mae: 4.1075e-04\n",
            "Epoch 954/1000\n",
            "1/1 [==============================] - 0s 7ms/step - loss: 2.2698e-07 - mse: 2.2698e-07 - mae: 4.0884e-04\n",
            "Epoch 955/1000\n",
            "1/1 [==============================] - 0s 6ms/step - loss: 2.2568e-07 - mse: 2.2568e-07 - mae: 4.0789e-04\n",
            "Epoch 956/1000\n",
            "1/1 [==============================] - 0s 6ms/step - loss: 2.2403e-07 - mse: 2.2403e-07 - mae: 4.0627e-04\n",
            "Epoch 957/1000\n",
            "1/1 [==============================] - 0s 6ms/step - loss: 2.2242e-07 - mse: 2.2242e-07 - mae: 4.0493e-04\n",
            "Epoch 958/1000\n",
            "1/1 [==============================] - 0s 6ms/step - loss: 2.2116e-07 - mse: 2.2116e-07 - mae: 4.0369e-04\n",
            "Epoch 959/1000\n",
            "1/1 [==============================] - 0s 6ms/step - loss: 2.1948e-07 - mse: 2.1948e-07 - mae: 4.0216e-04\n",
            "Epoch 960/1000\n",
            "1/1 [==============================] - 0s 5ms/step - loss: 2.1823e-07 - mse: 2.1823e-07 - mae: 4.0112e-04\n",
            "Epoch 961/1000\n",
            "1/1 [==============================] - 0s 6ms/step - loss: 2.1651e-07 - mse: 2.1651e-07 - mae: 3.9940e-04\n",
            "Epoch 962/1000\n",
            "1/1 [==============================] - 0s 8ms/step - loss: 2.1516e-07 - mse: 2.1516e-07 - mae: 3.9825e-04\n",
            "Epoch 963/1000\n",
            "1/1 [==============================] - 0s 6ms/step - loss: 2.1351e-07 - mse: 2.1351e-07 - mae: 3.9673e-04\n",
            "Epoch 964/1000\n",
            "1/1 [==============================] - 0s 7ms/step - loss: 2.1242e-07 - mse: 2.1242e-07 - mae: 3.9577e-04\n",
            "Epoch 965/1000\n",
            "1/1 [==============================] - 0s 5ms/step - loss: 2.1106e-07 - mse: 2.1106e-07 - mae: 3.9444e-04\n",
            "Epoch 966/1000\n",
            "1/1 [==============================] - 0s 7ms/step - loss: 2.0951e-07 - mse: 2.0951e-07 - mae: 3.9301e-04\n",
            "Epoch 967/1000\n",
            "1/1 [==============================] - 0s 8ms/step - loss: 2.0803e-07 - mse: 2.0803e-07 - mae: 3.9158e-04\n",
            "Epoch 968/1000\n",
            "1/1 [==============================] - 0s 9ms/step - loss: 2.0680e-07 - mse: 2.0680e-07 - mae: 3.9053e-04\n",
            "Epoch 969/1000\n",
            "1/1 [==============================] - 0s 6ms/step - loss: 2.0535e-07 - mse: 2.0535e-07 - mae: 3.8910e-04\n",
            "Epoch 970/1000\n",
            "1/1 [==============================] - 0s 11ms/step - loss: 2.0414e-07 - mse: 2.0414e-07 - mae: 3.8805e-04\n",
            "Epoch 971/1000\n",
            "1/1 [==============================] - 0s 6ms/step - loss: 2.0240e-07 - mse: 2.0240e-07 - mae: 3.8614e-04\n",
            "Epoch 972/1000\n",
            "1/1 [==============================] - 0s 7ms/step - loss: 2.0141e-07 - mse: 2.0141e-07 - mae: 3.8538e-04\n",
            "Epoch 973/1000\n",
            "1/1 [==============================] - 0s 10ms/step - loss: 1.9976e-07 - mse: 1.9976e-07 - mae: 3.8366e-04\n",
            "Epoch 974/1000\n",
            "1/1 [==============================] - 0s 7ms/step - loss: 1.9878e-07 - mse: 1.9878e-07 - mae: 3.8290e-04\n",
            "Epoch 975/1000\n",
            "1/1 [==============================] - 0s 12ms/step - loss: 1.9695e-07 - mse: 1.9695e-07 - mae: 3.8090e-04\n",
            "Epoch 976/1000\n",
            "1/1 [==============================] - 0s 9ms/step - loss: 1.9585e-07 - mse: 1.9585e-07 - mae: 3.8004e-04\n",
            "Epoch 977/1000\n",
            "1/1 [==============================] - 0s 7ms/step - loss: 1.9444e-07 - mse: 1.9444e-07 - mae: 3.7851e-04\n",
            "Epoch 978/1000\n",
            "1/1 [==============================] - 0s 5ms/step - loss: 1.9346e-07 - mse: 1.9346e-07 - mae: 3.7775e-04\n",
            "Epoch 979/1000\n",
            "1/1 [==============================] - 0s 5ms/step - loss: 1.9194e-07 - mse: 1.9194e-07 - mae: 3.7613e-04\n",
            "Epoch 980/1000\n",
            "1/1 [==============================] - 0s 8ms/step - loss: 1.9058e-07 - mse: 1.9058e-07 - mae: 3.7489e-04\n",
            "Epoch 981/1000\n",
            "1/1 [==============================] - 0s 5ms/step - loss: 1.8921e-07 - mse: 1.8921e-07 - mae: 3.7336e-04\n",
            "Epoch 982/1000\n",
            "1/1 [==============================] - 0s 8ms/step - loss: 1.8825e-07 - mse: 1.8825e-07 - mae: 3.7260e-04\n",
            "Epoch 983/1000\n",
            "1/1 [==============================] - 0s 10ms/step - loss: 1.8677e-07 - mse: 1.8677e-07 - mae: 3.7098e-04\n",
            "Epoch 984/1000\n",
            "1/1 [==============================] - 0s 5ms/step - loss: 1.8570e-07 - mse: 1.8570e-07 - mae: 3.7012e-04\n",
            "Epoch 985/1000\n",
            "1/1 [==============================] - 0s 8ms/step - loss: 1.8403e-07 - mse: 1.8403e-07 - mae: 3.6821e-04\n",
            "Epoch 986/1000\n",
            "1/1 [==============================] - 0s 7ms/step - loss: 1.8310e-07 - mse: 1.8310e-07 - mae: 3.6745e-04\n",
            "Epoch 987/1000\n",
            "1/1 [==============================] - 0s 7ms/step - loss: 1.8173e-07 - mse: 1.8173e-07 - mae: 3.6592e-04\n",
            "Epoch 988/1000\n",
            "1/1 [==============================] - 0s 10ms/step - loss: 1.8081e-07 - mse: 1.8081e-07 - mae: 3.6516e-04\n",
            "Epoch 989/1000\n",
            "1/1 [==============================] - 0s 9ms/step - loss: 1.7916e-07 - mse: 1.7916e-07 - mae: 3.6325e-04\n",
            "Epoch 990/1000\n",
            "1/1 [==============================] - 0s 6ms/step - loss: 1.7825e-07 - mse: 1.7825e-07 - mae: 3.6249e-04\n",
            "Epoch 991/1000\n",
            "1/1 [==============================] - 0s 6ms/step - loss: 1.7690e-07 - mse: 1.7690e-07 - mae: 3.6097e-04\n",
            "Epoch 992/1000\n",
            "1/1 [==============================] - 0s 7ms/step - loss: 1.7599e-07 - mse: 1.7599e-07 - mae: 3.6020e-04\n",
            "Epoch 993/1000\n",
            "1/1 [==============================] - 0s 8ms/step - loss: 1.7436e-07 - mse: 1.7436e-07 - mae: 3.5830e-04\n",
            "Epoch 994/1000\n",
            "1/1 [==============================] - 0s 8ms/step - loss: 1.7346e-07 - mse: 1.7346e-07 - mae: 3.5753e-04\n",
            "Epoch 995/1000\n",
            "1/1 [==============================] - 0s 4ms/step - loss: 1.7213e-07 - mse: 1.7213e-07 - mae: 3.5601e-04\n",
            "Epoch 996/1000\n",
            "1/1 [==============================] - 0s 18ms/step - loss: 1.7123e-07 - mse: 1.7123e-07 - mae: 3.5524e-04\n",
            "Epoch 997/1000\n",
            "1/1 [==============================] - 0s 6ms/step - loss: 1.6963e-07 - mse: 1.6963e-07 - mae: 3.5334e-04\n",
            "Epoch 998/1000\n",
            "1/1 [==============================] - 0s 8ms/step - loss: 1.6882e-07 - mse: 1.6882e-07 - mae: 3.5267e-04\n",
            "Epoch 999/1000\n",
            "1/1 [==============================] - 0s 7ms/step - loss: 1.6764e-07 - mse: 1.6764e-07 - mae: 3.5124e-04\n",
            "Epoch 1000/1000\n",
            "1/1 [==============================] - 0s 9ms/step - loss: 1.6647e-07 - mse: 1.6647e-07 - mae: 3.5009e-04\n"
          ]
        }
      ]
    },
    {
      "cell_type": "code",
      "source": [
        "plt.plot(history.history['loss'],label='loss')\n",
        "plt.plot(history.history['mae'], label='mae')\n",
        "#epoch 별 훈련 손실 및 평가 지표의 시각화\n",
        "#앞 부분의 에폭은 손실이 급격히 감소하는 것을 확인할 수 있음."
      ],
      "metadata": {
        "colab": {
          "base_uri": "https://localhost:8080/",
          "height": 283
        },
        "id": "DJjpULa8CjCc",
        "outputId": "ded5d6a0-b228-4b0b-8a05-38c7447efe2e"
      },
      "execution_count": 589,
      "outputs": [
        {
          "output_type": "execute_result",
          "data": {
            "text/plain": [
              "[<matplotlib.lines.Line2D at 0x7fd410648990>]"
            ]
          },
          "metadata": {},
          "execution_count": 589
        },
        {
          "output_type": "display_data",
          "data": {
            "image/png": "[encoded data removed]",
            "text/plain": [
              "<Figure size 432x288 with 1 Axes>"
            ]
          },
          "metadata": {
            "needs_background": "light"
          }
        }
      ]
    },
    {
      "cell_type": "code",
      "source": [
        "plt.plot(history.history['loss'],label='loss')\n",
        "plt.plot(history.history['mae'], label='mae')\n",
        "plt.xlim(-1,20)\n",
        "plt.legend()\n",
        "# 5에폭까지는 손실이 급격히 갑소하다가 감소폭이 둔화되면서 조금씩 감소되는 것을 확인할 수 있음.\n",
        "# 즉, 모델 훈련 초기 단계에는 학습이 매우 빠른 속도로 진행되다가 일정 에폭 이후에는 학습 속도가 느려지는 패턴이 보임."
      ],
      "metadata": {
        "colab": {
          "base_uri": "https://localhost:8080/",
          "height": 283
        },
        "id": "MNCimVeJF24k",
        "outputId": "1cb0f65c-b8f8-4c9a-b93d-543a2591e925"
      },
      "execution_count": 590,
      "outputs": [
        {
          "output_type": "execute_result",
          "data": {
            "text/plain": [
              "<matplotlib.legend.Legend at 0x7fd4106f6650>"
            ]
          },
          "metadata": {},
          "execution_count": 590
        },
        {
          "output_type": "display_data",
          "data": {
            "image/png": "[encoded data removed]",
            "text/plain": [
              "<Figure size 432x288 with 1 Axes>"
            ]
          },
          "metadata": {
            "needs_background": "light"
          }
        }
      ]
    },
    {
      "cell_type": "code",
      "source": [
        "#검증\n",
        "model.evaluate(x,y) #일반적으로 검증 데이터 셋을 입력하여 검증함. 여기서는 별도의 검증 데이터 셋을 만들지 않아서 훈련 데이터를 대입하여 결과를 확인함.\n",
        "# 두 개의 지표 loss 와 mse 를 확인.\n",
        "# 사전에 검증 데이터를 준비하여 훈련용과 검증용으로 나눈 성능을 평가하는 것이 일반적임. 이런 방법을 교차 검증 cross validation 이라고 함."
      ],
      "metadata": {
        "colab": {
          "base_uri": "https://localhost:8080/"
        },
        "id": "pKi5NB1cGapq",
        "outputId": "8aaec1af-85a2-489a-d6f3-59986c85dbb5"
      },
      "execution_count": 582,
      "outputs": [
        {
          "output_type": "stream",
          "name": "stdout",
          "text": [
            "1/1 [==============================] - 0s 152ms/step - loss: 1.4410e-04 - mse: 1.4410e-04 - mae: 0.0103\n"
          ]
        },
        {
          "output_type": "execute_result",
          "data": {
            "text/plain": [
              "[0.0001441033382434398, 0.0001441033382434398, 0.010303497314453125]"
            ]
          },
          "metadata": {},
          "execution_count": 582
        }
      ]
    },
    {
      "cell_type": "code",
      "source": [
        "#예측\n",
        "#훈력이 완료된 모델의 결과에 predict() 메소드를 사용하여 새로운 입력 데이터를 넣어 주면 모델의 예측값을 얻게 됨.\n",
        "#모델이 예측 결과로 출력하는 값은 32.0...임. 데이터 셋 생성할 때 정의한 y=3x+2 x=10일 때 y를 예측한 것. 수학으로 계산한 것이 아니라 예측을 한 것임. 근사값을 잘 예측함."
      ],
      "metadata": {
        "id": "y99sl3be7lMq"
      },
      "execution_count": 583,
      "outputs": []
    },
    {
      "cell_type": "code",
      "source": [
        "model.predict([10])"
      ],
      "metadata": {
        "colab": {
          "base_uri": "https://localhost:8080/"
        },
        "id": "yR_Z-OOtvh4I",
        "outputId": "ee3570a5-f531-4f83-b63e-a9106384bb6d"
      },
      "execution_count": 584,
      "outputs": [
        {
          "output_type": "execute_result",
          "data": {
            "text/plain": [
              "array([[32.049797]], dtype=float32)"
            ]
          },
          "metadata": {},
          "execution_count": 584
        }
      ]
    },
    {
      "cell_type": "code",
      "source": [
        "model.predict([6])"
      ],
      "metadata": {
        "colab": {
          "base_uri": "https://localhost:8080/"
        },
        "id": "cUqOZ8I9JYb5",
        "outputId": "514be040-a7c5-4b17-cd0e-e8f1fc0e0c08"
      },
      "execution_count": 585,
      "outputs": [
        {
          "output_type": "execute_result",
          "data": {
            "text/plain": [
              "array([[20.018623]], dtype=float32)"
            ]
          },
          "metadata": {},
          "execution_count": 585
        }
      ]
    },
    {
      "cell_type": "code",
      "source": [
        "#MNIST CNN 강사님 사이트 텐서플로 교재에 있는 내용 꼭 공부하기! 그럼 기초 끝!"
      ],
      "metadata": {
        "id": "VYq7AwjUKdou"
      },
      "execution_count": 585,
      "outputs": []
    },
    {
      "cell_type": "code",
      "source": [
        ""
      ],
      "metadata": {
        "id": "7yuYMw9xuxcX"
      },
      "execution_count": 585,
      "outputs": []
    },
    {
      "cell_type": "code",
      "source": [
        ""
      ],
      "metadata": {
        "id": "Be2ZWdj6hhqH"
      },
      "execution_count": 585,
      "outputs": []
    },
    {
      "cell_type": "code",
      "source": [
        ""
      ],
      "metadata": {
        "id": "dQ4-XV5deITq"
      },
      "execution_count": 585,
      "outputs": []
    },
    {
      "cell_type": "code",
      "source": [
        ""
      ],
      "metadata": {
        "id": "1N_84P9JeGIo"
      },
      "execution_count": 585,
      "outputs": []
    },
    {
      "cell_type": "code",
      "source": [
        ""
      ],
      "metadata": {
        "id": "i0oTIXVhcAKs"
      },
      "execution_count": 585,
      "outputs": []
    },
    {
      "cell_type": "code",
      "source": [
        ""
      ],
      "metadata": {
        "id": "qbB1eeCyb3M1"
      },
      "execution_count": 585,
      "outputs": []
    },
    {
      "cell_type": "code",
      "source": [
        ""
      ],
      "metadata": {
        "id": "LnzkeEnQbRK4"
      },
      "execution_count": 585,
      "outputs": []
    },
    {
      "cell_type": "code",
      "source": [
        ""
      ],
      "metadata": {
        "id": "tLQvtEc6bMXK"
      },
      "execution_count": 585,
      "outputs": []
    },
    {
      "cell_type": "code",
      "source": [
        ""
      ],
      "metadata": {
        "id": "NELRGBPiZrSn"
      },
      "execution_count": 585,
      "outputs": []
    },
    {
      "cell_type": "code",
      "source": [
        ""
      ],
      "metadata": {
        "id": "GI9gFj_KU8b4"
      },
      "execution_count": 585,
      "outputs": []
    }
  ]
}