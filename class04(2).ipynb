{
  "nbformat": 4,
  "nbformat_minor": 0,
  "metadata": {
    "colab": {
      "name": "Untitled2.ipynb",
      "provenance": [],
      "authorship_tag": "ABX9TyNaQRU292M6u6+/hLQmG8sP",
      "include_colab_link": true
    },
    "kernelspec": {
      "name": "python3",
      "display_name": "Python 3"
    },
    "language_info": {
      "name": "python"
    }
  },
  "cells": [
    {
      "cell_type": "markdown",
      "metadata": {
        "id": "view-in-github",
        "colab_type": "text"
      },
      "source": [
        "<a href=\"https://colab.research.google.com/github/psparkeb/class04/blob/main/class04(2).ipynb\" target=\"_parent\"><img src=\"https://colab.research.google.com/assets/colab-badge.svg\" alt=\"Open In Colab\"/></a>"
      ]
    },
    {
      "cell_type": "code",
      "execution_count": 401,
      "metadata": {
        "id": "dm_WExVhNgxL"
      },
      "outputs": [],
      "source": [
        "#텐서 플로와 딥러닝의 입문\n",
        "#인공 지능 안에 머신 러닝 안에 딥 러닝\n",
        "#텐서 플로 TensorFlow:2015 구글 브레인 팀에서 공개한 라이브러리(코랩도 구글 거라 연결이 잘 됨.)\n",
        "#                      파이썬 뿐만 아니라 JS Swift 등등을 지원함. 텐서 플로는 딥러닝 연산 처리 라이브러리\n",
        "#                      이름에서 볼 수 있듯이 텐서 Tensor 라고 부르는 데이터를 사용함. \n",
        "#                      노드와 노드를 연결하는 간선 edge로 이루어진 그래프 구조를 통해 데이터를 이동시키면서 연산이 이루어 짐.\n",
        "\n",
        "#텐서플로1과 2가 있는데 차이가 큼.\n",
        "#텐서플로2의 특징: 1) 모델 구조를 만들고 학습을 진행하는 과정이 직관적임. 2) 실행 결과를 즉시 확인할 수 있어 편리함.(인터프리터 형식)\n",
        "#                  3) 파이썬 도구를 사용해서 학습 과정을 설계함.          4) 텐서플로 1은 일종의 컴파일러 방식, 텐서플로 2는 인종의 인터프리터 형식이라고 볼 수 있음.\n"
      ]
    },
    {
      "cell_type": "code",
      "source": [
        "import tensorflow as tf"
      ],
      "metadata": {
        "id": "mcpKYtJ0QbXG"
      },
      "execution_count": 402,
      "outputs": []
    },
    {
      "cell_type": "code",
      "source": [
        "a=1\n",
        "b=2\n",
        "c=tf.math.add(a,b)\n",
        "print(c)"
      ],
      "metadata": {
        "colab": {
          "base_uri": "https://localhost:8080/"
        },
        "id": "tELv2r-kRP4R",
        "outputId": "ef0d9914-3101-4666-8948-cd621e25af62"
      },
      "execution_count": 403,
      "outputs": [
        {
          "output_type": "stream",
          "name": "stdout",
          "text": [
            "tf.Tensor(3, shape=(), dtype=int32)\n"
          ]
        }
      ]
    },
    {
      "cell_type": "code",
      "source": [
        "#텐서플로 자료구조\n",
        "#텐서플로에서 자료를 표현하는 기본 구조는 텐서\n",
        "#0차원 텐서-스칼라 Scalar \n",
        "#1차원 텐서-벡터 Vector\n",
        "#2차원 텐서-행렬 Matrix\n",
        "#고차원 텐서...(행렬이 여러개..)\n",
        "#점>선>면>입체로 변하는 공간 개념으로 생각해야 함.\n",
        "#텐서에서의 각 차원은 각각 고유 정보를 나타내는 축이라고 이해해야 함.\n",
        "#tensor의 사전적 의미: 어떤 방향으로 뻗다, 어떤 방향으로 잡아당기다\n",
        "#즉, 방향성을 갖는 어떤 물리량 -> 벡터\n",
        "#스칼라 Scalar: 스칼라는 정수, 실수와 같은 상수를 나타냄. 양은 나타내지만 방향성은 없음. 따라서 차수가 0 이 됨. 또다른 표현으로 rank-0 텐서(랭크는 텐서의 차수를 나타냄.)"
      ],
      "metadata": {
        "id": "7Sq5bRg_RZdE"
      },
      "execution_count": 404,
      "outputs": []
    },
    {
      "cell_type": "code",
      "source": [
        "a=tf.constant(1)\n",
        "b=tf.constant(2)\n",
        "print(a)\n",
        "print(b)\n",
        "#shape=() 차수가 0인 스칼라를 의미함. 정수 1과 2는 0차원 텐서인 스칼라로 저장이 되었다고 말함. \n",
        "#dtype=int32 32비트 정수형"
      ],
      "metadata": {
        "colab": {
          "base_uri": "https://localhost:8080/"
        },
        "id": "sWyBvvqTTfGl",
        "outputId": "91a17020-f4ee-46f6-efe0-2434cb043add"
      },
      "execution_count": 405,
      "outputs": [
        {
          "output_type": "stream",
          "name": "stdout",
          "text": [
            "tf.Tensor(1, shape=(), dtype=int32)\n",
            "tf.Tensor(2, shape=(), dtype=int32)\n"
          ]
        }
      ]
    },
    {
      "cell_type": "code",
      "source": [
        "print(tf.rank(a))\n",
        "#변수 a에 저장된 텐서의 랭크값은 0인 스칼라 텐서."
      ],
      "metadata": {
        "colab": {
          "base_uri": "https://localhost:8080/"
        },
        "id": "TLqAbx9iTr42",
        "outputId": "2a93bbdb-ddc2-43c5-e38d-90fea3fa2d12"
      },
      "execution_count": 406,
      "outputs": [
        {
          "output_type": "stream",
          "name": "stdout",
          "text": [
            "tf.Tensor(0, shape=(), dtype=int32)\n"
          ]
        }
      ]
    },
    {
      "cell_type": "code",
      "source": [
        "#텐서 자료형 변환                                                   \n",
        "a=tf.cast(a,tf.float32)"
      ],
      "metadata": {
        "id": "pdS8rxTEUXsr"
      },
      "execution_count": 407,
      "outputs": []
    },
    {
      "cell_type": "code",
      "source": [
        "print(a.dtype)"
      ],
      "metadata": {
        "colab": {
          "base_uri": "https://localhost:8080/"
        },
        "id": "KEOhVIgVU5aD",
        "outputId": "9da70eec-976a-40a1-dd37-41f9994de77e"
      },
      "execution_count": 408,
      "outputs": [
        {
          "output_type": "stream",
          "name": "stdout",
          "text": [
            "<dtype: 'float32'>\n"
          ]
        }
      ]
    },
    {
      "cell_type": "code",
      "source": [
        "b=tf.cast(b, tf.float32)"
      ],
      "metadata": {
        "id": "0W5QkYbMVFz9"
      },
      "execution_count": 409,
      "outputs": []
    },
    {
      "cell_type": "code",
      "source": [
        "print(b.dtype)"
      ],
      "metadata": {
        "colab": {
          "base_uri": "https://localhost:8080/"
        },
        "id": "uSrgIhpAVQ-U",
        "outputId": "5d211d80-7cec-4312-9625-10fd74b2954f"
      },
      "execution_count": 410,
      "outputs": [
        {
          "output_type": "stream",
          "name": "stdout",
          "text": [
            "<dtype: 'float32'>\n"
          ]
        }
      ]
    },
    {
      "cell_type": "code",
      "source": [
        "#텐서플로에서는 float32를 숫자의 기본 자료형으로 사용함. 실수가 기본형. 그래서 형변환하는 것."
      ],
      "metadata": {
        "id": "bUkhikLSVWVG"
      },
      "execution_count": 411,
      "outputs": []
    },
    {
      "cell_type": "code",
      "source": [
        "c=tf.math.add(a,b)\n",
        "print(c)"
      ],
      "metadata": {
        "colab": {
          "base_uri": "https://localhost:8080/"
        },
        "id": "W0pOBDwYVDqr",
        "outputId": "756b7fb5-2561-4c4a-99bf-6aeebe996c7c"
      },
      "execution_count": 412,
      "outputs": [
        {
          "output_type": "stream",
          "name": "stdout",
          "text": [
            "tf.Tensor(3.0, shape=(), dtype=float32)\n"
          ]
        }
      ]
    },
    {
      "cell_type": "code",
      "source": [
        "tf.rank(c) # 0차원의 데이터 타입이므로 int32가 나옴. 0은 정수이므로, 위에는 c에 들어있는 값의 차원이 float32라는 것."
      ],
      "metadata": {
        "colab": {
          "base_uri": "https://localhost:8080/"
        },
        "id": "PkzmHBMpVweO",
        "outputId": "986d120f-24da-499e-8453-681f20187b3e"
      },
      "execution_count": 413,
      "outputs": [
        {
          "output_type": "execute_result",
          "data": {
            "text/plain": [
              "<tf.Tensor: shape=(), dtype=int32, numpy=0>"
            ]
          },
          "metadata": {},
          "execution_count": 413
        }
      ]
    },
    {
      "cell_type": "code",
      "source": [
        "print(tf.math.subtract(a,b))"
      ],
      "metadata": {
        "colab": {
          "base_uri": "https://localhost:8080/"
        },
        "id": "0H3ZTLB1V5-4",
        "outputId": "2726334a-cf27-4657-81ba-d66d17c52165"
      },
      "execution_count": 414,
      "outputs": [
        {
          "output_type": "stream",
          "name": "stdout",
          "text": [
            "tf.Tensor(-1.0, shape=(), dtype=float32)\n"
          ]
        }
      ]
    },
    {
      "cell_type": "code",
      "source": [
        "print(tf.math.multiply(a,b))"
      ],
      "metadata": {
        "colab": {
          "base_uri": "https://localhost:8080/"
        },
        "id": "Yw1oYvgJZWok",
        "outputId": "02639fb9-6961-4029-8bf1-f9622a5387b7"
      },
      "execution_count": 415,
      "outputs": [
        {
          "output_type": "stream",
          "name": "stdout",
          "text": [
            "tf.Tensor(2.0, shape=(), dtype=float32)\n"
          ]
        }
      ]
    },
    {
      "cell_type": "code",
      "source": [
        "print(tf.math.divide(a,b))"
      ],
      "metadata": {
        "colab": {
          "base_uri": "https://localhost:8080/"
        },
        "id": "8Kvz8p4BZf1N",
        "outputId": "c56cd216-2965-43bb-e3f5-aa2e173e0954"
      },
      "execution_count": 416,
      "outputs": [
        {
          "output_type": "stream",
          "name": "stdout",
          "text": [
            "tf.Tensor(0.5, shape=(), dtype=float32)\n"
          ]
        }
      ]
    },
    {
      "cell_type": "code",
      "source": [
        "print(tf.math.mod(a,b)) #나머지"
      ],
      "metadata": {
        "colab": {
          "base_uri": "https://localhost:8080/"
        },
        "id": "D1xIDa3eZtjn",
        "outputId": "6045084e-94b4-442d-bd81-44441703dab1"
      },
      "execution_count": 417,
      "outputs": [
        {
          "output_type": "stream",
          "name": "stdout",
          "text": [
            "tf.Tensor(1.0, shape=(), dtype=float32)\n"
          ]
        }
      ]
    },
    {
      "cell_type": "code",
      "source": [
        "print(tf.math.floordiv(a,b)) #몫 잘 안 씀."
      ],
      "metadata": {
        "colab": {
          "base_uri": "https://localhost:8080/"
        },
        "id": "PN2-NVl3Z2CD",
        "outputId": "dbacd12f-1ddd-4948-c653-4b3b9eaa84af"
      },
      "execution_count": 418,
      "outputs": [
        {
          "output_type": "stream",
          "name": "stdout",
          "text": [
            "tf.Tensor(0.0, shape=(), dtype=float32)\n"
          ]
        }
      ]
    },
    {
      "cell_type": "code",
      "source": [
        "#벡터 Vector: 여러 개의 스칼라를 원소로 갖는 1차원의 배열\n",
        "#             스칼라 여러 개가 동일한 축 방향으로 나열되는 개념\n",
        "#             벡터는 원소들로 구성되는 여러 개의 값들이 모여서 하나의 대표성을 갖는 값이 됨. 크기와 방향을 가짐.\n",
        "#             각 원소들의 크기 뿐 아니라 원소들이 나열되는 순서도 의미가 있음.\n",
        "#             형태만 보면 파이썬의 리스트와 유사함.\n",
        "#             벡터는 하나의 축을 갖고 차수가 1인 rank-1 텐서라고 부름."
      ],
      "metadata": {
        "id": "TQYCZlaMZ9Ro"
      },
      "execution_count": 419,
      "outputs": []
    },
    {
      "cell_type": "code",
      "source": [
        "py_list=[10,20,30]\n",
        "vec1=tf.constant(py_list,dtype=tf.float32)\n",
        "print(vec1) #shape=(가로,세로)이므로 현재 가로만 있는 1차원임."
      ],
      "metadata": {
        "colab": {
          "base_uri": "https://localhost:8080/"
        },
        "id": "TRHYlCKJZyk4",
        "outputId": "bc2c5edd-b8ef-4c48-ad16-29f9da203130"
      },
      "execution_count": 420,
      "outputs": [
        {
          "output_type": "stream",
          "name": "stdout",
          "text": [
            "tf.Tensor([10. 20. 30.], shape=(3,), dtype=float32)\n"
          ]
        }
      ]
    },
    {
      "cell_type": "code",
      "source": [
        "import numpy as np\n",
        "num_arr=np.array([10.,10.,10.])\n",
        "vec2=tf.constant(num_arr,dtype=tf.float32)\n",
        "print(vec2) #shape=3 원소의 개수 3개, 가로만 있는 1개의 축"
      ],
      "metadata": {
        "colab": {
          "base_uri": "https://localhost:8080/"
        },
        "id": "7b2z2n3NbjJK",
        "outputId": "3d5b22c9-5e3f-4a18-97c4-78c0ab044de9"
      },
      "execution_count": 421,
      "outputs": [
        {
          "output_type": "stream",
          "name": "stdout",
          "text": [
            "tf.Tensor([10. 10. 10.], shape=(3,), dtype=float32)\n"
          ]
        }
      ]
    },
    {
      "cell_type": "code",
      "source": [
        "print(tf.rank(vec1)) # 1차원이며 1은 0차원이고 1의 데이터 타입은 정수32타입.\n",
        "print(tf.rank(vec2))"
      ],
      "metadata": {
        "colab": {
          "base_uri": "https://localhost:8080/"
        },
        "id": "NynoYFpOcJFd",
        "outputId": "9d0b9510-ca58-4d29-f71d-232eded79c10"
      },
      "execution_count": 422,
      "outputs": [
        {
          "output_type": "stream",
          "name": "stdout",
          "text": [
            "tf.Tensor(1, shape=(), dtype=int32)\n",
            "tf.Tensor(1, shape=(), dtype=int32)\n"
          ]
        }
      ]
    },
    {
      "cell_type": "code",
      "source": [
        "add1= tf.math.add(vec1,vec2)\n",
        "print(add1)\n",
        "print(tf.rank(add1)) #계산을 할 때는 같은 위치에 있는 원소들끼리 짝을 이루어 계산함. 따라서, 원소 3개를 갖는 벡터 형태가 그대로 유지됨."
      ],
      "metadata": {
        "colab": {
          "base_uri": "https://localhost:8080/"
        },
        "id": "9DnmsgbxclBF",
        "outputId": "f9ad4c08-00c0-43b6-dc5f-d29d0700f591"
      },
      "execution_count": 423,
      "outputs": [
        {
          "output_type": "stream",
          "name": "stdout",
          "text": [
            "tf.Tensor([20. 30. 40.], shape=(3,), dtype=float32)\n",
            "tf.Tensor(1, shape=(), dtype=int32)\n"
          ]
        }
      ]
    },
    {
      "cell_type": "code",
      "source": [
        "add2=vec1+vec2\n",
        "print(add2)\n",
        "print(tf.rank(add2))"
      ],
      "metadata": {
        "colab": {
          "base_uri": "https://localhost:8080/"
        },
        "id": "_Sc-stu4dCVZ",
        "outputId": "c6ccb485-9ecd-4f1c-af3b-4f61e85d95b5"
      },
      "execution_count": 424,
      "outputs": [
        {
          "output_type": "stream",
          "name": "stdout",
          "text": [
            "tf.Tensor([20. 30. 40.], shape=(3,), dtype=float32)\n",
            "tf.Tensor(1, shape=(), dtype=int32)\n"
          ]
        }
      ]
    },
    {
      "cell_type": "code",
      "source": [
        "#스칼라와 마찬가지로 벡터도 tf.math 모듈을 통해 다양한 함수를 산술 연산할 수 있음. 이때, 같은 위치에 있는 원소들끼리 연산함."
      ],
      "metadata": {
        "id": "yebCaeLMda2L"
      },
      "execution_count": 425,
      "outputs": []
    },
    {
      "cell_type": "code",
      "source": [
        "print(tf.math.subtract(vec1,vec2))\n",
        "print(tf.math.multiply(vec1,vec2))\n",
        "print(tf.math.divide(vec1,vec2))\n",
        "print(tf.math.mod(vec1,vec2))"
      ],
      "metadata": {
        "colab": {
          "base_uri": "https://localhost:8080/"
        },
        "id": "MYTcvvKxcjeE",
        "outputId": "931e39c6-296b-4643-e783-d1cc634ddfcd"
      },
      "execution_count": 426,
      "outputs": [
        {
          "output_type": "stream",
          "name": "stdout",
          "text": [
            "tf.Tensor([ 0. 10. 20.], shape=(3,), dtype=float32)\n",
            "tf.Tensor([100. 200. 300.], shape=(3,), dtype=float32)\n",
            "tf.Tensor([1. 2. 3.], shape=(3,), dtype=float32)\n",
            "tf.Tensor([0. 0. 0.], shape=(3,), dtype=float32)\n"
          ]
        }
      ]
    },
    {
      "cell_type": "code",
      "source": [
        "print(vec1-vec2)\n",
        "print(vec1*vec2)\n",
        "print(vec1/vec2)\n",
        "print(vec1%vec2)\n"
      ],
      "metadata": {
        "colab": {
          "base_uri": "https://localhost:8080/"
        },
        "id": "WLYRDXXreLVy",
        "outputId": "1d0730e2-2630-4edb-97f2-af9a76305cd8"
      },
      "execution_count": 427,
      "outputs": [
        {
          "output_type": "stream",
          "name": "stdout",
          "text": [
            "tf.Tensor([ 0. 10. 20.], shape=(3,), dtype=float32)\n",
            "tf.Tensor([100. 200. 300.], shape=(3,), dtype=float32)\n",
            "tf.Tensor([1. 2. 3.], shape=(3,), dtype=float32)\n",
            "tf.Tensor([0. 0. 0.], shape=(3,), dtype=float32)\n"
          ]
        }
      ]
    },
    {
      "cell_type": "code",
      "source": [
        "#여러 원소들의 합\n",
        "print(tf.reduce_sum(vec1))\n",
        "print(tf.reduce_sum(vec2))"
      ],
      "metadata": {
        "colab": {
          "base_uri": "https://localhost:8080/"
        },
        "id": "ZlWziejJeVJF",
        "outputId": "a249d92c-90fc-4ee8-c2cb-687ca4fe2753"
      },
      "execution_count": 428,
      "outputs": [
        {
          "output_type": "stream",
          "name": "stdout",
          "text": [
            "tf.Tensor(60.0, shape=(), dtype=float32)\n",
            "tf.Tensor(30.0, shape=(), dtype=float32)\n"
          ]
        }
      ]
    },
    {
      "cell_type": "code",
      "source": [
        "# 브로드캐스팅\n",
        "print(vec1)\n",
        "print(vec1+1)"
      ],
      "metadata": {
        "colab": {
          "base_uri": "https://localhost:8080/"
        },
        "id": "FaXrTnLmerE6",
        "outputId": "734fa00b-f421-4571-d0ed-387ef2d88a38"
      },
      "execution_count": 429,
      "outputs": [
        {
          "output_type": "stream",
          "name": "stdout",
          "text": [
            "tf.Tensor([10. 20. 30.], shape=(3,), dtype=float32)\n",
            "tf.Tensor([11. 21. 31.], shape=(3,), dtype=float32)\n"
          ]
        }
      ]
    },
    {
      "cell_type": "code",
      "source": [
        "# 행렬 Matrix: 행렬은 차수가 1인 즉, 벡터를 같은 축 방향으로 여러 개를 나열한 것.\n",
        "#              1차원 벡터 여러 개를 원소로 갖는 배열.\n",
        "#              텐서플로에서는 rank-2 \n",
        "#              pandas에서의 데이터 프레임과 유사함."
      ],
      "metadata": {
        "id": "AFRsxvFNfATg"
      },
      "execution_count": 430,
      "outputs": []
    },
    {
      "cell_type": "code",
      "source": [
        "list=[[10,20],[30,40]] #2차원 리스트 생성\n",
        "mat=tf.constant(list) #텐서 변환\n",
        "print(mat)\n",
        "print(tf.rank(mat))"
      ],
      "metadata": {
        "colab": {
          "base_uri": "https://localhost:8080/"
        },
        "id": "fCxHOlmce8V4",
        "outputId": "3b3eefdd-634c-464a-f60e-05afcd4c62c4"
      },
      "execution_count": 431,
      "outputs": [
        {
          "output_type": "stream",
          "name": "stdout",
          "text": [
            "tf.Tensor(\n",
            "[[10 20]\n",
            " [30 40]], shape=(2, 2), dtype=int32)\n",
            "tf.Tensor(2, shape=(), dtype=int32)\n"
          ]
        }
      ]
    },
    {
      "cell_type": "code",
      "source": [
        "vec1=tf.constant([1,0])\n",
        "vec2=tf.constant([-1,2])\n",
        "mat2=tf.stack([vec1,vec2])\n",
        "print(mat2)\n",
        "print(tf.rank(mat2))"
      ],
      "metadata": {
        "colab": {
          "base_uri": "https://localhost:8080/"
        },
        "id": "a5p2xEIVgSHI",
        "outputId": "4bc15039-fec7-4bcd-8a46-6a00066ba242"
      },
      "execution_count": 432,
      "outputs": [
        {
          "output_type": "stream",
          "name": "stdout",
          "text": [
            "tf.Tensor(\n",
            "[[ 1  0]\n",
            " [-1  2]], shape=(2, 2), dtype=int32)\n",
            "tf.Tensor(2, shape=(), dtype=int32)\n"
          ]
        }
      ]
    },
    {
      "cell_type": "code",
      "source": [
        "from numpy.core.defchararray import multiply\n",
        "# 산술 연산\n",
        "mul=tf.math.multiply(mat,mat2)\n",
        "print(mul)\n",
        "print(tf.rank(mul))"
      ],
      "metadata": {
        "colab": {
          "base_uri": "https://localhost:8080/"
        },
        "id": "qKtaichgg7EF",
        "outputId": "4f9e1926-1ba0-46b9-c366-f6e61c1b3c4d"
      },
      "execution_count": 433,
      "outputs": [
        {
          "output_type": "stream",
          "name": "stdout",
          "text": [
            "tf.Tensor(\n",
            "[[ 10   0]\n",
            " [-30  80]], shape=(2, 2), dtype=int32)\n",
            "tf.Tensor(2, shape=(), dtype=int32)\n"
          ]
        }
      ]
    },
    {
      "cell_type": "code",
      "source": [
        "print(tf.math.subtract(mat,mat2))\n",
        "print(tf.math.multiply(mat,mat2))\n",
        "print(tf.math.divide(mat,mat2))\n"
      ],
      "metadata": {
        "colab": {
          "base_uri": "https://localhost:8080/"
        },
        "id": "rjH6nkuChxN5",
        "outputId": "2c49f6ee-cccb-4a4d-c570-bc95fb86ec6c"
      },
      "execution_count": 434,
      "outputs": [
        {
          "output_type": "stream",
          "name": "stdout",
          "text": [
            "tf.Tensor(\n",
            "[[ 9 20]\n",
            " [31 38]], shape=(2, 2), dtype=int32)\n",
            "tf.Tensor(\n",
            "[[ 10   0]\n",
            " [-30  80]], shape=(2, 2), dtype=int32)\n",
            "tf.Tensor(\n",
            "[[ 10.  inf]\n",
            " [-30.  20.]], shape=(2, 2), dtype=float64)\n"
          ]
        }
      ]
    },
    {
      "cell_type": "code",
      "source": [
        "print(mat)\n",
        "bc=tf.math.multiply(mat,3)\n",
        "bc"
      ],
      "metadata": {
        "colab": {
          "base_uri": "https://localhost:8080/"
        },
        "id": "d23wefDHiEsx",
        "outputId": "df44089a-d672-4d4b-950f-3e34f12a2407"
      },
      "execution_count": 435,
      "outputs": [
        {
          "output_type": "stream",
          "name": "stdout",
          "text": [
            "tf.Tensor(\n",
            "[[10 20]\n",
            " [30 40]], shape=(2, 2), dtype=int32)\n"
          ]
        },
        {
          "output_type": "execute_result",
          "data": {
            "text/plain": [
              "<tf.Tensor: shape=(2, 2), dtype=int32, numpy=\n",
              "array([[ 30,  60],\n",
              "       [ 90, 120]], dtype=int32)>"
            ]
          },
          "metadata": {},
          "execution_count": 435
        }
      ]
    },
    {
      "cell_type": "code",
      "source": [
        "add2=mat+mat2\n",
        "add2"
      ],
      "metadata": {
        "colab": {
          "base_uri": "https://localhost:8080/"
        },
        "id": "X0KwpUg4iXfj",
        "outputId": "ab3d46c0-eb42-4247-e765-0de25aaeb1bc"
      },
      "execution_count": 436,
      "outputs": [
        {
          "output_type": "execute_result",
          "data": {
            "text/plain": [
              "<tf.Tensor: shape=(2, 2), dtype=int32, numpy=\n",
              "array([[11, 20],\n",
              "       [29, 42]], dtype=int32)>"
            ]
          },
          "metadata": {},
          "execution_count": 436
        }
      ]
    },
    {
      "cell_type": "code",
      "source": [
        "#텐서를 넘파이로 변환\n",
        "np_arr=mat.numpy()\n",
        "np_arr"
      ],
      "metadata": {
        "colab": {
          "base_uri": "https://localhost:8080/"
        },
        "id": "DwJT_31uiszl",
        "outputId": "eaa9f6cf-0bf1-448c-e4d4-28d09a64e32d"
      },
      "execution_count": 437,
      "outputs": [
        {
          "output_type": "execute_result",
          "data": {
            "text/plain": [
              "array([[10, 20],\n",
              "       [30, 40]], dtype=int32)"
            ]
          },
          "metadata": {},
          "execution_count": 437
        }
      ]
    },
    {
      "cell_type": "code",
      "source": [
        "type(np_arr)"
      ],
      "metadata": {
        "colab": {
          "base_uri": "https://localhost:8080/"
        },
        "id": "SkZyE5y0i69p",
        "outputId": "34a31e0f-81f9-4925-de93-75e535d4ae79"
      },
      "execution_count": 438,
      "outputs": [
        {
          "output_type": "execute_result",
          "data": {
            "text/plain": [
              "numpy.ndarray"
            ]
          },
          "metadata": {},
          "execution_count": 438
        }
      ]
    },
    {
      "cell_type": "code",
      "source": [
        "#indexing 인덱싱: 위치를 기준으로 원소를 추출하는 방법, 파이썬 리스트 또는 넘파일 배열의 인덱싱과 유사함.\n",
        "#                 0부터 시작하고 마지막은 -1로 나타냄. 하나만 추출할 뿐만 아니라 여러 원소를 추출하는 슬라이싱 가능."
      ],
      "metadata": {
        "id": "5d4ov7vVi_Cu"
      },
      "execution_count": 439,
      "outputs": []
    },
    {
      "cell_type": "code",
      "source": [
        "vec=tf.constant([10,20,30,40,50])\n",
        "print(vec)  #shape 5개 원소의 1차원 텐서인 벡터"
      ],
      "metadata": {
        "colab": {
          "base_uri": "https://localhost:8080/"
        },
        "id": "rhof_RNniUBn",
        "outputId": "931c3edd-9c7c-40ed-c943-4c1351cdad58"
      },
      "execution_count": 440,
      "outputs": [
        {
          "output_type": "stream",
          "name": "stdout",
          "text": [
            "tf.Tensor([10 20 30 40 50], shape=(5,), dtype=int32)\n"
          ]
        }
      ]
    },
    {
      "cell_type": "code",
      "source": [
        "print(vec[0])"
      ],
      "metadata": {
        "colab": {
          "base_uri": "https://localhost:8080/"
        },
        "id": "ZY_--c6in3Fv",
        "outputId": "5647937e-0b45-4881-db6f-2e9bb2dfb5db"
      },
      "execution_count": 441,
      "outputs": [
        {
          "output_type": "stream",
          "name": "stdout",
          "text": [
            "tf.Tensor(10, shape=(), dtype=int32)\n"
          ]
        }
      ]
    },
    {
      "cell_type": "code",
      "source": [
        "print(vec[-1])"
      ],
      "metadata": {
        "colab": {
          "base_uri": "https://localhost:8080/"
        },
        "id": "QK9_dD9soHH0",
        "outputId": "28d039eb-a023-42ea-a06b-6b323de82016"
      },
      "execution_count": 442,
      "outputs": [
        {
          "output_type": "stream",
          "name": "stdout",
          "text": [
            "tf.Tensor(50, shape=(), dtype=int32)\n"
          ]
        }
      ]
    },
    {
      "cell_type": "code",
      "source": [
        "print(vec[:3]) #1차원의 3개 원소 벡터로 나옴."
      ],
      "metadata": {
        "colab": {
          "base_uri": "https://localhost:8080/"
        },
        "id": "sJ24pvbBoVhW",
        "outputId": "d6632fd3-77c3-497b-9ae8-cb0bcc2ba330"
      },
      "execution_count": 443,
      "outputs": [
        {
          "output_type": "stream",
          "name": "stdout",
          "text": [
            "tf.Tensor([10 20 30], shape=(3,), dtype=int32)\n"
          ]
        }
      ]
    },
    {
      "cell_type": "code",
      "source": [
        "mat=tf.constant([[10,20,30],[40,50,60]])\n",
        "print(mat)"
      ],
      "metadata": {
        "colab": {
          "base_uri": "https://localhost:8080/"
        },
        "id": "lfvjVUvAoeIy",
        "outputId": "6b0e7377-bbff-47aa-9062-11100b33b74d"
      },
      "execution_count": 444,
      "outputs": [
        {
          "output_type": "stream",
          "name": "stdout",
          "text": [
            "tf.Tensor(\n",
            "[[10 20 30]\n",
            " [40 50 60]], shape=(2, 3), dtype=int32)\n"
          ]
        }
      ]
    },
    {
      "cell_type": "code",
      "source": [
        "print(mat[0,:]) #0번째 행의 모든 열"
      ],
      "metadata": {
        "colab": {
          "base_uri": "https://localhost:8080/"
        },
        "id": "TwwMOio0o4uF",
        "outputId": "d87fd7f7-d697-4d8f-89a8-5a452d5af21b"
      },
      "execution_count": 445,
      "outputs": [
        {
          "output_type": "stream",
          "name": "stdout",
          "text": [
            "tf.Tensor([10 20 30], shape=(3,), dtype=int32)\n"
          ]
        }
      ]
    },
    {
      "cell_type": "code",
      "source": [
        "print(mat[:,1]) #모든 행의 1열만 출력"
      ],
      "metadata": {
        "colab": {
          "base_uri": "https://localhost:8080/"
        },
        "id": "4nvHPeNBo-5I",
        "outputId": "6e8227a8-3f42-4b86-b463-b72263723436"
      },
      "execution_count": 446,
      "outputs": [
        {
          "output_type": "stream",
          "name": "stdout",
          "text": [
            "tf.Tensor([20 50], shape=(2,), dtype=int32)\n"
          ]
        }
      ]
    },
    {
      "cell_type": "code",
      "source": [
        "#형태 변환 reshape : 앞으로 머신 러닝, 딥러닝에서 텐서 형태를 변환하는 것은 매우 중요함!!"
      ],
      "metadata": {
        "id": "3HiEf4-ipMth"
      },
      "execution_count": 447,
      "outputs": []
    },
    {
      "cell_type": "code",
      "source": [
        "tensor=tf.constant(range(0,24))\n",
        "tensor"
      ],
      "metadata": {
        "colab": {
          "base_uri": "https://localhost:8080/"
        },
        "id": "dSnzDst0ozRu",
        "outputId": "821ffe4b-b005-48ad-be03-919de562114b"
      },
      "execution_count": 448,
      "outputs": [
        {
          "output_type": "execute_result",
          "data": {
            "text/plain": [
              "<tf.Tensor: shape=(24,), dtype=int32, numpy=\n",
              "array([ 0,  1,  2,  3,  4,  5,  6,  7,  8,  9, 10, 11, 12, 13, 14, 15, 16,\n",
              "       17, 18, 19, 20, 21, 22, 23], dtype=int32)>"
            ]
          },
          "metadata": {},
          "execution_count": 448
        }
      ]
    },
    {
      "cell_type": "code",
      "source": [
        "# (24, ) -> (3,8) 24개의 1차원 자료를 3행,8열의 2차원 자료로 변환\n",
        "tensor1=tf.reshape(tensor,[3,8])\n",
        "print(tensor1)\n"
      ],
      "metadata": {
        "colab": {
          "base_uri": "https://localhost:8080/"
        },
        "id": "r55QtE3OqR6s",
        "outputId": "357e7713-97d1-4046-f9dd-dcc3d6af9d69"
      },
      "execution_count": 449,
      "outputs": [
        {
          "output_type": "stream",
          "name": "stdout",
          "text": [
            "tf.Tensor(\n",
            "[[ 0  1  2  3  4  5  6  7]\n",
            " [ 8  9 10 11 12 13 14 15]\n",
            " [16 17 18 19 20 21 22 23]], shape=(3, 8), dtype=int32)\n"
          ]
        }
      ]
    },
    {
      "cell_type": "code",
      "source": [
        "#-1을 지정하면 '어떤 값이 와도 상관 없음' 이라는 의미.\n",
        "tensor2=tf.reshape(tensor1,[-1,4]) #행은 상관없고 열만 4개로 해 줘~\n",
        "print(tensor2)"
      ],
      "metadata": {
        "colab": {
          "base_uri": "https://localhost:8080/"
        },
        "id": "IdtBdcdQqpmD",
        "outputId": "6427af17-5c19-43b6-b6b6-386d12a8898b"
      },
      "execution_count": 450,
      "outputs": [
        {
          "output_type": "stream",
          "name": "stdout",
          "text": [
            "tf.Tensor(\n",
            "[[ 0  1  2  3]\n",
            " [ 4  5  6  7]\n",
            " [ 8  9 10 11]\n",
            " [12 13 14 15]\n",
            " [16 17 18 19]\n",
            " [20 21 22 23]], shape=(6, 4), dtype=int32)\n"
          ]
        }
      ]
    },
    {
      "cell_type": "code",
      "source": [
        "tensor3=tf.reshape(tensor2,[-1]) #그냥 1차원이 됨. 배열을 구성하는 원소가 매우 많고 배열 구조를 알지 못할 때 -1을 사용하면 편리함.\n",
        "print(tensor3)"
      ],
      "metadata": {
        "colab": {
          "base_uri": "https://localhost:8080/"
        },
        "id": "FPNhTRqQrLLH",
        "outputId": "d133c7d3-e99d-42f6-c640-6c93f5c23d38"
      },
      "execution_count": 451,
      "outputs": [
        {
          "output_type": "stream",
          "name": "stdout",
          "text": [
            "tf.Tensor([ 0  1  2  3  4  5  6  7  8  9 10 11 12 13 14 15 16 17 18 19 20 21 22 23], shape=(24,), dtype=int32)\n"
          ]
        }
      ]
    },
    {
      "cell_type": "code",
      "source": [
        "tensor4=tf.reshape(tensor3,[-1,3,4]) #다차원 텐서 : 전체 개수는 2개, 3행 4열\n",
        "print(tensor4)"
      ],
      "metadata": {
        "colab": {
          "base_uri": "https://localhost:8080/"
        },
        "id": "PVpmK3zErdv5",
        "outputId": "54cfdf6f-1024-43a7-a8e7-5f53bcffe1a8"
      },
      "execution_count": 452,
      "outputs": [
        {
          "output_type": "stream",
          "name": "stdout",
          "text": [
            "tf.Tensor(\n",
            "[[[ 0  1  2  3]\n",
            "  [ 4  5  6  7]\n",
            "  [ 8  9 10 11]]\n",
            "\n",
            " [[12 13 14 15]\n",
            "  [16 17 18 19]\n",
            "  [20 21 22 23]]], shape=(2, 3, 4), dtype=int32)\n"
          ]
        }
      ]
    },
    {
      "cell_type": "code",
      "source": [
        "tensor5=tf.reshape(tensor4,[3,2,4]) # 2행 4열\n",
        "print(tensor5)"
      ],
      "metadata": {
        "colab": {
          "base_uri": "https://localhost:8080/"
        },
        "id": "TtwpH0Fmr7Zb",
        "outputId": "0d7a4524-c20e-4658-e5a5-6041abdd122f"
      },
      "execution_count": 453,
      "outputs": [
        {
          "output_type": "stream",
          "name": "stdout",
          "text": [
            "tf.Tensor(\n",
            "[[[ 0  1  2  3]\n",
            "  [ 4  5  6  7]]\n",
            "\n",
            " [[ 8  9 10 11]\n",
            "  [12 13 14 15]]\n",
            "\n",
            " [[16 17 18 19]\n",
            "  [20 21 22 23]]], shape=(3, 2, 4), dtype=int32)\n"
          ]
        }
      ]
    },
    {
      "cell_type": "code",
      "source": [
        "tensor6=tf.reshape(tensor5,[3,2,2,2])\n",
        "print(tensor6)"
      ],
      "metadata": {
        "colab": {
          "base_uri": "https://localhost:8080/"
        },
        "id": "JQOcIPsEsRp-",
        "outputId": "110880d6-ee32-4202-c09a-a529eff1cd21"
      },
      "execution_count": 454,
      "outputs": [
        {
          "output_type": "stream",
          "name": "stdout",
          "text": [
            "tf.Tensor(\n",
            "[[[[ 0  1]\n",
            "   [ 2  3]]\n",
            "\n",
            "  [[ 4  5]\n",
            "   [ 6  7]]]\n",
            "\n",
            "\n",
            " [[[ 8  9]\n",
            "   [10 11]]\n",
            "\n",
            "  [[12 13]\n",
            "   [14 15]]]\n",
            "\n",
            "\n",
            " [[[16 17]\n",
            "   [18 19]]\n",
            "\n",
            "  [[20 21]\n",
            "   [22 23]]]], shape=(3, 2, 2, 2), dtype=int32)\n"
          ]
        }
      ]
    },
    {
      "cell_type": "code",
      "source": [
        "# tf.Variable 변수: 텐서플로의 변수의 특징\n",
        "#                   텐서 플로는 그래프 구조를 이용하여 복잡한 미분 연산을 함. 이때 수많은 미분 연산을 반복하게 됨. 각각의 중간 연산 결과를 저장하는 용도로도 변수를 이용하게 됨.\n",
        "#                   모델을 학습하는 중간 단계마다 모델의 가중치를 변수에 저장하고 계속 반복하면서 변수 값을 업데이트 함.\n",
        "tensor1=tf.constant([[0,2,3],[3,4,5]])\n",
        "print(tensor1)"
      ],
      "metadata": {
        "colab": {
          "base_uri": "https://localhost:8080/"
        },
        "id": "Nrje3WQSsgUm",
        "outputId": "8ee3806a-3f0f-4cec-cff0-6f24a1b01415"
      },
      "execution_count": 455,
      "outputs": [
        {
          "output_type": "stream",
          "name": "stdout",
          "text": [
            "tf.Tensor(\n",
            "[[0 2 3]\n",
            " [3 4 5]], shape=(2, 3), dtype=int32)\n"
          ]
        }
      ]
    },
    {
      "cell_type": "code",
      "source": [
        "tensor_var1=tf.Variable(tensor1)\n",
        "print(tensor_var1)\n",
        "#변수는 텐서 구조에 저장되어 있는 값이 달라질 수 있다는 점에서 값을 변경할 수 없는 상수 형태의 텐서를 만드는 constant 함수와 구별됨."
      ],
      "metadata": {
        "colab": {
          "base_uri": "https://localhost:8080/"
        },
        "id": "7iXsLG5GtSB1",
        "outputId": "ffd40474-797a-40ca-958f-e1cd94bbe8b5"
      },
      "execution_count": 456,
      "outputs": [
        {
          "output_type": "stream",
          "name": "stdout",
          "text": [
            "<tf.Variable 'Variable:0' shape=(2, 3) dtype=int32, numpy=\n",
            "array([[0, 2, 3],\n",
            "       [3, 4, 5]], dtype=int32)>\n"
          ]
        }
      ]
    },
    {
      "cell_type": "code",
      "source": [
        "tensor_var1.name"
      ],
      "metadata": {
        "colab": {
          "base_uri": "https://localhost:8080/",
          "height": 35
        },
        "id": "1_lKMLsstkWC",
        "outputId": "e33cfc50-5b35-4b39-b60e-87cce1716f08"
      },
      "execution_count": 457,
      "outputs": [
        {
          "output_type": "execute_result",
          "data": {
            "application/vnd.google.colaboratory.intrinsic+json": {
              "type": "string"
            },
            "text/plain": [
              "'Variable:0'"
            ]
          },
          "metadata": {},
          "execution_count": 457
        }
      ]
    },
    {
      "cell_type": "code",
      "source": [
        "tensor_var1.shape"
      ],
      "metadata": {
        "colab": {
          "base_uri": "https://localhost:8080/"
        },
        "id": "CiwhjT66t-Lr",
        "outputId": "2c05953d-7ca2-41e6-9557-11dfa614ae65"
      },
      "execution_count": 458,
      "outputs": [
        {
          "output_type": "execute_result",
          "data": {
            "text/plain": [
              "TensorShape([2, 3])"
            ]
          },
          "metadata": {},
          "execution_count": 458
        }
      ]
    },
    {
      "cell_type": "code",
      "source": [
        "tensor_var1.dtype"
      ],
      "metadata": {
        "colab": {
          "base_uri": "https://localhost:8080/"
        },
        "id": "qPro7WtXuAKf",
        "outputId": "1272a7b7-7a95-44ed-c9df-023343a24880"
      },
      "execution_count": 459,
      "outputs": [
        {
          "output_type": "execute_result",
          "data": {
            "text/plain": [
              "tf.int32"
            ]
          },
          "metadata": {},
          "execution_count": 459
        }
      ]
    },
    {
      "cell_type": "code",
      "source": [
        "tensor_var1.numpy #변수로 설정하면 변수의 이름 크기 자료형 배열을 확인할 수 있음."
      ],
      "metadata": {
        "colab": {
          "base_uri": "https://localhost:8080/"
        },
        "id": "JzL3eldguEtU",
        "outputId": "eef67f72-bff3-40e2-9000-500310a4e040"
      },
      "execution_count": 460,
      "outputs": [
        {
          "output_type": "execute_result",
          "data": {
            "text/plain": [
              "<bound method BaseResourceVariable.numpy of <tf.Variable 'Variable:0' shape=(2, 3) dtype=int32, numpy=\n",
              "array([[0, 2, 3],\n",
              "       [3, 4, 5]], dtype=int32)>>"
            ]
          },
          "metadata": {},
          "execution_count": 460
        }
      ]
    },
    {
      "cell_type": "code",
      "source": [
        "#assig() 메소드를 이용하여 변수에 새로운 데이터를 할당할 수도 있음.\n",
        "tensor_var1.assign([[1,1,1],[2,2,2]])"
      ],
      "metadata": {
        "colab": {
          "base_uri": "https://localhost:8080/"
        },
        "id": "ndNJxiYAuI8O",
        "outputId": "2aaafbf9-bbc3-4e5e-b1fb-1da966644f4b"
      },
      "execution_count": 461,
      "outputs": [
        {
          "output_type": "execute_result",
          "data": {
            "text/plain": [
              "<tf.Variable 'UnreadVariable' shape=(2, 3) dtype=int32, numpy=\n",
              "array([[1, 1, 1],\n",
              "       [2, 2, 2]], dtype=int32)>"
            ]
          },
          "metadata": {},
          "execution_count": 461
        }
      ]
    },
    {
      "cell_type": "code",
      "source": [
        "#변수를 텐서로 convert_to_tensor() 함수 사용, 텐서로 변환하고 나면 그 텐서의 크기와 값을 변경할 수 없음.(변수는 가능했으나 텐서는 불가)\n",
        "tensor2=tf.convert_to_tensor(tensor_var1)\n",
        "print(tensor2)"
      ],
      "metadata": {
        "colab": {
          "base_uri": "https://localhost:8080/"
        },
        "id": "BjRSuM1yu7qZ",
        "outputId": "335a9761-c760-4c0c-aec7-ed45edfe3d0b"
      },
      "execution_count": 462,
      "outputs": [
        {
          "output_type": "stream",
          "name": "stdout",
          "text": [
            "tf.Tensor(\n",
            "[[1 1 1]\n",
            " [2 2 2]], shape=(2, 3), dtype=int32)\n"
          ]
        }
      ]
    },
    {
      "cell_type": "code",
      "source": [
        "#특히 텐서 변수는 name 속성을 가질 수 있음. \n",
        "tensor_var2=tf.Variable(tensor2,name=\"New Name\")\n",
        "print(tensor_var2)"
      ],
      "metadata": {
        "colab": {
          "base_uri": "https://localhost:8080/"
        },
        "id": "yGx4lL2Yvlzd",
        "outputId": "984f3c0a-bb2d-43e4-e738-343413a0cb71"
      },
      "execution_count": 463,
      "outputs": [
        {
          "output_type": "stream",
          "name": "stdout",
          "text": [
            "<tf.Variable 'New Name:0' shape=(2, 3) dtype=int32, numpy=\n",
            "array([[1, 1, 1],\n",
            "       [2, 2, 2]], dtype=int32)>\n"
          ]
        }
      ]
    },
    {
      "cell_type": "code",
      "source": [
        "#텐서 변수도 텐서 연산과 동일하게 사칙 연산 등의 계산을 처리할 수 있음.\n",
        "tensor_var1+tensor_var2"
      ],
      "metadata": {
        "colab": {
          "base_uri": "https://localhost:8080/"
        },
        "id": "mhYaKppJwEuu",
        "outputId": "8272a483-e926-4b69-dc71-95d8bdb3ec2a"
      },
      "execution_count": 464,
      "outputs": [
        {
          "output_type": "execute_result",
          "data": {
            "text/plain": [
              "<tf.Tensor: shape=(2, 3), dtype=int32, numpy=\n",
              "array([[2, 2, 2],\n",
              "       [4, 4, 4]], dtype=int32)>"
            ]
          },
          "metadata": {},
          "execution_count": 464
        }
      ]
    },
    {
      "cell_type": "code",
      "source": [
        "#자동 미분 automatic differentiation 아주 어려움~그냥 보기만 \n",
        "#텐서플로는 딥러닝 모델을 구성하는 복잡한 인공 신경망의 각 노드에서 계산되는 미분을 자동으로 계산해 줌. \n",
        "#특히 각 변수의 기울기에 해당하는 그래디언트(접선의 기울기)를 계산하는 데 특화되어 있음.\n",
        "# y=3x-2에서 기울기와 y절편 값을 텐서 자동 미분을 통해 계산"
      ],
      "metadata": {
        "id": "XDsc7g-CwX0N"
      },
      "execution_count": 465,
      "outputs": []
    },
    {
      "cell_type": "code",
      "source": [
        "#y=3x-2\n",
        "g=tf.random.Generator.from_seed(2020) #난수로 발생\n",
        "X=g.normal(shape=(10,))\n",
        "Y=3*X-2\n",
        "print(X.numpy())\n",
        "print(Y.numpy())"
      ],
      "metadata": {
        "colab": {
          "base_uri": "https://localhost:8080/"
        },
        "id": "-eEwThJ9wCAO",
        "outputId": "36de2414-5f50-46a3-b6c5-542d16c8db65"
      },
      "execution_count": 466,
      "outputs": [
        {
          "output_type": "stream",
          "name": "stdout",
          "text": [
            "[-0.20943771  1.2746525   1.213214   -0.17576952  1.876984    0.16379918\n",
            "  1.082245    0.6199966  -0.44402212  1.3048344 ]\n",
            "[-2.628313    1.8239574   1.6396422  -2.5273085   3.630952   -1.5086024\n",
            "  1.2467351  -0.14001012 -3.3320663   1.9145031 ]\n"
          ]
        }
      ]
    },
    {
      "cell_type": "code",
      "source": [
        "#시간 부족으로 자동 미분은 생략ㅎㅎ\n",
        "#Keras 케라스 : 텐서플로와 붙어다니는 아이ㅋㅋ 예전에는 따로였는데 지금은 아예 통합됨. 케라스 만든 사람이 구글에 입사해서 합쳐짐ㅎㅎ\n",
        "#               딥러닝 라이브러리들을 쉽고 간결하게 사용할 수 있도록 하는 것이 목적임. \n",
        "#               케라스 2.3까지는 다른 딥러닝 라이브러리들도 지원했지만 2.4부터는 더이상 다른 라이브러리를 지원하지 않고 오직 텐서플로만 지원함. 구글에 취직을 해서ㅎㅎ\n",
        "# 하이퍼파라미터 hyper parameter : 파이썬의 하이퍼파라미터와는 다른 의미를 가짐.\n",
        "#                                  하이퍼파라미터는 딥러닝뿐 아니라 머신러닝 모델을 훈련할 때 사용자가 직접 설정해주는 설정값을 의미함.\n",
        "#                                  가중치(weights),편향(bias)는 자동으로 업데이트 되지만 학습 속도나 반복 훈련 횟수 등 사용자가 직접 설정해야하는 값들이 많기 때문.\n",
        "#                                  사용자가 어떤 값을 설정하느냐에 따라 모델의 성능과 결과가 많이 달라지기 때문. 따라서 매우 중요함!"
      ],
      "metadata": {
        "id": "RJImQWmWxrJR"
      },
      "execution_count": 467,
      "outputs": []
    },
    {
      "cell_type": "code",
      "source": [
        "# 과소 적합 vs 과대 적합"
      ],
      "metadata": {
        "id": "IvadoYEBxpaJ"
      },
      "execution_count": 468,
      "outputs": []
    },
    {
      "cell_type": "code",
      "source": [
        "# 에포크 epoch : 딥러닝은 데이터 셋을 학습하는 과정을 매우 많이 반복함. 반복하면서 최적의 모델 가중치를 찾는 과정임. \n",
        "#                반복 훈련을 할 때 학습에 사용하는 1회의 전체 데이터 셋 훈련 루프를 1 epoch 라고 함.(ex: 축구공 사진을 1회에 100장 보여주는 것)\n",
        "#                특히 에폭은 중요한 파라미터임. 과소 적합이라 판단되면 에폭을 늘려서 다시 학습시킬 필요가 있음.\n",
        "#                과대 적합이라 판단되면 에폭을 줄여서 학습을 조기 종료시키는 것이 과대 적합을 방지하는 방법 중 하나임.\n",
        "# 손실 함수 loss function : 예측 값과 정답 간의 차이 또는 오차(출력값과 실제값의 차이)"
      ],
      "metadata": {
        "id": "--j_W2Z9xnY6"
      },
      "execution_count": 469,
      "outputs": []
    },
    {
      "cell_type": "code",
      "source": [
        "import numpy as np\n",
        "import matplotlib.pyplot as plt\n",
        "def make_linear(w=0.5,b=0.8,size=50,noise=1.0):\n",
        "  x=np.random.rand(size)\n",
        "  y=w*x+b\n",
        "  noise=np.random.uniform(-abs(noise),abs(noise), size=y.shape)\n",
        "  yy=y+noise\n",
        "  plt.figure(figsize=(10,7))\n",
        "  plt.plot(x,y,color='r',label=f'y={w}*x+{b}')\n",
        "  plt.scatter(x,yy,label='data')\n",
        "  plt.legend(fontsize=20)\n",
        "  plt.show()\n",
        "  print(f'w:{w}, b:{b}')\n",
        "  return x,yy\n",
        "x,y=make_linear(w=0.3,b=0.5, size=100, noise=0.01)\n",
        "#생성된 y데이터는 y=0.3x+0.5 식과 완전히 일치하지 않고 약간의 노이즈가 추가되었음."
      ],
      "metadata": {
        "colab": {
          "base_uri": "https://localhost:8080/",
          "height": 446
        },
        "id": "A-fudQtcvj-j",
        "outputId": "98e50251-5d8f-45d1-b01b-7a27d7418f27"
      },
      "execution_count": 470,
      "outputs": [
        {
          "output_type": "display_data",
          "data": {
            "image/png": "[encoded data removed]",
            "text/plain": [
              "<Figure size 720x504 with 1 Axes>"
            ]
          },
          "metadata": {
            "needs_background": "light"
          }
        },
        {
          "output_type": "stream",
          "name": "stdout",
          "text": [
            "w:0.3, b:0.5\n"
          ]
        }
      ]
    },
    {
      "cell_type": "code",
      "source": [
        "#딥러닝 프로세스(머신 러닝과 거의 비슷)\n",
        "#데이터 로드 -> 데이터 전처리(결측치,이상치) -> 데이터 분할(훈련용,검증용) -> 모델 생성 -> 훈련 -> 검증 -> 예측  "
      ],
      "metadata": {
        "id": "WCNWwfbD5sYW"
      },
      "execution_count": 471,
      "outputs": []
    },
    {
      "cell_type": "code",
      "source": [
        "import numpy as np\n",
        "x = np.arange(1,6)\n",
        "y = 3*x+2\n",
        "print(x)\n",
        "print(y)"
      ],
      "metadata": {
        "colab": {
          "base_uri": "https://localhost:8080/"
        },
        "id": "rSD-jnmW5p6i",
        "outputId": "05dd6267-9286-4df6-8e6b-4c70859922d5"
      },
      "execution_count": 472,
      "outputs": [
        {
          "output_type": "stream",
          "name": "stdout",
          "text": [
            "[1 2 3 4 5]\n",
            "[ 5  8 11 14 17]\n"
          ]
        }
      ]
    },
    {
      "cell_type": "code",
      "source": [
        "plt.plot(x,y)"
      ],
      "metadata": {
        "colab": {
          "base_uri": "https://localhost:8080/",
          "height": 283
        },
        "id": "Te7lMayH7rob",
        "outputId": "fe912071-9203-4c18-d3ee-8f90fc46a7d7"
      },
      "execution_count": 473,
      "outputs": [
        {
          "output_type": "execute_result",
          "data": {
            "text/plain": [
              "[<matplotlib.lines.Line2D at 0x7fd4152b3210>]"
            ]
          },
          "metadata": {},
          "execution_count": 473
        },
        {
          "output_type": "display_data",
          "data": {
            "image/png": "[encoded data removed]",
            "text/plain": [
              "<Figure size 432x288 with 1 Axes>"
            ]
          },
          "metadata": {
            "needs_background": "light"
          }
        }
      ]
    },
    {
      "cell_type": "code",
      "source": [
        "# 텐서플로 케라스는 일반적으로 세 가지 방식으로 모델을 생성함.\n",
        "# 그 중 가장 간결한 Sequential API 방식을 사용하면 쉽게 만들 수 있음.\n",
        "# 층을 이어 붙이듯 일렬로 연결하는 방식임. 따라서 입력 레이어부터 출력 레이어까지 순서를 가짐.\n",
        "# 입력 데이터는 시퀀스에 가장 앞에 위치하고, 순서대로 각 층을 하나씩 통과하면서 딥러닝 연산을 수행하게 됨.\n",
        "# 직관적으로 구조를 이해할 수 있기 때문에 케라스 중 가장 간단한 방법임.\n",
        "# 2개 이상의 다중 입력이나 다중 출력을 갖는 복잡한 구조를 만들 수는 없음."
      ],
      "metadata": {
        "id": "25cP0uSC7xiP"
      },
      "execution_count": 474,
      "outputs": []
    },
    {
      "cell_type": "code",
      "source": [
        "model=tf.keras.Sequential([tf.keras.layers.Dense(10),tf.keras.layers.Dense(5),tf.keras.layers.Dense(1)])"
      ],
      "metadata": {
        "id": "oySsgela7o5V"
      },
      "execution_count": 475,
      "outputs": []
    },
    {
      "cell_type": "code",
      "source": [
        "#add함수를 통해서 추가로 층을 추가할 수도 있음.\n",
        "model = tf.keras.Sequential()\n",
        "model.add(tf.keras.layers.Dense(10))\n",
        "model.add(tf.keras.layers.Dense(5))\n",
        "model.add(tf.keras.layers.Dense(1))"
      ],
      "metadata": {
        "id": "EH5J2FbP9Oou"
      },
      "execution_count": 476,
      "outputs": []
    },
    {
      "cell_type": "code",
      "source": [
        "#시퀀스 API를 사용하여 모델을 구성할 때는 반드시 첫 번째 층은 input_shape 매개 변수를 지정해야 함.\n",
        "#input_shape 매개 변수는 주입할 데이터 셋의 shape를 튜플 혹은 리스트로 지정할 수 있음.\n",
        "#예를 들면 데이터 셋의 shape이 (150,4)로 구성되었다고 가정하면 input_shape는 (4,) 혹은 [4]로 지정함.\n",
        "model=tf.keras.Sequential([tf.keras.layers.Dense(10,input_shape=[4]),tf.keras.layers.Dense(5),tf.keras.layers.Dense(1)])"
      ],
      "metadata": {
        "id": "oLg_PMb893k2"
      },
      "execution_count": 477,
      "outputs": []
    },
    {
      "cell_type": "code",
      "source": [
        "#단순 선형 회귀 모델\n",
        "model=tf.keras.Sequential([tf.keras.layers.Dense(1,input_shape=[1])])"
      ],
      "metadata": {
        "id": "x_O1Bloz-kNc"
      },
      "execution_count": 478,
      "outputs": []
    },
    {
      "cell_type": "code",
      "source": [
        "# 처음 레이어는 입력층, 마지막 레이어는 출력층, 사이는 은닉층, Dense는 층을 쌓는다는 의미."
      ],
      "metadata": {
        "id": "-gKrOxVe-dZY"
      },
      "execution_count": 479,
      "outputs": []
    },
    {
      "cell_type": "code",
      "source": [
        "model.summary() #모델의 요약: 구조를 확인할 수 있고, 층별 노드의 개수가 표기됨. 하단에는 훈련 시 업데이트 할 파라미터의 개수가 표시됨.\n",
        "#                              Total params 모델 내부에 존재하는 모든 파라미터의 합계\n",
        "#                              Trainable params 모델 훈련 시 업데이트 할 파라미터의 총 개수\n",
        "#                              Non-trainable params 훈련 시 업데이트 하지 않을 파라미터의 총 개수\n",
        "#                              단순 선형 회귀 모델에서는 업데이트 파라미터가 가중치 w 편향 b 두 개이다. 따라서 총 params의 개수가 2개로 표기되는 것을 확인할 수 있음."
      ],
      "metadata": {
        "colab": {
          "base_uri": "https://localhost:8080/"
        },
        "id": "CCPprBQ8-ZTY",
        "outputId": "4b2a2d12-d208-4cd4-f6fe-8c0fddf97b8a"
      },
      "execution_count": 480,
      "outputs": [
        {
          "output_type": "stream",
          "name": "stdout",
          "text": [
            "Model: \"sequential_21\"\n",
            "_________________________________________________________________\n",
            " Layer (type)                Output Shape              Param #   \n",
            "=================================================================\n",
            " dense_57 (Dense)            (None, 1)                 2         \n",
            "                                                                 \n",
            "=================================================================\n",
            "Total params: 2\n",
            "Trainable params: 2\n",
            "Non-trainable params: 0\n",
            "_________________________________________________________________\n"
          ]
        }
      ]
    },
    {
      "cell_type": "code",
      "source": [
        "model.compile(optimizer='sgd', loss='mse', metrics=['mse','mae'])\n",
        "# sgd 경사하강법-최적화방법\n",
        "# 평가 지표와 손실 함수: mse 평균 제곱 오차, mae 평균 절대 오차"
      ],
      "metadata": {
        "id": "xEC0rNbrDrj1"
      },
      "execution_count": 486,
      "outputs": []
    },
    {
      "cell_type": "code",
      "source": [
        "history= model.fit(x,y,epochs=1000)"
      ],
      "metadata": {
        "colab": {
          "base_uri": "https://localhost:8080/"
        },
        "id": "-xI2N6vkDdi7",
        "outputId": "32b89620-6336-4de9-c4a4-ef63f0a4ebab"
      },
      "execution_count": 491,
      "outputs": [
        {
          "output_type": "stream",
          "name": "stdout",
          "text": [
            "Epoch 1/1000\n",
            "1/1 [==============================] - 0s 6ms/step - loss: 1.2587e-07 - mse: 1.2587e-07 - mae: 3.0460e-04\n",
            "Epoch 2/1000\n",
            "1/1 [==============================] - 0s 7ms/step - loss: 1.2504e-07 - mse: 1.2504e-07 - mae: 3.0365e-04\n",
            "Epoch 3/1000\n",
            "1/1 [==============================] - 0s 7ms/step - loss: 1.2416e-07 - mse: 1.2416e-07 - mae: 3.0251e-04\n",
            "Epoch 4/1000\n",
            "1/1 [==============================] - 0s 9ms/step - loss: 1.2327e-07 - mse: 1.2327e-07 - mae: 3.0136e-04\n",
            "Epoch 5/1000\n",
            "1/1 [==============================] - 0s 5ms/step - loss: 1.2255e-07 - mse: 1.2255e-07 - mae: 3.0050e-04\n",
            "Epoch 6/1000\n",
            "1/1 [==============================] - 0s 6ms/step - loss: 1.2191e-07 - mse: 1.2191e-07 - mae: 2.9984e-04\n",
            "Epoch 7/1000\n",
            "1/1 [==============================] - 0s 6ms/step - loss: 1.2103e-07 - mse: 1.2103e-07 - mae: 2.9869e-04\n",
            "Epoch 8/1000\n",
            "1/1 [==============================] - 0s 7ms/step - loss: 1.2021e-07 - mse: 1.2021e-07 - mae: 2.9774e-04\n",
            "Epoch 9/1000\n",
            "1/1 [==============================] - 0s 6ms/step - loss: 1.1932e-07 - mse: 1.1932e-07 - mae: 2.9669e-04\n",
            "Epoch 10/1000\n",
            "1/1 [==============================] - 0s 11ms/step - loss: 1.1861e-07 - mse: 1.1861e-07 - mae: 2.9583e-04\n",
            "Epoch 11/1000\n",
            "1/1 [==============================] - 0s 8ms/step - loss: 1.1783e-07 - mse: 1.1783e-07 - mae: 2.9478e-04\n",
            "Epoch 12/1000\n",
            "1/1 [==============================] - 0s 5ms/step - loss: 1.1689e-07 - mse: 1.1689e-07 - mae: 2.9354e-04\n",
            "Epoch 13/1000\n",
            "1/1 [==============================] - 0s 4ms/step - loss: 1.1609e-07 - mse: 1.1609e-07 - mae: 2.9259e-04\n",
            "Epoch 14/1000\n",
            "1/1 [==============================] - 0s 9ms/step - loss: 1.1553e-07 - mse: 1.1553e-07 - mae: 2.9202e-04\n",
            "Epoch 15/1000\n",
            "1/1 [==============================] - 0s 10ms/step - loss: 1.1460e-07 - mse: 1.1460e-07 - mae: 2.9078e-04\n",
            "Epoch 16/1000\n",
            "1/1 [==============================] - 0s 5ms/step - loss: 1.1368e-07 - mse: 1.1368e-07 - mae: 2.8954e-04\n",
            "Epoch 17/1000\n",
            "1/1 [==============================] - 0s 9ms/step - loss: 1.1303e-07 - mse: 1.1303e-07 - mae: 2.8858e-04\n",
            "Epoch 18/1000\n",
            "1/1 [==============================] - 0s 8ms/step - loss: 1.1223e-07 - mse: 1.1223e-07 - mae: 2.8763e-04\n",
            "Epoch 19/1000\n",
            "1/1 [==============================] - 0s 6ms/step - loss: 1.1160e-07 - mse: 1.1160e-07 - mae: 2.8696e-04\n",
            "Epoch 20/1000\n",
            "1/1 [==============================] - 0s 7ms/step - loss: 1.1069e-07 - mse: 1.1069e-07 - mae: 2.8572e-04\n",
            "Epoch 21/1000\n",
            "1/1 [==============================] - 0s 8ms/step - loss: 1.1007e-07 - mse: 1.1007e-07 - mae: 2.8496e-04\n",
            "Epoch 22/1000\n",
            "1/1 [==============================] - 0s 5ms/step - loss: 1.0953e-07 - mse: 1.0953e-07 - mae: 2.8439e-04\n",
            "Epoch 23/1000\n",
            "1/1 [==============================] - 0s 7ms/step - loss: 1.0863e-07 - mse: 1.0863e-07 - mae: 2.8315e-04\n",
            "Epoch 24/1000\n",
            "1/1 [==============================] - 0s 5ms/step - loss: 1.0773e-07 - mse: 1.0773e-07 - mae: 2.8191e-04\n",
            "Epoch 25/1000\n",
            "1/1 [==============================] - 0s 12ms/step - loss: 1.0710e-07 - mse: 1.0710e-07 - mae: 2.8095e-04\n",
            "Epoch 26/1000\n",
            "1/1 [==============================] - 0s 7ms/step - loss: 1.0632e-07 - mse: 1.0632e-07 - mae: 2.8000e-04\n",
            "Epoch 27/1000\n",
            "1/1 [==============================] - 0s 5ms/step - loss: 1.0570e-07 - mse: 1.0570e-07 - mae: 2.7933e-04\n",
            "Epoch 28/1000\n",
            "1/1 [==============================] - 0s 5ms/step - loss: 1.0499e-07 - mse: 1.0499e-07 - mae: 2.7828e-04\n",
            "Epoch 29/1000\n",
            "1/1 [==============================] - 0s 4ms/step - loss: 1.0434e-07 - mse: 1.0434e-07 - mae: 2.7742e-04\n",
            "Epoch 30/1000\n",
            "1/1 [==============================] - 0s 7ms/step - loss: 1.0358e-07 - mse: 1.0358e-07 - mae: 2.7647e-04\n",
            "Epoch 31/1000\n",
            "1/1 [==============================] - 0s 4ms/step - loss: 1.0306e-07 - mse: 1.0306e-07 - mae: 2.7561e-04\n",
            "Epoch 32/1000\n",
            "1/1 [==============================] - 0s 9ms/step - loss: 1.0229e-07 - mse: 1.0229e-07 - mae: 2.7466e-04\n",
            "Epoch 33/1000\n",
            "1/1 [==============================] - 0s 3ms/step - loss: 1.0148e-07 - mse: 1.0148e-07 - mae: 2.7351e-04\n",
            "Epoch 34/1000\n",
            "1/1 [==============================] - 0s 7ms/step - loss: 1.0085e-07 - mse: 1.0085e-07 - mae: 2.7266e-04\n",
            "Epoch 35/1000\n",
            "1/1 [==============================] - 0s 3ms/step - loss: 1.0010e-07 - mse: 1.0010e-07 - mae: 2.7170e-04\n",
            "Epoch 36/1000\n",
            "1/1 [==============================] - 0s 5ms/step - loss: 9.9618e-08 - mse: 9.9618e-08 - mae: 2.7103e-04\n",
            "Epoch 37/1000\n",
            "1/1 [==============================] - 0s 4ms/step - loss: 9.8774e-08 - mse: 9.8774e-08 - mae: 2.6979e-04\n",
            "Epoch 38/1000\n",
            "1/1 [==============================] - 0s 5ms/step - loss: 9.8244e-08 - mse: 9.8244e-08 - mae: 2.6922e-04\n",
            "Epoch 39/1000\n",
            "1/1 [==============================] - 0s 6ms/step - loss: 9.7600e-08 - mse: 9.7600e-08 - mae: 2.6836e-04\n",
            "Epoch 40/1000\n",
            "1/1 [==============================] - 0s 3ms/step - loss: 9.6995e-08 - mse: 9.6995e-08 - mae: 2.6741e-04\n",
            "Epoch 41/1000\n",
            "1/1 [==============================] - 0s 5ms/step - loss: 9.6208e-08 - mse: 9.6208e-08 - mae: 2.6627e-04\n",
            "Epoch 42/1000\n",
            "1/1 [==============================] - 0s 4ms/step - loss: 9.5380e-08 - mse: 9.5380e-08 - mae: 2.6503e-04\n",
            "Epoch 43/1000\n",
            "1/1 [==============================] - 0s 5ms/step - loss: 9.4858e-08 - mse: 9.4858e-08 - mae: 2.6445e-04\n",
            "Epoch 44/1000\n",
            "1/1 [==============================] - 0s 5ms/step - loss: 9.4226e-08 - mse: 9.4226e-08 - mae: 2.6360e-04\n",
            "Epoch 45/1000\n",
            "1/1 [==============================] - 0s 4ms/step - loss: 9.3520e-08 - mse: 9.3520e-08 - mae: 2.6236e-04\n",
            "Epoch 46/1000\n",
            "1/1 [==============================] - 0s 6ms/step - loss: 9.3020e-08 - mse: 9.3020e-08 - mae: 2.6178e-04\n",
            "Epoch 47/1000\n",
            "1/1 [==============================] - 0s 5ms/step - loss: 9.2458e-08 - mse: 9.2458e-08 - mae: 2.6102e-04\n",
            "Epoch 48/1000\n",
            "1/1 [==============================] - 0s 5ms/step - loss: 9.1788e-08 - mse: 9.1788e-08 - mae: 2.5997e-04\n",
            "Epoch 49/1000\n",
            "1/1 [==============================] - 0s 5ms/step - loss: 9.1138e-08 - mse: 9.1138e-08 - mae: 2.5892e-04\n",
            "Epoch 50/1000\n",
            "1/1 [==============================] - 0s 6ms/step - loss: 9.0393e-08 - mse: 9.0393e-08 - mae: 2.5778e-04\n",
            "Epoch 51/1000\n",
            "1/1 [==============================] - 0s 4ms/step - loss: 9.0013e-08 - mse: 9.0013e-08 - mae: 2.5749e-04\n",
            "Epoch 52/1000\n",
            "1/1 [==============================] - 0s 4ms/step - loss: 8.9227e-08 - mse: 8.9227e-08 - mae: 2.5616e-04\n",
            "Epoch 53/1000\n",
            "1/1 [==============================] - 0s 4ms/step - loss: 8.8614e-08 - mse: 8.8614e-08 - mae: 2.5530e-04\n",
            "Epoch 54/1000\n",
            "1/1 [==============================] - 0s 5ms/step - loss: 8.8206e-08 - mse: 8.8206e-08 - mae: 2.5482e-04\n",
            "Epoch 55/1000\n",
            "1/1 [==============================] - 0s 4ms/step - loss: 8.7473e-08 - mse: 8.7473e-08 - mae: 2.5368e-04\n",
            "Epoch 56/1000\n",
            "1/1 [==============================] - 0s 4ms/step - loss: 8.6853e-08 - mse: 8.6853e-08 - mae: 2.5282e-04\n",
            "Epoch 57/1000\n",
            "1/1 [==============================] - 0s 5ms/step - loss: 8.6170e-08 - mse: 8.6170e-08 - mae: 2.5187e-04\n",
            "Epoch 58/1000\n",
            "1/1 [==============================] - 0s 5ms/step - loss: 8.5599e-08 - mse: 8.5599e-08 - mae: 2.5120e-04\n",
            "Epoch 59/1000\n",
            "1/1 [==============================] - 0s 5ms/step - loss: 8.4926e-08 - mse: 8.4926e-08 - mae: 2.4996e-04\n",
            "Epoch 60/1000\n",
            "1/1 [==============================] - 0s 5ms/step - loss: 8.4544e-08 - mse: 8.4544e-08 - mae: 2.4948e-04\n",
            "Epoch 61/1000\n",
            "1/1 [==============================] - 0s 5ms/step - loss: 8.3993e-08 - mse: 8.3993e-08 - mae: 2.4872e-04\n",
            "Epoch 62/1000\n",
            "1/1 [==============================] - 0s 6ms/step - loss: 8.3370e-08 - mse: 8.3370e-08 - mae: 2.4767e-04\n",
            "Epoch 63/1000\n",
            "1/1 [==============================] - 0s 4ms/step - loss: 8.2991e-08 - mse: 8.2991e-08 - mae: 2.4719e-04\n",
            "Epoch 64/1000\n",
            "1/1 [==============================] - 0s 4ms/step - loss: 8.2248e-08 - mse: 8.2248e-08 - mae: 2.4605e-04\n",
            "Epoch 65/1000\n",
            "1/1 [==============================] - 0s 5ms/step - loss: 8.1828e-08 - mse: 8.1828e-08 - mae: 2.4538e-04\n",
            "Epoch 66/1000\n",
            "1/1 [==============================] - 0s 6ms/step - loss: 8.1258e-08 - mse: 8.1258e-08 - mae: 2.4452e-04\n",
            "Epoch 67/1000\n",
            "1/1 [==============================] - 0s 4ms/step - loss: 8.0659e-08 - mse: 8.0659e-08 - mae: 2.4366e-04\n",
            "Epoch 68/1000\n",
            "1/1 [==============================] - 0s 7ms/step - loss: 8.0015e-08 - mse: 8.0015e-08 - mae: 2.4261e-04\n",
            "Epoch 69/1000\n",
            "1/1 [==============================] - 0s 4ms/step - loss: 7.9556e-08 - mse: 7.9556e-08 - mae: 2.4204e-04\n",
            "Epoch 70/1000\n",
            "1/1 [==============================] - 0s 5ms/step - loss: 7.8950e-08 - mse: 7.8950e-08 - mae: 2.4099e-04\n",
            "Epoch 71/1000\n",
            "1/1 [==============================] - 0s 6ms/step - loss: 7.8612e-08 - mse: 7.8612e-08 - mae: 2.4071e-04\n",
            "Epoch 72/1000\n",
            "1/1 [==============================] - 0s 3ms/step - loss: 7.7904e-08 - mse: 7.7904e-08 - mae: 2.3956e-04\n",
            "Epoch 73/1000\n",
            "1/1 [==============================] - 0s 5ms/step - loss: 7.7360e-08 - mse: 7.7360e-08 - mae: 2.3861e-04\n",
            "Epoch 74/1000\n",
            "1/1 [==============================] - 0s 5ms/step - loss: 7.6951e-08 - mse: 7.6951e-08 - mae: 2.3823e-04\n",
            "Epoch 75/1000\n",
            "1/1 [==============================] - 0s 5ms/step - loss: 7.6224e-08 - mse: 7.6224e-08 - mae: 2.3689e-04\n",
            "Epoch 76/1000\n",
            "1/1 [==============================] - 0s 4ms/step - loss: 7.5846e-08 - mse: 7.5846e-08 - mae: 2.3642e-04\n",
            "Epoch 77/1000\n",
            "1/1 [==============================] - 0s 4ms/step - loss: 7.5428e-08 - mse: 7.5428e-08 - mae: 2.3575e-04\n",
            "Epoch 78/1000\n",
            "1/1 [==============================] - 0s 4ms/step - loss: 7.4750e-08 - mse: 7.4750e-08 - mae: 2.3460e-04\n",
            "Epoch 79/1000\n",
            "1/1 [==============================] - 0s 6ms/step - loss: 7.4361e-08 - mse: 7.4361e-08 - mae: 2.3413e-04\n",
            "Epoch 80/1000\n",
            "1/1 [==============================] - 0s 7ms/step - loss: 7.3775e-08 - mse: 7.3775e-08 - mae: 2.3308e-04\n",
            "Epoch 81/1000\n",
            "1/1 [==============================] - 0s 7ms/step - loss: 7.3275e-08 - mse: 7.3275e-08 - mae: 2.3232e-04\n",
            "Epoch 82/1000\n",
            "1/1 [==============================] - 0s 9ms/step - loss: 7.2992e-08 - mse: 7.2992e-08 - mae: 2.3193e-04\n",
            "Epoch 83/1000\n",
            "1/1 [==============================] - 0s 9ms/step - loss: 7.2325e-08 - mse: 7.2325e-08 - mae: 2.3079e-04\n",
            "Epoch 84/1000\n",
            "1/1 [==============================] - 0s 11ms/step - loss: 7.1733e-08 - mse: 7.1733e-08 - mae: 2.2974e-04\n",
            "Epoch 85/1000\n",
            "1/1 [==============================] - 0s 11ms/step - loss: 7.1550e-08 - mse: 7.1550e-08 - mae: 2.2964e-04\n",
            "Epoch 86/1000\n",
            "1/1 [==============================] - 0s 6ms/step - loss: 7.0849e-08 - mse: 7.0849e-08 - mae: 2.2831e-04\n",
            "Epoch 87/1000\n",
            "1/1 [==============================] - 0s 6ms/step - loss: 7.0511e-08 - mse: 7.0511e-08 - mae: 2.2802e-04\n",
            "Epoch 88/1000\n",
            "1/1 [==============================] - 0s 6ms/step - loss: 6.9940e-08 - mse: 6.9940e-08 - mae: 2.2697e-04\n",
            "Epoch 89/1000\n",
            "1/1 [==============================] - 0s 7ms/step - loss: 6.9494e-08 - mse: 6.9494e-08 - mae: 2.2640e-04\n",
            "Epoch 90/1000\n",
            "1/1 [==============================] - 0s 10ms/step - loss: 6.9002e-08 - mse: 6.9002e-08 - mae: 2.2545e-04\n",
            "Epoch 91/1000\n",
            "1/1 [==============================] - 0s 6ms/step - loss: 6.8514e-08 - mse: 6.8514e-08 - mae: 2.2469e-04\n",
            "Epoch 92/1000\n",
            "1/1 [==============================] - 0s 7ms/step - loss: 6.8076e-08 - mse: 6.8076e-08 - mae: 2.2392e-04\n",
            "Epoch 93/1000\n",
            "1/1 [==============================] - 0s 12ms/step - loss: 6.7595e-08 - mse: 6.7595e-08 - mae: 2.2316e-04\n",
            "Epoch 94/1000\n",
            "1/1 [==============================] - 0s 8ms/step - loss: 6.7023e-08 - mse: 6.7023e-08 - mae: 2.2211e-04\n",
            "Epoch 95/1000\n",
            "1/1 [==============================] - 0s 5ms/step - loss: 6.6847e-08 - mse: 6.6847e-08 - mae: 2.2202e-04\n",
            "Epoch 96/1000\n",
            "1/1 [==============================] - 0s 7ms/step - loss: 6.6291e-08 - mse: 6.6291e-08 - mae: 2.2097e-04\n",
            "Epoch 97/1000\n",
            "1/1 [==============================] - 0s 8ms/step - loss: 6.5939e-08 - mse: 6.5939e-08 - mae: 2.2049e-04\n",
            "Epoch 98/1000\n",
            "1/1 [==============================] - 0s 4ms/step - loss: 6.5291e-08 - mse: 6.5291e-08 - mae: 2.1935e-04\n",
            "Epoch 99/1000\n",
            "1/1 [==============================] - 0s 8ms/step - loss: 6.4928e-08 - mse: 6.4928e-08 - mae: 2.1887e-04\n",
            "Epoch 100/1000\n",
            "1/1 [==============================] - 0s 6ms/step - loss: 6.4380e-08 - mse: 6.4380e-08 - mae: 2.1782e-04\n",
            "Epoch 101/1000\n",
            "1/1 [==============================] - 0s 12ms/step - loss: 6.3996e-08 - mse: 6.3996e-08 - mae: 2.1715e-04\n",
            "Epoch 102/1000\n",
            "1/1 [==============================] - 0s 8ms/step - loss: 6.3714e-08 - mse: 6.3714e-08 - mae: 2.1677e-04\n",
            "Epoch 103/1000\n",
            "1/1 [==============================] - 0s 9ms/step - loss: 6.3157e-08 - mse: 6.3157e-08 - mae: 2.1572e-04\n",
            "Epoch 104/1000\n",
            "1/1 [==============================] - 0s 7ms/step - loss: 6.2764e-08 - mse: 6.2764e-08 - mae: 2.1515e-04\n",
            "Epoch 105/1000\n",
            "1/1 [==============================] - 0s 8ms/step - loss: 6.2385e-08 - mse: 6.2385e-08 - mae: 2.1448e-04\n",
            "Epoch 106/1000\n",
            "1/1 [==============================] - 0s 8ms/step - loss: 6.1934e-08 - mse: 6.1934e-08 - mae: 2.1372e-04\n",
            "Epoch 107/1000\n",
            "1/1 [==============================] - 0s 8ms/step - loss: 6.1520e-08 - mse: 6.1520e-08 - mae: 2.1286e-04\n",
            "Epoch 108/1000\n",
            "1/1 [==============================] - 0s 4ms/step - loss: 6.1010e-08 - mse: 6.1010e-08 - mae: 2.1200e-04\n",
            "Epoch 109/1000\n",
            "1/1 [==============================] - 0s 8ms/step - loss: 6.0673e-08 - mse: 6.0673e-08 - mae: 2.1152e-04\n",
            "Epoch 110/1000\n",
            "1/1 [==============================] - 0s 4ms/step - loss: 6.0337e-08 - mse: 6.0337e-08 - mae: 2.1105e-04\n",
            "Epoch 111/1000\n",
            "1/1 [==============================] - 0s 9ms/step - loss: 5.9928e-08 - mse: 5.9928e-08 - mae: 2.1019e-04\n",
            "Epoch 112/1000\n",
            "1/1 [==============================] - 0s 5ms/step - loss: 5.9473e-08 - mse: 5.9473e-08 - mae: 2.0943e-04\n",
            "Epoch 113/1000\n",
            "1/1 [==============================] - 0s 8ms/step - loss: 5.9126e-08 - mse: 5.9126e-08 - mae: 2.0876e-04\n",
            "Epoch 114/1000\n",
            "1/1 [==============================] - 0s 4ms/step - loss: 5.8720e-08 - mse: 5.8720e-08 - mae: 2.0790e-04\n",
            "Epoch 115/1000\n",
            "1/1 [==============================] - 0s 6ms/step - loss: 5.8222e-08 - mse: 5.8222e-08 - mae: 2.0704e-04\n",
            "Epoch 116/1000\n",
            "1/1 [==============================] - 0s 7ms/step - loss: 5.7893e-08 - mse: 5.7893e-08 - mae: 2.0657e-04\n",
            "Epoch 117/1000\n",
            "1/1 [==============================] - 0s 9ms/step - loss: 5.7564e-08 - mse: 5.7564e-08 - mae: 2.0609e-04\n",
            "Epoch 118/1000\n",
            "1/1 [==============================] - 0s 4ms/step - loss: 5.7165e-08 - mse: 5.7165e-08 - mae: 2.0523e-04\n",
            "Epoch 119/1000\n",
            "1/1 [==============================] - 0s 4ms/step - loss: 5.6673e-08 - mse: 5.6673e-08 - mae: 2.0437e-04\n",
            "Epoch 120/1000\n",
            "1/1 [==============================] - 0s 7ms/step - loss: 5.6348e-08 - mse: 5.6348e-08 - mae: 2.0390e-04\n",
            "Epoch 121/1000\n",
            "1/1 [==============================] - 0s 4ms/step - loss: 5.6025e-08 - mse: 5.6025e-08 - mae: 2.0342e-04\n",
            "Epoch 122/1000\n",
            "1/1 [==============================] - 0s 9ms/step - loss: 5.5631e-08 - mse: 5.5631e-08 - mae: 2.0256e-04\n",
            "Epoch 123/1000\n",
            "1/1 [==============================] - 0s 4ms/step - loss: 5.5281e-08 - mse: 5.5281e-08 - mae: 2.0189e-04\n",
            "Epoch 124/1000\n",
            "1/1 [==============================] - 0s 11ms/step - loss: 5.4960e-08 - mse: 5.4960e-08 - mae: 2.0142e-04\n",
            "Epoch 125/1000\n",
            "1/1 [==============================] - 0s 6ms/step - loss: 5.4443e-08 - mse: 5.4443e-08 - mae: 2.0037e-04\n",
            "Epoch 126/1000\n",
            "1/1 [==============================] - 0s 9ms/step - loss: 5.4171e-08 - mse: 5.4171e-08 - mae: 1.9999e-04\n",
            "Epoch 127/1000\n",
            "1/1 [==============================] - 0s 6ms/step - loss: 5.3733e-08 - mse: 5.3733e-08 - mae: 1.9903e-04\n",
            "Epoch 128/1000\n",
            "1/1 [==============================] - 0s 8ms/step - loss: 5.3417e-08 - mse: 5.3417e-08 - mae: 1.9855e-04\n",
            "Epoch 129/1000\n",
            "1/1 [==============================] - 0s 9ms/step - loss: 5.3113e-08 - mse: 5.3113e-08 - mae: 1.9798e-04\n",
            "Epoch 130/1000\n",
            "1/1 [==============================] - 0s 13ms/step - loss: 5.2736e-08 - mse: 5.2736e-08 - mae: 1.9712e-04\n",
            "Epoch 131/1000\n",
            "1/1 [==============================] - 0s 12ms/step - loss: 5.2423e-08 - mse: 5.2423e-08 - mae: 1.9665e-04\n",
            "Epoch 132/1000\n",
            "1/1 [==============================] - 0s 5ms/step - loss: 5.2122e-08 - mse: 5.2122e-08 - mae: 1.9617e-04\n",
            "Epoch 133/1000\n",
            "1/1 [==============================] - 0s 9ms/step - loss: 5.1738e-08 - mse: 5.1738e-08 - mae: 1.9531e-04\n",
            "Epoch 134/1000\n",
            "1/1 [==============================] - 0s 4ms/step - loss: 5.1393e-08 - mse: 5.1393e-08 - mae: 1.9464e-04\n",
            "Epoch 135/1000\n",
            "1/1 [==============================] - 0s 12ms/step - loss: 5.1084e-08 - mse: 5.1084e-08 - mae: 1.9417e-04\n",
            "Epoch 136/1000\n",
            "1/1 [==============================] - 0s 6ms/step - loss: 5.0619e-08 - mse: 5.0619e-08 - mae: 1.9331e-04\n",
            "Epoch 137/1000\n",
            "1/1 [==============================] - 0s 5ms/step - loss: 5.0279e-08 - mse: 5.0279e-08 - mae: 1.9264e-04\n",
            "Epoch 138/1000\n",
            "1/1 [==============================] - 0s 8ms/step - loss: 4.9901e-08 - mse: 4.9901e-08 - mae: 1.9178e-04\n",
            "Epoch 139/1000\n",
            "1/1 [==============================] - 0s 6ms/step - loss: 4.9608e-08 - mse: 4.9608e-08 - mae: 1.9131e-04\n",
            "Epoch 140/1000\n",
            "1/1 [==============================] - 0s 10ms/step - loss: 4.9304e-08 - mse: 4.9304e-08 - mae: 1.9083e-04\n",
            "Epoch 141/1000\n",
            "1/1 [==============================] - 0s 5ms/step - loss: 4.9083e-08 - mse: 4.9083e-08 - mae: 1.9035e-04\n",
            "Epoch 142/1000\n",
            "1/1 [==============================] - 0s 6ms/step - loss: 4.8595e-08 - mse: 4.8595e-08 - mae: 1.8930e-04\n",
            "Epoch 143/1000\n",
            "1/1 [==============================] - 0s 9ms/step - loss: 4.8294e-08 - mse: 4.8294e-08 - mae: 1.8883e-04\n",
            "Epoch 144/1000\n",
            "1/1 [==============================] - 0s 5ms/step - loss: 4.8109e-08 - mse: 4.8109e-08 - mae: 1.8854e-04\n",
            "Epoch 145/1000\n",
            "1/1 [==============================] - 0s 5ms/step - loss: 4.7636e-08 - mse: 4.7636e-08 - mae: 1.8749e-04\n",
            "Epoch 146/1000\n",
            "1/1 [==============================] - 0s 7ms/step - loss: 4.7420e-08 - mse: 4.7420e-08 - mae: 1.8702e-04\n",
            "Epoch 147/1000\n",
            "1/1 [==============================] - 0s 8ms/step - loss: 4.6972e-08 - mse: 4.6972e-08 - mae: 1.8616e-04\n",
            "Epoch 148/1000\n",
            "1/1 [==============================] - 0s 7ms/step - loss: 4.6789e-08 - mse: 4.6789e-08 - mae: 1.8587e-04\n",
            "Epoch 149/1000\n",
            "1/1 [==============================] - 0s 5ms/step - loss: 4.6473e-08 - mse: 4.6473e-08 - mae: 1.8520e-04\n",
            "Epoch 150/1000\n",
            "1/1 [==============================] - 0s 6ms/step - loss: 4.6110e-08 - mse: 4.6110e-08 - mae: 1.8435e-04\n",
            "Epoch 151/1000\n",
            "1/1 [==============================] - 0s 7ms/step - loss: 4.5817e-08 - mse: 4.5817e-08 - mae: 1.8387e-04\n",
            "Epoch 152/1000\n",
            "1/1 [==============================] - 0s 10ms/step - loss: 4.5636e-08 - mse: 4.5636e-08 - mae: 1.8358e-04\n",
            "Epoch 153/1000\n",
            "1/1 [==============================] - 0s 8ms/step - loss: 4.5176e-08 - mse: 4.5176e-08 - mae: 1.8253e-04\n",
            "Epoch 154/1000\n",
            "1/1 [==============================] - 0s 7ms/step - loss: 4.4965e-08 - mse: 4.4965e-08 - mae: 1.8206e-04\n",
            "Epoch 155/1000\n",
            "1/1 [==============================] - 0s 7ms/step - loss: 4.4530e-08 - mse: 4.4530e-08 - mae: 1.8120e-04\n",
            "Epoch 156/1000\n",
            "1/1 [==============================] - 0s 8ms/step - loss: 4.4351e-08 - mse: 4.4351e-08 - mae: 1.8091e-04\n",
            "Epoch 157/1000\n",
            "1/1 [==============================] - 0s 6ms/step - loss: 4.4043e-08 - mse: 4.4043e-08 - mae: 1.8024e-04\n",
            "Epoch 158/1000\n",
            "1/1 [==============================] - 0s 6ms/step - loss: 4.3690e-08 - mse: 4.3690e-08 - mae: 1.7939e-04\n",
            "Epoch 159/1000\n",
            "1/1 [==============================] - 0s 7ms/step - loss: 4.3405e-08 - mse: 4.3405e-08 - mae: 1.7891e-04\n",
            "Epoch 160/1000\n",
            "1/1 [==============================] - 0s 17ms/step - loss: 4.3229e-08 - mse: 4.3229e-08 - mae: 1.7862e-04\n",
            "Epoch 161/1000\n",
            "1/1 [==============================] - 0s 8ms/step - loss: 4.2782e-08 - mse: 4.2782e-08 - mae: 1.7757e-04\n",
            "Epoch 162/1000\n",
            "1/1 [==============================] - 0s 10ms/step - loss: 4.2576e-08 - mse: 4.2576e-08 - mae: 1.7710e-04\n",
            "Epoch 163/1000\n",
            "1/1 [==============================] - 0s 8ms/step - loss: 4.2153e-08 - mse: 4.2153e-08 - mae: 1.7624e-04\n",
            "Epoch 164/1000\n",
            "1/1 [==============================] - 0s 6ms/step - loss: 4.1979e-08 - mse: 4.1979e-08 - mae: 1.7595e-04\n",
            "Epoch 165/1000\n",
            "1/1 [==============================] - 0s 9ms/step - loss: 4.1680e-08 - mse: 4.1680e-08 - mae: 1.7529e-04\n",
            "Epoch 166/1000\n",
            "1/1 [==============================] - 0s 5ms/step - loss: 4.1336e-08 - mse: 4.1336e-08 - mae: 1.7443e-04\n",
            "Epoch 167/1000\n",
            "1/1 [==============================] - 0s 6ms/step - loss: 4.1058e-08 - mse: 4.1058e-08 - mae: 1.7395e-04\n",
            "Epoch 168/1000\n",
            "1/1 [==============================] - 0s 7ms/step - loss: 4.0887e-08 - mse: 4.0887e-08 - mae: 1.7366e-04\n",
            "Epoch 169/1000\n",
            "1/1 [==============================] - 0s 9ms/step - loss: 4.0558e-08 - mse: 4.0558e-08 - mae: 1.7281e-04\n",
            "Epoch 170/1000\n",
            "1/1 [==============================] - 0s 8ms/step - loss: 4.0180e-08 - mse: 4.0180e-08 - mae: 1.7185e-04\n",
            "Epoch 171/1000\n",
            "1/1 [==============================] - 0s 12ms/step - loss: 3.9957e-08 - mse: 3.9957e-08 - mae: 1.7147e-04\n",
            "Epoch 172/1000\n",
            "1/1 [==============================] - 0s 16ms/step - loss: 3.9788e-08 - mse: 3.9788e-08 - mae: 1.7118e-04\n",
            "Epoch 173/1000\n",
            "1/1 [==============================] - 0s 10ms/step - loss: 3.9453e-08 - mse: 3.9453e-08 - mae: 1.7033e-04\n",
            "Epoch 174/1000\n",
            "1/1 [==============================] - 0s 4ms/step - loss: 3.9202e-08 - mse: 3.9202e-08 - mae: 1.6975e-04\n",
            "Epoch 175/1000\n",
            "1/1 [==============================] - 0s 3ms/step - loss: 3.8860e-08 - mse: 3.8860e-08 - mae: 1.6899e-04\n",
            "Epoch 176/1000\n",
            "1/1 [==============================] - 0s 9ms/step - loss: 3.8777e-08 - mse: 3.8777e-08 - mae: 1.6899e-04\n",
            "Epoch 177/1000\n",
            "1/1 [==============================] - 0s 3ms/step - loss: 3.8394e-08 - mse: 3.8394e-08 - mae: 1.6804e-04\n",
            "Epoch 178/1000\n",
            "1/1 [==============================] - 0s 4ms/step - loss: 3.8228e-08 - mse: 3.8228e-08 - mae: 1.6775e-04\n",
            "Epoch 179/1000\n",
            "1/1 [==============================] - 0s 9ms/step - loss: 3.7872e-08 - mse: 3.7872e-08 - mae: 1.6680e-04\n",
            "Epoch 180/1000\n",
            "1/1 [==============================] - 0s 11ms/step - loss: 3.7728e-08 - mse: 3.7728e-08 - mae: 1.6670e-04\n",
            "Epoch 181/1000\n",
            "1/1 [==============================] - 0s 10ms/step - loss: 3.7431e-08 - mse: 3.7431e-08 - mae: 1.6603e-04\n",
            "Epoch 182/1000\n",
            "1/1 [==============================] - 0s 10ms/step - loss: 3.7249e-08 - mse: 3.7249e-08 - mae: 1.6556e-04\n",
            "Epoch 183/1000\n",
            "1/1 [==============================] - 0s 10ms/step - loss: 3.6824e-08 - mse: 3.6824e-08 - mae: 1.6451e-04\n",
            "Epoch 184/1000\n",
            "1/1 [==============================] - 0s 14ms/step - loss: 3.6662e-08 - mse: 3.6662e-08 - mae: 1.6422e-04\n",
            "Epoch 185/1000\n",
            "1/1 [==============================] - 0s 10ms/step - loss: 3.6511e-08 - mse: 3.6511e-08 - mae: 1.6394e-04\n",
            "Epoch 186/1000\n",
            "1/1 [==============================] - 0s 5ms/step - loss: 3.6080e-08 - mse: 3.6080e-08 - mae: 1.6289e-04\n",
            "Epoch 187/1000\n",
            "1/1 [==============================] - 0s 10ms/step - loss: 3.5892e-08 - mse: 3.5892e-08 - mae: 1.6251e-04\n",
            "Epoch 188/1000\n",
            "1/1 [==============================] - 0s 5ms/step - loss: 3.5593e-08 - mse: 3.5593e-08 - mae: 1.6184e-04\n",
            "Epoch 189/1000\n",
            "1/1 [==============================] - 0s 10ms/step - loss: 3.5434e-08 - mse: 3.5434e-08 - mae: 1.6155e-04\n",
            "Epoch 190/1000\n",
            "1/1 [==============================] - 0s 5ms/step - loss: 3.5225e-08 - mse: 3.5225e-08 - mae: 1.6117e-04\n",
            "Epoch 191/1000\n",
            "1/1 [==============================] - 0s 12ms/step - loss: 3.4872e-08 - mse: 3.4872e-08 - mae: 1.6022e-04\n",
            "Epoch 192/1000\n",
            "1/1 [==============================] - 0s 13ms/step - loss: 3.4569e-08 - mse: 3.4569e-08 - mae: 1.5936e-04\n",
            "Epoch 193/1000\n",
            "1/1 [==============================] - 0s 14ms/step - loss: 3.4491e-08 - mse: 3.4491e-08 - mae: 1.5936e-04\n",
            "Epoch 194/1000\n",
            "1/1 [==============================] - 0s 12ms/step - loss: 3.4218e-08 - mse: 3.4218e-08 - mae: 1.5869e-04\n",
            "Epoch 195/1000\n",
            "1/1 [==============================] - 0s 10ms/step - loss: 3.4082e-08 - mse: 3.4082e-08 - mae: 1.5860e-04\n",
            "Epoch 196/1000\n",
            "1/1 [==============================] - 0s 10ms/step - loss: 3.3753e-08 - mse: 3.3753e-08 - mae: 1.5755e-04\n",
            "Epoch 197/1000\n",
            "1/1 [==============================] - 0s 10ms/step - loss: 3.3472e-08 - mse: 3.3472e-08 - mae: 1.5688e-04\n",
            "Epoch 198/1000\n",
            "1/1 [==============================] - 0s 10ms/step - loss: 3.3317e-08 - mse: 3.3317e-08 - mae: 1.5659e-04\n",
            "Epoch 199/1000\n",
            "1/1 [==============================] - 0s 10ms/step - loss: 3.3174e-08 - mse: 3.3174e-08 - mae: 1.5631e-04\n",
            "Epoch 200/1000\n",
            "1/1 [==============================] - 0s 7ms/step - loss: 3.2790e-08 - mse: 3.2790e-08 - mae: 1.5545e-04\n",
            "Epoch 201/1000\n",
            "1/1 [==============================] - 0s 10ms/step - loss: 3.2620e-08 - mse: 3.2620e-08 - mae: 1.5497e-04\n",
            "Epoch 202/1000\n",
            "1/1 [==============================] - 0s 6ms/step - loss: 3.2394e-08 - mse: 3.2394e-08 - mae: 1.5440e-04\n",
            "Epoch 203/1000\n",
            "1/1 [==============================] - 0s 6ms/step - loss: 3.2128e-08 - mse: 3.2128e-08 - mae: 1.5373e-04\n",
            "Epoch 204/1000\n",
            "1/1 [==============================] - 0s 11ms/step - loss: 3.2054e-08 - mse: 3.2054e-08 - mae: 1.5373e-04\n",
            "Epoch 205/1000\n",
            "1/1 [==============================] - 0s 7ms/step - loss: 3.1763e-08 - mse: 3.1763e-08 - mae: 1.5287e-04\n",
            "Epoch 206/1000\n",
            "1/1 [==============================] - 0s 10ms/step - loss: 3.1595e-08 - mse: 3.1595e-08 - mae: 1.5240e-04\n",
            "Epoch 207/1000\n",
            "1/1 [==============================] - 0s 8ms/step - loss: 3.1324e-08 - mse: 3.1324e-08 - mae: 1.5173e-04\n",
            "Epoch 208/1000\n",
            "1/1 [==============================] - 0s 11ms/step - loss: 3.1082e-08 - mse: 3.1082e-08 - mae: 1.5125e-04\n",
            "Epoch 209/1000\n",
            "1/1 [==============================] - 0s 11ms/step - loss: 3.0952e-08 - mse: 3.0952e-08 - mae: 1.5116e-04\n",
            "Epoch 210/1000\n",
            "1/1 [==============================] - 0s 7ms/step - loss: 3.0639e-08 - mse: 3.0639e-08 - mae: 1.5011e-04\n",
            "Epoch 211/1000\n",
            "1/1 [==============================] - 0s 4ms/step - loss: 3.0398e-08 - mse: 3.0398e-08 - mae: 1.4963e-04\n",
            "Epoch 212/1000\n",
            "1/1 [==============================] - 0s 11ms/step - loss: 3.0189e-08 - mse: 3.0189e-08 - mae: 1.4906e-04\n",
            "Epoch 213/1000\n",
            "1/1 [==============================] - 0s 10ms/step - loss: 3.0042e-08 - mse: 3.0042e-08 - mae: 1.4877e-04\n",
            "Epoch 214/1000\n",
            "1/1 [==============================] - 0s 14ms/step - loss: 2.9896e-08 - mse: 2.9896e-08 - mae: 1.4849e-04\n",
            "Epoch 215/1000\n",
            "1/1 [==============================] - 0s 11ms/step - loss: 2.9615e-08 - mse: 2.9615e-08 - mae: 1.4763e-04\n",
            "Epoch 216/1000\n",
            "1/1 [==============================] - 0s 7ms/step - loss: 2.9435e-08 - mse: 2.9435e-08 - mae: 1.4725e-04\n",
            "Epoch 217/1000\n",
            "1/1 [==============================] - 0s 12ms/step - loss: 2.9221e-08 - mse: 2.9221e-08 - mae: 1.4668e-04\n",
            "Epoch 218/1000\n",
            "1/1 [==============================] - 0s 7ms/step - loss: 2.9120e-08 - mse: 2.9120e-08 - mae: 1.4648e-04\n",
            "Epoch 219/1000\n",
            "1/1 [==============================] - 0s 7ms/step - loss: 2.8868e-08 - mse: 2.8868e-08 - mae: 1.4582e-04\n",
            "Epoch 220/1000\n",
            "1/1 [==============================] - 0s 8ms/step - loss: 2.8656e-08 - mse: 2.8656e-08 - mae: 1.4524e-04\n",
            "Epoch 221/1000\n",
            "1/1 [==============================] - 0s 7ms/step - loss: 2.8522e-08 - mse: 2.8522e-08 - mae: 1.4496e-04\n",
            "Epoch 222/1000\n",
            "1/1 [==============================] - 0s 4ms/step - loss: 2.8229e-08 - mse: 2.8229e-08 - mae: 1.4410e-04\n",
            "Epoch 223/1000\n",
            "1/1 [==============================] - 0s 10ms/step - loss: 2.8096e-08 - mse: 2.8096e-08 - mae: 1.4381e-04\n",
            "Epoch 224/1000\n",
            "1/1 [==============================] - 0s 7ms/step - loss: 2.7921e-08 - mse: 2.7921e-08 - mae: 1.4343e-04\n",
            "Epoch 225/1000\n",
            "1/1 [==============================] - 0s 8ms/step - loss: 2.7738e-08 - mse: 2.7738e-08 - mae: 1.4305e-04\n",
            "Epoch 226/1000\n",
            "1/1 [==============================] - 0s 8ms/step - loss: 2.7614e-08 - mse: 2.7614e-08 - mae: 1.4267e-04\n",
            "Epoch 227/1000\n",
            "1/1 [==============================] - 0s 6ms/step - loss: 2.7335e-08 - mse: 2.7335e-08 - mae: 1.4181e-04\n",
            "Epoch 228/1000\n",
            "1/1 [==============================] - 0s 8ms/step - loss: 2.7091e-08 - mse: 2.7091e-08 - mae: 1.4114e-04\n",
            "Epoch 229/1000\n",
            "1/1 [==============================] - 0s 7ms/step - loss: 2.7032e-08 - mse: 2.7032e-08 - mae: 1.4114e-04\n",
            "Epoch 230/1000\n",
            "1/1 [==============================] - 0s 7ms/step - loss: 2.6884e-08 - mse: 2.6884e-08 - mae: 1.4086e-04\n",
            "Epoch 231/1000\n",
            "1/1 [==============================] - 0s 5ms/step - loss: 2.6617e-08 - mse: 2.6617e-08 - mae: 1.4000e-04\n",
            "Epoch 232/1000\n",
            "1/1 [==============================] - 0s 8ms/step - loss: 2.6447e-08 - mse: 2.6447e-08 - mae: 1.3962e-04\n",
            "Epoch 233/1000\n",
            "1/1 [==============================] - 0s 8ms/step - loss: 2.6245e-08 - mse: 2.6245e-08 - mae: 1.3905e-04\n",
            "Epoch 234/1000\n",
            "1/1 [==============================] - 0s 8ms/step - loss: 2.6148e-08 - mse: 2.6148e-08 - mae: 1.3885e-04\n",
            "Epoch 235/1000\n",
            "1/1 [==============================] - 0s 6ms/step - loss: 2.5910e-08 - mse: 2.5910e-08 - mae: 1.3819e-04\n",
            "Epoch 236/1000\n",
            "1/1 [==============================] - 0s 6ms/step - loss: 2.5709e-08 - mse: 2.5709e-08 - mae: 1.3762e-04\n",
            "Epoch 237/1000\n",
            "1/1 [==============================] - 0s 9ms/step - loss: 2.5582e-08 - mse: 2.5582e-08 - mae: 1.3733e-04\n",
            "Epoch 238/1000\n",
            "1/1 [==============================] - 0s 8ms/step - loss: 2.5305e-08 - mse: 2.5305e-08 - mae: 1.3647e-04\n",
            "Epoch 239/1000\n",
            "1/1 [==============================] - 0s 6ms/step - loss: 2.5178e-08 - mse: 2.5178e-08 - mae: 1.3618e-04\n",
            "Epoch 240/1000\n",
            "1/1 [==============================] - 0s 8ms/step - loss: 2.5013e-08 - mse: 2.5013e-08 - mae: 1.3580e-04\n",
            "Epoch 241/1000\n",
            "1/1 [==============================] - 0s 6ms/step - loss: 2.4871e-08 - mse: 2.4871e-08 - mae: 1.3552e-04\n",
            "Epoch 242/1000\n",
            "1/1 [==============================] - 0s 6ms/step - loss: 2.4614e-08 - mse: 2.4614e-08 - mae: 1.3466e-04\n",
            "Epoch 243/1000\n",
            "1/1 [==============================] - 0s 6ms/step - loss: 2.4590e-08 - mse: 2.4590e-08 - mae: 1.3475e-04\n",
            "Epoch 244/1000\n",
            "1/1 [==============================] - 0s 7ms/step - loss: 2.4385e-08 - mse: 2.4385e-08 - mae: 1.3399e-04\n",
            "Epoch 245/1000\n",
            "1/1 [==============================] - 0s 6ms/step - loss: 2.4245e-08 - mse: 2.4245e-08 - mae: 1.3371e-04\n",
            "Epoch 246/1000\n",
            "1/1 [==============================] - 0s 7ms/step - loss: 2.4015e-08 - mse: 2.4015e-08 - mae: 1.3304e-04\n",
            "Epoch 247/1000\n",
            "1/1 [==============================] - 0s 7ms/step - loss: 2.3860e-08 - mse: 2.3860e-08 - mae: 1.3256e-04\n",
            "Epoch 248/1000\n",
            "1/1 [==============================] - 0s 7ms/step - loss: 2.3699e-08 - mse: 2.3699e-08 - mae: 1.3218e-04\n",
            "Epoch 249/1000\n",
            "1/1 [==============================] - 0s 8ms/step - loss: 2.3561e-08 - mse: 2.3561e-08 - mae: 1.3189e-04\n",
            "Epoch 250/1000\n",
            "1/1 [==============================] - 0s 8ms/step - loss: 2.3361e-08 - mse: 2.3361e-08 - mae: 1.3113e-04\n",
            "Epoch 251/1000\n",
            "1/1 [==============================] - 0s 7ms/step - loss: 2.3337e-08 - mse: 2.3337e-08 - mae: 1.3123e-04\n",
            "Epoch 252/1000\n",
            "1/1 [==============================] - 0s 7ms/step - loss: 2.3111e-08 - mse: 2.3111e-08 - mae: 1.3056e-04\n",
            "Epoch 253/1000\n",
            "1/1 [==============================] - 0s 9ms/step - loss: 2.2952e-08 - mse: 2.2952e-08 - mae: 1.3008e-04\n",
            "Epoch 254/1000\n",
            "1/1 [==============================] - 0s 7ms/step - loss: 2.2777e-08 - mse: 2.2777e-08 - mae: 1.2951e-04\n",
            "Epoch 255/1000\n",
            "1/1 [==============================] - 0s 7ms/step - loss: 2.2626e-08 - mse: 2.2626e-08 - mae: 1.2903e-04\n",
            "Epoch 256/1000\n",
            "1/1 [==============================] - 0s 7ms/step - loss: 2.2469e-08 - mse: 2.2469e-08 - mae: 1.2865e-04\n",
            "Epoch 257/1000\n",
            "1/1 [==============================] - 0s 5ms/step - loss: 2.2335e-08 - mse: 2.2335e-08 - mae: 1.2836e-04\n",
            "Epoch 258/1000\n",
            "1/1 [==============================] - 0s 9ms/step - loss: 2.2217e-08 - mse: 2.2217e-08 - mae: 1.2808e-04\n",
            "Epoch 259/1000\n",
            "1/1 [==============================] - 0s 6ms/step - loss: 2.2069e-08 - mse: 2.2069e-08 - mae: 1.2760e-04\n",
            "Epoch 260/1000\n",
            "1/1 [==============================] - 0s 5ms/step - loss: 2.1897e-08 - mse: 2.1897e-08 - mae: 1.2703e-04\n",
            "Epoch 261/1000\n",
            "1/1 [==============================] - 0s 7ms/step - loss: 2.1742e-08 - mse: 2.1742e-08 - mae: 1.2655e-04\n",
            "Epoch 262/1000\n",
            "1/1 [==============================] - 0s 7ms/step - loss: 2.1524e-08 - mse: 2.1524e-08 - mae: 1.2589e-04\n",
            "Epoch 263/1000\n",
            "1/1 [==============================] - 0s 7ms/step - loss: 2.1501e-08 - mse: 2.1501e-08 - mae: 1.2598e-04\n",
            "Epoch 264/1000\n",
            "1/1 [==============================] - 0s 6ms/step - loss: 2.1348e-08 - mse: 2.1348e-08 - mae: 1.2560e-04\n",
            "Epoch 265/1000\n",
            "1/1 [==============================] - 0s 7ms/step - loss: 2.1178e-08 - mse: 2.1178e-08 - mae: 1.2493e-04\n",
            "Epoch 266/1000\n",
            "1/1 [==============================] - 0s 8ms/step - loss: 2.1026e-08 - mse: 2.1026e-08 - mae: 1.2455e-04\n",
            "Epoch 267/1000\n",
            "1/1 [==============================] - 0s 8ms/step - loss: 2.0882e-08 - mse: 2.0882e-08 - mae: 1.2407e-04\n",
            "Epoch 268/1000\n",
            "1/1 [==============================] - 0s 9ms/step - loss: 2.0744e-08 - mse: 2.0744e-08 - mae: 1.2360e-04\n",
            "Epoch 269/1000\n",
            "1/1 [==============================] - 0s 6ms/step - loss: 2.0594e-08 - mse: 2.0594e-08 - mae: 1.2321e-04\n",
            "Epoch 270/1000\n",
            "1/1 [==============================] - 0s 8ms/step - loss: 2.0436e-08 - mse: 2.0436e-08 - mae: 1.2283e-04\n",
            "Epoch 271/1000\n",
            "1/1 [==============================] - 0s 8ms/step - loss: 2.0295e-08 - mse: 2.0295e-08 - mae: 1.2236e-04\n",
            "Epoch 272/1000\n",
            "1/1 [==============================] - 0s 8ms/step - loss: 2.0210e-08 - mse: 2.0210e-08 - mae: 1.2217e-04\n",
            "Epoch 273/1000\n",
            "1/1 [==============================] - 0s 6ms/step - loss: 2.0016e-08 - mse: 2.0016e-08 - mae: 1.2140e-04\n",
            "Epoch 274/1000\n",
            "1/1 [==============================] - 0s 8ms/step - loss: 1.9869e-08 - mse: 1.9869e-08 - mae: 1.2102e-04\n",
            "Epoch 275/1000\n",
            "1/1 [==============================] - 0s 6ms/step - loss: 1.9750e-08 - mse: 1.9750e-08 - mae: 1.2074e-04\n",
            "Epoch 276/1000\n",
            "1/1 [==============================] - 0s 7ms/step - loss: 1.9677e-08 - mse: 1.9677e-08 - mae: 1.2054e-04\n",
            "Epoch 277/1000\n",
            "1/1 [==============================] - 0s 6ms/step - loss: 1.9552e-08 - mse: 1.9552e-08 - mae: 1.2026e-04\n",
            "Epoch 278/1000\n",
            "1/1 [==============================] - 0s 8ms/step - loss: 1.9323e-08 - mse: 1.9323e-08 - mae: 1.1940e-04\n",
            "Epoch 279/1000\n",
            "1/1 [==============================] - 0s 8ms/step - loss: 1.9251e-08 - mse: 1.9251e-08 - mae: 1.1921e-04\n",
            "Epoch 280/1000\n",
            "1/1 [==============================] - 0s 7ms/step - loss: 1.9113e-08 - mse: 1.9113e-08 - mae: 1.1873e-04\n",
            "Epoch 281/1000\n",
            "1/1 [==============================] - 0s 5ms/step - loss: 1.9075e-08 - mse: 1.9075e-08 - mae: 1.1864e-04\n",
            "Epoch 282/1000\n",
            "1/1 [==============================] - 0s 7ms/step - loss: 1.8932e-08 - mse: 1.8932e-08 - mae: 1.1826e-04\n",
            "Epoch 283/1000\n",
            "1/1 [==============================] - 0s 7ms/step - loss: 1.8816e-08 - mse: 1.8816e-08 - mae: 1.1797e-04\n",
            "Epoch 284/1000\n",
            "1/1 [==============================] - 0s 8ms/step - loss: 1.8643e-08 - mse: 1.8643e-08 - mae: 1.1711e-04\n",
            "Epoch 285/1000\n",
            "1/1 [==============================] - 0s 7ms/step - loss: 1.8541e-08 - mse: 1.8541e-08 - mae: 1.1702e-04\n",
            "Epoch 286/1000\n",
            "1/1 [==============================] - 0s 9ms/step - loss: 1.8329e-08 - mse: 1.8329e-08 - mae: 1.1616e-04\n",
            "Epoch 287/1000\n",
            "1/1 [==============================] - 0s 10ms/step - loss: 1.8214e-08 - mse: 1.8214e-08 - mae: 1.1587e-04\n",
            "Epoch 288/1000\n",
            "1/1 [==============================] - 0s 9ms/step - loss: 1.8100e-08 - mse: 1.8100e-08 - mae: 1.1559e-04\n",
            "Epoch 289/1000\n",
            "1/1 [==============================] - 0s 6ms/step - loss: 1.8081e-08 - mse: 1.8081e-08 - mae: 1.1568e-04\n",
            "Epoch 290/1000\n",
            "1/1 [==============================] - 0s 5ms/step - loss: 1.7904e-08 - mse: 1.7904e-08 - mae: 1.1492e-04\n",
            "Epoch 291/1000\n",
            "1/1 [==============================] - 0s 7ms/step - loss: 1.7791e-08 - mse: 1.7791e-08 - mae: 1.1463e-04\n",
            "Epoch 292/1000\n",
            "1/1 [==============================] - 0s 6ms/step - loss: 1.7702e-08 - mse: 1.7702e-08 - mae: 1.1425e-04\n",
            "Epoch 293/1000\n",
            "1/1 [==============================] - 0s 4ms/step - loss: 1.7524e-08 - mse: 1.7524e-08 - mae: 1.1368e-04\n",
            "Epoch 294/1000\n",
            "1/1 [==============================] - 0s 4ms/step - loss: 1.7386e-08 - mse: 1.7386e-08 - mae: 1.1330e-04\n",
            "Epoch 295/1000\n",
            "1/1 [==============================] - 0s 4ms/step - loss: 1.7317e-08 - mse: 1.7317e-08 - mae: 1.1311e-04\n",
            "Epoch 296/1000\n",
            "1/1 [==============================] - 0s 6ms/step - loss: 1.7206e-08 - mse: 1.7206e-08 - mae: 1.1282e-04\n",
            "Epoch 297/1000\n",
            "1/1 [==============================] - 0s 6ms/step - loss: 1.7077e-08 - mse: 1.7077e-08 - mae: 1.1234e-04\n",
            "Epoch 298/1000\n",
            "1/1 [==============================] - 0s 5ms/step - loss: 1.6950e-08 - mse: 1.6950e-08 - mae: 1.1187e-04\n",
            "Epoch 299/1000\n",
            "1/1 [==============================] - 0s 5ms/step - loss: 1.6821e-08 - mse: 1.6821e-08 - mae: 1.1139e-04\n",
            "Epoch 300/1000\n",
            "1/1 [==============================] - 0s 7ms/step - loss: 1.6728e-08 - mse: 1.6728e-08 - mae: 1.1110e-04\n",
            "Epoch 301/1000\n",
            "1/1 [==============================] - 0s 6ms/step - loss: 1.6619e-08 - mse: 1.6619e-08 - mae: 1.1082e-04\n",
            "Epoch 302/1000\n",
            "1/1 [==============================] - 0s 6ms/step - loss: 1.6552e-08 - mse: 1.6552e-08 - mae: 1.1063e-04\n",
            "Epoch 303/1000\n",
            "1/1 [==============================] - 0s 6ms/step - loss: 1.6444e-08 - mse: 1.6444e-08 - mae: 1.1034e-04\n",
            "Epoch 304/1000\n",
            "1/1 [==============================] - 0s 9ms/step - loss: 1.6300e-08 - mse: 1.6300e-08 - mae: 1.0967e-04\n",
            "Epoch 305/1000\n",
            "1/1 [==============================] - 0s 6ms/step - loss: 1.6234e-08 - mse: 1.6234e-08 - mae: 1.0948e-04\n",
            "Epoch 306/1000\n",
            "1/1 [==============================] - 0s 4ms/step - loss: 1.6019e-08 - mse: 1.6019e-08 - mae: 1.0862e-04\n",
            "Epoch 307/1000\n",
            "1/1 [==============================] - 0s 8ms/step - loss: 1.5953e-08 - mse: 1.5953e-08 - mae: 1.0843e-04\n",
            "Epoch 308/1000\n",
            "1/1 [==============================] - 0s 6ms/step - loss: 1.5847e-08 - mse: 1.5847e-08 - mae: 1.0815e-04\n",
            "Epoch 309/1000\n",
            "1/1 [==============================] - 0s 7ms/step - loss: 1.5781e-08 - mse: 1.5781e-08 - mae: 1.0796e-04\n",
            "Epoch 310/1000\n",
            "1/1 [==============================] - 0s 7ms/step - loss: 1.5675e-08 - mse: 1.5675e-08 - mae: 1.0767e-04\n",
            "Epoch 311/1000\n",
            "1/1 [==============================] - 0s 9ms/step - loss: 1.5592e-08 - mse: 1.5592e-08 - mae: 1.0729e-04\n",
            "Epoch 312/1000\n",
            "1/1 [==============================] - 0s 7ms/step - loss: 1.5486e-08 - mse: 1.5486e-08 - mae: 1.0700e-04\n",
            "Epoch 313/1000\n",
            "1/1 [==============================] - 0s 7ms/step - loss: 1.5422e-08 - mse: 1.5422e-08 - mae: 1.0681e-04\n",
            "Epoch 314/1000\n",
            "1/1 [==============================] - 0s 8ms/step - loss: 1.5212e-08 - mse: 1.5212e-08 - mae: 1.0595e-04\n",
            "Epoch 315/1000\n",
            "1/1 [==============================] - 0s 6ms/step - loss: 1.5148e-08 - mse: 1.5148e-08 - mae: 1.0576e-04\n",
            "Epoch 316/1000\n",
            "1/1 [==============================] - 0s 6ms/step - loss: 1.5045e-08 - mse: 1.5045e-08 - mae: 1.0548e-04\n",
            "Epoch 317/1000\n",
            "1/1 [==============================] - 0s 4ms/step - loss: 1.4981e-08 - mse: 1.4981e-08 - mae: 1.0529e-04\n",
            "Epoch 318/1000\n",
            "1/1 [==============================] - 0s 5ms/step - loss: 1.4878e-08 - mse: 1.4878e-08 - mae: 1.0500e-04\n",
            "Epoch 319/1000\n",
            "1/1 [==============================] - 0s 6ms/step - loss: 1.4741e-08 - mse: 1.4741e-08 - mae: 1.0433e-04\n",
            "Epoch 320/1000\n",
            "1/1 [==============================] - 0s 4ms/step - loss: 1.4678e-08 - mse: 1.4678e-08 - mae: 1.0414e-04\n",
            "Epoch 321/1000\n",
            "1/1 [==============================] - 0s 4ms/step - loss: 1.4558e-08 - mse: 1.4558e-08 - mae: 1.0366e-04\n",
            "Epoch 322/1000\n",
            "1/1 [==============================] - 0s 6ms/step - loss: 1.4495e-08 - mse: 1.4495e-08 - mae: 1.0347e-04\n",
            "Epoch 323/1000\n",
            "1/1 [==============================] - 0s 6ms/step - loss: 1.4394e-08 - mse: 1.4394e-08 - mae: 1.0319e-04\n",
            "Epoch 324/1000\n",
            "1/1 [==============================] - 0s 3ms/step - loss: 1.4332e-08 - mse: 1.4332e-08 - mae: 1.0300e-04\n",
            "Epoch 325/1000\n",
            "1/1 [==============================] - 0s 6ms/step - loss: 1.4231e-08 - mse: 1.4231e-08 - mae: 1.0271e-04\n",
            "Epoch 326/1000\n",
            "1/1 [==============================] - 0s 6ms/step - loss: 1.4097e-08 - mse: 1.4097e-08 - mae: 1.0204e-04\n",
            "Epoch 327/1000\n",
            "1/1 [==============================] - 0s 4ms/step - loss: 1.4036e-08 - mse: 1.4036e-08 - mae: 1.0185e-04\n",
            "Epoch 328/1000\n",
            "1/1 [==============================] - 0s 5ms/step - loss: 1.3836e-08 - mse: 1.3836e-08 - mae: 1.0099e-04\n",
            "Epoch 329/1000\n",
            "1/1 [==============================] - 0s 3ms/step - loss: 1.3775e-08 - mse: 1.3775e-08 - mae: 1.0080e-04\n",
            "Epoch 330/1000\n",
            "1/1 [==============================] - 0s 6ms/step - loss: 1.3676e-08 - mse: 1.3676e-08 - mae: 1.0052e-04\n",
            "Epoch 331/1000\n",
            "1/1 [==============================] - 0s 3ms/step - loss: 1.3615e-08 - mse: 1.3615e-08 - mae: 1.0033e-04\n",
            "Epoch 332/1000\n",
            "1/1 [==============================] - 0s 7ms/step - loss: 1.3517e-08 - mse: 1.3517e-08 - mae: 1.0004e-04\n",
            "Epoch 333/1000\n",
            "1/1 [==============================] - 0s 3ms/step - loss: 1.3439e-08 - mse: 1.3439e-08 - mae: 9.9659e-05\n",
            "Epoch 334/1000\n",
            "1/1 [==============================] - 0s 4ms/step - loss: 1.3342e-08 - mse: 1.3342e-08 - mae: 9.9373e-05\n",
            "Epoch 335/1000\n",
            "1/1 [==============================] - 0s 4ms/step - loss: 1.3282e-08 - mse: 1.3282e-08 - mae: 9.9182e-05\n",
            "Epoch 336/1000\n",
            "1/1 [==============================] - 0s 5ms/step - loss: 1.3147e-08 - mse: 1.3147e-08 - mae: 9.8515e-05\n",
            "Epoch 337/1000\n",
            "1/1 [==============================] - 0s 6ms/step - loss: 1.3087e-08 - mse: 1.3087e-08 - mae: 9.8324e-05\n",
            "Epoch 338/1000\n",
            "1/1 [==============================] - 0s 4ms/step - loss: 1.2991e-08 - mse: 1.2991e-08 - mae: 9.8038e-05\n",
            "Epoch 339/1000\n",
            "1/1 [==============================] - 0s 4ms/step - loss: 1.2955e-08 - mse: 1.2955e-08 - mae: 9.7942e-05\n",
            "Epoch 340/1000\n",
            "1/1 [==============================] - 0s 5ms/step - loss: 1.2895e-08 - mse: 1.2895e-08 - mae: 9.7752e-05\n",
            "Epoch 341/1000\n",
            "1/1 [==============================] - 0s 7ms/step - loss: 1.2721e-08 - mse: 1.2721e-08 - mae: 9.7084e-05\n",
            "Epoch 342/1000\n",
            "1/1 [==============================] - 0s 3ms/step - loss: 1.2651e-08 - mse: 1.2651e-08 - mae: 9.6703e-05\n",
            "Epoch 343/1000\n",
            "1/1 [==============================] - 0s 3ms/step - loss: 1.2592e-08 - mse: 1.2592e-08 - mae: 9.6512e-05\n",
            "Epoch 344/1000\n",
            "1/1 [==============================] - 0s 6ms/step - loss: 1.2539e-08 - mse: 1.2539e-08 - mae: 9.6226e-05\n",
            "Epoch 345/1000\n",
            "1/1 [==============================] - 0s 3ms/step - loss: 1.2481e-08 - mse: 1.2481e-08 - mae: 9.6035e-05\n",
            "Epoch 346/1000\n",
            "1/1 [==============================] - 0s 5ms/step - loss: 1.2309e-08 - mse: 1.2309e-08 - mae: 9.5367e-05\n",
            "Epoch 347/1000\n",
            "1/1 [==============================] - 0s 5ms/step - loss: 1.2274e-08 - mse: 1.2274e-08 - mae: 9.5272e-05\n",
            "Epoch 348/1000\n",
            "1/1 [==============================] - 0s 5ms/step - loss: 1.2216e-08 - mse: 1.2216e-08 - mae: 9.5081e-05\n",
            "Epoch 349/1000\n",
            "1/1 [==============================] - 0s 6ms/step - loss: 1.2096e-08 - mse: 1.2096e-08 - mae: 9.4414e-05\n",
            "Epoch 350/1000\n",
            "1/1 [==============================] - 0s 5ms/step - loss: 1.2055e-08 - mse: 1.2055e-08 - mae: 9.4414e-05\n",
            "Epoch 351/1000\n",
            "1/1 [==============================] - 0s 7ms/step - loss: 1.1998e-08 - mse: 1.1998e-08 - mae: 9.4223e-05\n",
            "Epoch 352/1000\n",
            "1/1 [==============================] - 0s 5ms/step - loss: 1.1870e-08 - mse: 1.1870e-08 - mae: 9.3555e-05\n",
            "Epoch 353/1000\n",
            "1/1 [==============================] - 0s 6ms/step - loss: 1.1813e-08 - mse: 1.1813e-08 - mae: 9.3365e-05\n",
            "Epoch 354/1000\n",
            "1/1 [==============================] - 0s 8ms/step - loss: 1.1722e-08 - mse: 1.1722e-08 - mae: 9.3079e-05\n",
            "Epoch 355/1000\n",
            "1/1 [==============================] - 0s 7ms/step - loss: 1.1687e-08 - mse: 1.1687e-08 - mae: 9.2983e-05\n",
            "Epoch 356/1000\n",
            "1/1 [==============================] - 0s 6ms/step - loss: 1.1630e-08 - mse: 1.1630e-08 - mae: 9.2793e-05\n",
            "Epoch 357/1000\n",
            "1/1 [==============================] - 0s 7ms/step - loss: 1.1465e-08 - mse: 1.1465e-08 - mae: 9.2125e-05\n",
            "Epoch 358/1000\n",
            "1/1 [==============================] - 0s 5ms/step - loss: 1.1398e-08 - mse: 1.1398e-08 - mae: 9.1743e-05\n",
            "Epoch 359/1000\n",
            "1/1 [==============================] - 0s 4ms/step - loss: 1.1343e-08 - mse: 1.1343e-08 - mae: 9.1553e-05\n",
            "Epoch 360/1000\n",
            "1/1 [==============================] - 0s 6ms/step - loss: 1.1293e-08 - mse: 1.1293e-08 - mae: 9.1267e-05\n",
            "Epoch 361/1000\n",
            "1/1 [==============================] - 0s 7ms/step - loss: 1.1164e-08 - mse: 1.1164e-08 - mae: 9.0694e-05\n",
            "Epoch 362/1000\n",
            "1/1 [==============================] - 0s 10ms/step - loss: 1.1075e-08 - mse: 1.1075e-08 - mae: 9.0408e-05\n",
            "Epoch 363/1000\n",
            "1/1 [==============================] - 0s 4ms/step - loss: 1.1041e-08 - mse: 1.1041e-08 - mae: 9.0313e-05\n",
            "Epoch 364/1000\n",
            "1/1 [==============================] - 0s 4ms/step - loss: 1.0986e-08 - mse: 1.0986e-08 - mae: 9.0122e-05\n",
            "Epoch 365/1000\n",
            "1/1 [==============================] - 0s 6ms/step - loss: 1.0872e-08 - mse: 1.0872e-08 - mae: 8.9455e-05\n",
            "Epoch 366/1000\n",
            "1/1 [==============================] - 0s 3ms/step - loss: 1.0833e-08 - mse: 1.0833e-08 - mae: 8.9455e-05\n",
            "Epoch 367/1000\n",
            "1/1 [==============================] - 0s 5ms/step - loss: 1.0779e-08 - mse: 1.0779e-08 - mae: 8.9264e-05\n",
            "Epoch 368/1000\n",
            "1/1 [==============================] - 0s 3ms/step - loss: 1.0658e-08 - mse: 1.0658e-08 - mae: 8.8596e-05\n",
            "Epoch 369/1000\n",
            "1/1 [==============================] - 0s 5ms/step - loss: 1.0604e-08 - mse: 1.0604e-08 - mae: 8.8406e-05\n",
            "Epoch 370/1000\n",
            "1/1 [==============================] - 0s 5ms/step - loss: 1.0517e-08 - mse: 1.0517e-08 - mae: 8.8120e-05\n",
            "Epoch 371/1000\n",
            "1/1 [==============================] - 0s 6ms/step - loss: 1.0484e-08 - mse: 1.0484e-08 - mae: 8.8024e-05\n",
            "Epoch 372/1000\n",
            "1/1 [==============================] - 0s 3ms/step - loss: 1.0431e-08 - mse: 1.0431e-08 - mae: 8.7833e-05\n",
            "Epoch 373/1000\n",
            "1/1 [==============================] - 0s 4ms/step - loss: 1.0275e-08 - mse: 1.0275e-08 - mae: 8.7166e-05\n",
            "Epoch 374/1000\n",
            "1/1 [==============================] - 0s 4ms/step - loss: 1.0212e-08 - mse: 1.0212e-08 - mae: 8.6784e-05\n",
            "Epoch 375/1000\n",
            "1/1 [==============================] - 0s 5ms/step - loss: 1.0159e-08 - mse: 1.0159e-08 - mae: 8.6594e-05\n",
            "Epoch 376/1000\n",
            "1/1 [==============================] - 0s 3ms/step - loss: 1.0111e-08 - mse: 1.0111e-08 - mae: 8.6308e-05\n",
            "Epoch 377/1000\n",
            "1/1 [==============================] - 0s 8ms/step - loss: 1.0059e-08 - mse: 1.0059e-08 - mae: 8.6117e-05\n",
            "Epoch 378/1000\n",
            "1/1 [==============================] - 0s 4ms/step - loss: 9.9055e-09 - mse: 9.9055e-09 - mae: 8.5449e-05\n",
            "Epoch 379/1000\n",
            "1/1 [==============================] - 0s 4ms/step - loss: 9.8733e-09 - mse: 9.8733e-09 - mae: 8.5354e-05\n",
            "Epoch 380/1000\n",
            "1/1 [==============================] - 0s 10ms/step - loss: 9.8215e-09 - mse: 9.8215e-09 - mae: 8.5163e-05\n",
            "Epoch 381/1000\n",
            "1/1 [==============================] - 0s 3ms/step - loss: 9.7136e-09 - mse: 9.7136e-09 - mae: 8.4496e-05\n",
            "Epoch 382/1000\n",
            "1/1 [==============================] - 0s 4ms/step - loss: 9.7283e-09 - mse: 9.7283e-09 - mae: 8.4686e-05\n",
            "Epoch 383/1000\n",
            "1/1 [==============================] - 0s 9ms/step - loss: 9.6452e-09 - mse: 9.6452e-09 - mae: 8.4400e-05\n",
            "Epoch 384/1000\n",
            "1/1 [==============================] - 0s 3ms/step - loss: 9.5117e-09 - mse: 9.5117e-09 - mae: 8.3637e-05\n",
            "Epoch 385/1000\n",
            "1/1 [==============================] - 0s 4ms/step - loss: 9.4802e-09 - mse: 9.4802e-09 - mae: 8.3542e-05\n",
            "Epoch 386/1000\n",
            "1/1 [==============================] - 0s 9ms/step - loss: 9.4348e-09 - mse: 9.4348e-09 - mae: 8.3351e-05\n",
            "Epoch 387/1000\n",
            "1/1 [==============================] - 0s 3ms/step - loss: 9.4035e-09 - mse: 9.4035e-09 - mae: 8.3256e-05\n",
            "Epoch 388/1000\n",
            "1/1 [==============================] - 0s 4ms/step - loss: 9.2867e-09 - mse: 9.2867e-09 - mae: 8.2684e-05\n",
            "Epoch 389/1000\n",
            "1/1 [==============================] - 0s 9ms/step - loss: 9.2408e-09 - mse: 9.2408e-09 - mae: 8.2397e-05\n",
            "Epoch 390/1000\n",
            "1/1 [==============================] - 0s 3ms/step - loss: 9.1816e-09 - mse: 9.1816e-09 - mae: 8.2016e-05\n",
            "Epoch 391/1000\n",
            "1/1 [==============================] - 0s 4ms/step - loss: 9.1462e-09 - mse: 9.1462e-09 - mae: 8.2016e-05\n",
            "Epoch 392/1000\n",
            "1/1 [==============================] - 0s 4ms/step - loss: 9.0359e-09 - mse: 9.0359e-09 - mae: 8.1348e-05\n",
            "Epoch 393/1000\n",
            "1/1 [==============================] - 0s 17ms/step - loss: 9.0051e-09 - mse: 9.0051e-09 - mae: 8.1253e-05\n",
            "Epoch 394/1000\n",
            "1/1 [==============================] - 0s 8ms/step - loss: 8.9553e-09 - mse: 8.9553e-09 - mae: 8.1062e-05\n",
            "Epoch 395/1000\n",
            "1/1 [==============================] - 0s 10ms/step - loss: 8.9120e-09 - mse: 8.9120e-09 - mae: 8.0872e-05\n",
            "Epoch 396/1000\n",
            "1/1 [==============================] - 0s 9ms/step - loss: 8.8814e-09 - mse: 8.8814e-09 - mae: 8.0776e-05\n",
            "Epoch 397/1000\n",
            "1/1 [==============================] - 0s 12ms/step - loss: 8.7730e-09 - mse: 8.7730e-09 - mae: 8.0109e-05\n",
            "Epoch 398/1000\n",
            "1/1 [==============================] - 0s 7ms/step - loss: 8.6833e-09 - mse: 8.6833e-09 - mae: 7.9918e-05\n",
            "Epoch 399/1000\n",
            "1/1 [==============================] - 0s 7ms/step - loss: 8.6748e-09 - mse: 8.6748e-09 - mae: 7.9727e-05\n",
            "Epoch 400/1000\n",
            "1/1 [==============================] - 0s 6ms/step - loss: 8.6347e-09 - mse: 8.6347e-09 - mae: 7.9727e-05\n",
            "Epoch 401/1000\n",
            "1/1 [==============================] - 0s 8ms/step - loss: 8.5415e-09 - mse: 8.5415e-09 - mae: 7.9250e-05\n",
            "Epoch 402/1000\n",
            "1/1 [==============================] - 0s 6ms/step - loss: 8.4791e-09 - mse: 8.4791e-09 - mae: 7.8869e-05\n",
            "Epoch 403/1000\n",
            "1/1 [==============================] - 0s 5ms/step - loss: 8.4363e-09 - mse: 8.4363e-09 - mae: 7.8678e-05\n",
            "Epoch 404/1000\n",
            "1/1 [==============================] - 0s 8ms/step - loss: 8.3448e-09 - mse: 8.3448e-09 - mae: 7.8201e-05\n",
            "Epoch 405/1000\n",
            "1/1 [==============================] - 0s 7ms/step - loss: 8.3055e-09 - mse: 8.3055e-09 - mae: 7.8201e-05\n",
            "Epoch 406/1000\n",
            "1/1 [==============================] - 0s 6ms/step - loss: 8.3055e-09 - mse: 8.3055e-09 - mae: 7.8201e-05\n",
            "Epoch 407/1000\n",
            "1/1 [==============================] - 0s 6ms/step - loss: 8.2522e-09 - mse: 8.2522e-09 - mae: 7.8011e-05\n",
            "Epoch 408/1000\n",
            "1/1 [==============================] - 0s 8ms/step - loss: 8.1582e-09 - mse: 8.1582e-09 - mae: 7.7343e-05\n",
            "Epoch 409/1000\n",
            "1/1 [==============================] - 0s 7ms/step - loss: 8.0818e-09 - mse: 8.0818e-09 - mae: 7.7057e-05\n",
            "Epoch 410/1000\n",
            "1/1 [==============================] - 0s 10ms/step - loss: 8.0736e-09 - mse: 8.0736e-09 - mae: 7.6866e-05\n",
            "Epoch 411/1000\n",
            "1/1 [==============================] - 0s 9ms/step - loss: 7.9552e-09 - mse: 7.9552e-09 - mae: 7.6294e-05\n",
            "Epoch 412/1000\n",
            "1/1 [==============================] - 0s 12ms/step - loss: 7.9454e-09 - mse: 7.9454e-09 - mae: 7.6389e-05\n",
            "Epoch 413/1000\n",
            "1/1 [==============================] - 0s 4ms/step - loss: 7.8562e-09 - mse: 7.8562e-09 - mae: 7.5912e-05\n",
            "Epoch 414/1000\n",
            "1/1 [==============================] - 0s 4ms/step - loss: 7.8152e-09 - mse: 7.8152e-09 - mae: 7.5722e-05\n",
            "Epoch 415/1000\n",
            "1/1 [==============================] - 0s 4ms/step - loss: 7.7689e-09 - mse: 7.7689e-09 - mae: 7.5531e-05\n",
            "Epoch 416/1000\n",
            "1/1 [==============================] - 0s 9ms/step - loss: 7.7404e-09 - mse: 7.7404e-09 - mae: 7.5436e-05\n",
            "Epoch 417/1000\n",
            "1/1 [==============================] - 0s 4ms/step - loss: 7.6394e-09 - mse: 7.6394e-09 - mae: 7.4768e-05\n",
            "Epoch 418/1000\n",
            "1/1 [==============================] - 0s 4ms/step - loss: 7.5934e-09 - mse: 7.5934e-09 - mae: 7.4577e-05\n",
            "Epoch 419/1000\n",
            "1/1 [==============================] - 0s 9ms/step - loss: 7.6066e-09 - mse: 7.6066e-09 - mae: 7.4768e-05\n",
            "Epoch 420/1000\n",
            "1/1 [==============================] - 0s 7ms/step - loss: 7.4741e-09 - mse: 7.4741e-09 - mae: 7.4100e-05\n",
            "Epoch 421/1000\n",
            "1/1 [==============================] - 0s 6ms/step - loss: 7.4435e-09 - mse: 7.4435e-09 - mae: 7.3814e-05\n",
            "Epoch 422/1000\n",
            "1/1 [==============================] - 0s 8ms/step - loss: 7.3876e-09 - mse: 7.3876e-09 - mae: 7.3624e-05\n",
            "Epoch 423/1000\n",
            "1/1 [==============================] - 0s 4ms/step - loss: 7.3931e-09 - mse: 7.3931e-09 - mae: 7.3624e-05\n",
            "Epoch 424/1000\n",
            "1/1 [==============================] - 0s 11ms/step - loss: 7.2978e-09 - mse: 7.2978e-09 - mae: 7.3242e-05\n",
            "Epoch 425/1000\n",
            "1/1 [==============================] - 0s 5ms/step - loss: 7.2702e-09 - mse: 7.2702e-09 - mae: 7.3147e-05\n",
            "Epoch 426/1000\n",
            "1/1 [==============================] - 0s 8ms/step - loss: 7.2256e-09 - mse: 7.2256e-09 - mae: 7.2956e-05\n",
            "Epoch 427/1000\n",
            "1/1 [==============================] - 0s 8ms/step - loss: 7.1159e-09 - mse: 7.1159e-09 - mae: 7.2193e-05\n",
            "Epoch 428/1000\n",
            "1/1 [==============================] - 0s 4ms/step - loss: 7.1241e-09 - mse: 7.1241e-09 - mae: 7.2384e-05\n",
            "Epoch 429/1000\n",
            "1/1 [==============================] - 0s 4ms/step - loss: 6.9955e-09 - mse: 6.9955e-09 - mae: 7.1716e-05\n",
            "Epoch 430/1000\n",
            "1/1 [==============================] - 0s 4ms/step - loss: 7.0084e-09 - mse: 7.0084e-09 - mae: 7.1907e-05\n",
            "Epoch 431/1000\n",
            "1/1 [==============================] - 0s 6ms/step - loss: 6.9336e-09 - mse: 6.9336e-09 - mae: 7.1335e-05\n",
            "Epoch 432/1000\n",
            "1/1 [==============================] - 0s 5ms/step - loss: 6.8609e-09 - mse: 6.8609e-09 - mae: 7.0858e-05\n",
            "Epoch 433/1000\n",
            "1/1 [==============================] - 0s 5ms/step - loss: 6.8419e-09 - mse: 6.8419e-09 - mae: 7.0953e-05\n",
            "Epoch 434/1000\n",
            "1/1 [==============================] - 0s 4ms/step - loss: 6.7987e-09 - mse: 6.7987e-09 - mae: 7.0763e-05\n",
            "Epoch 435/1000\n",
            "1/1 [==============================] - 0s 7ms/step - loss: 6.7769e-09 - mse: 6.7769e-09 - mae: 7.0667e-05\n",
            "Epoch 436/1000\n",
            "1/1 [==============================] - 0s 4ms/step - loss: 6.6779e-09 - mse: 6.6779e-09 - mae: 7.0095e-05\n",
            "Epoch 437/1000\n",
            "1/1 [==============================] - 0s 5ms/step - loss: 6.6389e-09 - mse: 6.6389e-09 - mae: 6.9809e-05\n",
            "Epoch 438/1000\n",
            "1/1 [==============================] - 0s 7ms/step - loss: 6.6014e-09 - mse: 6.6014e-09 - mae: 6.9618e-05\n",
            "Epoch 439/1000\n",
            "1/1 [==============================] - 0s 3ms/step - loss: 6.5751e-09 - mse: 6.5751e-09 - mae: 6.9523e-05\n",
            "Epoch 440/1000\n",
            "1/1 [==============================] - 0s 3ms/step - loss: 6.4656e-09 - mse: 6.4656e-09 - mae: 6.8760e-05\n",
            "Epoch 441/1000\n",
            "1/1 [==============================] - 0s 6ms/step - loss: 6.4187e-09 - mse: 6.4187e-09 - mae: 6.8569e-05\n",
            "Epoch 442/1000\n",
            "1/1 [==============================] - 0s 3ms/step - loss: 6.3814e-09 - mse: 6.3814e-09 - mae: 6.8378e-05\n",
            "Epoch 443/1000\n",
            "1/1 [==============================] - 0s 5ms/step - loss: 6.3349e-09 - mse: 6.3349e-09 - mae: 6.8188e-05\n",
            "Epoch 444/1000\n",
            "1/1 [==============================] - 0s 4ms/step - loss: 6.3138e-09 - mse: 6.3138e-09 - mae: 6.8092e-05\n",
            "Epoch 445/1000\n",
            "1/1 [==============================] - 0s 7ms/step - loss: 6.2881e-09 - mse: 6.2881e-09 - mae: 6.7997e-05\n",
            "Epoch 446/1000\n",
            "1/1 [==============================] - 0s 3ms/step - loss: 6.2722e-09 - mse: 6.2722e-09 - mae: 6.7902e-05\n",
            "Epoch 447/1000\n",
            "1/1 [==============================] - 0s 3ms/step - loss: 6.1864e-09 - mse: 6.1864e-09 - mae: 6.7234e-05\n",
            "Epoch 448/1000\n",
            "1/1 [==============================] - 0s 5ms/step - loss: 6.1400e-09 - mse: 6.1400e-09 - mae: 6.7043e-05\n",
            "Epoch 449/1000\n",
            "1/1 [==============================] - 0s 6ms/step - loss: 6.1224e-09 - mse: 6.1224e-09 - mae: 6.7139e-05\n",
            "Epoch 450/1000\n",
            "1/1 [==============================] - 0s 3ms/step - loss: 6.1267e-09 - mse: 6.1267e-09 - mae: 6.7139e-05\n",
            "Epoch 451/1000\n",
            "1/1 [==============================] - 0s 8ms/step - loss: 6.0328e-09 - mse: 6.0328e-09 - mae: 6.6566e-05\n",
            "Epoch 452/1000\n",
            "1/1 [==============================] - 0s 3ms/step - loss: 5.9958e-09 - mse: 5.9958e-09 - mae: 6.6280e-05\n",
            "Epoch 453/1000\n",
            "1/1 [==============================] - 0s 9ms/step - loss: 5.9755e-09 - mse: 5.9755e-09 - mae: 6.6185e-05\n",
            "Epoch 454/1000\n",
            "1/1 [==============================] - 0s 6ms/step - loss: 5.9303e-09 - mse: 5.9303e-09 - mae: 6.5994e-05\n",
            "Epoch 455/1000\n",
            "1/1 [==============================] - 0s 5ms/step - loss: 5.8947e-09 - mse: 5.8947e-09 - mae: 6.5804e-05\n",
            "Epoch 456/1000\n",
            "1/1 [==============================] - 0s 10ms/step - loss: 5.8699e-09 - mse: 5.8699e-09 - mae: 6.5708e-05\n",
            "Epoch 457/1000\n",
            "1/1 [==============================] - 0s 7ms/step - loss: 5.8183e-09 - mse: 5.8183e-09 - mae: 6.5327e-05\n",
            "Epoch 458/1000\n",
            "1/1 [==============================] - 0s 6ms/step - loss: 5.8053e-09 - mse: 5.8053e-09 - mae: 6.5422e-05\n",
            "Epoch 459/1000\n",
            "1/1 [==============================] - 0s 7ms/step - loss: 5.7266e-09 - mse: 5.7266e-09 - mae: 6.4754e-05\n",
            "Epoch 460/1000\n",
            "1/1 [==============================] - 0s 4ms/step - loss: 5.6696e-09 - mse: 5.6696e-09 - mae: 6.4659e-05\n",
            "Epoch 461/1000\n",
            "1/1 [==============================] - 0s 4ms/step - loss: 5.6625e-09 - mse: 5.6625e-09 - mae: 6.4468e-05\n",
            "Epoch 462/1000\n",
            "1/1 [==============================] - 0s 6ms/step - loss: 5.5796e-09 - mse: 5.5796e-09 - mae: 6.4087e-05\n",
            "Epoch 463/1000\n",
            "1/1 [==============================] - 0s 4ms/step - loss: 5.5839e-09 - mse: 5.5839e-09 - mae: 6.4087e-05\n",
            "Epoch 464/1000\n",
            "1/1 [==============================] - 0s 4ms/step - loss: 5.4981e-09 - mse: 5.4981e-09 - mae: 6.3419e-05\n",
            "Epoch 465/1000\n",
            "1/1 [==============================] - 0s 5ms/step - loss: 5.5054e-09 - mse: 5.5054e-09 - mae: 6.3610e-05\n",
            "Epoch 466/1000\n",
            "1/1 [==============================] - 0s 3ms/step - loss: 5.4707e-09 - mse: 5.4707e-09 - mae: 6.3419e-05\n",
            "Epoch 467/1000\n",
            "1/1 [==============================] - 0s 6ms/step - loss: 5.3966e-09 - mse: 5.3966e-09 - mae: 6.2943e-05\n",
            "Epoch 468/1000\n",
            "1/1 [==============================] - 0s 10ms/step - loss: 5.4043e-09 - mse: 5.4043e-09 - mae: 6.3133e-05\n",
            "Epoch 469/1000\n",
            "1/1 [==============================] - 0s 8ms/step - loss: 5.3846e-09 - mse: 5.3846e-09 - mae: 6.3038e-05\n",
            "Epoch 470/1000\n",
            "1/1 [==============================] - 0s 10ms/step - loss: 5.3198e-09 - mse: 5.3198e-09 - mae: 6.2561e-05\n",
            "Epoch 471/1000\n",
            "1/1 [==============================] - 0s 11ms/step - loss: 5.2895e-09 - mse: 5.2895e-09 - mae: 6.2275e-05\n",
            "Epoch 472/1000\n",
            "1/1 [==============================] - 0s 12ms/step - loss: 5.2471e-09 - mse: 5.2471e-09 - mae: 6.2084e-05\n",
            "Epoch 473/1000\n",
            "1/1 [==============================] - 0s 6ms/step - loss: 5.2237e-09 - mse: 5.2237e-09 - mae: 6.1989e-05\n",
            "Epoch 474/1000\n",
            "1/1 [==============================] - 0s 6ms/step - loss: 5.1903e-09 - mse: 5.1903e-09 - mae: 6.1798e-05\n",
            "Epoch 475/1000\n",
            "1/1 [==============================] - 0s 9ms/step - loss: 5.1072e-09 - mse: 5.1072e-09 - mae: 6.1131e-05\n",
            "Epoch 476/1000\n",
            "1/1 [==============================] - 0s 6ms/step - loss: 5.0698e-09 - mse: 5.0698e-09 - mae: 6.0940e-05\n",
            "Epoch 477/1000\n",
            "1/1 [==============================] - 0s 7ms/step - loss: 5.0772e-09 - mse: 5.0772e-09 - mae: 6.1131e-05\n",
            "Epoch 478/1000\n",
            "1/1 [==============================] - 0s 6ms/step - loss: 5.0055e-09 - mse: 5.0055e-09 - mae: 6.0654e-05\n",
            "Epoch 479/1000\n",
            "1/1 [==============================] - 0s 8ms/step - loss: 4.9725e-09 - mse: 4.9725e-09 - mae: 6.0463e-05\n",
            "Epoch 480/1000\n",
            "1/1 [==============================] - 0s 9ms/step - loss: 4.9497e-09 - mse: 4.9497e-09 - mae: 6.0368e-05\n",
            "Epoch 481/1000\n",
            "1/1 [==============================] - 0s 7ms/step - loss: 4.9497e-09 - mse: 4.9497e-09 - mae: 6.0368e-05\n",
            "Epoch 482/1000\n",
            "1/1 [==============================] - 0s 11ms/step - loss: 4.8593e-09 - mse: 4.8593e-09 - mae: 5.9605e-05\n",
            "Epoch 483/1000\n",
            "1/1 [==============================] - 0s 7ms/step - loss: 4.8184e-09 - mse: 4.8184e-09 - mae: 5.9414e-05\n",
            "Epoch 484/1000\n",
            "1/1 [==============================] - 0s 8ms/step - loss: 4.7965e-09 - mse: 4.7965e-09 - mae: 5.9319e-05\n",
            "Epoch 485/1000\n",
            "1/1 [==============================] - 0s 8ms/step - loss: 4.8069e-09 - mse: 4.8069e-09 - mae: 5.9509e-05\n",
            "Epoch 486/1000\n",
            "1/1 [==============================] - 0s 11ms/step - loss: 4.7372e-09 - mse: 4.7372e-09 - mae: 5.9032e-05\n",
            "Epoch 487/1000\n",
            "1/1 [==============================] - 0s 4ms/step - loss: 4.7348e-09 - mse: 4.7348e-09 - mae: 5.9128e-05\n",
            "Epoch 488/1000\n",
            "1/1 [==============================] - 0s 13ms/step - loss: 4.6550e-09 - mse: 4.6550e-09 - mae: 5.8460e-05\n",
            "Epoch 489/1000\n",
            "1/1 [==============================] - 0s 5ms/step - loss: 4.6330e-09 - mse: 4.6330e-09 - mae: 5.8365e-05\n",
            "Epoch 490/1000\n",
            "1/1 [==============================] - 0s 8ms/step - loss: 4.6370e-09 - mse: 4.6370e-09 - mae: 5.8365e-05\n",
            "Epoch 491/1000\n",
            "1/1 [==============================] - 0s 14ms/step - loss: 4.5620e-09 - mse: 4.5620e-09 - mae: 5.7983e-05\n",
            "Epoch 492/1000\n",
            "1/1 [==============================] - 0s 5ms/step - loss: 4.5660e-09 - mse: 4.5660e-09 - mae: 5.7983e-05\n",
            "Epoch 493/1000\n",
            "1/1 [==============================] - 0s 4ms/step - loss: 4.5442e-09 - mse: 4.5442e-09 - mae: 5.7888e-05\n",
            "Epoch 494/1000\n",
            "1/1 [==============================] - 0s 7ms/step - loss: 4.4663e-09 - mse: 4.4663e-09 - mae: 5.7220e-05\n",
            "Epoch 495/1000\n",
            "1/1 [==============================] - 0s 4ms/step - loss: 4.4180e-09 - mse: 4.4180e-09 - mae: 5.6934e-05\n",
            "Epoch 496/1000\n",
            "1/1 [==============================] - 0s 8ms/step - loss: 4.3929e-09 - mse: 4.3929e-09 - mae: 5.6839e-05\n",
            "Epoch 497/1000\n",
            "1/1 [==============================] - 0s 4ms/step - loss: 4.3965e-09 - mse: 4.3965e-09 - mae: 5.6839e-05\n",
            "Epoch 498/1000\n",
            "1/1 [==============================] - 0s 4ms/step - loss: 4.3237e-09 - mse: 4.3237e-09 - mae: 5.6458e-05\n",
            "Epoch 499/1000\n",
            "1/1 [==============================] - 0s 9ms/step - loss: 4.3274e-09 - mse: 4.3274e-09 - mae: 5.6458e-05\n",
            "Epoch 500/1000\n",
            "1/1 [==============================] - 0s 9ms/step - loss: 4.2730e-09 - mse: 4.2730e-09 - mae: 5.5885e-05\n",
            "Epoch 501/1000\n",
            "1/1 [==============================] - 0s 5ms/step - loss: 4.2750e-09 - mse: 4.2750e-09 - mae: 5.6076e-05\n",
            "Epoch 502/1000\n",
            "1/1 [==============================] - 0s 5ms/step - loss: 4.2306e-09 - mse: 4.2306e-09 - mae: 5.5695e-05\n",
            "Epoch 503/1000\n",
            "1/1 [==============================] - 0s 9ms/step - loss: 4.2279e-09 - mse: 4.2279e-09 - mae: 5.5790e-05\n",
            "Epoch 504/1000\n",
            "1/1 [==============================] - 0s 9ms/step - loss: 4.1626e-09 - mse: 4.1626e-09 - mae: 5.5313e-05\n",
            "Epoch 505/1000\n",
            "1/1 [==============================] - 0s 4ms/step - loss: 4.2070e-09 - mse: 4.2070e-09 - mae: 5.5695e-05\n",
            "Epoch 506/1000\n",
            "1/1 [==============================] - 0s 5ms/step - loss: 4.1417e-09 - mse: 4.1417e-09 - mae: 5.5218e-05\n",
            "Epoch 507/1000\n",
            "1/1 [==============================] - 0s 8ms/step - loss: 4.1397e-09 - mse: 4.1397e-09 - mae: 5.5313e-05\n",
            "Epoch 508/1000\n",
            "1/1 [==============================] - 0s 10ms/step - loss: 4.0953e-09 - mse: 4.0953e-09 - mae: 5.4932e-05\n",
            "Epoch 509/1000\n",
            "1/1 [==============================] - 0s 4ms/step - loss: 4.0686e-09 - mse: 4.0686e-09 - mae: 5.4646e-05\n",
            "Epoch 510/1000\n",
            "1/1 [==============================] - 0s 5ms/step - loss: 4.0443e-09 - mse: 4.0443e-09 - mae: 5.4550e-05\n",
            "Epoch 511/1000\n",
            "1/1 [==============================] - 0s 8ms/step - loss: 4.0480e-09 - mse: 4.0480e-09 - mae: 5.4550e-05\n",
            "Epoch 512/1000\n",
            "1/1 [==============================] - 0s 5ms/step - loss: 3.9781e-09 - mse: 3.9781e-09 - mae: 5.4169e-05\n",
            "Epoch 513/1000\n",
            "1/1 [==============================] - 0s 9ms/step - loss: 3.9818e-09 - mse: 3.9818e-09 - mae: 5.4169e-05\n",
            "Epoch 514/1000\n",
            "1/1 [==============================] - 0s 5ms/step - loss: 3.9292e-09 - mse: 3.9292e-09 - mae: 5.3596e-05\n",
            "Epoch 515/1000\n",
            "1/1 [==============================] - 0s 8ms/step - loss: 3.8886e-09 - mse: 3.8886e-09 - mae: 5.3406e-05\n",
            "Epoch 516/1000\n",
            "1/1 [==============================] - 0s 5ms/step - loss: 3.8604e-09 - mse: 3.8604e-09 - mae: 5.3215e-05\n",
            "Epoch 517/1000\n",
            "1/1 [==============================] - 0s 12ms/step - loss: 3.8436e-09 - mse: 3.8436e-09 - mae: 5.3120e-05\n",
            "Epoch 518/1000\n",
            "1/1 [==============================] - 0s 4ms/step - loss: 3.8202e-09 - mse: 3.8202e-09 - mae: 5.3024e-05\n",
            "Epoch 519/1000\n",
            "1/1 [==============================] - 0s 10ms/step - loss: 3.8235e-09 - mse: 3.8235e-09 - mae: 5.3024e-05\n",
            "Epoch 520/1000\n",
            "1/1 [==============================] - 0s 5ms/step - loss: 3.7558e-09 - mse: 3.7558e-09 - mae: 5.2643e-05\n",
            "Epoch 521/1000\n",
            "1/1 [==============================] - 0s 9ms/step - loss: 3.7591e-09 - mse: 3.7591e-09 - mae: 5.2643e-05\n",
            "Epoch 522/1000\n",
            "1/1 [==============================] - 0s 4ms/step - loss: 3.7591e-09 - mse: 3.7591e-09 - mae: 5.2643e-05\n",
            "Epoch 523/1000\n",
            "1/1 [==============================] - 0s 8ms/step - loss: 3.6922e-09 - mse: 3.6922e-09 - mae: 5.1975e-05\n",
            "Epoch 524/1000\n",
            "1/1 [==============================] - 0s 4ms/step - loss: 3.6689e-09 - mse: 3.6689e-09 - mae: 5.1880e-05\n",
            "Epoch 525/1000\n",
            "1/1 [==============================] - 0s 4ms/step - loss: 3.6666e-09 - mse: 3.6666e-09 - mae: 5.1975e-05\n",
            "Epoch 526/1000\n",
            "1/1 [==============================] - 0s 13ms/step - loss: 3.6056e-09 - mse: 3.6056e-09 - mae: 5.1498e-05\n",
            "Epoch 527/1000\n",
            "1/1 [==============================] - 0s 4ms/step - loss: 3.6471e-09 - mse: 3.6471e-09 - mae: 5.1880e-05\n",
            "Epoch 528/1000\n",
            "1/1 [==============================] - 0s 5ms/step - loss: 3.5862e-09 - mse: 3.5862e-09 - mae: 5.1403e-05\n",
            "Epoch 529/1000\n",
            "1/1 [==============================] - 0s 12ms/step - loss: 3.5845e-09 - mse: 3.5845e-09 - mae: 5.1498e-05\n",
            "Epoch 530/1000\n",
            "1/1 [==============================] - 0s 5ms/step - loss: 3.5341e-09 - mse: 3.5341e-09 - mae: 5.0926e-05\n",
            "Epoch 531/1000\n",
            "1/1 [==============================] - 0s 5ms/step - loss: 3.5182e-09 - mse: 3.5182e-09 - mae: 5.0831e-05\n",
            "Epoch 532/1000\n",
            "1/1 [==============================] - 0s 8ms/step - loss: 3.4957e-09 - mse: 3.4957e-09 - mae: 5.0735e-05\n",
            "Epoch 533/1000\n",
            "1/1 [==============================] - 0s 4ms/step - loss: 3.4990e-09 - mse: 3.4990e-09 - mae: 5.0735e-05\n",
            "Epoch 534/1000\n",
            "1/1 [==============================] - 0s 14ms/step - loss: 3.4343e-09 - mse: 3.4343e-09 - mae: 5.0354e-05\n",
            "Epoch 535/1000\n",
            "1/1 [==============================] - 0s 5ms/step - loss: 3.4375e-09 - mse: 3.4375e-09 - mae: 5.0354e-05\n",
            "Epoch 536/1000\n",
            "1/1 [==============================] - 0s 7ms/step - loss: 3.3975e-09 - mse: 3.3975e-09 - mae: 4.9973e-05\n",
            "Epoch 537/1000\n",
            "1/1 [==============================] - 0s 14ms/step - loss: 3.3999e-09 - mse: 3.3999e-09 - mae: 5.0163e-05\n",
            "Epoch 538/1000\n",
            "1/1 [==============================] - 0s 11ms/step - loss: 3.3509e-09 - mse: 3.3509e-09 - mae: 4.9591e-05\n",
            "Epoch 539/1000\n",
            "1/1 [==============================] - 0s 5ms/step - loss: 3.3092e-09 - mse: 3.3092e-09 - mae: 4.9305e-05\n",
            "Epoch 540/1000\n",
            "1/1 [==============================] - 0s 10ms/step - loss: 3.2876e-09 - mse: 3.2876e-09 - mae: 4.9210e-05\n",
            "Epoch 541/1000\n",
            "1/1 [==============================] - 0s 4ms/step - loss: 3.2906e-09 - mse: 3.2906e-09 - mae: 4.9210e-05\n",
            "Epoch 542/1000\n",
            "1/1 [==============================] - 0s 5ms/step - loss: 3.2280e-09 - mse: 3.2280e-09 - mae: 4.8828e-05\n",
            "Epoch 543/1000\n",
            "1/1 [==============================] - 0s 8ms/step - loss: 3.2309e-09 - mse: 3.2309e-09 - mae: 4.8828e-05\n",
            "Epoch 544/1000\n",
            "1/1 [==============================] - 0s 7ms/step - loss: 3.1838e-09 - mse: 3.1838e-09 - mae: 4.8256e-05\n",
            "Epoch 545/1000\n",
            "1/1 [==============================] - 0s 9ms/step - loss: 3.1858e-09 - mse: 3.1858e-09 - mae: 4.8447e-05\n",
            "Epoch 546/1000\n",
            "1/1 [==============================] - 0s 8ms/step - loss: 3.1472e-09 - mse: 3.1472e-09 - mae: 4.8065e-05\n",
            "Epoch 547/1000\n",
            "1/1 [==============================] - 0s 8ms/step - loss: 3.1453e-09 - mse: 3.1453e-09 - mae: 4.8161e-05\n",
            "Epoch 548/1000\n",
            "1/1 [==============================] - 0s 8ms/step - loss: 3.0886e-09 - mse: 3.0886e-09 - mae: 4.7684e-05\n",
            "Epoch 549/1000\n",
            "1/1 [==============================] - 0s 7ms/step - loss: 3.1272e-09 - mse: 3.1272e-09 - mae: 4.8065e-05\n",
            "Epoch 550/1000\n",
            "1/1 [==============================] - 0s 8ms/step - loss: 3.0707e-09 - mse: 3.0707e-09 - mae: 4.7588e-05\n",
            "Epoch 551/1000\n",
            "1/1 [==============================] - 0s 12ms/step - loss: 3.0694e-09 - mse: 3.0694e-09 - mae: 4.7684e-05\n",
            "Epoch 552/1000\n",
            "1/1 [==============================] - 0s 7ms/step - loss: 3.0308e-09 - mse: 3.0308e-09 - mae: 4.7302e-05\n",
            "Epoch 553/1000\n",
            "1/1 [==============================] - 0s 6ms/step - loss: 3.0077e-09 - mse: 3.0077e-09 - mae: 4.7016e-05\n",
            "Epoch 554/1000\n",
            "1/1 [==============================] - 0s 10ms/step - loss: 2.9871e-09 - mse: 2.9871e-09 - mae: 4.6921e-05\n",
            "Epoch 555/1000\n",
            "1/1 [==============================] - 0s 8ms/step - loss: 2.9901e-09 - mse: 2.9901e-09 - mae: 4.6921e-05\n",
            "Epoch 556/1000\n",
            "1/1 [==============================] - 0s 6ms/step - loss: 2.9304e-09 - mse: 2.9304e-09 - mae: 4.6539e-05\n",
            "Epoch 557/1000\n",
            "1/1 [==============================] - 0s 8ms/step - loss: 2.9333e-09 - mse: 2.9333e-09 - mae: 4.6539e-05\n",
            "Epoch 558/1000\n",
            "1/1 [==============================] - 0s 9ms/step - loss: 2.8880e-09 - mse: 2.8880e-09 - mae: 4.5967e-05\n",
            "Epoch 559/1000\n",
            "1/1 [==============================] - 0s 6ms/step - loss: 2.8533e-09 - mse: 2.8533e-09 - mae: 4.5776e-05\n",
            "Epoch 560/1000\n",
            "1/1 [==============================] - 0s 8ms/step - loss: 2.8294e-09 - mse: 2.8294e-09 - mae: 4.5586e-05\n",
            "Epoch 561/1000\n",
            "1/1 [==============================] - 0s 7ms/step - loss: 2.8253e-09 - mse: 2.8253e-09 - mae: 4.5586e-05\n",
            "Epoch 562/1000\n",
            "1/1 [==============================] - 0s 5ms/step - loss: 2.7951e-09 - mse: 2.7951e-09 - mae: 4.5395e-05\n",
            "Epoch 563/1000\n",
            "1/1 [==============================] - 0s 13ms/step - loss: 2.7976e-09 - mse: 2.7976e-09 - mae: 4.5395e-05\n",
            "Epoch 564/1000\n",
            "1/1 [==============================] - 0s 9ms/step - loss: 2.7700e-09 - mse: 2.7700e-09 - mae: 4.5204e-05\n",
            "Epoch 565/1000\n",
            "1/1 [==============================] - 0s 11ms/step - loss: 2.7700e-09 - mse: 2.7700e-09 - mae: 4.5204e-05\n",
            "Epoch 566/1000\n",
            "1/1 [==============================] - 0s 6ms/step - loss: 2.7669e-09 - mse: 2.7669e-09 - mae: 4.5204e-05\n",
            "Epoch 567/1000\n",
            "1/1 [==============================] - 0s 8ms/step - loss: 2.7427e-09 - mse: 2.7427e-09 - mae: 4.5013e-05\n",
            "Epoch 568/1000\n",
            "1/1 [==============================] - 0s 5ms/step - loss: 2.6957e-09 - mse: 2.6957e-09 - mae: 4.4441e-05\n",
            "Epoch 569/1000\n",
            "1/1 [==============================] - 0s 5ms/step - loss: 2.6655e-09 - mse: 2.6655e-09 - mae: 4.4250e-05\n",
            "Epoch 570/1000\n",
            "1/1 [==============================] - 0s 13ms/step - loss: 2.6552e-09 - mse: 2.6552e-09 - mae: 4.4155e-05\n",
            "Epoch 571/1000\n",
            "1/1 [==============================] - 0s 9ms/step - loss: 2.6640e-09 - mse: 2.6640e-09 - mae: 4.4346e-05\n",
            "Epoch 572/1000\n",
            "1/1 [==============================] - 0s 8ms/step - loss: 2.6117e-09 - mse: 2.6117e-09 - mae: 4.3869e-05\n",
            "Epoch 573/1000\n",
            "1/1 [==============================] - 0s 7ms/step - loss: 2.6474e-09 - mse: 2.6474e-09 - mae: 4.4250e-05\n",
            "Epoch 574/1000\n",
            "1/1 [==============================] - 0s 6ms/step - loss: 2.6195e-09 - mse: 2.6195e-09 - mae: 4.4060e-05\n",
            "Epoch 575/1000\n",
            "1/1 [==============================] - 0s 8ms/step - loss: 2.5851e-09 - mse: 2.5851e-09 - mae: 4.3678e-05\n",
            "Epoch 576/1000\n",
            "1/1 [==============================] - 0s 12ms/step - loss: 2.5739e-09 - mse: 2.5739e-09 - mae: 4.3488e-05\n",
            "Epoch 577/1000\n",
            "1/1 [==============================] - 0s 10ms/step - loss: 2.5612e-09 - mse: 2.5612e-09 - mae: 4.3392e-05\n",
            "Epoch 578/1000\n",
            "1/1 [==============================] - 0s 7ms/step - loss: 2.5637e-09 - mse: 2.5637e-09 - mae: 4.3392e-05\n",
            "Epoch 579/1000\n",
            "1/1 [==============================] - 0s 8ms/step - loss: 2.5374e-09 - mse: 2.5374e-09 - mae: 4.3201e-05\n",
            "Epoch 580/1000\n",
            "1/1 [==============================] - 0s 7ms/step - loss: 2.5186e-09 - mse: 2.5186e-09 - mae: 4.3106e-05\n",
            "Epoch 581/1000\n",
            "1/1 [==============================] - 0s 5ms/step - loss: 2.5211e-09 - mse: 2.5211e-09 - mae: 4.3106e-05\n",
            "Epoch 582/1000\n",
            "1/1 [==============================] - 0s 9ms/step - loss: 2.4925e-09 - mse: 2.4925e-09 - mae: 4.2915e-05\n",
            "Epoch 583/1000\n",
            "1/1 [==============================] - 0s 9ms/step - loss: 2.4608e-09 - mse: 2.4608e-09 - mae: 4.2534e-05\n",
            "Epoch 584/1000\n",
            "1/1 [==============================] - 0s 6ms/step - loss: 2.4691e-09 - mse: 2.4691e-09 - mae: 4.2725e-05\n",
            "Epoch 585/1000\n",
            "1/1 [==============================] - 0s 5ms/step - loss: 2.4448e-09 - mse: 2.4448e-09 - mae: 4.2439e-05\n",
            "Epoch 586/1000\n",
            "1/1 [==============================] - 0s 6ms/step - loss: 2.4531e-09 - mse: 2.4531e-09 - mae: 4.2629e-05\n",
            "Epoch 587/1000\n",
            "1/1 [==============================] - 0s 6ms/step - loss: 2.4144e-09 - mse: 2.4144e-09 - mae: 4.2057e-05\n",
            "Epoch 588/1000\n",
            "1/1 [==============================] - 0s 6ms/step - loss: 2.3956e-09 - mse: 2.3956e-09 - mae: 4.1962e-05\n",
            "Epoch 589/1000\n",
            "1/1 [==============================] - 0s 5ms/step - loss: 2.3701e-09 - mse: 2.3701e-09 - mae: 4.1771e-05\n",
            "Epoch 590/1000\n",
            "1/1 [==============================] - 0s 6ms/step - loss: 2.3496e-09 - mse: 2.3496e-09 - mae: 4.1771e-05\n",
            "Epoch 591/1000\n",
            "1/1 [==============================] - 0s 8ms/step - loss: 2.3447e-09 - mse: 2.3447e-09 - mae: 4.1580e-05\n",
            "Epoch 592/1000\n",
            "1/1 [==============================] - 0s 6ms/step - loss: 2.3447e-09 - mse: 2.3447e-09 - mae: 4.1580e-05\n",
            "Epoch 593/1000\n",
            "1/1 [==============================] - 0s 5ms/step - loss: 2.3173e-09 - mse: 2.3173e-09 - mae: 4.1389e-05\n",
            "Epoch 594/1000\n",
            "1/1 [==============================] - 0s 5ms/step - loss: 2.3040e-09 - mse: 2.3040e-09 - mae: 4.1294e-05\n",
            "Epoch 595/1000\n",
            "1/1 [==============================] - 0s 6ms/step - loss: 2.2667e-09 - mse: 2.2667e-09 - mae: 4.0722e-05\n",
            "Epoch 596/1000\n",
            "1/1 [==============================] - 0s 6ms/step - loss: 2.2546e-09 - mse: 2.2546e-09 - mae: 4.0627e-05\n",
            "Epoch 597/1000\n",
            "1/1 [==============================] - 0s 5ms/step - loss: 2.2720e-09 - mse: 2.2720e-09 - mae: 4.0913e-05\n",
            "Epoch 598/1000\n",
            "1/1 [==============================] - 0s 4ms/step - loss: 2.2264e-09 - mse: 2.2264e-09 - mae: 4.0436e-05\n",
            "Epoch 599/1000\n",
            "1/1 [==============================] - 0s 5ms/step - loss: 2.2145e-09 - mse: 2.2145e-09 - mae: 4.0340e-05\n",
            "Epoch 600/1000\n",
            "1/1 [==============================] - 0s 9ms/step - loss: 2.2227e-09 - mse: 2.2227e-09 - mae: 4.0531e-05\n",
            "Epoch 601/1000\n",
            "1/1 [==============================] - 0s 4ms/step - loss: 2.1992e-09 - mse: 2.1992e-09 - mae: 4.0245e-05\n",
            "Epoch 602/1000\n",
            "1/1 [==============================] - 0s 6ms/step - loss: 2.1748e-09 - mse: 2.1748e-09 - mae: 4.0054e-05\n",
            "Epoch 603/1000\n",
            "1/1 [==============================] - 0s 5ms/step - loss: 2.1832e-09 - mse: 2.1832e-09 - mae: 4.0245e-05\n",
            "Epoch 604/1000\n",
            "1/1 [==============================] - 0s 8ms/step - loss: 2.1597e-09 - mse: 2.1597e-09 - mae: 3.9959e-05\n",
            "Epoch 605/1000\n",
            "1/1 [==============================] - 0s 4ms/step - loss: 2.1683e-09 - mse: 2.1683e-09 - mae: 4.0150e-05\n",
            "Epoch 606/1000\n",
            "1/1 [==============================] - 0s 4ms/step - loss: 2.1381e-09 - mse: 2.1381e-09 - mae: 3.9768e-05\n",
            "Epoch 607/1000\n",
            "1/1 [==============================] - 0s 5ms/step - loss: 2.1115e-09 - mse: 2.1115e-09 - mae: 3.9577e-05\n",
            "Epoch 608/1000\n",
            "1/1 [==============================] - 0s 5ms/step - loss: 2.1070e-09 - mse: 2.1070e-09 - mae: 3.9387e-05\n",
            "Epoch 609/1000\n",
            "1/1 [==============================] - 0s 7ms/step - loss: 2.0900e-09 - mse: 2.0900e-09 - mae: 3.9291e-05\n",
            "Epoch 610/1000\n",
            "1/1 [==============================] - 0s 4ms/step - loss: 2.0922e-09 - mse: 2.0922e-09 - mae: 3.9291e-05\n",
            "Epoch 611/1000\n",
            "1/1 [==============================] - 0s 5ms/step - loss: 2.0685e-09 - mse: 2.0685e-09 - mae: 3.9101e-05\n",
            "Epoch 612/1000\n",
            "1/1 [==============================] - 0s 6ms/step - loss: 2.0462e-09 - mse: 2.0462e-09 - mae: 3.8815e-05\n",
            "Epoch 613/1000\n",
            "1/1 [==============================] - 0s 4ms/step - loss: 2.0539e-09 - mse: 2.0539e-09 - mae: 3.9005e-05\n",
            "Epoch 614/1000\n",
            "1/1 [==============================] - 0s 5ms/step - loss: 2.0158e-09 - mse: 2.0158e-09 - mae: 3.8433e-05\n",
            "Epoch 615/1000\n",
            "1/1 [==============================] - 0s 5ms/step - loss: 1.9924e-09 - mse: 1.9924e-09 - mae: 3.8242e-05\n",
            "Epoch 616/1000\n",
            "1/1 [==============================] - 0s 4ms/step - loss: 1.9780e-09 - mse: 1.9780e-09 - mae: 3.8147e-05\n",
            "Epoch 617/1000\n",
            "1/1 [==============================] - 0s 8ms/step - loss: 1.9673e-09 - mse: 1.9673e-09 - mae: 3.8052e-05\n",
            "Epoch 618/1000\n",
            "1/1 [==============================] - 0s 6ms/step - loss: 1.9691e-09 - mse: 1.9691e-09 - mae: 3.8052e-05\n",
            "Epoch 619/1000\n",
            "1/1 [==============================] - 0s 6ms/step - loss: 1.9460e-09 - mse: 1.9460e-09 - mae: 3.7861e-05\n",
            "Epoch 620/1000\n",
            "1/1 [==============================] - 0s 6ms/step - loss: 1.9299e-09 - mse: 1.9299e-09 - mae: 3.7766e-05\n",
            "Epoch 621/1000\n",
            "1/1 [==============================] - 0s 5ms/step - loss: 1.9318e-09 - mse: 1.9318e-09 - mae: 3.7766e-05\n",
            "Epoch 622/1000\n",
            "1/1 [==============================] - 0s 6ms/step - loss: 1.9089e-09 - mse: 1.9089e-09 - mae: 3.7575e-05\n",
            "Epoch 623/1000\n",
            "1/1 [==============================] - 0s 6ms/step - loss: 1.9089e-09 - mse: 1.9089e-09 - mae: 3.7575e-05\n",
            "Epoch 624/1000\n",
            "1/1 [==============================] - 0s 6ms/step - loss: 1.9061e-09 - mse: 1.9061e-09 - mae: 3.7575e-05\n",
            "Epoch 625/1000\n",
            "1/1 [==============================] - 0s 9ms/step - loss: 1.8949e-09 - mse: 1.8949e-09 - mae: 3.7479e-05\n",
            "Epoch 626/1000\n",
            "1/1 [==============================] - 0s 6ms/step - loss: 1.8609e-09 - mse: 1.8609e-09 - mae: 3.6907e-05\n",
            "Epoch 627/1000\n",
            "1/1 [==============================] - 0s 7ms/step - loss: 1.8383e-09 - mse: 1.8383e-09 - mae: 3.6716e-05\n",
            "Epoch 628/1000\n",
            "1/1 [==============================] - 0s 7ms/step - loss: 1.8223e-09 - mse: 1.8223e-09 - mae: 3.6621e-05\n",
            "Epoch 629/1000\n",
            "1/1 [==============================] - 0s 8ms/step - loss: 1.8298e-09 - mse: 1.8298e-09 - mae: 3.6812e-05\n",
            "Epoch 630/1000\n",
            "1/1 [==============================] - 0s 8ms/step - loss: 1.8063e-09 - mse: 1.8063e-09 - mae: 3.6621e-05\n",
            "Epoch 631/1000\n",
            "1/1 [==============================] - 0s 8ms/step - loss: 1.7779e-09 - mse: 1.7779e-09 - mae: 3.6240e-05\n",
            "Epoch 632/1000\n",
            "1/1 [==============================] - 0s 7ms/step - loss: 1.8077e-09 - mse: 1.8077e-09 - mae: 3.6621e-05\n",
            "Epoch 633/1000\n",
            "1/1 [==============================] - 0s 9ms/step - loss: 1.7643e-09 - mse: 1.7643e-09 - mae: 3.6144e-05\n",
            "Epoch 634/1000\n",
            "1/1 [==============================] - 0s 6ms/step - loss: 1.7425e-09 - mse: 1.7425e-09 - mae: 3.5954e-05\n",
            "Epoch 635/1000\n",
            "1/1 [==============================] - 0s 8ms/step - loss: 1.7383e-09 - mse: 1.7383e-09 - mae: 3.5763e-05\n",
            "Epoch 636/1000\n",
            "1/1 [==============================] - 0s 4ms/step - loss: 1.7282e-09 - mse: 1.7282e-09 - mae: 3.5667e-05\n",
            "Epoch 637/1000\n",
            "1/1 [==============================] - 0s 15ms/step - loss: 1.7249e-09 - mse: 1.7249e-09 - mae: 3.5667e-05\n",
            "Epoch 638/1000\n",
            "1/1 [==============================] - 0s 5ms/step - loss: 1.7015e-09 - mse: 1.7015e-09 - mae: 3.5477e-05\n",
            "Epoch 639/1000\n",
            "1/1 [==============================] - 0s 5ms/step - loss: 1.6749e-09 - mse: 1.6749e-09 - mae: 3.5095e-05\n",
            "Epoch 640/1000\n",
            "1/1 [==============================] - 0s 7ms/step - loss: 1.7033e-09 - mse: 1.7033e-09 - mae: 3.5477e-05\n",
            "Epoch 641/1000\n",
            "1/1 [==============================] - 0s 6ms/step - loss: 1.6801e-09 - mse: 1.6801e-09 - mae: 3.5286e-05\n",
            "Epoch 642/1000\n",
            "1/1 [==============================] - 0s 6ms/step - loss: 1.6688e-09 - mse: 1.6688e-09 - mae: 3.5191e-05\n",
            "Epoch 643/1000\n",
            "1/1 [==============================] - 0s 8ms/step - loss: 1.6430e-09 - mse: 1.6430e-09 - mae: 3.4809e-05\n",
            "Epoch 644/1000\n",
            "1/1 [==============================] - 0s 5ms/step - loss: 1.6324e-09 - mse: 1.6324e-09 - mae: 3.4714e-05\n",
            "Epoch 645/1000\n",
            "1/1 [==============================] - 0s 8ms/step - loss: 1.6477e-09 - mse: 1.6477e-09 - mae: 3.5000e-05\n",
            "Epoch 646/1000\n",
            "1/1 [==============================] - 0s 5ms/step - loss: 1.5965e-09 - mse: 1.5965e-09 - mae: 3.4142e-05\n",
            "Epoch 647/1000\n",
            "1/1 [==============================] - 0s 6ms/step - loss: 1.5924e-09 - mse: 1.5924e-09 - mae: 3.4237e-05\n",
            "Epoch 648/1000\n",
            "1/1 [==============================] - 0s 4ms/step - loss: 1.5717e-09 - mse: 1.5717e-09 - mae: 3.4046e-05\n",
            "Epoch 649/1000\n",
            "1/1 [==============================] - 0s 4ms/step - loss: 1.5574e-09 - mse: 1.5574e-09 - mae: 3.3951e-05\n",
            "Epoch 650/1000\n",
            "1/1 [==============================] - 0s 7ms/step - loss: 1.5589e-09 - mse: 1.5589e-09 - mae: 3.3951e-05\n",
            "Epoch 651/1000\n",
            "1/1 [==============================] - 0s 6ms/step - loss: 1.5589e-09 - mse: 1.5589e-09 - mae: 3.3951e-05\n",
            "Epoch 652/1000\n",
            "1/1 [==============================] - 0s 5ms/step - loss: 1.5370e-09 - mse: 1.5370e-09 - mae: 3.3760e-05\n",
            "Epoch 653/1000\n",
            "1/1 [==============================] - 0s 6ms/step - loss: 1.5384e-09 - mse: 1.5384e-09 - mae: 3.3760e-05\n",
            "Epoch 654/1000\n",
            "1/1 [==============================] - 0s 8ms/step - loss: 1.5028e-09 - mse: 1.5028e-09 - mae: 3.3188e-05\n",
            "Epoch 655/1000\n",
            "1/1 [==============================] - 0s 9ms/step - loss: 1.4933e-09 - mse: 1.4933e-09 - mae: 3.3092e-05\n",
            "Epoch 656/1000\n",
            "1/1 [==============================] - 0s 7ms/step - loss: 1.4731e-09 - mse: 1.4731e-09 - mae: 3.2902e-05\n",
            "Epoch 657/1000\n",
            "1/1 [==============================] - 0s 6ms/step - loss: 1.4800e-09 - mse: 1.4800e-09 - mae: 3.3092e-05\n",
            "Epoch 658/1000\n",
            "1/1 [==============================] - 0s 5ms/step - loss: 1.4606e-09 - mse: 1.4606e-09 - mae: 3.2806e-05\n",
            "Epoch 659/1000\n",
            "1/1 [==============================] - 0s 7ms/step - loss: 1.4531e-09 - mse: 1.4531e-09 - mae: 3.2711e-05\n",
            "Epoch 660/1000\n",
            "1/1 [==============================] - 0s 5ms/step - loss: 1.4677e-09 - mse: 1.4677e-09 - mae: 3.2997e-05\n",
            "Epoch 661/1000\n",
            "1/1 [==============================] - 0s 5ms/step - loss: 1.4425e-09 - mse: 1.4425e-09 - mae: 3.2616e-05\n",
            "Epoch 662/1000\n",
            "1/1 [==============================] - 0s 8ms/step - loss: 1.4210e-09 - mse: 1.4210e-09 - mae: 3.2425e-05\n",
            "Epoch 663/1000\n",
            "1/1 [==============================] - 0s 7ms/step - loss: 1.4210e-09 - mse: 1.4210e-09 - mae: 3.2425e-05\n",
            "Epoch 664/1000\n",
            "1/1 [==============================] - 0s 8ms/step - loss: 1.4479e-09 - mse: 1.4479e-09 - mae: 3.2806e-05\n",
            "Epoch 665/1000\n",
            "1/1 [==============================] - 0s 8ms/step - loss: 1.4228e-09 - mse: 1.4228e-09 - mae: 3.2425e-05\n",
            "Epoch 666/1000\n",
            "1/1 [==============================] - 0s 5ms/step - loss: 1.4089e-09 - mse: 1.4089e-09 - mae: 3.2330e-05\n",
            "Epoch 667/1000\n",
            "1/1 [==============================] - 0s 6ms/step - loss: 1.3894e-09 - mse: 1.3894e-09 - mae: 3.2139e-05\n",
            "Epoch 668/1000\n",
            "1/1 [==============================] - 0s 9ms/step - loss: 1.3986e-09 - mse: 1.3986e-09 - mae: 3.2234e-05\n",
            "Epoch 669/1000\n",
            "1/1 [==============================] - 0s 10ms/step - loss: 1.3912e-09 - mse: 1.3912e-09 - mae: 3.2139e-05\n",
            "Epoch 670/1000\n",
            "1/1 [==============================] - 0s 7ms/step - loss: 1.3821e-09 - mse: 1.3821e-09 - mae: 3.2043e-05\n",
            "Epoch 671/1000\n",
            "1/1 [==============================] - 0s 9ms/step - loss: 1.3856e-09 - mse: 1.3856e-09 - mae: 3.1948e-05\n",
            "Epoch 672/1000\n",
            "1/1 [==============================] - 0s 5ms/step - loss: 1.3663e-09 - mse: 1.3663e-09 - mae: 3.1757e-05\n",
            "Epoch 673/1000\n",
            "1/1 [==============================] - 0s 11ms/step - loss: 1.3491e-09 - mse: 1.3491e-09 - mae: 3.1471e-05\n",
            "Epoch 674/1000\n",
            "1/1 [==============================] - 0s 5ms/step - loss: 1.3290e-09 - mse: 1.3290e-09 - mae: 3.1281e-05\n",
            "Epoch 675/1000\n",
            "1/1 [==============================] - 0s 8ms/step - loss: 1.3544e-09 - mse: 1.3544e-09 - mae: 3.1662e-05\n",
            "Epoch 676/1000\n",
            "1/1 [==============================] - 0s 5ms/step - loss: 1.3544e-09 - mse: 1.3544e-09 - mae: 3.1662e-05\n",
            "Epoch 677/1000\n",
            "1/1 [==============================] - 0s 5ms/step - loss: 1.3301e-09 - mse: 1.3301e-09 - mae: 3.1281e-05\n",
            "Epoch 678/1000\n",
            "1/1 [==============================] - 0s 5ms/step - loss: 1.3172e-09 - mse: 1.3172e-09 - mae: 3.1185e-05\n",
            "Epoch 679/1000\n",
            "1/1 [==============================] - 0s 8ms/step - loss: 1.3237e-09 - mse: 1.3237e-09 - mae: 3.1376e-05\n",
            "Epoch 680/1000\n",
            "1/1 [==============================] - 0s 7ms/step - loss: 1.3020e-09 - mse: 1.3020e-09 - mae: 3.0899e-05\n",
            "Epoch 681/1000\n",
            "1/1 [==============================] - 0s 5ms/step - loss: 1.2930e-09 - mse: 1.2930e-09 - mae: 3.0804e-05\n",
            "Epoch 682/1000\n",
            "1/1 [==============================] - 0s 7ms/step - loss: 1.2858e-09 - mse: 1.2858e-09 - mae: 3.0708e-05\n",
            "Epoch 683/1000\n",
            "1/1 [==============================] - 0s 6ms/step - loss: 1.2742e-09 - mse: 1.2742e-09 - mae: 3.0613e-05\n",
            "Epoch 684/1000\n",
            "1/1 [==============================] - 0s 6ms/step - loss: 1.2627e-09 - mse: 1.2627e-09 - mae: 3.0518e-05\n",
            "Epoch 685/1000\n",
            "1/1 [==============================] - 0s 7ms/step - loss: 1.2557e-09 - mse: 1.2557e-09 - mae: 3.0422e-05\n",
            "Epoch 686/1000\n",
            "1/1 [==============================] - 0s 5ms/step - loss: 1.2476e-09 - mse: 1.2476e-09 - mae: 3.0327e-05\n",
            "Epoch 687/1000\n",
            "1/1 [==============================] - 0s 8ms/step - loss: 1.2557e-09 - mse: 1.2557e-09 - mae: 3.0422e-05\n",
            "Epoch 688/1000\n",
            "1/1 [==============================] - 0s 7ms/step - loss: 1.2373e-09 - mse: 1.2373e-09 - mae: 3.0231e-05\n",
            "Epoch 689/1000\n",
            "1/1 [==============================] - 0s 8ms/step - loss: 1.2260e-09 - mse: 1.2260e-09 - mae: 3.0136e-05\n",
            "Epoch 690/1000\n",
            "1/1 [==============================] - 0s 4ms/step - loss: 1.2249e-09 - mse: 1.2249e-09 - mae: 3.0136e-05\n",
            "Epoch 691/1000\n",
            "1/1 [==============================] - 0s 7ms/step - loss: 1.2260e-09 - mse: 1.2260e-09 - mae: 3.0136e-05\n",
            "Epoch 692/1000\n",
            "1/1 [==============================] - 0s 12ms/step - loss: 1.2260e-09 - mse: 1.2260e-09 - mae: 3.0136e-05\n",
            "Epoch 693/1000\n",
            "1/1 [==============================] - 0s 5ms/step - loss: 1.2079e-09 - mse: 1.2079e-09 - mae: 2.9945e-05\n",
            "Epoch 694/1000\n",
            "1/1 [==============================] - 0s 6ms/step - loss: 1.2148e-09 - mse: 1.2148e-09 - mae: 3.0041e-05\n",
            "Epoch 695/1000\n",
            "1/1 [==============================] - 0s 9ms/step - loss: 1.1968e-09 - mse: 1.1968e-09 - mae: 2.9850e-05\n",
            "Epoch 696/1000\n",
            "1/1 [==============================] - 0s 5ms/step - loss: 1.2054e-09 - mse: 1.2054e-09 - mae: 2.9945e-05\n",
            "Epoch 697/1000\n",
            "1/1 [==============================] - 0s 4ms/step - loss: 1.1968e-09 - mse: 1.1968e-09 - mae: 2.9850e-05\n",
            "Epoch 698/1000\n",
            "1/1 [==============================] - 0s 12ms/step - loss: 1.1762e-09 - mse: 1.1762e-09 - mae: 2.9373e-05\n",
            "Epoch 699/1000\n",
            "1/1 [==============================] - 0s 5ms/step - loss: 1.1693e-09 - mse: 1.1693e-09 - mae: 2.9278e-05\n",
            "Epoch 700/1000\n",
            "1/1 [==============================] - 0s 8ms/step - loss: 1.1515e-09 - mse: 1.1515e-09 - mae: 2.9087e-05\n",
            "Epoch 701/1000\n",
            "1/1 [==============================] - 0s 12ms/step - loss: 1.1440e-09 - mse: 1.1440e-09 - mae: 2.9182e-05\n",
            "Epoch 702/1000\n",
            "1/1 [==============================] - 0s 8ms/step - loss: 1.1391e-09 - mse: 1.1391e-09 - mae: 2.8992e-05\n",
            "Epoch 703/1000\n",
            "1/1 [==============================] - 0s 7ms/step - loss: 1.1324e-09 - mse: 1.1324e-09 - mae: 2.8896e-05\n",
            "Epoch 704/1000\n",
            "1/1 [==============================] - 0s 8ms/step - loss: 1.1389e-09 - mse: 1.1389e-09 - mae: 2.9087e-05\n",
            "Epoch 705/1000\n",
            "1/1 [==============================] - 0s 6ms/step - loss: 1.1264e-09 - mse: 1.1264e-09 - mae: 2.8992e-05\n",
            "Epoch 706/1000\n",
            "1/1 [==============================] - 0s 7ms/step - loss: 1.1041e-09 - mse: 1.1041e-09 - mae: 2.8610e-05\n",
            "Epoch 707/1000\n",
            "1/1 [==============================] - 0s 8ms/step - loss: 1.1041e-09 - mse: 1.1041e-09 - mae: 2.8610e-05\n",
            "Epoch 708/1000\n",
            "1/1 [==============================] - 0s 7ms/step - loss: 1.1281e-09 - mse: 1.1281e-09 - mae: 2.8992e-05\n",
            "Epoch 709/1000\n",
            "1/1 [==============================] - 0s 7ms/step - loss: 1.1090e-09 - mse: 1.1090e-09 - mae: 2.8801e-05\n",
            "Epoch 710/1000\n",
            "1/1 [==============================] - 0s 6ms/step - loss: 1.0934e-09 - mse: 1.0934e-09 - mae: 2.8515e-05\n",
            "Epoch 711/1000\n",
            "1/1 [==============================] - 0s 8ms/step - loss: 1.0763e-09 - mse: 1.0763e-09 - mae: 2.8324e-05\n",
            "Epoch 712/1000\n",
            "1/1 [==============================] - 0s 6ms/step - loss: 1.0794e-09 - mse: 1.0794e-09 - mae: 2.8229e-05\n",
            "Epoch 713/1000\n",
            "1/1 [==============================] - 0s 6ms/step - loss: 1.0718e-09 - mse: 1.0718e-09 - mae: 2.8133e-05\n",
            "Epoch 714/1000\n",
            "1/1 [==============================] - 0s 7ms/step - loss: 1.0568e-09 - mse: 1.0568e-09 - mae: 2.7847e-05\n",
            "Epoch 715/1000\n",
            "1/1 [==============================] - 0s 7ms/step - loss: 1.0729e-09 - mse: 1.0729e-09 - mae: 2.8133e-05\n",
            "Epoch 716/1000\n",
            "1/1 [==============================] - 0s 8ms/step - loss: 1.0560e-09 - mse: 1.0560e-09 - mae: 2.7943e-05\n",
            "Epoch 717/1000\n",
            "1/1 [==============================] - 0s 6ms/step - loss: 1.0445e-09 - mse: 1.0445e-09 - mae: 2.7847e-05\n",
            "Epoch 718/1000\n",
            "1/1 [==============================] - 0s 9ms/step - loss: 1.0230e-09 - mse: 1.0230e-09 - mae: 2.7466e-05\n",
            "Epoch 719/1000\n",
            "1/1 [==============================] - 0s 7ms/step - loss: 1.0456e-09 - mse: 1.0456e-09 - mae: 2.7847e-05\n",
            "Epoch 720/1000\n",
            "1/1 [==============================] - 0s 5ms/step - loss: 1.0456e-09 - mse: 1.0456e-09 - mae: 2.7847e-05\n",
            "Epoch 721/1000\n",
            "1/1 [==============================] - 0s 10ms/step - loss: 1.0278e-09 - mse: 1.0278e-09 - mae: 2.7657e-05\n",
            "Epoch 722/1000\n",
            "1/1 [==============================] - 0s 8ms/step - loss: 1.0127e-09 - mse: 1.0127e-09 - mae: 2.7370e-05\n",
            "Epoch 723/1000\n",
            "1/1 [==============================] - 0s 7ms/step - loss: 1.0187e-09 - mse: 1.0187e-09 - mae: 2.7561e-05\n",
            "Epoch 724/1000\n",
            "1/1 [==============================] - 0s 7ms/step - loss: 1.0043e-09 - mse: 1.0043e-09 - mae: 2.7275e-05\n",
            "Epoch 725/1000\n",
            "1/1 [==============================] - 0s 7ms/step - loss: 9.9794e-10 - mse: 9.9794e-10 - mae: 2.7180e-05\n",
            "Epoch 726/1000\n",
            "1/1 [==============================] - 0s 8ms/step - loss: 9.8989e-10 - mse: 9.8989e-10 - mae: 2.7084e-05\n",
            "Epoch 727/1000\n",
            "1/1 [==============================] - 0s 7ms/step - loss: 1.0023e-09 - mse: 1.0023e-09 - mae: 2.7370e-05\n",
            "Epoch 728/1000\n",
            "1/1 [==============================] - 0s 7ms/step - loss: 9.7666e-10 - mse: 9.7666e-10 - mae: 2.6798e-05\n",
            "Epoch 729/1000\n",
            "1/1 [==============================] - 0s 8ms/step - loss: 9.6206e-10 - mse: 9.6206e-10 - mae: 2.6512e-05\n",
            "Epoch 730/1000\n",
            "1/1 [==============================] - 0s 5ms/step - loss: 9.6516e-10 - mse: 9.6516e-10 - mae: 2.6703e-05\n",
            "Epoch 731/1000\n",
            "1/1 [==============================] - 0s 6ms/step - loss: 9.5902e-10 - mse: 9.5902e-10 - mae: 2.6608e-05\n",
            "Epoch 732/1000\n",
            "1/1 [==============================] - 0s 10ms/step - loss: 9.4301e-10 - mse: 9.4301e-10 - mae: 2.6417e-05\n",
            "Epoch 733/1000\n",
            "1/1 [==============================] - 0s 6ms/step - loss: 9.3660e-10 - mse: 9.3660e-10 - mae: 2.6512e-05\n",
            "Epoch 734/1000\n",
            "1/1 [==============================] - 0s 8ms/step - loss: 9.3314e-10 - mse: 9.3314e-10 - mae: 2.6321e-05\n",
            "Epoch 735/1000\n",
            "1/1 [==============================] - 0s 7ms/step - loss: 9.3314e-10 - mse: 9.3314e-10 - mae: 2.6321e-05\n",
            "Epoch 736/1000\n",
            "1/1 [==============================] - 0s 8ms/step - loss: 9.3314e-10 - mse: 9.3314e-10 - mae: 2.6321e-05\n",
            "Epoch 737/1000\n",
            "1/1 [==============================] - 0s 10ms/step - loss: 9.2086e-10 - mse: 9.2086e-10 - mae: 2.6321e-05\n",
            "Epoch 738/1000\n",
            "1/1 [==============================] - 0s 7ms/step - loss: 9.2336e-10 - mse: 9.2336e-10 - mae: 2.6226e-05\n",
            "Epoch 739/1000\n",
            "1/1 [==============================] - 0s 7ms/step - loss: 9.0772e-10 - mse: 9.0772e-10 - mae: 2.6035e-05\n",
            "Epoch 740/1000\n",
            "1/1 [==============================] - 0s 9ms/step - loss: 8.8949e-10 - mse: 8.8949e-10 - mae: 2.5558e-05\n",
            "Epoch 741/1000\n",
            "1/1 [==============================] - 0s 13ms/step - loss: 8.8353e-10 - mse: 8.8353e-10 - mae: 2.5463e-05\n",
            "Epoch 742/1000\n",
            "1/1 [==============================] - 0s 8ms/step - loss: 8.7657e-10 - mse: 8.7657e-10 - mae: 2.5368e-05\n",
            "Epoch 743/1000\n",
            "1/1 [==============================] - 0s 6ms/step - loss: 8.6698e-10 - mse: 8.6698e-10 - mae: 2.5272e-05\n",
            "Epoch 744/1000\n",
            "1/1 [==============================] - 0s 12ms/step - loss: 8.7857e-10 - mse: 8.7857e-10 - mae: 2.5558e-05\n",
            "Epoch 745/1000\n",
            "1/1 [==============================] - 0s 8ms/step - loss: 8.5856e-10 - mse: 8.5856e-10 - mae: 2.5177e-05\n",
            "Epoch 746/1000\n",
            "1/1 [==============================] - 0s 10ms/step - loss: 8.5747e-10 - mse: 8.5747e-10 - mae: 2.5177e-05\n",
            "Epoch 747/1000\n",
            "1/1 [==============================] - 0s 13ms/step - loss: 8.5170e-10 - mse: 8.5170e-10 - mae: 2.5082e-05\n",
            "Epoch 748/1000\n",
            "1/1 [==============================] - 0s 10ms/step - loss: 8.5770e-10 - mse: 8.5770e-10 - mae: 2.5272e-05\n",
            "Epoch 749/1000\n",
            "1/1 [==============================] - 0s 9ms/step - loss: 8.4337e-10 - mse: 8.4337e-10 - mae: 2.4986e-05\n",
            "Epoch 750/1000\n",
            "1/1 [==============================] - 0s 6ms/step - loss: 8.2728e-10 - mse: 8.2728e-10 - mae: 2.4796e-05\n",
            "Epoch 751/1000\n",
            "1/1 [==============================] - 0s 8ms/step - loss: 8.2728e-10 - mse: 8.2728e-10 - mae: 2.4796e-05\n",
            "Epoch 752/1000\n",
            "1/1 [==============================] - 0s 6ms/step - loss: 8.4838e-10 - mse: 8.4838e-10 - mae: 2.5177e-05\n",
            "Epoch 753/1000\n",
            "1/1 [==============================] - 0s 7ms/step - loss: 8.2837e-10 - mse: 8.2837e-10 - mae: 2.4796e-05\n",
            "Epoch 754/1000\n",
            "1/1 [==============================] - 0s 8ms/step - loss: 8.1805e-10 - mse: 8.1805e-10 - mae: 2.4700e-05\n",
            "Epoch 755/1000\n",
            "1/1 [==============================] - 0s 8ms/step - loss: 8.0331e-10 - mse: 8.0331e-10 - mae: 2.4509e-05\n",
            "Epoch 756/1000\n",
            "1/1 [==============================] - 0s 7ms/step - loss: 8.1000e-10 - mse: 8.1000e-10 - mae: 2.4605e-05\n",
            "Epoch 757/1000\n",
            "1/1 [==============================] - 0s 7ms/step - loss: 8.0440e-10 - mse: 8.0440e-10 - mae: 2.4509e-05\n",
            "Epoch 758/1000\n",
            "1/1 [==============================] - 0s 7ms/step - loss: 7.9781e-10 - mse: 7.9781e-10 - mae: 2.4414e-05\n",
            "Epoch 759/1000\n",
            "1/1 [==============================] - 0s 8ms/step - loss: 8.0022e-10 - mse: 8.0022e-10 - mae: 2.4319e-05\n",
            "Epoch 760/1000\n",
            "1/1 [==============================] - 0s 5ms/step - loss: 7.8567e-10 - mse: 7.8567e-10 - mae: 2.4128e-05\n",
            "Epoch 761/1000\n",
            "1/1 [==============================] - 0s 9ms/step - loss: 7.7289e-10 - mse: 7.7289e-10 - mae: 2.3842e-05\n",
            "Epoch 762/1000\n",
            "1/1 [==============================] - 0s 5ms/step - loss: 7.5706e-10 - mse: 7.5706e-10 - mae: 2.3651e-05\n",
            "Epoch 763/1000\n",
            "1/1 [==============================] - 0s 6ms/step - loss: 7.7671e-10 - mse: 7.7671e-10 - mae: 2.4033e-05\n",
            "Epoch 764/1000\n",
            "1/1 [==============================] - 0s 6ms/step - loss: 7.7671e-10 - mse: 7.7671e-10 - mae: 2.4033e-05\n",
            "Epoch 765/1000\n",
            "1/1 [==============================] - 0s 5ms/step - loss: 7.5861e-10 - mse: 7.5861e-10 - mae: 2.3651e-05\n",
            "Epoch 766/1000\n",
            "1/1 [==============================] - 0s 9ms/step - loss: 7.4820e-10 - mse: 7.4820e-10 - mae: 2.3556e-05\n",
            "Epoch 767/1000\n",
            "1/1 [==============================] - 0s 7ms/step - loss: 7.5365e-10 - mse: 7.5365e-10 - mae: 2.3746e-05\n",
            "Epoch 768/1000\n",
            "1/1 [==============================] - 0s 6ms/step - loss: 7.3669e-10 - mse: 7.3669e-10 - mae: 2.3270e-05\n",
            "Epoch 769/1000\n",
            "1/1 [==============================] - 0s 7ms/step - loss: 7.3019e-10 - mse: 7.3019e-10 - mae: 2.3174e-05\n",
            "Epoch 770/1000\n",
            "1/1 [==============================] - 0s 5ms/step - loss: 7.2487e-10 - mse: 7.2487e-10 - mae: 2.3079e-05\n",
            "Epoch 771/1000\n",
            "1/1 [==============================] - 0s 11ms/step - loss: 7.1618e-10 - mse: 7.1618e-10 - mae: 2.2984e-05\n",
            "Epoch 772/1000\n",
            "1/1 [==============================] - 0s 9ms/step - loss: 7.0759e-10 - mse: 7.0759e-10 - mae: 2.2888e-05\n",
            "Epoch 773/1000\n",
            "1/1 [==============================] - 0s 6ms/step - loss: 7.0236e-10 - mse: 7.0236e-10 - mae: 2.2793e-05\n",
            "Epoch 774/1000\n",
            "1/1 [==============================] - 0s 8ms/step - loss: 6.9685e-10 - mse: 6.9685e-10 - mae: 2.2697e-05\n",
            "Epoch 775/1000\n",
            "1/1 [==============================] - 0s 7ms/step - loss: 7.0236e-10 - mse: 7.0236e-10 - mae: 2.2793e-05\n",
            "Epoch 776/1000\n",
            "1/1 [==============================] - 0s 7ms/step - loss: 6.8871e-10 - mse: 6.8871e-10 - mae: 2.2602e-05\n",
            "Epoch 777/1000\n",
            "1/1 [==============================] - 0s 9ms/step - loss: 6.8030e-10 - mse: 6.8030e-10 - mae: 2.2507e-05\n",
            "Epoch 778/1000\n",
            "1/1 [==============================] - 0s 6ms/step - loss: 6.7994e-10 - mse: 6.7994e-10 - mae: 2.2507e-05\n",
            "Epoch 779/1000\n",
            "1/1 [==============================] - 0s 8ms/step - loss: 6.8030e-10 - mse: 6.8030e-10 - mae: 2.2507e-05\n",
            "Epoch 780/1000\n",
            "1/1 [==============================] - 0s 8ms/step - loss: 6.8030e-10 - mse: 6.8030e-10 - mae: 2.2507e-05\n",
            "Epoch 781/1000\n",
            "1/1 [==============================] - 0s 6ms/step - loss: 6.6693e-10 - mse: 6.6693e-10 - mae: 2.2316e-05\n",
            "Epoch 782/1000\n",
            "1/1 [==============================] - 0s 8ms/step - loss: 6.7198e-10 - mse: 6.7198e-10 - mae: 2.2411e-05\n",
            "Epoch 783/1000\n",
            "1/1 [==============================] - 0s 8ms/step - loss: 6.5870e-10 - mse: 6.5870e-10 - mae: 2.2221e-05\n",
            "Epoch 784/1000\n",
            "1/1 [==============================] - 0s 8ms/step - loss: 6.6484e-10 - mse: 6.6484e-10 - mae: 2.2316e-05\n",
            "Epoch 785/1000\n",
            "1/1 [==============================] - 0s 7ms/step - loss: 6.5870e-10 - mse: 6.5870e-10 - mae: 2.2221e-05\n",
            "Epoch 786/1000\n",
            "1/1 [==============================] - 0s 8ms/step - loss: 6.4283e-10 - mse: 6.4283e-10 - mae: 2.1744e-05\n",
            "Epoch 787/1000\n",
            "1/1 [==============================] - 0s 5ms/step - loss: 6.3778e-10 - mse: 6.3778e-10 - mae: 2.1648e-05\n",
            "Epoch 788/1000\n",
            "1/1 [==============================] - 0s 6ms/step - loss: 6.2469e-10 - mse: 6.2469e-10 - mae: 2.1458e-05\n",
            "Epoch 789/1000\n",
            "1/1 [==============================] - 0s 8ms/step - loss: 6.1937e-10 - mse: 6.1937e-10 - mae: 2.1553e-05\n",
            "Epoch 790/1000\n",
            "1/1 [==============================] - 0s 8ms/step - loss: 6.1591e-10 - mse: 6.1591e-10 - mae: 2.1362e-05\n",
            "Epoch 791/1000\n",
            "1/1 [==============================] - 0s 9ms/step - loss: 6.1104e-10 - mse: 6.1104e-10 - mae: 2.1267e-05\n",
            "Epoch 792/1000\n",
            "1/1 [==============================] - 0s 6ms/step - loss: 6.1650e-10 - mse: 6.1650e-10 - mae: 2.1458e-05\n",
            "Epoch 793/1000\n",
            "1/1 [==============================] - 0s 7ms/step - loss: 6.0381e-10 - mse: 6.0381e-10 - mae: 2.1172e-05\n",
            "Epoch 794/1000\n",
            "1/1 [==============================] - 0s 6ms/step - loss: 6.0309e-10 - mse: 6.0309e-10 - mae: 2.1172e-05\n",
            "Epoch 795/1000\n",
            "1/1 [==============================] - 0s 9ms/step - loss: 5.9044e-10 - mse: 5.9044e-10 - mae: 2.0981e-05\n",
            "Epoch 796/1000\n",
            "1/1 [==============================] - 0s 6ms/step - loss: 5.9044e-10 - mse: 5.9044e-10 - mae: 2.0981e-05\n",
            "Epoch 797/1000\n",
            "1/1 [==============================] - 0s 9ms/step - loss: 6.0863e-10 - mse: 6.0863e-10 - mae: 2.1362e-05\n",
            "Epoch 798/1000\n",
            "1/1 [==============================] - 0s 7ms/step - loss: 5.9117e-10 - mse: 5.9117e-10 - mae: 2.0981e-05\n",
            "Epoch 799/1000\n",
            "1/1 [==============================] - 0s 6ms/step - loss: 5.9390e-10 - mse: 5.9390e-10 - mae: 2.1172e-05\n",
            "Epoch 800/1000\n",
            "1/1 [==============================] - 0s 5ms/step - loss: 5.8267e-10 - mse: 5.8267e-10 - mae: 2.0885e-05\n",
            "Epoch 801/1000\n",
            "1/1 [==============================] - 0s 7ms/step - loss: 5.7798e-10 - mse: 5.7798e-10 - mae: 2.0790e-05\n",
            "Epoch 802/1000\n",
            "1/1 [==============================] - 0s 11ms/step - loss: 5.7994e-10 - mse: 5.7994e-10 - mae: 2.0695e-05\n",
            "Epoch 803/1000\n",
            "1/1 [==============================] - 0s 7ms/step - loss: 5.7994e-10 - mse: 5.7994e-10 - mae: 2.0695e-05\n",
            "Epoch 804/1000\n",
            "1/1 [==============================] - 0s 5ms/step - loss: 5.7225e-10 - mse: 5.7225e-10 - mae: 2.0599e-05\n",
            "Epoch 805/1000\n",
            "1/1 [==============================] - 0s 8ms/step - loss: 5.6757e-10 - mse: 5.6757e-10 - mae: 2.0504e-05\n",
            "Epoch 806/1000\n",
            "1/1 [==============================] - 0s 8ms/step - loss: 5.6721e-10 - mse: 5.6721e-10 - mae: 2.0504e-05\n",
            "Epoch 807/1000\n",
            "1/1 [==============================] - 0s 7ms/step - loss: 5.5552e-10 - mse: 5.5552e-10 - mae: 2.0218e-05\n",
            "Epoch 808/1000\n",
            "1/1 [==============================] - 0s 7ms/step - loss: 5.5084e-10 - mse: 5.5084e-10 - mae: 2.0123e-05\n",
            "Epoch 809/1000\n",
            "1/1 [==============================] - 0s 7ms/step - loss: 5.5998e-10 - mse: 5.5998e-10 - mae: 2.0409e-05\n",
            "Epoch 810/1000\n",
            "1/1 [==============================] - 0s 7ms/step - loss: 5.5538e-10 - mse: 5.5538e-10 - mae: 2.0313e-05\n",
            "Epoch 811/1000\n",
            "1/1 [==============================] - 0s 7ms/step - loss: 5.5538e-10 - mse: 5.5538e-10 - mae: 2.0313e-05\n",
            "Epoch 812/1000\n",
            "1/1 [==============================] - 0s 6ms/step - loss: 5.4752e-10 - mse: 5.4752e-10 - mae: 2.0218e-05\n",
            "Epoch 813/1000\n",
            "1/1 [==============================] - 0s 7ms/step - loss: 5.4324e-10 - mse: 5.4324e-10 - mae: 2.0027e-05\n",
            "Epoch 814/1000\n",
            "1/1 [==============================] - 0s 8ms/step - loss: 5.3114e-10 - mse: 5.3114e-10 - mae: 1.9836e-05\n",
            "Epoch 815/1000\n",
            "1/1 [==============================] - 0s 5ms/step - loss: 5.4788e-10 - mse: 5.4788e-10 - mae: 2.0218e-05\n",
            "Epoch 816/1000\n",
            "1/1 [==============================] - 0s 8ms/step - loss: 5.4788e-10 - mse: 5.4788e-10 - mae: 2.0218e-05\n",
            "Epoch 817/1000\n",
            "1/1 [==============================] - 0s 11ms/step - loss: 5.4788e-10 - mse: 5.4788e-10 - mae: 2.0218e-05\n",
            "Epoch 818/1000\n",
            "1/1 [==============================] - 0s 9ms/step - loss: 5.3597e-10 - mse: 5.3597e-10 - mae: 2.0027e-05\n",
            "Epoch 819/1000\n",
            "1/1 [==============================] - 0s 5ms/step - loss: 5.3224e-10 - mse: 5.3224e-10 - mae: 1.9836e-05\n",
            "Epoch 820/1000\n",
            "1/1 [==============================] - 0s 6ms/step - loss: 5.2373e-10 - mse: 5.2373e-10 - mae: 1.9741e-05\n",
            "Epoch 821/1000\n",
            "1/1 [==============================] - 0s 6ms/step - loss: 5.1923e-10 - mse: 5.1923e-10 - mae: 1.9646e-05\n",
            "Epoch 822/1000\n",
            "1/1 [==============================] - 0s 5ms/step - loss: 5.2864e-10 - mse: 5.2864e-10 - mae: 1.9932e-05\n",
            "Epoch 823/1000\n",
            "1/1 [==============================] - 0s 5ms/step - loss: 5.2482e-10 - mse: 5.2482e-10 - mae: 1.9741e-05\n",
            "Epoch 824/1000\n",
            "1/1 [==============================] - 0s 8ms/step - loss: 5.1300e-10 - mse: 5.1300e-10 - mae: 1.9550e-05\n",
            "Epoch 825/1000\n",
            "1/1 [==============================] - 0s 4ms/step - loss: 5.1300e-10 - mse: 5.1300e-10 - mae: 1.9550e-05\n",
            "Epoch 826/1000\n",
            "1/1 [==============================] - 0s 7ms/step - loss: 5.1191e-10 - mse: 5.1191e-10 - mae: 1.9550e-05\n",
            "Epoch 827/1000\n",
            "1/1 [==============================] - 0s 4ms/step - loss: 5.0750e-10 - mse: 5.0750e-10 - mae: 1.9455e-05\n",
            "Epoch 828/1000\n",
            "1/1 [==============================] - 0s 6ms/step - loss: 5.0027e-10 - mse: 5.0027e-10 - mae: 1.9360e-05\n",
            "Epoch 829/1000\n",
            "1/1 [==============================] - 0s 7ms/step - loss: 5.1700e-10 - mse: 5.1700e-10 - mae: 1.9741e-05\n",
            "Epoch 830/1000\n",
            "1/1 [==============================] - 0s 6ms/step - loss: 5.0231e-10 - mse: 5.0231e-10 - mae: 1.9264e-05\n",
            "Epoch 831/1000\n",
            "1/1 [==============================] - 0s 4ms/step - loss: 4.9790e-10 - mse: 4.9790e-10 - mae: 1.9169e-05\n",
            "Epoch 832/1000\n",
            "1/1 [==============================] - 0s 7ms/step - loss: 4.9790e-10 - mse: 4.9790e-10 - mae: 1.9169e-05\n",
            "Epoch 833/1000\n",
            "1/1 [==============================] - 0s 5ms/step - loss: 4.8767e-10 - mse: 4.8767e-10 - mae: 1.8883e-05\n",
            "Epoch 834/1000\n",
            "1/1 [==============================] - 0s 6ms/step - loss: 4.9004e-10 - mse: 4.9004e-10 - mae: 1.9073e-05\n",
            "Epoch 835/1000\n",
            "1/1 [==============================] - 0s 5ms/step - loss: 4.9004e-10 - mse: 4.9004e-10 - mae: 1.9073e-05\n",
            "Epoch 836/1000\n",
            "1/1 [==============================] - 0s 8ms/step - loss: 4.8572e-10 - mse: 4.8572e-10 - mae: 1.8978e-05\n",
            "Epoch 837/1000\n",
            "1/1 [==============================] - 0s 7ms/step - loss: 4.8572e-10 - mse: 4.8572e-10 - mae: 1.8978e-05\n",
            "Epoch 838/1000\n",
            "1/1 [==============================] - 0s 4ms/step - loss: 4.7867e-10 - mse: 4.7867e-10 - mae: 1.8883e-05\n",
            "Epoch 839/1000\n",
            "1/1 [==============================] - 0s 5ms/step - loss: 4.7444e-10 - mse: 4.7444e-10 - mae: 1.8787e-05\n",
            "Epoch 840/1000\n",
            "1/1 [==============================] - 0s 6ms/step - loss: 4.7444e-10 - mse: 4.7444e-10 - mae: 1.8787e-05\n",
            "Epoch 841/1000\n",
            "1/1 [==============================] - 0s 6ms/step - loss: 4.7021e-10 - mse: 4.7021e-10 - mae: 1.8883e-05\n",
            "Epoch 842/1000\n",
            "1/1 [==============================] - 0s 5ms/step - loss: 4.7867e-10 - mse: 4.7867e-10 - mae: 1.8883e-05\n",
            "Epoch 843/1000\n",
            "1/1 [==============================] - 0s 6ms/step - loss: 4.6748e-10 - mse: 4.6748e-10 - mae: 1.8692e-05\n",
            "Epoch 844/1000\n",
            "1/1 [==============================] - 0s 7ms/step - loss: 4.6748e-10 - mse: 4.6748e-10 - mae: 1.8692e-05\n",
            "Epoch 845/1000\n",
            "1/1 [==============================] - 0s 6ms/step - loss: 4.6748e-10 - mse: 4.6748e-10 - mae: 1.8692e-05\n",
            "Epoch 846/1000\n",
            "1/1 [==============================] - 0s 5ms/step - loss: 4.6748e-10 - mse: 4.6748e-10 - mae: 1.8692e-05\n",
            "Epoch 847/1000\n",
            "1/1 [==============================] - 0s 8ms/step - loss: 4.6748e-10 - mse: 4.6748e-10 - mae: 1.8692e-05\n",
            "Epoch 848/1000\n",
            "1/1 [==============================] - 0s 4ms/step - loss: 4.5648e-10 - mse: 4.5648e-10 - mae: 1.8501e-05\n",
            "Epoch 849/1000\n",
            "1/1 [==============================] - 0s 7ms/step - loss: 4.6512e-10 - mse: 4.6512e-10 - mae: 1.8501e-05\n",
            "Epoch 850/1000\n",
            "1/1 [==============================] - 0s 4ms/step - loss: 4.6061e-10 - mse: 4.6061e-10 - mae: 1.8597e-05\n",
            "Epoch 851/1000\n",
            "1/1 [==============================] - 0s 5ms/step - loss: 4.6061e-10 - mse: 4.6061e-10 - mae: 1.8597e-05\n",
            "Epoch 852/1000\n",
            "1/1 [==============================] - 0s 9ms/step - loss: 4.5648e-10 - mse: 4.5648e-10 - mae: 1.8501e-05\n",
            "Epoch 853/1000\n",
            "1/1 [==============================] - 0s 5ms/step - loss: 4.4297e-10 - mse: 4.4297e-10 - mae: 1.8024e-05\n",
            "Epoch 854/1000\n",
            "1/1 [==============================] - 0s 8ms/step - loss: 4.4297e-10 - mse: 4.4297e-10 - mae: 1.8024e-05\n",
            "Epoch 855/1000\n",
            "1/1 [==============================] - 0s 5ms/step - loss: 4.3619e-10 - mse: 4.3619e-10 - mae: 1.7929e-05\n",
            "Epoch 856/1000\n",
            "1/1 [==============================] - 0s 4ms/step - loss: 4.3206e-10 - mse: 4.3206e-10 - mae: 1.7834e-05\n",
            "Epoch 857/1000\n",
            "1/1 [==============================] - 0s 7ms/step - loss: 4.3206e-10 - mse: 4.3206e-10 - mae: 1.7834e-05\n",
            "Epoch 858/1000\n",
            "1/1 [==============================] - 0s 4ms/step - loss: 4.3169e-10 - mse: 4.3169e-10 - mae: 1.7834e-05\n",
            "Epoch 859/1000\n",
            "1/1 [==============================] - 0s 6ms/step - loss: 4.2764e-10 - mse: 4.2764e-10 - mae: 1.7738e-05\n",
            "Epoch 860/1000\n",
            "1/1 [==============================] - 0s 8ms/step - loss: 4.2096e-10 - mse: 4.2096e-10 - mae: 1.7643e-05\n",
            "Epoch 861/1000\n",
            "1/1 [==============================] - 0s 7ms/step - loss: 4.2096e-10 - mse: 4.2096e-10 - mae: 1.7643e-05\n",
            "Epoch 862/1000\n",
            "1/1 [==============================] - 0s 10ms/step - loss: 4.3624e-10 - mse: 4.3624e-10 - mae: 1.8024e-05\n",
            "Epoch 863/1000\n",
            "1/1 [==============================] - 0s 9ms/step - loss: 4.2132e-10 - mse: 4.2132e-10 - mae: 1.7643e-05\n",
            "Epoch 864/1000\n",
            "1/1 [==============================] - 0s 8ms/step - loss: 4.2132e-10 - mse: 4.2132e-10 - mae: 1.7643e-05\n",
            "Epoch 865/1000\n",
            "1/1 [==============================] - 0s 6ms/step - loss: 4.1473e-10 - mse: 4.1473e-10 - mae: 1.7548e-05\n",
            "Epoch 866/1000\n",
            "1/1 [==============================] - 0s 7ms/step - loss: 4.1437e-10 - mse: 4.1437e-10 - mae: 1.7548e-05\n",
            "Epoch 867/1000\n",
            "1/1 [==============================] - 0s 8ms/step - loss: 4.1437e-10 - mse: 4.1437e-10 - mae: 1.7548e-05\n",
            "Epoch 868/1000\n",
            "1/1 [==============================] - 0s 7ms/step - loss: 4.1041e-10 - mse: 4.1041e-10 - mae: 1.7452e-05\n",
            "Epoch 869/1000\n",
            "1/1 [==============================] - 0s 7ms/step - loss: 4.1041e-10 - mse: 4.1041e-10 - mae: 1.7452e-05\n",
            "Epoch 870/1000\n",
            "1/1 [==============================] - 0s 7ms/step - loss: 4.1919e-10 - mse: 4.1919e-10 - mae: 1.7738e-05\n",
            "Epoch 871/1000\n",
            "1/1 [==============================] - 0s 8ms/step - loss: 4.1473e-10 - mse: 4.1473e-10 - mae: 1.7548e-05\n",
            "Epoch 872/1000\n",
            "1/1 [==============================] - 0s 6ms/step - loss: 4.0427e-10 - mse: 4.0427e-10 - mae: 1.7357e-05\n",
            "Epoch 873/1000\n",
            "1/1 [==============================] - 0s 5ms/step - loss: 4.0427e-10 - mse: 4.0427e-10 - mae: 1.7357e-05\n",
            "Epoch 874/1000\n",
            "1/1 [==============================] - 0s 9ms/step - loss: 4.0391e-10 - mse: 4.0391e-10 - mae: 1.7357e-05\n",
            "Epoch 875/1000\n",
            "1/1 [==============================] - 0s 7ms/step - loss: 3.9363e-10 - mse: 3.9363e-10 - mae: 1.7166e-05\n",
            "Epoch 876/1000\n",
            "1/1 [==============================] - 0s 7ms/step - loss: 3.9363e-10 - mse: 3.9363e-10 - mae: 1.7166e-05\n",
            "Epoch 877/1000\n",
            "1/1 [==============================] - 0s 8ms/step - loss: 3.9363e-10 - mse: 3.9363e-10 - mae: 1.7166e-05\n",
            "Epoch 878/1000\n",
            "1/1 [==============================] - 0s 11ms/step - loss: 4.0891e-10 - mse: 4.0891e-10 - mae: 1.7548e-05\n",
            "Epoch 879/1000\n",
            "1/1 [==============================] - 0s 7ms/step - loss: 3.9399e-10 - mse: 3.9399e-10 - mae: 1.7166e-05\n",
            "Epoch 880/1000\n",
            "1/1 [==============================] - 0s 3ms/step - loss: 3.9399e-10 - mse: 3.9399e-10 - mae: 1.7166e-05\n",
            "Epoch 881/1000\n",
            "1/1 [==============================] - 0s 3ms/step - loss: 3.9399e-10 - mse: 3.9399e-10 - mae: 1.7166e-05\n",
            "Epoch 882/1000\n",
            "1/1 [==============================] - 0s 5ms/step - loss: 3.8731e-10 - mse: 3.8731e-10 - mae: 1.7071e-05\n",
            "Epoch 883/1000\n",
            "1/1 [==============================] - 0s 5ms/step - loss: 3.8731e-10 - mse: 3.8731e-10 - mae: 1.7071e-05\n",
            "Epoch 884/1000\n",
            "1/1 [==============================] - 0s 8ms/step - loss: 3.8353e-10 - mse: 3.8353e-10 - mae: 1.6975e-05\n",
            "Epoch 885/1000\n",
            "1/1 [==============================] - 0s 4ms/step - loss: 3.8767e-10 - mse: 3.8767e-10 - mae: 1.7071e-05\n",
            "Epoch 886/1000\n",
            "1/1 [==============================] - 0s 5ms/step - loss: 3.8767e-10 - mse: 3.8767e-10 - mae: 1.7071e-05\n",
            "Epoch 887/1000\n",
            "1/1 [==============================] - 0s 6ms/step - loss: 3.8144e-10 - mse: 3.8144e-10 - mae: 1.6975e-05\n",
            "Epoch 888/1000\n",
            "1/1 [==============================] - 0s 3ms/step - loss: 3.7767e-10 - mse: 3.7767e-10 - mae: 1.6880e-05\n",
            "Epoch 889/1000\n",
            "1/1 [==============================] - 0s 4ms/step - loss: 3.7767e-10 - mse: 3.7767e-10 - mae: 1.6880e-05\n",
            "Epoch 890/1000\n",
            "1/1 [==============================] - 0s 5ms/step - loss: 3.7730e-10 - mse: 3.7730e-10 - mae: 1.6880e-05\n",
            "Epoch 891/1000\n",
            "1/1 [==============================] - 0s 5ms/step - loss: 3.6489e-10 - mse: 3.6489e-10 - mae: 1.6403e-05\n",
            "Epoch 892/1000\n",
            "1/1 [==============================] - 0s 3ms/step - loss: 3.6111e-10 - mse: 3.6111e-10 - mae: 1.6308e-05\n",
            "Epoch 893/1000\n",
            "1/1 [==============================] - 0s 6ms/step - loss: 3.7494e-10 - mse: 3.7494e-10 - mae: 1.6689e-05\n",
            "Epoch 894/1000\n",
            "1/1 [==============================] - 0s 7ms/step - loss: 3.6880e-10 - mse: 3.6880e-10 - mae: 1.6594e-05\n",
            "Epoch 895/1000\n",
            "1/1 [==============================] - 0s 9ms/step - loss: 3.6512e-10 - mse: 3.6512e-10 - mae: 1.6499e-05\n",
            "Epoch 896/1000\n",
            "1/1 [==============================] - 0s 5ms/step - loss: 3.6512e-10 - mse: 3.6512e-10 - mae: 1.6499e-05\n",
            "Epoch 897/1000\n",
            "1/1 [==============================] - 0s 6ms/step - loss: 3.5670e-10 - mse: 3.5670e-10 - mae: 1.6212e-05\n",
            "Epoch 898/1000\n",
            "1/1 [==============================] - 0s 4ms/step - loss: 3.5498e-10 - mse: 3.5498e-10 - mae: 1.6212e-05\n",
            "Epoch 899/1000\n",
            "1/1 [==============================] - 0s 7ms/step - loss: 3.4524e-10 - mse: 3.4524e-10 - mae: 1.6022e-05\n",
            "Epoch 900/1000\n",
            "1/1 [==============================] - 0s 7ms/step - loss: 3.4524e-10 - mse: 3.4524e-10 - mae: 1.6022e-05\n",
            "Epoch 901/1000\n",
            "1/1 [==============================] - 0s 7ms/step - loss: 3.5907e-10 - mse: 3.5907e-10 - mae: 1.6403e-05\n",
            "Epoch 902/1000\n",
            "1/1 [==============================] - 0s 8ms/step - loss: 3.5907e-10 - mse: 3.5907e-10 - mae: 1.6403e-05\n",
            "Epoch 903/1000\n",
            "1/1 [==============================] - 0s 6ms/step - loss: 3.5907e-10 - mse: 3.5907e-10 - mae: 1.6403e-05\n",
            "Epoch 904/1000\n",
            "1/1 [==============================] - 0s 5ms/step - loss: 3.4952e-10 - mse: 3.4952e-10 - mae: 1.6212e-05\n",
            "Epoch 905/1000\n",
            "1/1 [==============================] - 0s 6ms/step - loss: 3.4797e-10 - mse: 3.4797e-10 - mae: 1.6212e-05\n",
            "Epoch 906/1000\n",
            "1/1 [==============================] - 0s 12ms/step - loss: 3.3929e-10 - mse: 3.3929e-10 - mae: 1.5926e-05\n",
            "Epoch 907/1000\n",
            "1/1 [==============================] - 0s 7ms/step - loss: 3.3929e-10 - mse: 3.3929e-10 - mae: 1.5926e-05\n",
            "Epoch 908/1000\n",
            "1/1 [==============================] - 0s 6ms/step - loss: 3.3569e-10 - mse: 3.3569e-10 - mae: 1.5831e-05\n",
            "Epoch 909/1000\n",
            "1/1 [==============================] - 0s 15ms/step - loss: 3.4365e-10 - mse: 3.4365e-10 - mae: 1.6117e-05\n",
            "Epoch 910/1000\n",
            "1/1 [==============================] - 0s 8ms/step - loss: 3.3729e-10 - mse: 3.3729e-10 - mae: 1.5736e-05\n",
            "Epoch 911/1000\n",
            "1/1 [==============================] - 0s 7ms/step - loss: 3.3142e-10 - mse: 3.3142e-10 - mae: 1.5640e-05\n",
            "Epoch 912/1000\n",
            "1/1 [==============================] - 0s 8ms/step - loss: 3.2783e-10 - mse: 3.2783e-10 - mae: 1.5545e-05\n",
            "Epoch 913/1000\n",
            "1/1 [==============================] - 0s 10ms/step - loss: 3.2746e-10 - mse: 3.2746e-10 - mae: 1.5545e-05\n",
            "Epoch 914/1000\n",
            "1/1 [==============================] - 0s 4ms/step - loss: 3.2746e-10 - mse: 3.2746e-10 - mae: 1.5545e-05\n",
            "Epoch 915/1000\n",
            "1/1 [==============================] - 0s 8ms/step - loss: 3.2396e-10 - mse: 3.2396e-10 - mae: 1.5450e-05\n",
            "Epoch 916/1000\n",
            "1/1 [==============================] - 0s 7ms/step - loss: 3.1819e-10 - mse: 3.1819e-10 - mae: 1.5354e-05\n",
            "Epoch 917/1000\n",
            "1/1 [==============================] - 0s 7ms/step - loss: 3.1819e-10 - mse: 3.1819e-10 - mae: 1.5354e-05\n",
            "Epoch 918/1000\n",
            "1/1 [==============================] - 0s 7ms/step - loss: 3.1819e-10 - mse: 3.1819e-10 - mae: 1.5354e-05\n",
            "Epoch 919/1000\n",
            "1/1 [==============================] - 0s 9ms/step - loss: 3.1250e-10 - mse: 3.1250e-10 - mae: 1.5259e-05\n",
            "Epoch 920/1000\n",
            "1/1 [==============================] - 0s 10ms/step - loss: 3.0909e-10 - mse: 3.0909e-10 - mae: 1.5163e-05\n",
            "Epoch 921/1000\n",
            "1/1 [==============================] - 0s 6ms/step - loss: 3.0909e-10 - mse: 3.0909e-10 - mae: 1.5163e-05\n",
            "Epoch 922/1000\n",
            "1/1 [==============================] - 0s 7ms/step - loss: 3.0946e-10 - mse: 3.0946e-10 - mae: 1.5163e-05\n",
            "Epoch 923/1000\n",
            "1/1 [==============================] - 0s 9ms/step - loss: 3.1250e-10 - mse: 3.1250e-10 - mae: 1.5259e-05\n",
            "Epoch 924/1000\n",
            "1/1 [==============================] - 0s 5ms/step - loss: 3.0909e-10 - mse: 3.0909e-10 - mae: 1.5163e-05\n",
            "Epoch 925/1000\n",
            "1/1 [==============================] - 0s 7ms/step - loss: 3.0909e-10 - mse: 3.0909e-10 - mae: 1.5163e-05\n",
            "Epoch 926/1000\n",
            "1/1 [==============================] - 0s 13ms/step - loss: 3.0350e-10 - mse: 3.0350e-10 - mae: 1.5068e-05\n",
            "Epoch 927/1000\n",
            "1/1 [==============================] - 0s 8ms/step - loss: 3.0018e-10 - mse: 3.0018e-10 - mae: 1.4973e-05\n",
            "Epoch 928/1000\n",
            "1/1 [==============================] - 0s 6ms/step - loss: 3.0018e-10 - mse: 3.0018e-10 - mae: 1.4973e-05\n",
            "Epoch 929/1000\n",
            "1/1 [==============================] - 0s 6ms/step - loss: 2.9468e-10 - mse: 2.9468e-10 - mae: 1.4877e-05\n",
            "Epoch 930/1000\n",
            "1/1 [==============================] - 0s 6ms/step - loss: 2.9504e-10 - mse: 2.9504e-10 - mae: 1.4877e-05\n",
            "Epoch 931/1000\n",
            "1/1 [==============================] - 0s 6ms/step - loss: 2.9468e-10 - mse: 2.9468e-10 - mae: 1.4877e-05\n",
            "Epoch 932/1000\n",
            "1/1 [==============================] - 0s 6ms/step - loss: 2.9468e-10 - mse: 2.9468e-10 - mae: 1.4877e-05\n",
            "Epoch 933/1000\n",
            "1/1 [==============================] - 0s 8ms/step - loss: 2.9468e-10 - mse: 2.9468e-10 - mae: 1.4877e-05\n",
            "Epoch 934/1000\n",
            "1/1 [==============================] - 0s 9ms/step - loss: 2.9468e-10 - mse: 2.9468e-10 - mae: 1.4877e-05\n",
            "Epoch 935/1000\n",
            "1/1 [==============================] - 0s 6ms/step - loss: 2.9468e-10 - mse: 2.9468e-10 - mae: 1.4877e-05\n",
            "Epoch 936/1000\n",
            "1/1 [==============================] - 0s 7ms/step - loss: 2.8604e-10 - mse: 2.8604e-10 - mae: 1.4687e-05\n",
            "Epoch 937/1000\n",
            "1/1 [==============================] - 0s 8ms/step - loss: 2.9468e-10 - mse: 2.9468e-10 - mae: 1.4877e-05\n",
            "Epoch 938/1000\n",
            "1/1 [==============================] - 0s 7ms/step - loss: 2.8926e-10 - mse: 2.8926e-10 - mae: 1.4782e-05\n",
            "Epoch 939/1000\n",
            "1/1 [==============================] - 0s 9ms/step - loss: 2.8926e-10 - mse: 2.8926e-10 - mae: 1.4782e-05\n",
            "Epoch 940/1000\n",
            "1/1 [==============================] - 0s 7ms/step - loss: 2.8604e-10 - mse: 2.8604e-10 - mae: 1.4687e-05\n",
            "Epoch 941/1000\n",
            "1/1 [==============================] - 0s 10ms/step - loss: 2.7726e-10 - mse: 2.7726e-10 - mae: 1.4400e-05\n",
            "Epoch 942/1000\n",
            "1/1 [==============================] - 0s 7ms/step - loss: 2.8963e-10 - mse: 2.8963e-10 - mae: 1.4782e-05\n",
            "Epoch 943/1000\n",
            "1/1 [==============================] - 0s 6ms/step - loss: 2.8431e-10 - mse: 2.8431e-10 - mae: 1.4687e-05\n",
            "Epoch 944/1000\n",
            "1/1 [==============================] - 0s 10ms/step - loss: 2.8108e-10 - mse: 2.8108e-10 - mae: 1.4591e-05\n",
            "Epoch 945/1000\n",
            "1/1 [==============================] - 0s 5ms/step - loss: 2.8072e-10 - mse: 2.8072e-10 - mae: 1.4591e-05\n",
            "Epoch 946/1000\n",
            "1/1 [==============================] - 0s 6ms/step - loss: 2.6957e-10 - mse: 2.6957e-10 - mae: 1.4114e-05\n",
            "Epoch 947/1000\n",
            "1/1 [==============================] - 0s 4ms/step - loss: 2.6957e-10 - mse: 2.6957e-10 - mae: 1.4114e-05\n",
            "Epoch 948/1000\n",
            "1/1 [==============================] - 0s 7ms/step - loss: 2.6635e-10 - mse: 2.6635e-10 - mae: 1.4019e-05\n",
            "Epoch 949/1000\n",
            "1/1 [==============================] - 0s 9ms/step - loss: 2.6635e-10 - mse: 2.6635e-10 - mae: 1.4019e-05\n",
            "Epoch 950/1000\n",
            "1/1 [==============================] - 0s 12ms/step - loss: 2.6112e-10 - mse: 2.6112e-10 - mae: 1.3924e-05\n",
            "Epoch 951/1000\n",
            "1/1 [==============================] - 0s 4ms/step - loss: 2.5798e-10 - mse: 2.5798e-10 - mae: 1.3828e-05\n",
            "Epoch 952/1000\n",
            "1/1 [==============================] - 0s 9ms/step - loss: 2.5798e-10 - mse: 2.5798e-10 - mae: 1.3828e-05\n",
            "Epoch 953/1000\n",
            "1/1 [==============================] - 0s 11ms/step - loss: 2.5484e-10 - mse: 2.5484e-10 - mae: 1.3924e-05\n",
            "Epoch 954/1000\n",
            "1/1 [==============================] - 0s 9ms/step - loss: 2.5284e-10 - mse: 2.5284e-10 - mae: 1.3733e-05\n",
            "Epoch 955/1000\n",
            "1/1 [==============================] - 0s 8ms/step - loss: 2.5284e-10 - mse: 2.5284e-10 - mae: 1.3733e-05\n",
            "Epoch 956/1000\n",
            "1/1 [==============================] - 0s 9ms/step - loss: 2.4979e-10 - mse: 2.4979e-10 - mae: 1.3638e-05\n",
            "Epoch 957/1000\n",
            "1/1 [==============================] - 0s 5ms/step - loss: 2.4979e-10 - mse: 2.4979e-10 - mae: 1.3638e-05\n",
            "Epoch 958/1000\n",
            "1/1 [==============================] - 0s 6ms/step - loss: 2.5711e-10 - mse: 2.5711e-10 - mae: 1.3924e-05\n",
            "Epoch 959/1000\n",
            "1/1 [==============================] - 0s 7ms/step - loss: 2.5284e-10 - mse: 2.5284e-10 - mae: 1.3733e-05\n",
            "Epoch 960/1000\n",
            "1/1 [==============================] - 0s 4ms/step - loss: 2.4475e-10 - mse: 2.4475e-10 - mae: 1.3542e-05\n",
            "Epoch 961/1000\n",
            "1/1 [==============================] - 0s 5ms/step - loss: 2.4675e-10 - mse: 2.4675e-10 - mae: 1.3733e-05\n",
            "Epoch 962/1000\n",
            "1/1 [==============================] - 0s 5ms/step - loss: 2.4475e-10 - mse: 2.4475e-10 - mae: 1.3542e-05\n",
            "Epoch 963/1000\n",
            "1/1 [==============================] - 0s 7ms/step - loss: 2.3683e-10 - mse: 2.3683e-10 - mae: 1.3351e-05\n",
            "Epoch 964/1000\n",
            "1/1 [==============================] - 0s 4ms/step - loss: 2.3683e-10 - mse: 2.3683e-10 - mae: 1.3351e-05\n",
            "Epoch 965/1000\n",
            "1/1 [==============================] - 0s 5ms/step - loss: 2.3683e-10 - mse: 2.3683e-10 - mae: 1.3351e-05\n",
            "Epoch 966/1000\n",
            "1/1 [==============================] - 0s 6ms/step - loss: 2.4920e-10 - mse: 2.4920e-10 - mae: 1.3733e-05\n",
            "Epoch 967/1000\n",
            "1/1 [==============================] - 0s 4ms/step - loss: 2.3683e-10 - mse: 2.3683e-10 - mae: 1.3351e-05\n",
            "Epoch 968/1000\n",
            "1/1 [==============================] - 0s 6ms/step - loss: 2.3683e-10 - mse: 2.3683e-10 - mae: 1.3351e-05\n",
            "Epoch 969/1000\n",
            "1/1 [==============================] - 0s 6ms/step - loss: 2.3883e-10 - mse: 2.3883e-10 - mae: 1.3542e-05\n",
            "Epoch 970/1000\n",
            "1/1 [==============================] - 0s 5ms/step - loss: 2.3197e-10 - mse: 2.3197e-10 - mae: 1.3256e-05\n",
            "Epoch 971/1000\n",
            "1/1 [==============================] - 0s 8ms/step - loss: 2.3197e-10 - mse: 2.3197e-10 - mae: 1.3256e-05\n",
            "Epoch 972/1000\n",
            "1/1 [==============================] - 0s 4ms/step - loss: 2.2910e-10 - mse: 2.2910e-10 - mae: 1.3161e-05\n",
            "Epoch 973/1000\n",
            "1/1 [==============================] - 0s 6ms/step - loss: 2.2997e-10 - mse: 2.2997e-10 - mae: 1.3065e-05\n",
            "Epoch 974/1000\n",
            "1/1 [==============================] - 0s 8ms/step - loss: 2.2997e-10 - mse: 2.2997e-10 - mae: 1.3065e-05\n",
            "Epoch 975/1000\n",
            "1/1 [==============================] - 0s 5ms/step - loss: 2.2519e-10 - mse: 2.2519e-10 - mae: 1.2970e-05\n",
            "Epoch 976/1000\n",
            "1/1 [==============================] - 0s 7ms/step - loss: 2.2233e-10 - mse: 2.2233e-10 - mae: 1.2875e-05\n",
            "Epoch 977/1000\n",
            "1/1 [==============================] - 0s 13ms/step - loss: 2.2269e-10 - mse: 2.2269e-10 - mae: 1.2875e-05\n",
            "Epoch 978/1000\n",
            "1/1 [==============================] - 0s 8ms/step - loss: 2.1428e-10 - mse: 2.1428e-10 - mae: 1.2589e-05\n",
            "Epoch 979/1000\n",
            "1/1 [==============================] - 0s 10ms/step - loss: 2.1428e-10 - mse: 2.1428e-10 - mae: 1.2589e-05\n",
            "Epoch 980/1000\n",
            "1/1 [==============================] - 0s 13ms/step - loss: 2.1141e-10 - mse: 2.1141e-10 - mae: 1.2493e-05\n",
            "Epoch 981/1000\n",
            "1/1 [==============================] - 0s 9ms/step - loss: 2.2233e-10 - mse: 2.2233e-10 - mae: 1.2875e-05\n",
            "Epoch 982/1000\n",
            "1/1 [==============================] - 0s 9ms/step - loss: 2.1764e-10 - mse: 2.1764e-10 - mae: 1.2779e-05\n",
            "Epoch 983/1000\n",
            "1/1 [==============================] - 0s 8ms/step - loss: 2.1487e-10 - mse: 2.1487e-10 - mae: 1.2684e-05\n",
            "Epoch 984/1000\n",
            "1/1 [==============================] - 0s 8ms/step - loss: 2.1487e-10 - mse: 2.1487e-10 - mae: 1.2684e-05\n",
            "Epoch 985/1000\n",
            "1/1 [==============================] - 0s 7ms/step - loss: 2.1064e-10 - mse: 2.1064e-10 - mae: 1.2589e-05\n",
            "Epoch 986/1000\n",
            "1/1 [==============================] - 0s 7ms/step - loss: 2.0673e-10 - mse: 2.0673e-10 - mae: 1.2398e-05\n",
            "Epoch 987/1000\n",
            "1/1 [==============================] - 0s 8ms/step - loss: 1.9936e-10 - mse: 1.9936e-10 - mae: 1.2207e-05\n",
            "Epoch 988/1000\n",
            "1/1 [==============================] - 0s 7ms/step - loss: 1.9936e-10 - mse: 1.9936e-10 - mae: 1.2207e-05\n",
            "Epoch 989/1000\n",
            "1/1 [==============================] - 0s 6ms/step - loss: 2.1028e-10 - mse: 2.1028e-10 - mae: 1.2589e-05\n",
            "Epoch 990/1000\n",
            "1/1 [==============================] - 0s 7ms/step - loss: 2.1028e-10 - mse: 2.1028e-10 - mae: 1.2589e-05\n",
            "Epoch 991/1000\n",
            "1/1 [==============================] - 0s 9ms/step - loss: 2.1028e-10 - mse: 2.1028e-10 - mae: 1.2589e-05\n",
            "Epoch 992/1000\n",
            "1/1 [==============================] - 0s 7ms/step - loss: 2.0309e-10 - mse: 2.0309e-10 - mae: 1.2398e-05\n",
            "Epoch 993/1000\n",
            "1/1 [==============================] - 0s 7ms/step - loss: 1.9973e-10 - mse: 1.9973e-10 - mae: 1.2207e-05\n",
            "Epoch 994/1000\n",
            "1/1 [==============================] - 0s 7ms/step - loss: 1.9486e-10 - mse: 1.9486e-10 - mae: 1.2112e-05\n",
            "Epoch 995/1000\n",
            "1/1 [==============================] - 0s 7ms/step - loss: 1.9486e-10 - mse: 1.9486e-10 - mae: 1.2112e-05\n",
            "Epoch 996/1000\n",
            "1/1 [==============================] - 0s 7ms/step - loss: 1.9218e-10 - mse: 1.9218e-10 - mae: 1.2016e-05\n",
            "Epoch 997/1000\n",
            "1/1 [==============================] - 0s 6ms/step - loss: 1.9868e-10 - mse: 1.9868e-10 - mae: 1.2302e-05\n",
            "Epoch 998/1000\n",
            "1/1 [==============================] - 0s 7ms/step - loss: 1.9522e-10 - mse: 1.9522e-10 - mae: 1.2112e-05\n",
            "Epoch 999/1000\n",
            "1/1 [==============================] - 0s 4ms/step - loss: 1.9081e-10 - mse: 1.9081e-10 - mae: 1.2016e-05\n",
            "Epoch 1000/1000\n",
            "1/1 [==============================] - 0s 9ms/step - loss: 1.8813e-10 - mse: 1.8813e-10 - mae: 1.1921e-05\n"
          ]
        }
      ]
    },
    {
      "cell_type": "code",
      "source": [
        "plt.plot(history.history['loss'],label='loss')\n",
        "plt.plot(history.history['mae'], label='mae')\n",
        "#epoch 별 훈련 손실 및 평가 지표의 시각화\n",
        "#앞 부분의 에폭은 손실이 급격히 감소하는 것을 확인할 수 있음."
      ],
      "metadata": {
        "colab": {
          "base_uri": "https://localhost:8080/",
          "height": 283
        },
        "id": "DJjpULa8CjCc",
        "outputId": "0fa65ac0-896e-4f92-9c84-5672af0ae9dc"
      },
      "execution_count": 492,
      "outputs": [
        {
          "output_type": "execute_result",
          "data": {
            "text/plain": [
              "[<matplotlib.lines.Line2D at 0x7fd4153ff850>]"
            ]
          },
          "metadata": {},
          "execution_count": 492
        },
        {
          "output_type": "display_data",
          "data": {
            "image/png": "[encoded data removed]",
            "text/plain": [
              "<Figure size 432x288 with 1 Axes>"
            ]
          },
          "metadata": {
            "needs_background": "light"
          }
        }
      ]
    },
    {
      "cell_type": "code",
      "source": [
        "plt.plot(history.history['loss'],label='loss')\n",
        "plt.plot(history.history['mae'], label='mae')\n",
        "plt.xlim(-1,20)\n",
        "plt.legend()\n",
        "# 5에폭까지는 손실이 급격히 갑소하다가 감소폭이 둔화되면서 조금씩 감소되는 것을 확인할 수 있음.\n",
        "# 즉, 모델 훈련 초기 단계에는 학습이 매우 빠른 속도로 진행되다가 일정 에폭 이후에는 학습 속도가 느려지는 패턴이 보임."
      ],
      "metadata": {
        "colab": {
          "base_uri": "https://localhost:8080/",
          "height": 283
        },
        "id": "MNCimVeJF24k",
        "outputId": "08dd98a3-7c48-49f6-8cf2-e054ba6e9129"
      },
      "execution_count": 495,
      "outputs": [
        {
          "output_type": "execute_result",
          "data": {
            "text/plain": [
              "<matplotlib.legend.Legend at 0x7fd40f65f610>"
            ]
          },
          "metadata": {},
          "execution_count": 495
        },
        {
          "output_type": "display_data",
          "data": {
            "image/png": "[encoded data removed]",
            "text/plain": [
              "<Figure size 432x288 with 1 Axes>"
            ]
          },
          "metadata": {
            "needs_background": "light"
          }
        }
      ]
    },
    {
      "cell_type": "code",
      "source": [
        "#검증\n",
        "model.evaluate(x,y) #일반적으로 검증 데이터 셋을 입력하여 검증함. 여기서는 별도의 검증 데이터 셋을 만들지 않아서 훈련 데이터를 대입하여 결과를 확인함.\n",
        "# 두 개의 지표 loss 와 mse 를 확인.\n",
        "# 사전에 검증 데이터를 준비하여 훈련용과 검증용으로 나눈 성능을 평가하는 것이 일반적임. 이런 방법을 교차 검증 cross validation 이라고 함."
      ],
      "metadata": {
        "colab": {
          "base_uri": "https://localhost:8080/"
        },
        "id": "pKi5NB1cGapq",
        "outputId": "3939cebe-4c57-4f33-a0d6-27cc38c43361"
      },
      "execution_count": 490,
      "outputs": [
        {
          "output_type": "stream",
          "name": "stdout",
          "text": [
            "1/1 [==============================] - 0s 176ms/step - loss: 1.2587e-07 - mse: 1.2587e-07 - mae: 3.0460e-04\n"
          ]
        },
        {
          "output_type": "execute_result",
          "data": {
            "text/plain": [
              "[1.258727024833206e-07, 1.258727024833206e-07, 0.00030460357083939016]"
            ]
          },
          "metadata": {},
          "execution_count": 490
        }
      ]
    },
    {
      "cell_type": "code",
      "source": [
        "#예측\n",
        "#훈력이 완료된 모델의 결과에 predict() 메소드를 사용하여 새로운 입력 데이터를 넣어 주면 모델의 예측값을 얻게 됨.\n",
        "#모델이 예측 결과로 출력하는 값은 32.0...임. 데이터 셋 생성할 때 정의한 y=3x+2 x=10일 때 y를 예측한 것. 수학으로 계산한 것이 아니라 예측을 한 것임. 근사값을 잘 예측함."
      ],
      "metadata": {
        "id": "y99sl3be7lMq"
      },
      "execution_count": 485,
      "outputs": []
    },
    {
      "cell_type": "code",
      "source": [
        "model.predict([10])"
      ],
      "metadata": {
        "colab": {
          "base_uri": "https://localhost:8080/"
        },
        "id": "yR_Z-OOtvh4I",
        "outputId": "3bdf92bb-4018-4e4c-a031-91492d50d8a2"
      },
      "execution_count": 496,
      "outputs": [
        {
          "output_type": "execute_result",
          "data": {
            "text/plain": [
              "array([[32.00006]], dtype=float32)"
            ]
          },
          "metadata": {},
          "execution_count": 496
        }
      ]
    },
    {
      "cell_type": "code",
      "source": [
        "model.predict([6])"
      ],
      "metadata": {
        "colab": {
          "base_uri": "https://localhost:8080/"
        },
        "id": "cUqOZ8I9JYb5",
        "outputId": "7efb40dd-8c7e-4e6c-8a1a-b31637741fc9"
      },
      "execution_count": 497,
      "outputs": [
        {
          "output_type": "execute_result",
          "data": {
            "text/plain": [
              "array([[20.000021]], dtype=float32)"
            ]
          },
          "metadata": {},
          "execution_count": 497
        }
      ]
    },
    {
      "cell_type": "code",
      "source": [
        ""
      ],
      "metadata": {
        "id": "VYq7AwjUKdou"
      },
      "execution_count": null,
      "outputs": []
    },
    {
      "cell_type": "code",
      "source": [
        ""
      ],
      "metadata": {
        "id": "7yuYMw9xuxcX"
      },
      "execution_count": 485,
      "outputs": []
    },
    {
      "cell_type": "code",
      "source": [
        ""
      ],
      "metadata": {
        "id": "Be2ZWdj6hhqH"
      },
      "execution_count": 485,
      "outputs": []
    },
    {
      "cell_type": "code",
      "source": [
        ""
      ],
      "metadata": {
        "id": "dQ4-XV5deITq"
      },
      "execution_count": 485,
      "outputs": []
    },
    {
      "cell_type": "code",
      "source": [
        ""
      ],
      "metadata": {
        "id": "1N_84P9JeGIo"
      },
      "execution_count": 485,
      "outputs": []
    },
    {
      "cell_type": "code",
      "source": [
        ""
      ],
      "metadata": {
        "id": "i0oTIXVhcAKs"
      },
      "execution_count": 485,
      "outputs": []
    },
    {
      "cell_type": "code",
      "source": [
        ""
      ],
      "metadata": {
        "id": "qbB1eeCyb3M1"
      },
      "execution_count": 485,
      "outputs": []
    },
    {
      "cell_type": "code",
      "source": [
        ""
      ],
      "metadata": {
        "id": "LnzkeEnQbRK4"
      },
      "execution_count": 485,
      "outputs": []
    },
    {
      "cell_type": "code",
      "source": [
        ""
      ],
      "metadata": {
        "id": "tLQvtEc6bMXK"
      },
      "execution_count": 485,
      "outputs": []
    },
    {
      "cell_type": "code",
      "source": [
        ""
      ],
      "metadata": {
        "id": "NELRGBPiZrSn"
      },
      "execution_count": 485,
      "outputs": []
    },
    {
      "cell_type": "code",
      "source": [
        ""
      ],
      "metadata": {
        "id": "GI9gFj_KU8b4"
      },
      "execution_count": 485,
      "outputs": []
    }
  ]
}