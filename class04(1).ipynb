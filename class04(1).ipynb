{
  "nbformat": 4,
  "nbformat_minor": 0,
  "metadata": {
    "colab": {
      "name": "class04(1).ipynb",
      "provenance": [],
      "authorship_tag": "ABX9TyMFCZYxsRHxTN/OOZ7goiNf",
      "include_colab_link": true
    },
    "kernelspec": {
      "name": "python3",
      "display_name": "Python 3"
    },
    "language_info": {
      "name": "python"
    }
  },
  "cells": [
    {
      "cell_type": "markdown",
      "metadata": {
        "id": "view-in-github",
        "colab_type": "text"
      },
      "source": [
        "<a href=\"https://colab.research.google.com/github/psparkeb/class04/blob/main/class04(1).ipynb\" target=\"_parent\"><img src=\"https://colab.research.google.com/assets/colab-badge.svg\" alt=\"Open In Colab\"/></a>"
      ]
    },
    {
      "cell_type": "code",
      "execution_count": null,
      "metadata": {
        "id": "K858ASSN73HM"
      },
      "outputs": [],
      "source": [
        "마이sql설치-custom-마이sql서버의 서버의 서버 오른쪽으로 이동, 커넥터의 커넥터의 커넥터 오른쪽으로 이동, 자바 할 때는 제이까지 오른쪽으로 이동-설치 후-3306포트 확인, 이미 사용하는 앱이 있으면 3307로 바꾸거나 해야 함. \n",
        "포트는 앱마다 고유의 연결 구멍. -패스워드 넣어야 함. 그냥 0000으로 넣기. "
      ]
    },
    {
      "cell_type": "code",
      "source": [
        "heidi 를 같이 깔아야 DB컨트롤이 용이"
      ],
      "metadata": {
        "id": "INUXwBP6EbAd"
      },
      "execution_count": null,
      "outputs": []
    },
    {
      "cell_type": "code",
      "source": [
        "import pymysql\n",
        "import pandas as pd\n",
        "conn= pymysql.connect(host='localhost',user='root',password='1234',db='mysql',charset='utf8')\n",
        "cursor=conn.cursor(pymysql.cursors.DictCursor)\n",
        "sql=\"SELECT*FROM`global_grants`;\"\n",
        "cursor.execute(sql)\n",
        "result=cursor.fetchall()\n",
        "result=pd.DataFrame(result)\n",
        "print(result)\n",
        "#이렇게 데이터를 긁어와서 파이썬 영역에서 활용하는 것.\n",
        "\n"
      ],
      "metadata": {
        "id": "kOFKYh7sNF-N"
      },
      "execution_count": null,
      "outputs": []
    }
  ]
}